{
 "cells": [
  {
   "cell_type": "code",
   "execution_count": 1,
   "id": "50138bcb-6729-47fa-828f-3e34194ce321",
   "metadata": {},
   "outputs": [],
   "source": [
    "import torch\n",
    "\n",
    "x = torch.tensor([0.1, 0.2, 0.3])\n",
    "w_enc = torch.tensor([[0.1, 0.2], [0.3, 0.4], [0.5, 0.6]])\n",
    "w_dec = torch.tensor([[0.1, 0.2, 0.3], [0.4, 0.5, 0.6]])"
   ]
  },
  {
   "cell_type": "code",
   "execution_count": 4,
   "id": "036b12e2-7624-4ba6-917d-66956919556e",
   "metadata": {},
   "outputs": [
    {
     "data": {
      "text/plain": [
       "tensor([0.2200, 0.2800])"
      ]
     },
     "execution_count": 4,
     "metadata": {},
     "output_type": "execute_result"
    }
   ],
   "source": [
    "torch.matmul(x, w_enc)"
   ]
  },
  {
   "cell_type": "code",
   "execution_count": 8,
   "id": "509ef94c-ead3-4d69-8274-49cff8056f6f",
   "metadata": {},
   "outputs": [
    {
     "data": {
      "text/plain": [
       "tensor([0.2200, 0.2800])"
      ]
     },
     "execution_count": 8,
     "metadata": {},
     "output_type": "execute_result"
    }
   ],
   "source": [
    "x @ w_enc"
   ]
  },
  {
   "cell_type": "code",
   "execution_count": 9,
   "id": "0e91ac7b-08a0-4a52-af5b-e6a0ab159648",
   "metadata": {},
   "outputs": [
    {
     "data": {
      "text/plain": [
       "tensor([0.5548, 0.5695])"
      ]
     },
     "execution_count": 9,
     "metadata": {},
     "output_type": "execute_result"
    }
   ],
   "source": [
    "z = torch.sigmoid(torch.matmul(x, w_enc))\n",
    "z"
   ]
  },
  {
   "cell_type": "code",
   "execution_count": 11,
   "id": "f9c6e515-50df-4b08-88d8-621b04f9d1fa",
   "metadata": {},
   "outputs": [
    {
     "data": {
      "text/plain": [
       "tensor([0.5704, 0.5977, 0.6244])"
      ]
     },
     "execution_count": 11,
     "metadata": {},
     "output_type": "execute_result"
    }
   ],
   "source": [
    "x_hat = torch.sigmoid(torch.matmul(z, w_dec))\n",
    "x_hat"
   ]
  },
  {
   "cell_type": "code",
   "execution_count": 15,
   "id": "9f7f16d8-546c-4d40-bac2-64711eff16ae",
   "metadata": {},
   "outputs": [
    {
     "data": {
      "text/plain": [
       "tensor(0.1615)"
      ]
     },
     "execution_count": 15,
     "metadata": {},
     "output_type": "execute_result"
    }
   ],
   "source": [
    "loss = torch.nn.MSELoss()(x_hat, x)\n",
    "loss"
   ]
  },
  {
   "cell_type": "markdown",
   "id": "c23810bc-2f50-4914-965c-a8a06bed3e60",
   "metadata": {},
   "source": [
    "dl_dw_dec = 2 . (x_hat - x) . z_transpose . x_hat . (1 - x_hat)"
   ]
  },
  {
   "cell_type": "code",
   "execution_count": 27,
   "id": "dbc5e4ae-32de-4eb0-a0d5-bfce80a66650",
   "metadata": {},
   "outputs": [
    {
     "data": {
      "text/plain": [
       "tensor([[0.2451, 0.2405, 0.2345]])"
      ]
     },
     "execution_count": 27,
     "metadata": {},
     "output_type": "execute_result"
    }
   ],
   "source": [
    "(x_hat * (1 - x_hat)).view(1,3)"
   ]
  },
  {
   "cell_type": "code",
   "execution_count": 28,
   "id": "a54e8a1e-1d11-49b2-9e87-0bc87fb05b3a",
   "metadata": {},
   "outputs": [
    {
     "data": {
      "text/plain": [
       "tensor([[0.1359, 0.1334, 0.1301],\n",
       "        [0.1396, 0.1370, 0.1336]])"
      ]
     },
     "execution_count": 28,
     "metadata": {},
     "output_type": "execute_result"
    }
   ],
   "source": [
    "torch.matmul(z.T.view(2,1), (x_hat * (1 - x_hat)).view(1,3))"
   ]
  },
  {
   "cell_type": "code",
   "execution_count": 30,
   "id": "06271a10-1e13-4169-8312-06ee9d23059e",
   "metadata": {},
   "outputs": [
    {
     "data": {
      "text/plain": [
       "tensor([0.9407, 0.7953, 0.6488])"
      ]
     },
     "execution_count": 30,
     "metadata": {},
     "output_type": "execute_result"
    }
   ],
   "source": [
    "2 * (x_hat - x)"
   ]
  },
  {
   "cell_type": "code",
   "execution_count": 32,
   "id": "919dff20-0659-40d7-a103-f739de45b393",
   "metadata": {},
   "outputs": [
    {
     "data": {
      "text/plain": [
       "tensor([[0.1279, 0.1061, 0.0844],\n",
       "        [0.1313, 0.1089, 0.0867]])"
      ]
     },
     "execution_count": 32,
     "metadata": {},
     "output_type": "execute_result"
    }
   ],
   "source": [
    "dl_dw_dec = 2 * (x_hat - x) * torch.matmul(z.T.view(2,1), (x_hat * (1 - x_hat)).view(1,3))\n",
    "dl_dw_dec"
   ]
  },
  {
   "cell_type": "code",
   "execution_count": 33,
   "id": "6fb6b9dd-a973-47a8-8681-73f25ddfdd20",
   "metadata": {},
   "outputs": [
    {
     "data": {
      "text/plain": [
       "tensor([0.2451, 0.2405, 0.2345])"
      ]
     },
     "execution_count": 33,
     "metadata": {},
     "output_type": "execute_result"
    }
   ],
   "source": [
    "x_hat * (1 - x_hat)"
   ]
  },
  {
   "cell_type": "code",
   "execution_count": 35,
   "id": "c5e60f1f-58c5-4b2d-9cbd-24e0de675b6c",
   "metadata": {},
   "outputs": [
    {
     "data": {
      "text/plain": [
       "tensor([0.2470, 0.2452])"
      ]
     },
     "execution_count": 35,
     "metadata": {},
     "output_type": "execute_result"
    }
   ],
   "source": [
    "z * (1 - z)"
   ]
  },
  {
   "cell_type": "code",
   "execution_count": 36,
   "id": "f75d766a-f45c-48a8-b3c6-f2d1049a122e",
   "metadata": {},
   "outputs": [
    {
     "data": {
      "text/plain": [
       "tensor([[0.1000, 0.4000],\n",
       "        [0.2000, 0.5000],\n",
       "        [0.3000, 0.6000]])"
      ]
     },
     "execution_count": 36,
     "metadata": {},
     "output_type": "execute_result"
    }
   ],
   "source": [
    " w_dec.T"
   ]
  },
  {
   "cell_type": "code",
   "execution_count": 42,
   "id": "fd8923b4-192d-4846-aaea-3af6055c5332",
   "metadata": {},
   "outputs": [
    {
     "data": {
      "text/plain": [
       "tensor([[0.0247, 0.0981],\n",
       "        [0.0494, 0.1226],\n",
       "        [0.0741, 0.1471]])"
      ]
     },
     "execution_count": 42,
     "metadata": {},
     "output_type": "execute_result"
    }
   ],
   "source": [
    "w_dec.T * z * (1 - z) "
   ]
  },
  {
   "cell_type": "code",
   "execution_count": 49,
   "id": "77379df9-ee3a-4fb9-84b8-c7b633857b4c",
   "metadata": {},
   "outputs": [
    {
     "data": {
      "text/plain": [
       "tensor([0.1000, 0.2000, 0.3000])"
      ]
     },
     "execution_count": 49,
     "metadata": {},
     "output_type": "execute_result"
    }
   ],
   "source": [
    "x"
   ]
  },
  {
   "cell_type": "code",
   "execution_count": 44,
   "id": "0d4f670e-df16-403c-bca5-2967ca3b6cd3",
   "metadata": {},
   "outputs": [
    {
     "ename": "RuntimeError",
     "evalue": "The size of tensor a (3) must match the size of tensor b (2) at non-singleton dimension 1",
     "output_type": "error",
     "traceback": [
      "\u001b[0;31m---------------------------------------------------------------------------\u001b[0m",
      "\u001b[0;31mRuntimeError\u001b[0m                              Traceback (most recent call last)",
      "Cell \u001b[0;32mIn[44], line 1\u001b[0m\n\u001b[0;32m----> 1\u001b[0m \u001b[43mx\u001b[49m\u001b[43m \u001b[49m\u001b[38;5;241;43m*\u001b[39;49m\u001b[43m \u001b[49m\u001b[43mw_dec\u001b[49m\u001b[38;5;241;43m.\u001b[39;49m\u001b[43mT\u001b[49m \u001b[38;5;241m*\u001b[39m z \u001b[38;5;241m*\u001b[39m (\u001b[38;5;241m1\u001b[39m \u001b[38;5;241m-\u001b[39m z)\n",
      "\u001b[0;31mRuntimeError\u001b[0m: The size of tensor a (3) must match the size of tensor b (2) at non-singleton dimension 1"
     ]
    }
   ],
   "source": [
    "x.T.vi * w_dec.T * z * (1 - z)\n"
   ]
  },
  {
   "cell_type": "code",
   "execution_count": 53,
   "id": "66d23c45-dc45-49ce-affd-12b7e6754b81",
   "metadata": {},
   "outputs": [
    {
     "data": {
      "text/plain": [
       "tensor([[0.9407, 0.7953, 0.6488]])"
      ]
     },
     "execution_count": 53,
     "metadata": {},
     "output_type": "execute_result"
    }
   ],
   "source": [
    "2 * (x_hat - x).view(1,3)"
   ]
  },
  {
   "cell_type": "code",
   "execution_count": 54,
   "id": "64475ac0-7407-400d-a3c9-07c8ec5cae26",
   "metadata": {},
   "outputs": [
    {
     "data": {
      "text/plain": [
       "tensor([[0.4478, 1.1632]])"
      ]
     },
     "execution_count": 54,
     "metadata": {},
     "output_type": "execute_result"
    }
   ],
   "source": [
    "torch.matmul(2 * (x_hat - x).view(1,3), w_dec.T)"
   ]
  },
  {
   "cell_type": "code",
   "execution_count": 61,
   "id": "7862c091-0148-47ba-9f2b-abfcc17270aa",
   "metadata": {},
   "outputs": [
    {
     "data": {
      "text/plain": [
       "tensor([[0.0245],\n",
       "        [0.0481],\n",
       "        [0.0704]])"
      ]
     },
     "execution_count": 61,
     "metadata": {},
     "output_type": "execute_result"
    }
   ],
   "source": [
    "((x_hat * (1 - x_hat)) * x).view(3,1)"
   ]
  },
  {
   "cell_type": "code",
   "execution_count": 60,
   "id": "637c248e-7a6e-4854-98ad-aed6ebbcbb76",
   "metadata": {},
   "outputs": [
    {
     "data": {
      "text/plain": [
       "tensor([[0.2470, 0.2452]])"
      ]
     },
     "execution_count": 60,
     "metadata": {},
     "output_type": "execute_result"
    }
   ],
   "source": [
    "(z * (1 - z)).view(1,2)"
   ]
  },
  {
   "cell_type": "code",
   "execution_count": 62,
   "id": "d3d261d1-15b3-477a-b0f7-10f2c0d80a98",
   "metadata": {},
   "outputs": [
    {
     "data": {
      "text/plain": [
       "tensor([[0.0061, 0.0060],\n",
       "        [0.0119, 0.0118],\n",
       "        [0.0174, 0.0172]])"
      ]
     },
     "execution_count": 62,
     "metadata": {},
     "output_type": "execute_result"
    }
   ],
   "source": [
    "torch.matmul(((x_hat * (1 - x_hat)) * x).view(3,1), (z * (1 - z)).view(1,2))"
   ]
  },
  {
   "cell_type": "code",
   "execution_count": 67,
   "id": "a76f5626-19d0-465f-8dd4-909593965dbd",
   "metadata": {},
   "outputs": [],
   "source": [
    "dl_dw_enc = torch.matmul(2 * (x_hat - x).view(1,3), w_dec.T) * torch.matmul(((x_hat * (1 - x_hat)) * x).view(3,1), (z * (1 - z)).view(1,2))"
   ]
  },
  {
   "cell_type": "code",
   "execution_count": 68,
   "id": "c2c5f064-3f60-4c06-8a30-53aee1088982",
   "metadata": {},
   "outputs": [
    {
     "data": {
      "text/plain": [
       "tensor([[0.0027, 0.0070],\n",
       "        [0.0053, 0.0137],\n",
       "        [0.0078, 0.0201]])"
      ]
     },
     "execution_count": 68,
     "metadata": {},
     "output_type": "execute_result"
    }
   ],
   "source": [
    "dl_dw_enc"
   ]
  },
  {
   "cell_type": "code",
   "execution_count": null,
   "id": "8bab2351-05b2-44f9-81ba-22b1d3b17c88",
   "metadata": {},
   "outputs": [],
   "source": []
  }
 ],
 "metadata": {
  "kernelspec": {
   "display_name": "transformer",
   "language": "python",
   "name": "transformer"
  },
  "language_info": {
   "codemirror_mode": {
    "name": "ipython",
    "version": 3
   },
   "file_extension": ".py",
   "mimetype": "text/x-python",
   "name": "python",
   "nbconvert_exporter": "python",
   "pygments_lexer": "ipython3",
   "version": "3.10.14"
  }
 },
 "nbformat": 4,
 "nbformat_minor": 5
}
