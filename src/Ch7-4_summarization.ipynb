{
 "cells": [
  {
   "cell_type": "code",
   "execution_count": 1,
   "id": "5db4f4d5-ce95-4eb0-8cba-63397323bf47",
   "metadata": {},
   "outputs": [],
   "source": [
    "from datasets import load_dataset\n",
    "\n",
    "#spanish_dataset = load_dataset(\"amazon_reviews_multi\", \"es\")\n",
    "#english_dataset = load_dataset(\"amazon_reviews_multi\", \"en\")\n",
    "#spanish_dataset = load_dataset(\"mteb/amazon_reviews_multi\", \"es\")\n",
    "#english_dataset = load_dataset(\"mteb/amazon_reviews_multi\", \"en\")\n",
    "#english_dataset"
   ]
  },
  {
   "cell_type": "markdown",
   "id": "8018790f-1987-46cd-a256-9d0ddc8a0609",
   "metadata": {},
   "source": [
    "#### Amazon Reviews Multi datasets Kaggle site\n",
    "https://www.kaggle.com/datasets/mexwell/amazon-reviews-multi/data\n",
    "\n",
    "download train.csv.zip, validation.csv.zip and test.csv.zip "
   ]
  },
  {
   "cell_type": "code",
   "execution_count": 2,
   "id": "059f2b27-212b-4cbe-acac-0bc95fb0fbae",
   "metadata": {},
   "outputs": [],
   "source": [
    "data_files = {\n",
    "    \"train\": \"amazon_reviews-multi/train.csv.zip\",\n",
    "    \"validation\": \"amazon_reviews-multi/validation.csv.zip\",\n",
    "    \"test\": \"amazon_reviews-multi/test.csv.zip\",\n",
    "}\n",
    "\n",
    "amazon_reviews_multi_datasets = load_dataset(\"csv\", data_files=data_files)"
   ]
  },
  {
   "cell_type": "code",
   "execution_count": 3,
   "id": "d54a692f-29b5-48b9-9810-7e8abdf335c2",
   "metadata": {},
   "outputs": [
    {
     "data": {
      "text/plain": [
       "DatasetDict({\n",
       "    train: Dataset({\n",
       "        features: ['Unnamed: 0', 'review_id', 'product_id', 'reviewer_id', 'stars', 'review_body', 'review_title', 'language', 'product_category'],\n",
       "        num_rows: 1200000\n",
       "    })\n",
       "    validation: Dataset({\n",
       "        features: ['Unnamed: 0', 'review_id', 'product_id', 'reviewer_id', 'stars', 'review_body', 'review_title', 'language', 'product_category'],\n",
       "        num_rows: 30000\n",
       "    })\n",
       "    test: Dataset({\n",
       "        features: ['Unnamed: 0', 'review_id', 'product_id', 'reviewer_id', 'stars', 'review_body', 'review_title', 'language', 'product_category'],\n",
       "        num_rows: 30000\n",
       "    })\n",
       "})"
      ]
     },
     "execution_count": 3,
     "metadata": {},
     "output_type": "execute_result"
    }
   ],
   "source": [
    "amazon_reviews_multi_datasets"
   ]
  },
  {
   "cell_type": "code",
   "execution_count": 4,
   "id": "f4fc75dc-1ee0-4e10-a952-2a26cdab33a7",
   "metadata": {},
   "outputs": [
    {
     "data": {
      "text/plain": [
       "DatasetDict({\n",
       "    train: Dataset({\n",
       "        features: ['Unnamed: 0', 'review_id', 'product_id', 'reviewer_id', 'stars', 'review_body', 'review_title', 'language', 'product_category'],\n",
       "        num_rows: 200000\n",
       "    })\n",
       "    validation: Dataset({\n",
       "        features: ['Unnamed: 0', 'review_id', 'product_id', 'reviewer_id', 'stars', 'review_body', 'review_title', 'language', 'product_category'],\n",
       "        num_rows: 5000\n",
       "    })\n",
       "    test: Dataset({\n",
       "        features: ['Unnamed: 0', 'review_id', 'product_id', 'reviewer_id', 'stars', 'review_body', 'review_title', 'language', 'product_category'],\n",
       "        num_rows: 5000\n",
       "    })\n",
       "})"
      ]
     },
     "execution_count": 4,
     "metadata": {},
     "output_type": "execute_result"
    }
   ],
   "source": [
    "spanish_dataset = amazon_reviews_multi_datasets.filter(lambda x: x[\"language\"] == \"es\")\n",
    "english_dataset = amazon_reviews_multi_datasets.filter(lambda x: x[\"language\"] == \"en\")\n",
    "english_dataset"
   ]
  },
  {
   "cell_type": "code",
   "execution_count": 5,
   "id": "0dbd1bdd-3868-4e0e-ba96-4e3bcec1d6eb",
   "metadata": {},
   "outputs": [
    {
     "data": {
      "text/plain": [
       "DatasetDict({\n",
       "    train: Dataset({\n",
       "        features: ['Unnamed: 0', 'review_id', 'product_id', 'reviewer_id', 'stars', 'review_body', 'review_title', 'language', 'product_category'],\n",
       "        num_rows: 200000\n",
       "    })\n",
       "    validation: Dataset({\n",
       "        features: ['Unnamed: 0', 'review_id', 'product_id', 'reviewer_id', 'stars', 'review_body', 'review_title', 'language', 'product_category'],\n",
       "        num_rows: 5000\n",
       "    })\n",
       "    test: Dataset({\n",
       "        features: ['Unnamed: 0', 'review_id', 'product_id', 'reviewer_id', 'stars', 'review_body', 'review_title', 'language', 'product_category'],\n",
       "        num_rows: 5000\n",
       "    })\n",
       "})"
      ]
     },
     "execution_count": 5,
     "metadata": {},
     "output_type": "execute_result"
    }
   ],
   "source": [
    "spanish_dataset"
   ]
  },
  {
   "cell_type": "code",
   "execution_count": 6,
   "id": "f07b53cb-88d0-4b7b-ba69-4f8d5df65437",
   "metadata": {},
   "outputs": [
    {
     "name": "stdout",
     "output_type": "stream",
     "text": [
      "\n",
      "'>> Title: Worked in front position, not rear'\n",
      "'>> Review: 3 stars because these are not rear brakes as stated in the item description. At least the mount adapter only worked on the front fork of the bike that I got it for.'\n",
      "\n",
      "'>> Title: meh'\n",
      "'>> Review: Does it’s job and it’s gorgeous but mine is falling apart, I had to basically put it together again with hot glue'\n",
      "\n",
      "'>> Title: Can't beat these for the money'\n",
      "'>> Review: Bought this for handling miscellaneous aircraft parts and hanger \"stuff\" that I needed to organize; it really fit the bill. The unit arrived quickly, was well packaged and arrived intact (always a good sign). There are five wall mounts-- three on the top and two on the bottom. I wanted to mount it on the wall, so all I had to do was to remove the top two layers of plastic drawers, as well as the bottom corner drawers, place it when I wanted and mark it; I then used some of the new plastic screw in wall anchors (the 50 pound variety) and it easily mounted to the wall. Some have remarked that they wanted dividers for the drawers, and that they made those. Good idea. My application was that I needed something that I can see the contents at about eye level, so I wanted the fuller-sized drawers. I also like that these are the new plastic that doesn't get brittle and split like my older plastic drawers did. I like the all-plastic construction. It's heavy duty enough to hold metal parts, but being made of plastic it's not as heavy as a metal frame, so you can easily mount it to the wall and still load it up with heavy stuff, or light stuff. No problem there. For the money, you can't beat it. Best one of these I've bought to date-- and I've been using some version of these for over forty years.'\n"
     ]
    }
   ],
   "source": [
    "def show_samples(dataset, num_samples=3, seed=42):\n",
    "    sample = dataset[\"train\"].shuffle(seed=seed).select(range(num_samples))\n",
    "    for example in sample:\n",
    "        print(f\"\\n'>> Title: {example['review_title']}'\")\n",
    "        print(f\"'>> Review: {example['review_body']}'\")\n",
    "\n",
    "show_samples(english_dataset)"
   ]
  },
  {
   "cell_type": "code",
   "execution_count": 7,
   "id": "e13994fd-c971-418b-86e7-74af09812d68",
   "metadata": {},
   "outputs": [
    {
     "name": "stdout",
     "output_type": "stream",
     "text": [
      "\n",
      "'>> Title: .'\n",
      "'>> Review: La montarlo se rompió una rueda debido a materiales débiles, pero al arreglarla funciona correctamente.'\n",
      "\n",
      "'>> Title: Primeras impresiones'\n",
      "'>> Review: El servicio ha sido muy bueno, me ha llegado 2 días antes de lo previsto. En cuanto al producto no es que me haya dado muy buenas primeras impresiones. El borde del protector es de plástico y lo único que hay de cristal es la pantalla. Además el plástico es muy fino. A nivel estético queda muy bien y se ajusta perfectamente, la única queja que tengo es eso, que no sea todo de cristal y que para mi gusto es demasiado fino. De la resistencia no tengo ni idea ya que es el primer día que lo llevo. No creo que sea mal producto del todo si no que depende del gusto y el cuidado que tenga cada uno de su móvil. Personalmente creo que por el mismo precio hay otros productos que si que son enteros de cristal y más gordos que por lo menos a mí me generan más confianza.'\n",
      "\n",
      "'>> Title: .'\n",
      "'>> Review: Funciona genial y la llevo conmigo en todas las ocasiones importantes. Estoy muy muy contenta con esta compra, la verdad.'\n"
     ]
    }
   ],
   "source": [
    "show_samples(spanish_dataset)"
   ]
  },
  {
   "cell_type": "code",
   "execution_count": 8,
   "id": "ecdee706-728a-4206-b16f-6b395285dfb0",
   "metadata": {},
   "outputs": [],
   "source": [
    "english_dataset.set_format(\"pandas\")"
   ]
  },
  {
   "cell_type": "code",
   "execution_count": 9,
   "id": "d3a98325-a7e9-4aef-938f-872625d8f780",
   "metadata": {},
   "outputs": [
    {
     "data": {
      "text/html": [
       "<div>\n",
       "<style scoped>\n",
       "    .dataframe tbody tr th:only-of-type {\n",
       "        vertical-align: middle;\n",
       "    }\n",
       "\n",
       "    .dataframe tbody tr th {\n",
       "        vertical-align: top;\n",
       "    }\n",
       "\n",
       "    .dataframe thead th {\n",
       "        text-align: right;\n",
       "    }\n",
       "</style>\n",
       "<table border=\"1\" class=\"dataframe\">\n",
       "  <thead>\n",
       "    <tr style=\"text-align: right;\">\n",
       "      <th></th>\n",
       "      <th>Unnamed: 0</th>\n",
       "      <th>review_id</th>\n",
       "      <th>product_id</th>\n",
       "      <th>reviewer_id</th>\n",
       "      <th>stars</th>\n",
       "      <th>review_body</th>\n",
       "      <th>review_title</th>\n",
       "      <th>language</th>\n",
       "      <th>product_category</th>\n",
       "    </tr>\n",
       "  </thead>\n",
       "  <tbody>\n",
       "    <tr>\n",
       "      <th>0</th>\n",
       "      <td>200000</td>\n",
       "      <td>en_0964290</td>\n",
       "      <td>product_en_0740675</td>\n",
       "      <td>reviewer_en_0342986</td>\n",
       "      <td>1</td>\n",
       "      <td>Arrived broken. Manufacturer defect. Two of th...</td>\n",
       "      <td>I'll spend twice the amount of time boxing up ...</td>\n",
       "      <td>en</td>\n",
       "      <td>furniture</td>\n",
       "    </tr>\n",
       "    <tr>\n",
       "      <th>1</th>\n",
       "      <td>200001</td>\n",
       "      <td>en_0690095</td>\n",
       "      <td>product_en_0440378</td>\n",
       "      <td>reviewer_en_0133349</td>\n",
       "      <td>1</td>\n",
       "      <td>the cabinet dot were all detached from backing...</td>\n",
       "      <td>Not use able</td>\n",
       "      <td>en</td>\n",
       "      <td>home_improvement</td>\n",
       "    </tr>\n",
       "    <tr>\n",
       "      <th>2</th>\n",
       "      <td>200002</td>\n",
       "      <td>en_0311558</td>\n",
       "      <td>product_en_0399702</td>\n",
       "      <td>reviewer_en_0152034</td>\n",
       "      <td>1</td>\n",
       "      <td>I received my first order of this product and ...</td>\n",
       "      <td>The product is junk.</td>\n",
       "      <td>en</td>\n",
       "      <td>home</td>\n",
       "    </tr>\n",
       "    <tr>\n",
       "      <th>3</th>\n",
       "      <td>200003</td>\n",
       "      <td>en_0044972</td>\n",
       "      <td>product_en_0444063</td>\n",
       "      <td>reviewer_en_0656967</td>\n",
       "      <td>1</td>\n",
       "      <td>This product is a piece of shit. Do not buy. D...</td>\n",
       "      <td>Fucking waste of money</td>\n",
       "      <td>en</td>\n",
       "      <td>wireless</td>\n",
       "    </tr>\n",
       "    <tr>\n",
       "      <th>4</th>\n",
       "      <td>200004</td>\n",
       "      <td>en_0784379</td>\n",
       "      <td>product_en_0139353</td>\n",
       "      <td>reviewer_en_0757638</td>\n",
       "      <td>1</td>\n",
       "      <td>went through 3 in one day doesn't fit correct ...</td>\n",
       "      <td>bubble</td>\n",
       "      <td>en</td>\n",
       "      <td>pc</td>\n",
       "    </tr>\n",
       "    <tr>\n",
       "      <th>...</th>\n",
       "      <td>...</td>\n",
       "      <td>...</td>\n",
       "      <td>...</td>\n",
       "      <td>...</td>\n",
       "      <td>...</td>\n",
       "      <td>...</td>\n",
       "      <td>...</td>\n",
       "      <td>...</td>\n",
       "      <td>...</td>\n",
       "    </tr>\n",
       "    <tr>\n",
       "      <th>199995</th>\n",
       "      <td>399995</td>\n",
       "      <td>en_0046316</td>\n",
       "      <td>product_en_0980158</td>\n",
       "      <td>reviewer_en_0629807</td>\n",
       "      <td>5</td>\n",
       "      <td>Cute slippers, my MIL loved them.</td>\n",
       "      <td>Nice and fit as advertised</td>\n",
       "      <td>en</td>\n",
       "      <td>shoes</td>\n",
       "    </tr>\n",
       "    <tr>\n",
       "      <th>199996</th>\n",
       "      <td>399996</td>\n",
       "      <td>en_0956024</td>\n",
       "      <td>product_en_0954574</td>\n",
       "      <td>reviewer_en_0459072</td>\n",
       "      <td>5</td>\n",
       "      <td>My 6 year old likes this and keeps him engaged...</td>\n",
       "      <td>good to keep the kids engaged</td>\n",
       "      <td>en</td>\n",
       "      <td>toy</td>\n",
       "    </tr>\n",
       "    <tr>\n",
       "      <th>199997</th>\n",
       "      <td>399997</td>\n",
       "      <td>en_0589358</td>\n",
       "      <td>product_en_0402982</td>\n",
       "      <td>reviewer_en_0199163</td>\n",
       "      <td>5</td>\n",
       "      <td>Replaced my battery with it. Works like new.</td>\n",
       "      <td>This works</td>\n",
       "      <td>en</td>\n",
       "      <td>wireless</td>\n",
       "    </tr>\n",
       "    <tr>\n",
       "      <th>199998</th>\n",
       "      <td>399998</td>\n",
       "      <td>en_0970602</td>\n",
       "      <td>product_en_0873374</td>\n",
       "      <td>reviewer_en_0590563</td>\n",
       "      <td>5</td>\n",
       "      <td>I like them, holding up well.</td>\n",
       "      <td>Well made.</td>\n",
       "      <td>en</td>\n",
       "      <td>industrial_supplies</td>\n",
       "    </tr>\n",
       "    <tr>\n",
       "      <th>199999</th>\n",
       "      <td>399999</td>\n",
       "      <td>en_0750030</td>\n",
       "      <td>product_en_0843981</td>\n",
       "      <td>reviewer_en_0775729</td>\n",
       "      <td>5</td>\n",
       "      <td>Very good for my village lights are bright I l...</td>\n",
       "      <td>Very good for my village lights are bright I l...</td>\n",
       "      <td>en</td>\n",
       "      <td>home</td>\n",
       "    </tr>\n",
       "  </tbody>\n",
       "</table>\n",
       "<p>200000 rows × 9 columns</p>\n",
       "</div>"
      ],
      "text/plain": [
       "        Unnamed: 0   review_id          product_id          reviewer_id  \\\n",
       "0           200000  en_0964290  product_en_0740675  reviewer_en_0342986   \n",
       "1           200001  en_0690095  product_en_0440378  reviewer_en_0133349   \n",
       "2           200002  en_0311558  product_en_0399702  reviewer_en_0152034   \n",
       "3           200003  en_0044972  product_en_0444063  reviewer_en_0656967   \n",
       "4           200004  en_0784379  product_en_0139353  reviewer_en_0757638   \n",
       "...            ...         ...                 ...                  ...   \n",
       "199995      399995  en_0046316  product_en_0980158  reviewer_en_0629807   \n",
       "199996      399996  en_0956024  product_en_0954574  reviewer_en_0459072   \n",
       "199997      399997  en_0589358  product_en_0402982  reviewer_en_0199163   \n",
       "199998      399998  en_0970602  product_en_0873374  reviewer_en_0590563   \n",
       "199999      399999  en_0750030  product_en_0843981  reviewer_en_0775729   \n",
       "\n",
       "        stars                                        review_body  \\\n",
       "0           1  Arrived broken. Manufacturer defect. Two of th...   \n",
       "1           1  the cabinet dot were all detached from backing...   \n",
       "2           1  I received my first order of this product and ...   \n",
       "3           1  This product is a piece of shit. Do not buy. D...   \n",
       "4           1  went through 3 in one day doesn't fit correct ...   \n",
       "...       ...                                                ...   \n",
       "199995      5                  Cute slippers, my MIL loved them.   \n",
       "199996      5  My 6 year old likes this and keeps him engaged...   \n",
       "199997      5       Replaced my battery with it. Works like new.   \n",
       "199998      5                      I like them, holding up well.   \n",
       "199999      5  Very good for my village lights are bright I l...   \n",
       "\n",
       "                                             review_title language  \\\n",
       "0       I'll spend twice the amount of time boxing up ...       en   \n",
       "1                                            Not use able       en   \n",
       "2                                    The product is junk.       en   \n",
       "3                                  Fucking waste of money       en   \n",
       "4                                                  bubble       en   \n",
       "...                                                   ...      ...   \n",
       "199995                         Nice and fit as advertised       en   \n",
       "199996                      good to keep the kids engaged       en   \n",
       "199997                                         This works       en   \n",
       "199998                                         Well made.       en   \n",
       "199999  Very good for my village lights are bright I l...       en   \n",
       "\n",
       "           product_category  \n",
       "0                 furniture  \n",
       "1          home_improvement  \n",
       "2                      home  \n",
       "3                  wireless  \n",
       "4                        pc  \n",
       "...                     ...  \n",
       "199995                shoes  \n",
       "199996                  toy  \n",
       "199997             wireless  \n",
       "199998  industrial_supplies  \n",
       "199999                 home  \n",
       "\n",
       "[200000 rows x 9 columns]"
      ]
     },
     "execution_count": 9,
     "metadata": {},
     "output_type": "execute_result"
    }
   ],
   "source": [
    "english_dataset[\"train\"][:]"
   ]
  },
  {
   "cell_type": "code",
   "execution_count": 10,
   "id": "8f76a74a-390c-4caf-82b3-a8715405f4f0",
   "metadata": {},
   "outputs": [
    {
     "data": {
      "text/plain": [
       "product_category\n",
       "home                        17679\n",
       "apparel                     15951\n",
       "wireless                    15717\n",
       "other                       13418\n",
       "beauty                      12091\n",
       "drugstore                   11730\n",
       "kitchen                     10382\n",
       "toy                          8745\n",
       "sports                       8277\n",
       "automotive                   7506\n",
       "lawn_and_garden              7327\n",
       "home_improvement             7136\n",
       "pet_products                 7082\n",
       "digital_ebook_purchase       6749\n",
       "pc                           6401\n",
       "electronics                  6186\n",
       "office_product               5521\n",
       "shoes                        5197\n",
       "grocery                      4730\n",
       "book                         3756\n",
       "baby_product                 3150\n",
       "furniture                    2984\n",
       "jewelry                      2747\n",
       "camera                       2139\n",
       "industrial_supplies          1994\n",
       "digital_video_download       1364\n",
       "luggage                      1328\n",
       "musical_instruments          1102\n",
       "video_games                   775\n",
       "watch                         761\n",
       "personal_care_appliances       75\n",
       "Name: count, dtype: int64"
      ]
     },
     "execution_count": 10,
     "metadata": {},
     "output_type": "execute_result"
    }
   ],
   "source": [
    "#english_dataset.set_format(\"pandas\")\n",
    "english_df = english_dataset[\"train\"][:]\n",
    "# 최상위 20개의 상품에 대한 개수 보여주기...\n",
    "#english_df[\"product_category\"].value_counts()[:20]\n",
    "english_df[\"product_category\"].value_counts()\n"
   ]
  },
  {
   "cell_type": "code",
   "execution_count": 11,
   "id": "fd9c657e-5c08-4caf-814f-3919ea64d6bc",
   "metadata": {},
   "outputs": [],
   "source": [
    "def filter_books(example):\n",
    "    return (\n",
    "        example[\"product_category\"] == \"book\"\n",
    "        or example[\"product_category\"] == \"digital_ebook_purchase\"\n",
    "    )\n"
   ]
  },
  {
   "cell_type": "code",
   "execution_count": 12,
   "id": "b1bde241-ec7b-4983-83c6-a245a9c6958c",
   "metadata": {},
   "outputs": [],
   "source": [
    "english_dataset.reset_format()"
   ]
  },
  {
   "cell_type": "code",
   "execution_count": 13,
   "id": "d593ef43-ac70-4684-80ec-2c24b3ea8e09",
   "metadata": {},
   "outputs": [
    {
     "name": "stdout",
     "output_type": "stream",
     "text": [
      "\n",
      "'>> Title: I'm dissapointed.'\n",
      "'>> Review: I guess I had higher expectations for this book from the reviews. I really thought I'd at least like it. The plot idea was great. I loved Ash but, it just didnt go anywhere. Most of the book was about their radio show and talking to callers. I wanted the author to dig deeper so we could really get to know the characters. All we know about Grace is that she is attractive looking, Latino and is kind of a brat. I'm dissapointed.'\n",
      "\n",
      "'>> Title: Good art, good price, poor design'\n",
      "'>> Review: I had gotten the DC Vintage calendar the past two years, but it was on backorder forever this year and I saw they had shrunk the dimensions for no good reason. This one has good art choices but the design has the fold going through the picture, so it's less aesthetically pleasing, especially if you want to keep a picture to hang. For the price, a good calendar'\n",
      "\n",
      "'>> Title: Helpful'\n",
      "'>> Review: Nearly all the tips useful and. I consider myself an intermediate to advanced user of OneNote. I would highly recommend.'\n"
     ]
    }
   ],
   "source": [
    "spanish_books = spanish_dataset.filter(filter_books)\n",
    "english_books = english_dataset.filter(filter_books)\n",
    "show_samples(english_books)"
   ]
  },
  {
   "cell_type": "code",
   "execution_count": 14,
   "id": "383abd2c-905f-416b-b2e4-87f2e133259f",
   "metadata": {},
   "outputs": [
    {
     "name": "stdout",
     "output_type": "stream",
     "text": [
      "DatasetDict({\n",
      "    train: Dataset({\n",
      "        features: ['Unnamed: 0', 'review_id', 'product_id', 'reviewer_id', 'stars', 'review_body', 'review_title', 'language', 'product_category'],\n",
      "        num_rows: 200000\n",
      "    })\n",
      "    validation: Dataset({\n",
      "        features: ['Unnamed: 0', 'review_id', 'product_id', 'reviewer_id', 'stars', 'review_body', 'review_title', 'language', 'product_category'],\n",
      "        num_rows: 5000\n",
      "    })\n",
      "    test: Dataset({\n",
      "        features: ['Unnamed: 0', 'review_id', 'product_id', 'reviewer_id', 'stars', 'review_body', 'review_title', 'language', 'product_category'],\n",
      "        num_rows: 5000\n",
      "    })\n",
      "})\n"
     ]
    },
    {
     "data": {
      "text/plain": [
       "dict_keys(['train', 'validation', 'test'])"
      ]
     },
     "execution_count": 14,
     "metadata": {},
     "output_type": "execute_result"
    }
   ],
   "source": [
    "print(english_dataset)\n",
    "english_dataset.keys()"
   ]
  },
  {
   "cell_type": "code",
   "execution_count": 15,
   "id": "a0592529-af0a-4bb2-bdfa-8da2100c1114",
   "metadata": {},
   "outputs": [
    {
     "data": {
      "text/plain": [
       "dict_keys(['train', 'validation', 'test'])"
      ]
     },
     "execution_count": 15,
     "metadata": {},
     "output_type": "execute_result"
    }
   ],
   "source": [
    "english_books.keys()"
   ]
  },
  {
   "cell_type": "code",
   "execution_count": 16,
   "id": "eb6cc89c-e473-4721-bd1d-2d46d1d79f48",
   "metadata": {},
   "outputs": [
    {
     "data": {
      "text/plain": [
       "{'Unnamed: 0': [599935, 599940, 599943, 599993],\n",
       " 'review_id': ['es_0007904', 'es_0283367', 'es_0621841', 'es_0950799'],\n",
       " 'product_id': ['product_es_0426043',\n",
       "  'product_es_0068739',\n",
       "  'product_es_0929985',\n",
       "  'product_es_0712641'],\n",
       " 'reviewer_id': ['reviewer_es_0527698',\n",
       "  'reviewer_es_0518482',\n",
       "  'reviewer_es_0696435',\n",
       "  'reviewer_es_0827348'],\n",
       " 'stars': [5, 5, 5, 5],\n",
       " 'review_body': ['Muy buena novela, bien escrita y muy entretenida desde el principio hasta el final, el hilo de la historia muy bien hilvanado',\n",
       "  'Y le ha encantado. Un regalo un poco más original de lo que estamos acostumbrados, aparte el libro tiene buena calidad, buenas fotos y explicación, etc. Para 8 años en adelante está muy bien. Bueno, según habilidad del niño claro. Yo también he hecho algunas figuritas. Interesante.',\n",
       "  'Simplemente maravilloso, esta autora tiene una facilidad increíble para escribir y hacerte sentir con cada palabra que empiezas a leer. Espero que nunca se canse de dejarnos un poquito de ella en cada libro que saca. GRACIAS.',\n",
       "  'Si la primera parte me gustó, el desenlace me ha maravillado; he sentido tantas cosas, me he emocionado, he llorado.......... Es increíble como este libro me ha llegado muy adentro, quizá porque he identificado situaciones como personales. Enhorabuena Anny Peterson por estas maravillosas historias llenas de sentimiento.'],\n",
       " 'review_title': ['Buena Novela',\n",
       "  'Ha sido para un regalo para mi sobrino',\n",
       "  'No deja de sorprender',\n",
       "  'La droga +dura 2'],\n",
       " 'language': ['es', 'es', 'es', 'es'],\n",
       " 'product_category': ['digital_ebook_purchase',\n",
       "  'book',\n",
       "  'digital_ebook_purchase',\n",
       "  'digital_ebook_purchase']}"
      ]
     },
     "execution_count": 16,
     "metadata": {},
     "output_type": "execute_result"
    }
   ],
   "source": [
    "from datasets import concatenate_datasets, DatasetDict\n",
    "\n",
    "books_dataset = DatasetDict()\n",
    "\n",
    "for split in english_books.keys():\n",
    "    books_dataset[split] = concatenate_datasets(\n",
    "        [english_books[split], spanish_books[split]]\n",
    "    )\n",
    "books_dataset[\"train\"][-4:]"
   ]
  },
  {
   "cell_type": "code",
   "execution_count": 17,
   "id": "e06c8f3e-3192-4108-b112-e841e8795a5d",
   "metadata": {},
   "outputs": [
    {
     "name": "stdout",
     "output_type": "stream",
     "text": [
      "\n",
      "'>> Title: Easy to follow!!!!'\n",
      "'>> Review: I loved The dash diet weight loss Solution. Never hungry. I would recommend this diet. Also the menus are well rounded. Try it. Has lots of the information need thanks.'\n",
      "\n",
      "'>> Title: PARCIALMENTE DAÑADO'\n",
      "'>> Review: Me llegó el día que tocaba, junto a otros libros que pedí, pero la caja llegó en mal estado lo cual dañó las esquinas de los libros porque venían sin protección (forro).'\n",
      "\n",
      "'>> Title: no lo he podido descargar'\n",
      "'>> Review: igual que el anterior'\n"
     ]
    }
   ],
   "source": [
    "from datasets import concatenate_datasets, DatasetDict\n",
    "\n",
    "books_dataset = DatasetDict()\n",
    "\n",
    "for split in english_books.keys():\n",
    "    books_dataset[split] = concatenate_datasets(\n",
    "        [english_books[split], spanish_books[split]]\n",
    "    )\n",
    "    books_dataset[split] = books_dataset[split].shuffle(seed=42)\n",
    "\n",
    "# 몇 개의 샘플을 선택합니다.\n",
    "show_samples(books_dataset)"
   ]
  },
  {
   "cell_type": "code",
   "execution_count": 18,
   "id": "6e5da3e6-8cfc-49b6-89b0-01ef65bf2529",
   "metadata": {},
   "outputs": [
    {
     "data": {
      "text/plain": [
       "{'Unnamed: 0': [323267, 395015, 349166, 472025],\n",
       " 'review_id': ['en_0178460', 'en_0854914', 'en_0220240', 'es_0008529'],\n",
       " 'product_id': ['product_en_0808042',\n",
       "  'product_en_0309796',\n",
       "  'product_en_0857771',\n",
       "  'product_es_0184753'],\n",
       " 'reviewer_id': ['reviewer_en_0173650',\n",
       "  'reviewer_en_0113252',\n",
       "  'reviewer_en_0001189',\n",
       "  'reviewer_es_0276151'],\n",
       " 'stars': [4, 5, 4, 2],\n",
       " 'review_body': [\"I gave it 4 stars because I felt the beginning chapter was a bit uneven, but as I got into the story, it gripped me. The characters, location, and the twists kept me reading well into the night. After posting this review, I'm going back to purchase the next book in the series.\",\n",
       "  'Good book to read for business students',\n",
       "  'Enjoyable read will more than likely purchase other books by this author.',\n",
       "  'No está mal, pero más para niños de 9 años'],\n",
       " 'review_title': [\"I'm hooked!\",\n",
       "  'Readable,',\n",
       "  'Enjoyable',\n",
       "  'A partir de 9 años'],\n",
       " 'language': ['en', 'en', 'en', 'es'],\n",
       " 'product_category': ['digital_ebook_purchase',\n",
       "  'digital_ebook_purchase',\n",
       "  'digital_ebook_purchase',\n",
       "  'book']}"
      ]
     },
     "execution_count": 18,
     "metadata": {},
     "output_type": "execute_result"
    }
   ],
   "source": [
    "books_dataset[\"train\"][:4]"
   ]
  },
  {
   "cell_type": "code",
   "execution_count": 19,
   "id": "0719e6db-f30a-4995-8319-04c1736feda1",
   "metadata": {},
   "outputs": [
    {
     "data": {
      "text/plain": [
       "DatasetDict({\n",
       "    train: Dataset({\n",
       "        features: ['Unnamed: 0', 'review_id', 'product_id', 'reviewer_id', 'stars', 'review_body', 'review_title', 'language', 'product_category'],\n",
       "        num_rows: 17612\n",
       "    })\n",
       "    validation: Dataset({\n",
       "        features: ['Unnamed: 0', 'review_id', 'product_id', 'reviewer_id', 'stars', 'review_body', 'review_title', 'language', 'product_category'],\n",
       "        num_rows: 424\n",
       "    })\n",
       "    test: Dataset({\n",
       "        features: ['Unnamed: 0', 'review_id', 'product_id', 'reviewer_id', 'stars', 'review_body', 'review_title', 'language', 'product_category'],\n",
       "        num_rows: 442\n",
       "    })\n",
       "})"
      ]
     },
     "execution_count": 19,
     "metadata": {},
     "output_type": "execute_result"
    }
   ],
   "source": [
    "books_dataset"
   ]
  },
  {
   "cell_type": "code",
   "execution_count": 20,
   "id": "63d6d3c4-fb1f-4ecc-aa2c-8cd2472d96eb",
   "metadata": {},
   "outputs": [
    {
     "data": {
      "text/html": [
       "<div>\n",
       "<style scoped>\n",
       "    .dataframe tbody tr th:only-of-type {\n",
       "        vertical-align: middle;\n",
       "    }\n",
       "\n",
       "    .dataframe tbody tr th {\n",
       "        vertical-align: top;\n",
       "    }\n",
       "\n",
       "    .dataframe thead th {\n",
       "        text-align: right;\n",
       "    }\n",
       "</style>\n",
       "<table border=\"1\" class=\"dataframe\">\n",
       "  <thead>\n",
       "    <tr style=\"text-align: right;\">\n",
       "      <th></th>\n",
       "      <th>Unnamed: 0</th>\n",
       "      <th>review_id</th>\n",
       "      <th>product_id</th>\n",
       "      <th>reviewer_id</th>\n",
       "      <th>stars</th>\n",
       "      <th>review_body</th>\n",
       "      <th>review_title</th>\n",
       "      <th>language</th>\n",
       "      <th>product_category</th>\n",
       "    </tr>\n",
       "  </thead>\n",
       "  <tbody>\n",
       "    <tr>\n",
       "      <th>0</th>\n",
       "      <td>323267</td>\n",
       "      <td>en_0178460</td>\n",
       "      <td>product_en_0808042</td>\n",
       "      <td>reviewer_en_0173650</td>\n",
       "      <td>4</td>\n",
       "      <td>I gave it 4 stars because I felt the beginning...</td>\n",
       "      <td>I'm hooked!</td>\n",
       "      <td>en</td>\n",
       "      <td>digital_ebook_purchase</td>\n",
       "    </tr>\n",
       "    <tr>\n",
       "      <th>1</th>\n",
       "      <td>395015</td>\n",
       "      <td>en_0854914</td>\n",
       "      <td>product_en_0309796</td>\n",
       "      <td>reviewer_en_0113252</td>\n",
       "      <td>5</td>\n",
       "      <td>Good book to read for business students</td>\n",
       "      <td>Readable,</td>\n",
       "      <td>en</td>\n",
       "      <td>digital_ebook_purchase</td>\n",
       "    </tr>\n",
       "    <tr>\n",
       "      <th>2</th>\n",
       "      <td>349166</td>\n",
       "      <td>en_0220240</td>\n",
       "      <td>product_en_0857771</td>\n",
       "      <td>reviewer_en_0001189</td>\n",
       "      <td>4</td>\n",
       "      <td>Enjoyable read will more than likely purchase ...</td>\n",
       "      <td>Enjoyable</td>\n",
       "      <td>en</td>\n",
       "      <td>digital_ebook_purchase</td>\n",
       "    </tr>\n",
       "    <tr>\n",
       "      <th>3</th>\n",
       "      <td>472025</td>\n",
       "      <td>es_0008529</td>\n",
       "      <td>product_es_0184753</td>\n",
       "      <td>reviewer_es_0276151</td>\n",
       "      <td>2</td>\n",
       "      <td>No está mal, pero más para niños de 9 años</td>\n",
       "      <td>A partir de 9 años</td>\n",
       "      <td>es</td>\n",
       "      <td>book</td>\n",
       "    </tr>\n",
       "    <tr>\n",
       "      <th>4</th>\n",
       "      <td>344418</td>\n",
       "      <td>en_0887613</td>\n",
       "      <td>product_en_0173743</td>\n",
       "      <td>reviewer_en_0635017</td>\n",
       "      <td>4</td>\n",
       "      <td>I grew up reading Koontz, and years ago, I sto...</td>\n",
       "      <td>A study of nature?</td>\n",
       "      <td>en</td>\n",
       "      <td>digital_ebook_purchase</td>\n",
       "    </tr>\n",
       "    <tr>\n",
       "      <th>...</th>\n",
       "      <td>...</td>\n",
       "      <td>...</td>\n",
       "      <td>...</td>\n",
       "      <td>...</td>\n",
       "      <td>...</td>\n",
       "      <td>...</td>\n",
       "      <td>...</td>\n",
       "      <td>...</td>\n",
       "      <td>...</td>\n",
       "    </tr>\n",
       "    <tr>\n",
       "      <th>17607</th>\n",
       "      <td>515375</td>\n",
       "      <td>es_0953460</td>\n",
       "      <td>product_es_0803643</td>\n",
       "      <td>reviewer_es_0927474</td>\n",
       "      <td>3</td>\n",
       "      <td>Me compre este libro en un principio por que f...</td>\n",
       "      <td>El libro esta bien, dependiendo desde que punt...</td>\n",
       "      <td>es</td>\n",
       "      <td>book</td>\n",
       "    </tr>\n",
       "    <tr>\n",
       "      <th>17608</th>\n",
       "      <td>278653</td>\n",
       "      <td>en_0494679</td>\n",
       "      <td>product_en_0254302</td>\n",
       "      <td>reviewer_en_0961739</td>\n",
       "      <td>2</td>\n",
       "      <td>I have read a few of her books and this was no...</td>\n",
       "      <td>Not my favorite</td>\n",
       "      <td>en</td>\n",
       "      <td>digital_ebook_purchase</td>\n",
       "    </tr>\n",
       "    <tr>\n",
       "      <th>17609</th>\n",
       "      <td>324944</td>\n",
       "      <td>en_0182400</td>\n",
       "      <td>product_en_0828506</td>\n",
       "      <td>reviewer_en_0340449</td>\n",
       "      <td>4</td>\n",
       "      <td>I enjoyed this book very much. It is full of v...</td>\n",
       "      <td>Good</td>\n",
       "      <td>en</td>\n",
       "      <td>digital_ebook_purchase</td>\n",
       "    </tr>\n",
       "    <tr>\n",
       "      <th>17610</th>\n",
       "      <td>335053</td>\n",
       "      <td>en_0165528</td>\n",
       "      <td>product_en_0247902</td>\n",
       "      <td>reviewer_en_0303937</td>\n",
       "      <td>4</td>\n",
       "      <td>Another solid entry into a great series. Maddo...</td>\n",
       "      <td>The Story continues</td>\n",
       "      <td>en</td>\n",
       "      <td>digital_ebook_purchase</td>\n",
       "    </tr>\n",
       "    <tr>\n",
       "      <th>17611</th>\n",
       "      <td>390720</td>\n",
       "      <td>en_0701553</td>\n",
       "      <td>product_en_0766236</td>\n",
       "      <td>reviewer_en_0835871</td>\n",
       "      <td>5</td>\n",
       "      <td>What a ride I enjoyed this book// its been a w...</td>\n",
       "      <td>Wow</td>\n",
       "      <td>en</td>\n",
       "      <td>digital_ebook_purchase</td>\n",
       "    </tr>\n",
       "  </tbody>\n",
       "</table>\n",
       "<p>17612 rows × 9 columns</p>\n",
       "</div>"
      ],
      "text/plain": [
       "       Unnamed: 0   review_id          product_id          reviewer_id  stars  \\\n",
       "0          323267  en_0178460  product_en_0808042  reviewer_en_0173650      4   \n",
       "1          395015  en_0854914  product_en_0309796  reviewer_en_0113252      5   \n",
       "2          349166  en_0220240  product_en_0857771  reviewer_en_0001189      4   \n",
       "3          472025  es_0008529  product_es_0184753  reviewer_es_0276151      2   \n",
       "4          344418  en_0887613  product_en_0173743  reviewer_en_0635017      4   \n",
       "...           ...         ...                 ...                  ...    ...   \n",
       "17607      515375  es_0953460  product_es_0803643  reviewer_es_0927474      3   \n",
       "17608      278653  en_0494679  product_en_0254302  reviewer_en_0961739      2   \n",
       "17609      324944  en_0182400  product_en_0828506  reviewer_en_0340449      4   \n",
       "17610      335053  en_0165528  product_en_0247902  reviewer_en_0303937      4   \n",
       "17611      390720  en_0701553  product_en_0766236  reviewer_en_0835871      5   \n",
       "\n",
       "                                             review_body  \\\n",
       "0      I gave it 4 stars because I felt the beginning...   \n",
       "1                Good book to read for business students   \n",
       "2      Enjoyable read will more than likely purchase ...   \n",
       "3             No está mal, pero más para niños de 9 años   \n",
       "4      I grew up reading Koontz, and years ago, I sto...   \n",
       "...                                                  ...   \n",
       "17607  Me compre este libro en un principio por que f...   \n",
       "17608  I have read a few of her books and this was no...   \n",
       "17609  I enjoyed this book very much. It is full of v...   \n",
       "17610  Another solid entry into a great series. Maddo...   \n",
       "17611  What a ride I enjoyed this book// its been a w...   \n",
       "\n",
       "                                            review_title language  \\\n",
       "0                                            I'm hooked!       en   \n",
       "1                                              Readable,       en   \n",
       "2                                              Enjoyable       en   \n",
       "3                                     A partir de 9 años       es   \n",
       "4                                     A study of nature?       en   \n",
       "...                                                  ...      ...   \n",
       "17607  El libro esta bien, dependiendo desde que punt...       es   \n",
       "17608                                    Not my favorite       en   \n",
       "17609                                               Good       en   \n",
       "17610                                The Story continues       en   \n",
       "17611                                                Wow       en   \n",
       "\n",
       "             product_category  \n",
       "0      digital_ebook_purchase  \n",
       "1      digital_ebook_purchase  \n",
       "2      digital_ebook_purchase  \n",
       "3                        book  \n",
       "4      digital_ebook_purchase  \n",
       "...                       ...  \n",
       "17607                    book  \n",
       "17608  digital_ebook_purchase  \n",
       "17609  digital_ebook_purchase  \n",
       "17610  digital_ebook_purchase  \n",
       "17611  digital_ebook_purchase  \n",
       "\n",
       "[17612 rows x 9 columns]"
      ]
     },
     "execution_count": 20,
     "metadata": {},
     "output_type": "execute_result"
    }
   ],
   "source": [
    "books_dataset.set_format(\"pandas\")\n",
    "train_df = books_dataset[\"train\"][:]\n",
    "train_df"
   ]
  },
  {
   "cell_type": "code",
   "execution_count": 21,
   "id": "2545665f-6db6-4a0a-b5cd-a9ac09eb77a7",
   "metadata": {},
   "outputs": [
    {
     "data": {
      "text/plain": [
       "(13313,)"
      ]
     },
     "execution_count": 21,
     "metadata": {},
     "output_type": "execute_result"
    }
   ],
   "source": [
    "train_df[\"review_title\"].unique().shape"
   ]
  },
  {
   "cell_type": "code",
   "execution_count": 22,
   "id": "8299498f-758f-4b90-b29b-01469decb585",
   "metadata": {},
   "outputs": [],
   "source": [
    "#!pip install matplotlib"
   ]
  },
  {
   "cell_type": "code",
   "execution_count": 23,
   "id": "a24358ef-a6a5-4ecc-8174-476b954b79ab",
   "metadata": {},
   "outputs": [
    {
     "data": {
      "text/plain": [
       "<Axes: xlabel='language'>"
      ]
     },
     "execution_count": 23,
     "metadata": {},
     "output_type": "execute_result"
    },
    {
     "data": {
      "image/png": "[encoded data removed]",
      "text/plain": [
       "<Figure size 640x480 with 1 Axes>"
      ]
     },
     "metadata": {},
     "output_type": "display_data"
    }
   ],
   "source": [
    "train_df['language'].value_counts().plot(kind='bar')"
   ]
  },
  {
   "cell_type": "code",
   "execution_count": 24,
   "id": "634862eb-6dbe-4efe-9ade-6e6003096d7c",
   "metadata": {},
   "outputs": [
    {
     "data": {
      "text/plain": [
       "Text(0, 0.5, 'number of samples')"
      ]
     },
     "execution_count": 24,
     "metadata": {},
     "output_type": "execute_result"
    },
    {
     "data": {
      "image/png": "[encoded data removed]",
      "text/plain": [
       "<Figure size 640x480 with 1 Axes>"
      ]
     },
     "metadata": {},
     "output_type": "display_data"
    }
   ],
   "source": [
    "import matplotlib.pyplot as plt\n",
    "\n",
    "plt.hist([len(review.split()) for review in train_df[\"review_title\"]], bins=50)\n",
    "plt.xlabel('length of samples')\n",
    "plt.ylabel('number of samples')"
   ]
  },
  {
   "cell_type": "code",
   "execution_count": 25,
   "id": "7d2c3a43-6735-44a0-87ab-47a93cc588d0",
   "metadata": {},
   "outputs": [
    {
     "data": {
      "text/plain": [
       "Text(0, 0.5, 'number of samples')"
      ]
     },
     "execution_count": 25,
     "metadata": {},
     "output_type": "execute_result"
    },
    {
     "data": {
      "image/png": "[encoded data removed]",
      "text/plain": [
       "<Figure size 640x480 with 1 Axes>"
      ]
     },
     "metadata": {},
     "output_type": "display_data"
    }
   ],
   "source": [
    "plt.hist([len(review.split()) for review in train_df[\"review_body\"]], bins=50)\n",
    "plt.xlabel('length of samples')\n",
    "plt.ylabel('number of samples')"
   ]
  },
  {
   "cell_type": "code",
   "execution_count": 26,
   "id": "0e5c65d0-93d4-4d65-bd02-ac10a8589d6e",
   "metadata": {},
   "outputs": [],
   "source": [
    "books_dataset.reset_format()"
   ]
  },
  {
   "cell_type": "code",
   "execution_count": 27,
   "id": "d216ea22-945d-40a7-b18a-b14b4a923e0b",
   "metadata": {},
   "outputs": [
    {
     "name": "stdout",
     "output_type": "stream",
     "text": [
      "DatasetDict({\n",
      "    train: Dataset({\n",
      "        features: ['Unnamed: 0', 'review_id', 'product_id', 'reviewer_id', 'stars', 'review_body', 'review_title', 'language', 'product_category'],\n",
      "        num_rows: 17612\n",
      "    })\n",
      "    validation: Dataset({\n",
      "        features: ['Unnamed: 0', 'review_id', 'product_id', 'reviewer_id', 'stars', 'review_body', 'review_title', 'language', 'product_category'],\n",
      "        num_rows: 424\n",
      "    })\n",
      "    test: Dataset({\n",
      "        features: ['Unnamed: 0', 'review_id', 'product_id', 'reviewer_id', 'stars', 'review_body', 'review_title', 'language', 'product_category'],\n",
      "        num_rows: 442\n",
      "    })\n",
      "})\n",
      "after filtering the length of review_title > 2 : DatasetDict({\n",
      "    train: Dataset({\n",
      "        features: ['Unnamed: 0', 'review_id', 'product_id', 'reviewer_id', 'stars', 'review_body', 'review_title', 'language', 'product_category'],\n",
      "        num_rows: 9672\n",
      "    })\n",
      "    validation: Dataset({\n",
      "        features: ['Unnamed: 0', 'review_id', 'product_id', 'reviewer_id', 'stars', 'review_body', 'review_title', 'language', 'product_category'],\n",
      "        num_rows: 238\n",
      "    })\n",
      "    test: Dataset({\n",
      "        features: ['Unnamed: 0', 'review_id', 'product_id', 'reviewer_id', 'stars', 'review_body', 'review_title', 'language', 'product_category'],\n",
      "        num_rows: 245\n",
      "    })\n",
      "})\n"
     ]
    }
   ],
   "source": [
    "print(books_dataset)\n",
    "books_dataset = books_dataset.filter(lambda x: len(x[\"review_title\"].split()) > 2)\n",
    "print(f\"after filtering the length of review_title > 2 : {books_dataset}\")"
   ]
  },
  {
   "cell_type": "code",
   "execution_count": 28,
   "id": "6d9da1a0-5b1b-43df-8bf6-b2a8146320bc",
   "metadata": {},
   "outputs": [
    {
     "data": {
      "text/plain": [
       "['A partir de 9 años',\n",
       " 'A study of nature?',\n",
       " 'This was the last book by this author. I use to by every book she wrote.',\n",
       " 'Entretenido para adolescentes',\n",
       " 'Un clásico moderno']"
      ]
     },
     "execution_count": 28,
     "metadata": {},
     "output_type": "execute_result"
    }
   ],
   "source": [
    "books_dataset[\"train\"][\"review_title\"][:5]"
   ]
  },
  {
   "cell_type": "code",
   "execution_count": 29,
   "id": "625d6adc-c839-4755-abc5-56e81f95ca85",
   "metadata": {},
   "outputs": [],
   "source": [
    "#!pip install -U protobuf"
   ]
  },
  {
   "cell_type": "code",
   "execution_count": 30,
   "id": "a0e56248-a77a-4936-a41a-4cc83832a3ec",
   "metadata": {},
   "outputs": [
    {
     "name": "stderr",
     "output_type": "stream",
     "text": [
      "You are using the default legacy behaviour of the <class 'transformers.models.t5.tokenization_t5.T5Tokenizer'>. This is expected, and simply means that the `legacy` (previous) behavior will be used so nothing changes for you. If you want to use the new behaviour, set `legacy=False`. This should only be set if you understand what it means, and thoroughly read the reason why this was added as explained in https://github.com/huggingface/transformers/pull/24565\n",
      "/scratch/qualis/miniconda3/envs/transformer/lib/python3.10/site-packages/transformers/convert_slow_tokenizer.py:550: UserWarning: The sentencepiece tokenizer that you are converting to a fast tokenizer uses the byte fallback option which is not implemented in the fast tokenizers. In practice this means that the fast version of the tokenizer can produce unknown tokens whereas the sentencepiece version would have converted these unknown tokens into a sequence of byte tokens matching the original piece of text.\n",
      "  warnings.warn(\n"
     ]
    }
   ],
   "source": [
    "from transformers import AutoTokenizer\n",
    "\n",
    "model_checkpoint = \"google/mt5-small\"\n",
    "tokenizer = AutoTokenizer.from_pretrained(model_checkpoint)"
   ]
  },
  {
   "cell_type": "code",
   "execution_count": 31,
   "id": "803b9d0b-1fed-44d0-929c-d10b132f16a2",
   "metadata": {},
   "outputs": [
    {
     "data": {
      "text/plain": [
       "{'input_ids': [336, 259, 28387, 11807, 287, 62893, 295, 12507, 309, 1], 'attention_mask': [1, 1, 1, 1, 1, 1, 1, 1, 1, 1]}"
      ]
     },
     "execution_count": 31,
     "metadata": {},
     "output_type": "execute_result"
    }
   ],
   "source": [
    "inputs = tokenizer(\"I loved reading the Hunger Games!\")\n",
    "inputs"
   ]
  },
  {
   "cell_type": "code",
   "execution_count": 32,
   "id": "9787db33-e652-4087-bffd-88856cecfce7",
   "metadata": {},
   "outputs": [
    {
     "data": {
      "text/plain": [
       "transformers.tokenization_utils_base.BatchEncoding"
      ]
     },
     "execution_count": 32,
     "metadata": {},
     "output_type": "execute_result"
    }
   ],
   "source": [
    "type(inputs)"
   ]
  },
  {
   "cell_type": "code",
   "execution_count": 33,
   "id": "6ca103fd-c5d7-4c8b-918c-a1b46c31ee3f",
   "metadata": {},
   "outputs": [
    {
     "data": {
      "text/plain": [
       "[0, 1, 1, 2, 3, 4, 4, 5, 5, None]"
      ]
     },
     "execution_count": 33,
     "metadata": {},
     "output_type": "execute_result"
    }
   ],
   "source": [
    "inputs.word_ids()"
   ]
  },
  {
   "cell_type": "code",
   "execution_count": 34,
   "id": "8ce840bd-d2bb-4bb4-bf33-7efed12aecee",
   "metadata": {},
   "outputs": [
    {
     "data": {
      "text/plain": [
       "['▁I', '▁', 'loved', '▁reading', '▁the', '▁Hung', 'er', '▁Games', '!', '</s>']"
      ]
     },
     "execution_count": 34,
     "metadata": {},
     "output_type": "execute_result"
    }
   ],
   "source": [
    "inputs.tokens()"
   ]
  },
  {
   "cell_type": "code",
   "execution_count": 35,
   "id": "8c77e0d8-70c7-49a6-bb77-c009ea61a3c7",
   "metadata": {},
   "outputs": [
    {
     "data": {
      "text/plain": [
       "['▁I', '▁', 'loved', '▁reading', '▁the', '▁Hung', 'er', '▁Games', '!', '</s>']"
      ]
     },
     "execution_count": 35,
     "metadata": {},
     "output_type": "execute_result"
    }
   ],
   "source": [
    "tokenizer.convert_ids_to_tokens(inputs[\"input_ids\"])"
   ]
  },
  {
   "cell_type": "markdown",
   "id": "5542b7aa-60b8-41be-8263-c79b63524697",
   "metadata": {},
   "source": [
    "#### The special Unicode character ▁ and end-of-sequence token </s> indicate that we’re dealing with the SentencePiece tokenizer, which is based on the Unigram segmentation algorithm discussed in Chapter 6. Unigram is especially useful for multilingual corpora since it allows SentencePiece to be agnostic about accents, punctuation, and the fact that many languages, like Japanese, do not have whitespace characters."
   ]
  },
  {
   "cell_type": "code",
   "execution_count": 36,
   "id": "64b9278e-dce2-4b12-9ff5-589ed28152d2",
   "metadata": {},
   "outputs": [
    {
     "name": "stdout",
     "output_type": "stream",
     "text": [
      "[336, 259, 28387, 11807, 287, 62893, 295, 12507, 309, 1]\n",
      "[336, 259, 28387, 11807, 287, 62893, 295, 12507, 309, 1]\n"
     ]
    }
   ],
   "source": [
    "print(inputs.input_ids)\n",
    "print(inputs[\"input_ids\"])"
   ]
  },
  {
   "cell_type": "code",
   "execution_count": 37,
   "id": "6a3ea82c-bb66-49a8-83d0-601bf7e8809d",
   "metadata": {},
   "outputs": [],
   "source": [
    "max_input_length = 512\n",
    "max_target_length = 30\n",
    "\n",
    "def preprocess_function(examples):\n",
    "    model_inputs = tokenizer(\n",
    "        examples[\"review_body\"], max_length=max_input_length, truncation=True\n",
    "    )\n",
    "    # 타겟을 위한 토크나이저 설정\n",
    "    with tokenizer.as_target_tokenizer():\n",
    "        labels = tokenizer(\n",
    "            examples[\"review_title\"], max_length=max_target_length, truncation=True\n",
    "        )\n",
    "\n",
    "    model_inputs[\"labels\"] = labels[\"input_ids\"]\n",
    "    return model_inputs\n"
   ]
  },
  {
   "cell_type": "code",
   "execution_count": 38,
   "id": "3de47558-eddf-4ca4-b253-0504aea83239",
   "metadata": {},
   "outputs": [
    {
     "data": {
      "application/vnd.jupyter.widget-view+json": {
       "model_id": "4e59803cceb0449eba1426dc5256d24e",
       "version_major": 2,
       "version_minor": 0
      },
      "text/plain": [
       "Map:   0%|          | 0/238 [00:00<?, ? examples/s]"
      ]
     },
     "metadata": {},
     "output_type": "display_data"
    },
    {
     "name": "stderr",
     "output_type": "stream",
     "text": [
      "/scratch/qualis/miniconda3/envs/transformer/lib/python3.10/site-packages/transformers/tokenization_utils_base.py:3935: UserWarning: `as_target_tokenizer` is deprecated and will be removed in v5 of Transformers. You can tokenize your labels by using the argument `text_target` of the regular `__call__` method (either in the same call as your input texts if you use the same keyword arguments, or in a separate call.\n",
      "  warnings.warn(\n"
     ]
    }
   ],
   "source": [
    "tokenized_datasets = books_dataset.map(preprocess_function, batched=True)"
   ]
  },
  {
   "cell_type": "code",
   "execution_count": 39,
   "id": "b4946ce8-e2f9-4c10-acc3-e039e3232be9",
   "metadata": {},
   "outputs": [
    {
     "data": {
      "text/plain": [
       "DatasetDict({\n",
       "    train: Dataset({\n",
       "        features: ['Unnamed: 0', 'review_id', 'product_id', 'reviewer_id', 'stars', 'review_body', 'review_title', 'language', 'product_category', 'input_ids', 'attention_mask', 'labels'],\n",
       "        num_rows: 9672\n",
       "    })\n",
       "    validation: Dataset({\n",
       "        features: ['Unnamed: 0', 'review_id', 'product_id', 'reviewer_id', 'stars', 'review_body', 'review_title', 'language', 'product_category', 'input_ids', 'attention_mask', 'labels'],\n",
       "        num_rows: 238\n",
       "    })\n",
       "    test: Dataset({\n",
       "        features: ['Unnamed: 0', 'review_id', 'product_id', 'reviewer_id', 'stars', 'review_body', 'review_title', 'language', 'product_category', 'input_ids', 'attention_mask', 'labels'],\n",
       "        num_rows: 245\n",
       "    })\n",
       "})"
      ]
     },
     "execution_count": 39,
     "metadata": {},
     "output_type": "execute_result"
    }
   ],
   "source": [
    "tokenized_datasets"
   ]
  },
  {
   "cell_type": "code",
   "execution_count": 40,
   "id": "a646169f-1fab-44bb-9aaf-d915d7f95cca",
   "metadata": {},
   "outputs": [],
   "source": [
    "generated_summary = \"I absolutely loved reading the Hunger Games\"\n",
    "reference_summary = \"I loved reading the Hunger Games\""
   ]
  },
  {
   "cell_type": "code",
   "execution_count": 41,
   "id": "31c3502e-2460-4a60-a544-8a511df9d68f",
   "metadata": {},
   "outputs": [],
   "source": [
    "#!python3 -m pip install rouge_score"
   ]
  },
  {
   "cell_type": "code",
   "execution_count": 42,
   "id": "27b19f21-102d-4ea5-9ab6-9baba867178a",
   "metadata": {},
   "outputs": [
    {
     "name": "stderr",
     "output_type": "stream",
     "text": [
      "/tmp/ipykernel_10464/54150397.py:3: FutureWarning: load_metric is deprecated and will be removed in the next major version of datasets. Use 'evaluate.load' instead, from the new library 🤗 Evaluate: https://huggingface.co/docs/evaluate\n",
      "  rouge_score = load_metric(\"rouge\")\n",
      "/scratch/qualis/miniconda3/envs/transformer/lib/python3.10/site-packages/datasets/load.py:756: FutureWarning: The repository for rouge contains custom code which must be executed to correctly load the metric. You can inspect the repository content at https://raw.githubusercontent.com/huggingface/datasets/2.18.0/metrics/rouge/rouge.py\n",
      "You can avoid this message in future by passing the argument `trust_remote_code=True`.\n",
      "Passing `trust_remote_code=True` will be mandatory to load this metric from the next major release of `datasets`.\n",
      "  warnings.warn(\n"
     ]
    }
   ],
   "source": [
    "from datasets import load_metric\n",
    "\n",
    "rouge_score = load_metric(\"rouge\")\n"
   ]
  },
  {
   "cell_type": "code",
   "execution_count": 43,
   "id": "bda836f1-17db-47f4-b1fd-b55d9d308981",
   "metadata": {},
   "outputs": [
    {
     "data": {
      "text/plain": [
       "{'rouge1': AggregateScore(low=Score(precision=0.8571428571428571, recall=1.0, fmeasure=0.923076923076923), mid=Score(precision=0.8571428571428571, recall=1.0, fmeasure=0.923076923076923), high=Score(precision=0.8571428571428571, recall=1.0, fmeasure=0.923076923076923)),\n",
       " 'rouge2': AggregateScore(low=Score(precision=0.6666666666666666, recall=0.8, fmeasure=0.7272727272727272), mid=Score(precision=0.6666666666666666, recall=0.8, fmeasure=0.7272727272727272), high=Score(precision=0.6666666666666666, recall=0.8, fmeasure=0.7272727272727272)),\n",
       " 'rougeL': AggregateScore(low=Score(precision=0.8571428571428571, recall=1.0, fmeasure=0.923076923076923), mid=Score(precision=0.8571428571428571, recall=1.0, fmeasure=0.923076923076923), high=Score(precision=0.8571428571428571, recall=1.0, fmeasure=0.923076923076923)),\n",
       " 'rougeLsum': AggregateScore(low=Score(precision=0.8571428571428571, recall=1.0, fmeasure=0.923076923076923), mid=Score(precision=0.8571428571428571, recall=1.0, fmeasure=0.923076923076923), high=Score(precision=0.8571428571428571, recall=1.0, fmeasure=0.923076923076923))}"
      ]
     },
     "execution_count": 43,
     "metadata": {},
     "output_type": "execute_result"
    }
   ],
   "source": [
    "scores = rouge_score.compute(\n",
    "    predictions=[generated_summary], references=[reference_summary]\n",
    ")\n",
    "scores\n"
   ]
  },
  {
   "cell_type": "code",
   "execution_count": 44,
   "id": "2cd0c92a-ef59-4ab6-8aee-777e0316737f",
   "metadata": {},
   "outputs": [
    {
     "data": {
      "text/plain": [
       "Score(precision=0.8571428571428571, recall=1.0, fmeasure=0.923076923076923)"
      ]
     },
     "execution_count": 44,
     "metadata": {},
     "output_type": "execute_result"
    }
   ],
   "source": [
    "scores[\"rouge1\"].mid"
   ]
  },
  {
   "cell_type": "code",
   "execution_count": 45,
   "id": "c2d667fe-6c60-461b-9d9a-ea09e8082799",
   "metadata": {},
   "outputs": [],
   "source": [
    "#!pip show nltk"
   ]
  },
  {
   "cell_type": "code",
   "execution_count": 46,
   "id": "b246d0e6-68fb-4951-b1ab-47aabc75a8c6",
   "metadata": {},
   "outputs": [
    {
     "name": "stderr",
     "output_type": "stream",
     "text": [
      "[nltk_data] Downloading package punkt to /home01/qualis/nltk_data...\n",
      "[nltk_data]   Package punkt is already up-to-date!\n"
     ]
    },
    {
     "data": {
      "text/plain": [
       "True"
      ]
     },
     "execution_count": 46,
     "metadata": {},
     "output_type": "execute_result"
    }
   ],
   "source": [
    "import nltk\n",
    "\n",
    "nltk.download(\"punkt\")"
   ]
  },
  {
   "cell_type": "code",
   "execution_count": 47,
   "id": "c7521fb6-541e-4cc6-a539-de3043a36b7b",
   "metadata": {},
   "outputs": [
    {
     "data": {
      "text/plain": [
       "'I grew up reading Koontz, and years ago, I stopped,convinced i had \"outgrown\" him. Still,when a friend was looking for something suspenseful too read, I suggested Koontz. She found Strangers. The excitement art how good it was startled me. I was sure i had recommended something else. I ordered a copy for myself. This was a great reintroduction to an old favorite writer -- a novel full of fully developed characters that are totally relatable. People you could care about with full back stories. A mystery that had to be solved. I expected it to be the book I read every few weeks, only on flights. Instead, I\\'ve ignored everything and everybody to finish this. Definitely a must read.'"
      ]
     },
     "execution_count": 47,
     "metadata": {},
     "output_type": "execute_result"
    }
   ],
   "source": [
    "books_dataset[\"train\"][\"review_body\"][1]"
   ]
  },
  {
   "cell_type": "code",
   "execution_count": 52,
   "id": "97b578d5-a137-4ab7-8c45-1ff325c8ab0b",
   "metadata": {},
   "outputs": [
    {
     "name": "stdout",
     "output_type": "stream",
     "text": [
      "['I grew up reading Koontz, and years ago, I stopped,convinced i had \"outgrown\" him.', 'Still,when a friend was looking for something suspenseful too read, I suggested Koontz.', 'She found Strangers.', 'The excitement art how good it was startled me.', 'I was sure i had recommended something else.', 'I ordered a copy for myself.', 'This was a great reintroduction to an old favorite writer -- a novel full of fully developed characters that are totally relatable.', 'People you could care about with full back stories.', 'A mystery that had to be solved.', 'I expected it to be the book I read every few weeks, only on flights.', \"Instead, I've ignored everything and everybody to finish this.\", 'Definitely a must read.']\n",
      "I grew up reading Koontz, and years ago, I stopped,convinced i had \"outgrown\" him.\n",
      "Still,when a friend was looking for something suspenseful too read, I suggested Koontz.\n",
      "She found Strangers.\n"
     ]
    }
   ],
   "source": [
    "from nltk.tokenize import sent_tokenize\n",
    "\n",
    "\n",
    "def three_sentence_summary(text):\n",
    "    return \"\\n\".join(sent_tokenize(text)[:3])\n",
    "\n",
    "print(sent_tokenize(books_dataset[\"train\"][\"review_body\"][1]))\n",
    "print(three_sentence_summary(books_dataset[\"train\"][\"review_body\"][1]))\n"
   ]
  },
  {
   "cell_type": "code",
   "execution_count": 53,
   "id": "a0ea2650-c87c-4b7b-8845-ba8ee19e1806",
   "metadata": {},
   "outputs": [
    {
     "data": {
      "text/plain": [
       "{'Unnamed: 0': [472025, 344418],\n",
       " 'review_id': ['es_0008529', 'en_0887613'],\n",
       " 'product_id': ['product_es_0184753', 'product_en_0173743'],\n",
       " 'reviewer_id': ['reviewer_es_0276151', 'reviewer_en_0635017'],\n",
       " 'stars': [2, 4],\n",
       " 'review_body': ['No está mal, pero más para niños de 9 años',\n",
       "  'I grew up reading Koontz, and years ago, I stopped,convinced i had \"outgrown\" him. Still,when a friend was looking for something suspenseful too read, I suggested Koontz. She found Strangers. The excitement art how good it was startled me. I was sure i had recommended something else. I ordered a copy for myself. This was a great reintroduction to an old favorite writer -- a novel full of fully developed characters that are totally relatable. People you could care about with full back stories. A mystery that had to be solved. I expected it to be the book I read every few weeks, only on flights. Instead, I\\'ve ignored everything and everybody to finish this. Definitely a must read.'],\n",
       " 'review_title': ['A partir de 9 años', 'A study of nature?'],\n",
       " 'language': ['es', 'en'],\n",
       " 'product_category': ['book', 'digital_ebook_purchase']}"
      ]
     },
     "execution_count": 53,
     "metadata": {},
     "output_type": "execute_result"
    }
   ],
   "source": [
    "books_dataset[\"train\"][:2]"
   ]
  },
  {
   "cell_type": "code",
   "execution_count": 49,
   "id": "9221dc7c-d1ba-402b-9a41-9b5182a1b715",
   "metadata": {},
   "outputs": [
    {
     "data": {
      "text/plain": [
       "['I grew up reading Koontz, and years ago, I stopped,convinced i had \"outgrown\" him.',\n",
       " 'Still,when a friend was looking for something suspenseful too read, I suggested Koontz.',\n",
       " 'She found Strangers.',\n",
       " 'The excitement art how good it was startled me.',\n",
       " 'I was sure i had recommended something else.',\n",
       " 'I ordered a copy for myself.',\n",
       " 'This was a great reintroduction to an old favorite writer -- a novel full of fully developed characters that are totally relatable.',\n",
       " 'People you could care about with full back stories.',\n",
       " 'A mystery that had to be solved.',\n",
       " 'I expected it to be the book I read every few weeks, only on flights.',\n",
       " \"Instead, I've ignored everything and everybody to finish this.\",\n",
       " 'Definitely a must read.']"
      ]
     },
     "execution_count": 49,
     "metadata": {},
     "output_type": "execute_result"
    }
   ],
   "source": [
    "sent_tokenize(books_dataset[\"train\"][1][\"review_body\"])"
   ]
  },
  {
   "cell_type": "code",
   "execution_count": 54,
   "id": "5b024387-1af2-461f-84f3-669f41f40c3a",
   "metadata": {},
   "outputs": [
    {
     "data": {
      "text/plain": [
       "Dataset({\n",
       "    features: ['Unnamed: 0', 'review_id', 'product_id', 'reviewer_id', 'stars', 'review_body', 'review_title', 'language', 'product_category'],\n",
       "    num_rows: 238\n",
       "})"
      ]
     },
     "execution_count": 54,
     "metadata": {},
     "output_type": "execute_result"
    }
   ],
   "source": [
    "books_dataset[\"validation\"]"
   ]
  },
  {
   "cell_type": "code",
   "execution_count": 55,
   "id": "5dc0d59b-c86f-40cb-81b9-d78ab223a769",
   "metadata": {},
   "outputs": [
    {
     "data": {
      "text/plain": [
       "['Great book. Terrible delivery. Came out of the package mangled. Not cool Amazon',\n",
       " \"This is most definitely a young adult book. The main character, Ivy, is a psychic detective who can read the past of a person or thing by touching the object in question. Her reaction to horrifying things discovered this way is to cry, scream, pass out for days at a time, etc. Kinda silly.... In this book she sets out to rescue a fae king and save her city from an invasion by the same nasty characters that kidnapped the fae king. I thought this was an adequate story but don't need to read any more of the series.\",\n",
       " 'Una historia muy bonita que rompe con las ideas preconcebidas de edad en la pareja.']"
      ]
     },
     "execution_count": 55,
     "metadata": {},
     "output_type": "execute_result"
    }
   ],
   "source": [
    "books_dataset[\"validation\"][\"review_body\"][:3]"
   ]
  },
  {
   "cell_type": "code",
   "execution_count": 56,
   "id": "20529e51-c5af-4d6c-bcb9-476df92ece0a",
   "metadata": {},
   "outputs": [
    {
     "data": {
      "text/plain": [
       "DatasetDict({\n",
       "    train: Dataset({\n",
       "        features: ['Unnamed: 0', 'review_id', 'product_id', 'reviewer_id', 'stars', 'review_body', 'review_title', 'language', 'product_category'],\n",
       "        num_rows: 9672\n",
       "    })\n",
       "    validation: Dataset({\n",
       "        features: ['Unnamed: 0', 'review_id', 'product_id', 'reviewer_id', 'stars', 'review_body', 'review_title', 'language', 'product_category'],\n",
       "        num_rows: 238\n",
       "    })\n",
       "    test: Dataset({\n",
       "        features: ['Unnamed: 0', 'review_id', 'product_id', 'reviewer_id', 'stars', 'review_body', 'review_title', 'language', 'product_category'],\n",
       "        num_rows: 245\n",
       "    })\n",
       "})"
      ]
     },
     "execution_count": 56,
     "metadata": {},
     "output_type": "execute_result"
    }
   ],
   "source": [
    "books_dataset"
   ]
  },
  {
   "cell_type": "code",
   "execution_count": 57,
   "id": "0400e21f-0d83-4d01-b364-15b58a638923",
   "metadata": {},
   "outputs": [
    {
     "name": "stdout",
     "output_type": "stream",
     "text": [
      "0 : Great book. Terrible delivery. Came out of the package mangled. Not cool Amazon\n",
      "1 : This is most definitely a young adult book. The main character, Ivy, is a psychic detective who can read the past of a person or thing by touching the object in question. Her reaction to horrifying things discovered this way is to cry, scream, pass out for days at a time, etc. Kinda silly.... In this book she sets out to rescue a fae king and save her city from an invasion by the same nasty characters that kidnapped the fae king. I thought this was an adequate story but don't need to read any more of the series.\n",
      "2 : Una historia muy bonita que rompe con las ideas preconcebidas de edad en la pareja.\n"
     ]
    }
   ],
   "source": [
    "for i, text in enumerate(books_dataset[\"validation\"][\"review_body\"][:3]):\n",
    "    print(i, \":\", text)"
   ]
  },
  {
   "cell_type": "code",
   "execution_count": 60,
   "id": "06ae0522-fe15-4b54-b9c1-a23f5f068ac3",
   "metadata": {},
   "outputs": [
    {
     "name": "stdout",
     "output_type": "stream",
     "text": [
      "0: [Great book.\n",
      "Terrible delivery.\n",
      "Came out of the package mangled.]\n",
      "1: [This is most definitely a young adult book.\n",
      "The main character, Ivy, is a psychic detective who can read the past of a person or thing by touching the object in question.\n",
      "Her reaction to horrifying things discovered this way is to cry, scream, pass out for days at a time, etc.]\n",
      "2: [Una historia muy bonita que rompe con las ideas preconcebidas de edad en la pareja.]\n"
     ]
    }
   ],
   "source": [
    "for i, text in enumerate(books_dataset[\"validation\"][\"review_body\"][:3]):\n",
    "    print(f\"{i}: [{three_sentence_summary(text)}]\")"
   ]
  },
  {
   "cell_type": "code",
   "execution_count": 61,
   "id": "82d53f7e-1432-43e2-9ad6-603632118fad",
   "metadata": {},
   "outputs": [
    {
     "name": "stdout",
     "output_type": "stream",
     "text": [
      "Una historia muy bonita que rompe con las ideas preconcebidas de edad en la pareja.\n"
     ]
    }
   ],
   "source": [
    "print(three_sentence_summary(books_dataset[\"validation\"][2][\"review_body\"]))"
   ]
  },
  {
   "cell_type": "code",
   "execution_count": 70,
   "id": "6fb09f33-a3ee-4b36-9093-1ea6f100c6fc",
   "metadata": {},
   "outputs": [
    {
     "data": {
      "text/plain": [
       "['Great book.\\nTerrible delivery.\\nCame out of the package mangled.',\n",
       " 'This is most definitely a young adult book.\\nThe main character, Ivy, is a psychic detective who can read the past of a person or thing by touching the object in question.\\nHer reaction to horrifying things discovered this way is to cry, scream, pass out for days at a time, etc.',\n",
       " 'Una historia muy bonita que rompe con las ideas preconcebidas de edad en la pareja.',\n",
       " 'Este libro aporta un poco más que la mayoría de sus contemporáneos de suspense, trabaja y profundiza bien en el personaje principal y Es original el enclave geográfico en el que transcurre.\\nEs bastante mejor que los libros anglosajones que están tan de moda tipo la Chica del tren, nada que ver, este libro es para gente que le gusta leer más, lo recomiendo aunque tampoco deslumbra',\n",
       " 'Interesting details about making wine in France.\\nSometimes the story and characters sounded a bit tired.',\n",
       " 'Me encanta!\\nLo uso mucho en clase de inglés con 1° cuando tratamos el tema de las familias, sobre todo para hacer hincapié en la diversidad familiar.\\nLos dibujos son muy coloridos y atraen su atención.',\n",
       " 'No es lo que me esperaba, pensaba que habría más variedad de tipografías, pero no está mal.\\nCabe mencionar que se necesitan bolígrafos específicos.',\n",
       " 'El pedido aparece como entregado pero realmente no ha sido entregado.\\nSigo a la espera.\\nRuego aclaración por parte de Amazon.',\n",
       " \"But maybe that's just me.\\nI had hoped for a grand summation of the trilogy.\\nI read somewhat silly dialogues especially when the Russians were involved.\",\n",
       " 'This book had me smiling almost the entire time.\\nBodie... well...\\nHe is certainly up there with the best book boys ever.']"
      ]
     },
     "execution_count": 70,
     "metadata": {},
     "output_type": "execute_result"
    }
   ],
   "source": [
    "summaries_sample = [three_sentence_summary(text) for text in books_dataset[\"validation\"][\"review_body\"][:10]]\n",
    "summaries_sample"
   ]
  },
  {
   "cell_type": "code",
   "execution_count": 71,
   "id": "c44f1106-bbb7-4a22-a687-33b91bfe4112",
   "metadata": {},
   "outputs": [
    {
     "data": {
      "text/plain": [
       "['Terrible delivery condition',\n",
       " 'A little too cute for me',\n",
       " 'Una historia preciosa',\n",
       " 'Es un libro correcto',\n",
       " 'Wine And Sighs',\n",
       " 'Bonito y necesario libro',\n",
       " 'No está mal',\n",
       " 'No entregado aunque aparece como entregado',\n",
       " 'Not what I expected',\n",
       " 'Lovable, Fun, Steamy Story! <3']"
      ]
     },
     "execution_count": 71,
     "metadata": {},
     "output_type": "execute_result"
    }
   ],
   "source": [
    "review_title_sample = books_dataset[\"validation\"][\"review_title\"][:10]\n",
    "review_title_sample"
   ]
  },
  {
   "cell_type": "code",
   "execution_count": 72,
   "id": "0bf69e76-dd3a-44a0-9f05-d0fa763feced",
   "metadata": {},
   "outputs": [
    {
     "data": {
      "text/plain": [
       "{'rouge1': AggregateScore(low=Score(precision=0.05096937274569631, recall=0.35, fmeasure=0.08728096877692004), mid=Score(precision=0.09279167493528678, recall=0.55, fmeasure=0.15397848395806654), high=Score(precision=0.14047691219515174, recall=0.725, fmeasure=0.22600059553608998)),\n",
       " 'rouge2': AggregateScore(low=Score(precision=0.007142857142857143, recall=0.05, fmeasure=0.013333333333333332), mid=Score(precision=0.03492063492063492, recall=0.24, fmeasure=0.05856643356643356), high=Score(precision=0.06190476190476189, recall=0.45, fmeasure=0.1062121212121212)),\n",
       " 'rougeL': AggregateScore(low=Score(precision=0.04648723267139814, recall=0.30812500000000015, fmeasure=0.07919069370513959), mid=Score(precision=0.0818836794553735, recall=0.4833333333333333, fmeasure=0.13668310171442308), high=Score(precision=0.12151808173849976, recall=0.65, fmeasure=0.19891784714697414)),\n",
       " 'rougeLsum': AggregateScore(low=Score(precision=0.04219431504935291, recall=0.29166666666666663, fmeasure=0.07211942991178695), mid=Score(precision=0.07931835728388695, recall=0.4666666666666666, fmeasure=0.1319211272565877), high=Score(precision=0.1188921607733435, recall=0.6416666666666667, fmeasure=0.1944962802242089))}"
      ]
     },
     "execution_count": 72,
     "metadata": {},
     "output_type": "execute_result"
    }
   ],
   "source": [
    "rouge_score.compute(predictions=summaries_sample, references=review_title_sample)"
   ]
  },
  {
   "cell_type": "code",
   "execution_count": 73,
   "id": "68325968-a503-4182-92d1-903eb47f9e07",
   "metadata": {},
   "outputs": [
    {
     "data": {
      "text/plain": [
       "{'rouge1': AggregateScore(low=Score(precision=0.35, recall=0.05096937274569631, fmeasure=0.08728096877692004), mid=Score(precision=0.55, recall=0.09279167493528678, fmeasure=0.15397848395806654), high=Score(precision=0.725, recall=0.14047691219515174, fmeasure=0.22600059553608998)),\n",
       " 'rouge2': AggregateScore(low=Score(precision=0.05, recall=0.007142857142857143, fmeasure=0.013333333333333332), mid=Score(precision=0.24, recall=0.03492063492063492, fmeasure=0.05856643356643356), high=Score(precision=0.45, recall=0.06190476190476189, fmeasure=0.1062121212121212)),\n",
       " 'rougeL': AggregateScore(low=Score(precision=0.30812500000000015, recall=0.04648723267139814, fmeasure=0.07919069370513959), mid=Score(precision=0.4833333333333333, recall=0.0818836794553735, fmeasure=0.13668310171442308), high=Score(precision=0.65, recall=0.12151808173849976, fmeasure=0.19891784714697414)),\n",
       " 'rougeLsum': AggregateScore(low=Score(precision=0.31666666666666665, recall=0.04499292974624254, fmeasure=0.07710275824918923), mid=Score(precision=0.4833333333333333, recall=0.08101056831229866, fmeasure=0.13472174755069494), high=Score(precision=0.6416666666666667, recall=0.11979928658002613, fmeasure=0.19486023402884609))}"
      ]
     },
     "execution_count": 73,
     "metadata": {},
     "output_type": "execute_result"
    }
   ],
   "source": [
    "rouge_score.compute(predictions=review_title_sample, references=summaries_sample)"
   ]
  },
  {
   "cell_type": "code",
   "execution_count": 74,
   "id": "27f94863-4d84-4327-b146-57bf969b0592",
   "metadata": {},
   "outputs": [],
   "source": [
    "def evaluate_baseline(dataset, metric):\n",
    "    summaries = [three_sentence_summary(text) for text in dataset[\"review_body\"]]\n",
    "    return metric.compute(predictions=summaries, references=dataset[\"review_title\"])"
   ]
  },
  {
   "cell_type": "code",
   "execution_count": 76,
   "id": "aa498575-1f45-472b-b9d7-bd4b3a17d0cd",
   "metadata": {},
   "outputs": [
    {
     "data": {
      "text/plain": [
       "{'rouge1': 16.87, 'rouge2': 8.83, 'rougeL': 15.53, 'rougeLsum': 15.9}"
      ]
     },
     "execution_count": 76,
     "metadata": {},
     "output_type": "execute_result"
    }
   ],
   "source": [
    "# Dictionary Operation https://dojang.io/mod/page/view.php?id=2213\n",
    "\n",
    "import pandas as pd\n",
    "\n",
    "score = evaluate_baseline(books_dataset[\"validation\"], rouge_score)\n",
    "rouge_names = [\"rouge1\", \"rouge2\", \"rougeL\", \"rougeLsum\"]\n",
    "#rouge_dict = dict((rn, round(score[rn].mid.fmeasure * 100, 2)) for rn in rouge_names)\n",
    "rouge_dict = dict([(rn, round(score[rn].mid.fmeasure * 100, 2)) for rn in rouge_names])\n",
    "rouge_dict\n"
   ]
  },
  {
   "cell_type": "code",
   "execution_count": 77,
   "id": "8c5984a3-131b-4996-b548-cd26cb52d2c9",
   "metadata": {},
   "outputs": [
    {
     "data": {
      "text/plain": [
       "[('rouge1', 16.87), ('rouge2', 8.83), ('rougeL', 15.53), ('rougeLsum', 15.9)]"
      ]
     },
     "execution_count": 77,
     "metadata": {},
     "output_type": "execute_result"
    }
   ],
   "source": [
    "[(rn, round(score[rn].mid.fmeasure * 100, 2)) for rn in rouge_names]"
   ]
  },
  {
   "cell_type": "code",
   "execution_count": 79,
   "id": "85c4b81d-0a0c-44bf-883c-0b6de2a52a3d",
   "metadata": {},
   "outputs": [
    {
     "data": {
      "text/plain": [
       "{'rouge1': 16.87, 'rouge2': 8.83, 'rougeL': 15.53, 'rougeLsum': 15.9}"
      ]
     },
     "execution_count": 79,
     "metadata": {},
     "output_type": "execute_result"
    }
   ],
   "source": [
    "dict((rn, round(score[rn].mid.fmeasure * 100, 2)) for rn in rouge_names)"
   ]
  },
  {
   "cell_type": "code",
   "execution_count": 80,
   "id": "fff99c0c-a4b4-48bc-b76d-dcef07817aef",
   "metadata": {},
   "outputs": [
    {
     "data": {
      "application/vnd.jupyter.widget-view+json": {
       "model_id": "12b27eb543934fd38b76fcca219ab543",
       "version_major": 2,
       "version_minor": 0
      },
      "text/plain": [
       "pytorch_model.bin:   0%|          | 0.00/1.20G [00:00<?, ?B/s]"
      ]
     },
     "metadata": {},
     "output_type": "display_data"
    },
    {
     "data": {
      "application/vnd.jupyter.widget-view+json": {
       "model_id": "e5ab8dd1292a46649695609557abd2f9",
       "version_major": 2,
       "version_minor": 0
      },
      "text/plain": [
       "generation_config.json:   0%|          | 0.00/147 [00:00<?, ?B/s]"
      ]
     },
     "metadata": {},
     "output_type": "display_data"
    }
   ],
   "source": [
    "from transformers import AutoModelForSeq2SeqLM\n",
    "\n",
    "model = AutoModelForSeq2SeqLM.from_pretrained(model_checkpoint)"
   ]
  },
  {
   "cell_type": "markdown",
   "id": "e610d060-5a47-430d-9045-6de9334a0d60",
   "metadata": {},
   "source": [
    "💡 다운스트림 작업에서 모델 미세 조정에 대한 경고가 표시되지 않는데 그 이유는 sequence-to-sequence 작업의 경우 네트워크의 모든 가중치를 유지하기 때문입니다. 이것을 3장의 텍스트 분류 모델과 비교해보세요. 여기서 사전 학습된 모델의 헤드(head)는 무작위로 초기화된 네트워크로 대체되었습니다."
   ]
  },
  {
   "cell_type": "code",
   "execution_count": 81,
   "id": "1ef72698-efb1-4edd-828e-3603d49cee5a",
   "metadata": {},
   "outputs": [
    {
     "data": {
      "application/vnd.jupyter.widget-view+json": {
       "model_id": "cc2f0db3d4774ac48aa4bd43ad0524b0",
       "version_major": 2,
       "version_minor": 0
      },
      "text/plain": [
       "VBox(children=(HTML(value='<center> <img\\nsrc=https://huggingface.co/front/assets/huggingface_logo-noborder.sv…"
      ]
     },
     "metadata": {},
     "output_type": "display_data"
    }
   ],
   "source": [
    "from huggingface_hub import notebook_login\n",
    "\n",
    "notebook_login()"
   ]
  },
  {
   "cell_type": "code",
   "execution_count": 82,
   "id": "8ae45940-775c-4050-9857-b932a224a156",
   "metadata": {},
   "outputs": [
    {
     "data": {
      "text/plain": [
       "DatasetDict({\n",
       "    train: Dataset({\n",
       "        features: ['Unnamed: 0', 'review_id', 'product_id', 'reviewer_id', 'stars', 'review_body', 'review_title', 'language', 'product_category'],\n",
       "        num_rows: 9672\n",
       "    })\n",
       "    validation: Dataset({\n",
       "        features: ['Unnamed: 0', 'review_id', 'product_id', 'reviewer_id', 'stars', 'review_body', 'review_title', 'language', 'product_category'],\n",
       "        num_rows: 238\n",
       "    })\n",
       "    test: Dataset({\n",
       "        features: ['Unnamed: 0', 'review_id', 'product_id', 'reviewer_id', 'stars', 'review_body', 'review_title', 'language', 'product_category'],\n",
       "        num_rows: 245\n",
       "    })\n",
       "})"
      ]
     },
     "execution_count": 82,
     "metadata": {},
     "output_type": "execute_result"
    }
   ],
   "source": [
    "books_dataset"
   ]
  },
  {
   "cell_type": "code",
   "execution_count": 83,
   "id": "a6fc1c97-5c28-4fc0-9f6f-5f636777ce0b",
   "metadata": {},
   "outputs": [
    {
     "name": "stderr",
     "output_type": "stream",
     "text": [
      "huggingface/tokenizers: The current process just got forked, after parallelism has already been used. Disabling parallelism to avoid deadlocks...\n",
      "To disable this warning, you can either:\n",
      "\t- Avoid using `tokenizers` before the fork if possible\n",
      "\t- Explicitly set the environment variable TOKENIZERS_PARALLELISM=(true | false)\n",
      "huggingface/tokenizers: The current process just got forked, after parallelism has already been used. Disabling parallelism to avoid deadlocks...\n",
      "To disable this warning, you can either:\n",
      "\t- Avoid using `tokenizers` before the fork if possible\n",
      "\t- Explicitly set the environment variable TOKENIZERS_PARALLELISM=(true | false)\n"
     ]
    }
   ],
   "source": [
    "from transformers import Seq2SeqTrainingArguments\n",
    "\n",
    "batch_size = 8\n",
    "num_train_epochs = 8\n",
    "# 매 에포크마다 training loss를 보여준다.\n",
    "logging_steps = len(tokenized_datasets[\"train\"]) // batch_size\n",
    "model_name = model_checkpoint.split(\"/\")[-1]\n",
    "\n",
    "args = Seq2SeqTrainingArguments(\n",
    "    output_dir=f\"{model_name}-finetuned-amazon-reviews-en-es\",\n",
    "    evaluation_strategy=\"epoch\",\n",
    "    learning_rate=5.6e-5,\n",
    "    per_device_train_batch_size=batch_size,\n",
    "    per_device_eval_batch_size=batch_size,\n",
    "    weight_decay=0.01,\n",
    "    save_total_limit=3,\n",
    "    num_train_epochs=num_train_epochs,\n",
    "    predict_with_generate=True,\n",
    "    logging_steps=logging_steps,\n",
    "   #push_to_hub=True,\n",
    ")"
   ]
  },
  {
   "cell_type": "code",
   "execution_count": 84,
   "id": "f6669bd0-ed8e-4b28-88ab-58713979718b",
   "metadata": {},
   "outputs": [],
   "source": [
    "import numpy as np\n",
    "\n",
    "\n",
    "def compute_metrics(eval_pred):\n",
    "    predictions, labels = eval_pred\n",
    "    # 생성된 요약을 텍스트로 디코딩\n",
    "    decoded_preds = tokenizer.batch_decode(predictions, skip_special_tokens=True)\n",
    "    # 레이블 내의 -100을 교체한다.\n",
    "    labels = np.where(labels != -100, labels, tokenizer.pad_token_id)\n",
    "    # 레퍼런스 요약을 텍스트로 디코딩\n",
    "    decoded_labels = tokenizer.batch_decode(labels, skip_special_tokens=True)\n",
    "    # ROUGE는 각 문장 다음에 개행문자를 요구한다.\n",
    "    decoded_preds = [\"\\n\".join(sent_tokenize(pred.strip())) for pred in decoded_preds]\n",
    "    decoded_labels = [\"\\n\".join(sent_tokenize(label.strip())) for label in decoded_labels]\n",
    "    # ROUGE 점수 계산\n",
    "    result = rouge_score.compute(\n",
    "        predictions=decoded_preds, references=decoded_labels, use_stemmer=True\n",
    "    )\n",
    "    # 중간 점수(median scores) 추출\n",
    "    result = {key: value.mid.fmeasure * 100 for key, value in result.items()}\n",
    "    return {k: round(v, 4) for k, v in result.items()}"
   ]
  },
  {
   "cell_type": "code",
   "execution_count": 85,
   "id": "f60b4a6f-6385-4304-9c84-51c7490fa448",
   "metadata": {},
   "outputs": [],
   "source": [
    "from transformers import DataCollatorForSeq2Seq\n",
    "\n",
    "data_collator = DataCollatorForSeq2Seq(tokenizer, model=model)"
   ]
  },
  {
   "cell_type": "code",
   "execution_count": 86,
   "id": "c577b98e-d682-4bd0-9470-6305f42a52d6",
   "metadata": {},
   "outputs": [
    {
     "data": {
      "text/plain": [
       "['Unnamed: 0',\n",
       " 'review_id',\n",
       " 'product_id',\n",
       " 'reviewer_id',\n",
       " 'stars',\n",
       " 'review_body',\n",
       " 'review_title',\n",
       " 'language',\n",
       " 'product_category']"
      ]
     },
     "execution_count": 86,
     "metadata": {},
     "output_type": "execute_result"
    }
   ],
   "source": [
    "books_dataset[\"train\"].column_names"
   ]
  },
  {
   "cell_type": "code",
   "execution_count": 87,
   "id": "0453116b-39f4-4fe1-b01a-df73d581665f",
   "metadata": {},
   "outputs": [
    {
     "data": {
      "text/plain": [
       "DatasetDict({\n",
       "    train: Dataset({\n",
       "        features: ['Unnamed: 0', 'review_id', 'product_id', 'reviewer_id', 'stars', 'review_body', 'review_title', 'language', 'product_category', 'input_ids', 'attention_mask', 'labels'],\n",
       "        num_rows: 9672\n",
       "    })\n",
       "    validation: Dataset({\n",
       "        features: ['Unnamed: 0', 'review_id', 'product_id', 'reviewer_id', 'stars', 'review_body', 'review_title', 'language', 'product_category', 'input_ids', 'attention_mask', 'labels'],\n",
       "        num_rows: 238\n",
       "    })\n",
       "    test: Dataset({\n",
       "        features: ['Unnamed: 0', 'review_id', 'product_id', 'reviewer_id', 'stars', 'review_body', 'review_title', 'language', 'product_category', 'input_ids', 'attention_mask', 'labels'],\n",
       "        num_rows: 245\n",
       "    })\n",
       "})"
      ]
     },
     "execution_count": 87,
     "metadata": {},
     "output_type": "execute_result"
    }
   ],
   "source": [
    "tokenized_datasets "
   ]
  },
  {
   "cell_type": "code",
   "execution_count": 88,
   "id": "39d3aa2f-b552-412e-9ee9-12c7b9dbed60",
   "metadata": {},
   "outputs": [
    {
     "data": {
      "text/plain": [
       "DatasetDict({\n",
       "    train: Dataset({\n",
       "        features: ['input_ids', 'attention_mask', 'labels'],\n",
       "        num_rows: 9672\n",
       "    })\n",
       "    validation: Dataset({\n",
       "        features: ['input_ids', 'attention_mask', 'labels'],\n",
       "        num_rows: 238\n",
       "    })\n",
       "    test: Dataset({\n",
       "        features: ['input_ids', 'attention_mask', 'labels'],\n",
       "        num_rows: 245\n",
       "    })\n",
       "})"
      ]
     },
     "execution_count": 88,
     "metadata": {},
     "output_type": "execute_result"
    }
   ],
   "source": [
    "tokenized_datasets = tokenized_datasets.remove_columns(\n",
    "    books_dataset[\"train\"].column_names\n",
    ")\n",
    "tokenized_datasets"
   ]
  },
  {
   "cell_type": "code",
   "execution_count": 89,
   "id": "2f36d1f6-a8e3-4e30-accb-f63fcdf9e579",
   "metadata": {},
   "outputs": [
    {
     "name": "stdout",
     "output_type": "stream",
     "text": [
      "{'input_ids': [[653, 1957, 1314, 261, 2757, 1280, 435, 259, 29166, 263, 269, 774, 5547, 1], [336, 6998, 481, 1150, 11807, 1590, 16339, 360, 261, 305, 3127, 2780, 261, 336, 35042, 345, 261, 3141, 136052, 285, 259, 266, 1425, 313, 2983, 106419, 272, 311, 4065, 260, 36874, 261, 1909, 259, 262, 22163, 639, 259, 7505, 332, 9066, 88398, 265, 5105, 6320, 4906, 261, 336, 21847, 345, 1590, 16339, 360, 260, 4630, 5897, 320, 146261, 260, 486, 21101, 1998, 3684, 2606, 2316, 609, 639, 3014, 11665, 416, 260, 336, 639, 7779, 259, 266, 1425, 57512, 9066, 5401, 260, 336, 259, 91451, 259, 262, 27613, 332, 259, 34779, 260, 1494, 639, 259, 262, 3005, 584, 62351, 288, 461, 6801, 22590, 62799, 3093, 259, 262, 20233, 3622, 304, 259, 11994, 259, 36260, 48971, 533, 418, 2725, 484, 27067, 1059, 260, 18646, 521, 259, 3659, 1063, 1388, 514, 3622, 3004, 26222, 260, 298, 109508, 276, 533, 1425, 288, 390, 259, 131690, 260, 336, 259, 25505, 609, 288, 390, 287, 3435, 336, 4906, 6338, 259, 6924, 259, 29426, 261, 2469, 351, 259, 109933, 260, 563, 15129, 261, 336, 277, 857, 36975, 345, 14355, 305, 259, 265, 111962, 288, 27039, 714, 260, 459, 25640, 259, 262, 5150, 4906, 260, 1]], 'attention_mask': [[1, 1, 1, 1, 1, 1, 1, 1, 1, 1, 1, 1, 1, 1], [1, 1, 1, 1, 1, 1, 1, 1, 1, 1, 1, 1, 1, 1, 1, 1, 1, 1, 1, 1, 1, 1, 1, 1, 1, 1, 1, 1, 1, 1, 1, 1, 1, 1, 1, 1, 1, 1, 1, 1, 1, 1, 1, 1, 1, 1, 1, 1, 1, 1, 1, 1, 1, 1, 1, 1, 1, 1, 1, 1, 1, 1, 1, 1, 1, 1, 1, 1, 1, 1, 1, 1, 1, 1, 1, 1, 1, 1, 1, 1, 1, 1, 1, 1, 1, 1, 1, 1, 1, 1, 1, 1, 1, 1, 1, 1, 1, 1, 1, 1, 1, 1, 1, 1, 1, 1, 1, 1, 1, 1, 1, 1, 1, 1, 1, 1, 1, 1, 1, 1, 1, 1, 1, 1, 1, 1, 1, 1, 1, 1, 1, 1, 1, 1, 1, 1, 1, 1, 1, 1, 1, 1, 1, 1, 1, 1, 1, 1, 1, 1, 1, 1, 1, 1, 1, 1, 1, 1, 1, 1, 1, 1, 1, 1, 1, 1, 1, 1, 1, 1, 1, 1, 1, 1, 1, 1, 1, 1, 1, 1, 1, 1, 1, 1, 1, 1, 1, 1]], 'labels': [[298, 259, 5994, 269, 774, 5547, 1], [298, 10380, 304, 13992, 291, 1]]}\n"
     ]
    }
   ],
   "source": [
    "print(tokenized_datasets[\"train\"][:2])"
   ]
  },
  {
   "cell_type": "code",
   "execution_count": 90,
   "id": "8332cff4-3c88-42aa-b80a-08a67da7b496",
   "metadata": {},
   "outputs": [
    {
     "data": {
      "text/plain": [
       "{'input_ids': tensor([[   653,   1957,   1314,    261,   2757,   1280,    435,    259,  29166,\n",
       "            263,    269,    774,   5547,      1,      0,      0,      0,      0,\n",
       "              0,      0,      0,      0,      0,      0,      0,      0,      0,\n",
       "              0,      0,      0,      0,      0,      0,      0,      0,      0,\n",
       "              0,      0,      0,      0,      0,      0,      0,      0,      0,\n",
       "              0,      0,      0,      0,      0,      0,      0,      0,      0,\n",
       "              0,      0,      0,      0,      0,      0,      0,      0,      0,\n",
       "              0,      0,      0,      0,      0,      0,      0,      0,      0,\n",
       "              0,      0,      0,      0,      0,      0,      0,      0,      0,\n",
       "              0,      0,      0,      0,      0,      0,      0,      0,      0,\n",
       "              0,      0,      0,      0,      0,      0,      0,      0,      0,\n",
       "              0,      0,      0,      0,      0,      0,      0,      0,      0,\n",
       "              0,      0,      0,      0,      0,      0,      0,      0,      0,\n",
       "              0,      0,      0,      0,      0,      0,      0,      0,      0,\n",
       "              0,      0,      0,      0,      0,      0,      0,      0,      0,\n",
       "              0,      0,      0,      0,      0,      0,      0,      0,      0,\n",
       "              0,      0,      0,      0,      0,      0,      0,      0,      0,\n",
       "              0,      0,      0,      0,      0,      0,      0,      0,      0,\n",
       "              0,      0,      0,      0,      0,      0,      0,      0,      0,\n",
       "              0,      0,      0,      0,      0,      0,      0,      0,      0,\n",
       "              0,      0,      0,      0,      0,      0,      0,      0],\n",
       "        [   336,   6998,    481,   1150,  11807,   1590,  16339,    360,    261,\n",
       "            305,   3127,   2780,    261,    336,  35042,    345,    261,   3141,\n",
       "         136052,    285,    259,    266,   1425,    313,   2983, 106419,    272,\n",
       "            311,   4065,    260,  36874,    261,   1909,    259,    262,  22163,\n",
       "            639,    259,   7505,    332,   9066,  88398,    265,   5105,   6320,\n",
       "           4906,    261,    336,  21847,    345,   1590,  16339,    360,    260,\n",
       "           4630,   5897,    320, 146261,    260,    486,  21101,   1998,   3684,\n",
       "           2606,   2316,    609,    639,   3014,  11665,    416,    260,    336,\n",
       "            639,   7779,    259,    266,   1425,  57512,   9066,   5401,    260,\n",
       "            336,    259,  91451,    259,    262,  27613,    332,    259,  34779,\n",
       "            260,   1494,    639,    259,    262,   3005,    584,  62351,    288,\n",
       "            461,   6801,  22590,  62799,   3093,    259,    262,  20233,   3622,\n",
       "            304,    259,  11994,    259,  36260,  48971,    533,    418,   2725,\n",
       "            484,  27067,   1059,    260,  18646,    521,    259,   3659,   1063,\n",
       "           1388,    514,   3622,   3004,  26222,    260,    298, 109508,    276,\n",
       "            533,   1425,    288,    390,    259, 131690,    260,    336,    259,\n",
       "          25505,    609,    288,    390,    287,   3435,    336,   4906,   6338,\n",
       "            259,   6924,    259,  29426,    261,   2469,    351,    259, 109933,\n",
       "            260,    563,  15129,    261,    336,    277,    857,  36975,    345,\n",
       "          14355,    305,    259,    265, 111962,    288,  27039,    714,    260,\n",
       "            459,  25640,    259,    262,   5150,   4906,    260,      1]]), 'attention_mask': tensor([[1, 1, 1, 1, 1, 1, 1, 1, 1, 1, 1, 1, 1, 1, 0, 0, 0, 0, 0, 0, 0, 0, 0, 0,\n",
       "         0, 0, 0, 0, 0, 0, 0, 0, 0, 0, 0, 0, 0, 0, 0, 0, 0, 0, 0, 0, 0, 0, 0, 0,\n",
       "         0, 0, 0, 0, 0, 0, 0, 0, 0, 0, 0, 0, 0, 0, 0, 0, 0, 0, 0, 0, 0, 0, 0, 0,\n",
       "         0, 0, 0, 0, 0, 0, 0, 0, 0, 0, 0, 0, 0, 0, 0, 0, 0, 0, 0, 0, 0, 0, 0, 0,\n",
       "         0, 0, 0, 0, 0, 0, 0, 0, 0, 0, 0, 0, 0, 0, 0, 0, 0, 0, 0, 0, 0, 0, 0, 0,\n",
       "         0, 0, 0, 0, 0, 0, 0, 0, 0, 0, 0, 0, 0, 0, 0, 0, 0, 0, 0, 0, 0, 0, 0, 0,\n",
       "         0, 0, 0, 0, 0, 0, 0, 0, 0, 0, 0, 0, 0, 0, 0, 0, 0, 0, 0, 0, 0, 0, 0, 0,\n",
       "         0, 0, 0, 0, 0, 0, 0, 0, 0, 0, 0, 0, 0, 0, 0, 0, 0, 0, 0, 0],\n",
       "        [1, 1, 1, 1, 1, 1, 1, 1, 1, 1, 1, 1, 1, 1, 1, 1, 1, 1, 1, 1, 1, 1, 1, 1,\n",
       "         1, 1, 1, 1, 1, 1, 1, 1, 1, 1, 1, 1, 1, 1, 1, 1, 1, 1, 1, 1, 1, 1, 1, 1,\n",
       "         1, 1, 1, 1, 1, 1, 1, 1, 1, 1, 1, 1, 1, 1, 1, 1, 1, 1, 1, 1, 1, 1, 1, 1,\n",
       "         1, 1, 1, 1, 1, 1, 1, 1, 1, 1, 1, 1, 1, 1, 1, 1, 1, 1, 1, 1, 1, 1, 1, 1,\n",
       "         1, 1, 1, 1, 1, 1, 1, 1, 1, 1, 1, 1, 1, 1, 1, 1, 1, 1, 1, 1, 1, 1, 1, 1,\n",
       "         1, 1, 1, 1, 1, 1, 1, 1, 1, 1, 1, 1, 1, 1, 1, 1, 1, 1, 1, 1, 1, 1, 1, 1,\n",
       "         1, 1, 1, 1, 1, 1, 1, 1, 1, 1, 1, 1, 1, 1, 1, 1, 1, 1, 1, 1, 1, 1, 1, 1,\n",
       "         1, 1, 1, 1, 1, 1, 1, 1, 1, 1, 1, 1, 1, 1, 1, 1, 1, 1, 1, 1]]), 'labels': tensor([[  298,   259,  5994,   269,   774,  5547,     1],\n",
       "        [  298, 10380,   304, 13992,   291,     1,  -100]]), 'decoder_input_ids': tensor([[    0,   298,   259,  5994,   269,   774,  5547],\n",
       "        [    0,   298, 10380,   304, 13992,   291,     1]])}"
      ]
     },
     "execution_count": 90,
     "metadata": {},
     "output_type": "execute_result"
    }
   ],
   "source": [
    "features = [tokenized_datasets[\"train\"][i] for i in range(2)]\n",
    "data_collator(features)"
   ]
  },
  {
   "cell_type": "code",
   "execution_count": 91,
   "id": "3c2a41ce-1e0d-4025-8cfa-850ac1ddd12a",
   "metadata": {},
   "outputs": [
    {
     "name": "stderr",
     "output_type": "stream",
     "text": [
      "/scratch/qualis/miniconda3/envs/transformer/lib/python3.10/site-packages/accelerate/accelerator.py:432: FutureWarning: Passing the following arguments to `Accelerator` is deprecated and will be removed in version 1.0 of Accelerate: dict_keys(['dispatch_batches', 'split_batches', 'even_batches', 'use_seedable_sampler']). Please pass an `accelerate.DataLoaderConfiguration` instead: \n",
      "dataloader_config = DataLoaderConfiguration(dispatch_batches=None, split_batches=False, even_batches=True, use_seedable_sampler=True)\n",
      "  warnings.warn(\n",
      "WARNING:accelerate.utils.other:Detected kernel version 3.10.0, which is below the recommended minimum of 5.5.0; this can cause the process to hang. It is recommended to upgrade the kernel to the minimum version or higher.\n"
     ]
    }
   ],
   "source": [
    "from transformers import Seq2SeqTrainer\n",
    "\n",
    "trainer = Seq2SeqTrainer(\n",
    "    model,\n",
    "    args,\n",
    "    train_dataset=tokenized_datasets[\"train\"],\n",
    "    eval_dataset=tokenized_datasets[\"validation\"],\n",
    "    data_collator=data_collator,\n",
    "    tokenizer=tokenizer,\n",
    "    compute_metrics=compute_metrics,\n",
    ")"
   ]
  },
  {
   "cell_type": "code",
   "execution_count": 92,
   "id": "87e8d6fc-c160-409c-ad2e-ea1c712f6c97",
   "metadata": {},
   "outputs": [
    {
     "data": {
      "text/html": [
       "\n",
       "    <div>\n",
       "      \n",
       "      <progress value='9672' max='9672' style='width:300px; height:20px; vertical-align: middle;'></progress>\n",
       "      [9672/9672 12:47, Epoch 8/8]\n",
       "    </div>\n",
       "    <table border=\"1\" class=\"dataframe\">\n",
       "  <thead>\n",
       " <tr style=\"text-align: left;\">\n",
       "      <th>Epoch</th>\n",
       "      <th>Training Loss</th>\n",
       "      <th>Validation Loss</th>\n",
       "      <th>Rouge1</th>\n",
       "      <th>Rouge2</th>\n",
       "      <th>Rougel</th>\n",
       "      <th>Rougelsum</th>\n",
       "    </tr>\n",
       "  </thead>\n",
       "  <tbody>\n",
       "    <tr>\n",
       "      <td>1</td>\n",
       "      <td>7.308100</td>\n",
       "      <td>3.313007</td>\n",
       "      <td>14.107500</td>\n",
       "      <td>5.821700</td>\n",
       "      <td>13.625600</td>\n",
       "      <td>13.529800</td>\n",
       "    </tr>\n",
       "    <tr>\n",
       "      <td>2</td>\n",
       "      <td>3.933000</td>\n",
       "      <td>3.186826</td>\n",
       "      <td>15.978800</td>\n",
       "      <td>7.700500</td>\n",
       "      <td>15.613100</td>\n",
       "      <td>15.334800</td>\n",
       "    </tr>\n",
       "    <tr>\n",
       "      <td>3</td>\n",
       "      <td>3.599700</td>\n",
       "      <td>3.121789</td>\n",
       "      <td>17.480400</td>\n",
       "      <td>8.372500</td>\n",
       "      <td>16.920600</td>\n",
       "      <td>16.851600</td>\n",
       "    </tr>\n",
       "    <tr>\n",
       "      <td>4</td>\n",
       "      <td>3.423500</td>\n",
       "      <td>3.071767</td>\n",
       "      <td>17.620800</td>\n",
       "      <td>8.709600</td>\n",
       "      <td>17.110200</td>\n",
       "      <td>16.881600</td>\n",
       "    </tr>\n",
       "    <tr>\n",
       "      <td>5</td>\n",
       "      <td>3.315800</td>\n",
       "      <td>3.048693</td>\n",
       "      <td>16.446400</td>\n",
       "      <td>7.738000</td>\n",
       "      <td>15.914600</td>\n",
       "      <td>15.763600</td>\n",
       "    </tr>\n",
       "    <tr>\n",
       "      <td>6</td>\n",
       "      <td>3.256800</td>\n",
       "      <td>3.040009</td>\n",
       "      <td>17.384000</td>\n",
       "      <td>8.538100</td>\n",
       "      <td>16.939100</td>\n",
       "      <td>16.738500</td>\n",
       "    </tr>\n",
       "    <tr>\n",
       "      <td>7</td>\n",
       "      <td>3.207000</td>\n",
       "      <td>3.028080</td>\n",
       "      <td>17.000000</td>\n",
       "      <td>8.081700</td>\n",
       "      <td>16.596500</td>\n",
       "      <td>16.353300</td>\n",
       "    </tr>\n",
       "    <tr>\n",
       "      <td>8</td>\n",
       "      <td>3.177900</td>\n",
       "      <td>3.031225</td>\n",
       "      <td>17.604000</td>\n",
       "      <td>8.627200</td>\n",
       "      <td>17.179600</td>\n",
       "      <td>16.945400</td>\n",
       "    </tr>\n",
       "  </tbody>\n",
       "</table><p>"
      ],
      "text/plain": [
       "<IPython.core.display.HTML object>"
      ]
     },
     "metadata": {},
     "output_type": "display_data"
    },
    {
     "name": "stderr",
     "output_type": "stream",
     "text": [
      "/scratch/qualis/miniconda3/envs/transformer/lib/python3.10/site-packages/transformers/generation/utils.py:1132: UserWarning: Using the model-agnostic default `max_length` (=20) to control the generation length. We recommend setting `max_new_tokens` to control the maximum length of the generation.\n",
      "  warnings.warn(\n",
      "/scratch/qualis/miniconda3/envs/transformer/lib/python3.10/site-packages/transformers/generation/utils.py:1132: UserWarning: Using the model-agnostic default `max_length` (=20) to control the generation length. We recommend setting `max_new_tokens` to control the maximum length of the generation.\n",
      "  warnings.warn(\n",
      "/scratch/qualis/miniconda3/envs/transformer/lib/python3.10/site-packages/transformers/generation/utils.py:1132: UserWarning: Using the model-agnostic default `max_length` (=20) to control the generation length. We recommend setting `max_new_tokens` to control the maximum length of the generation.\n",
      "  warnings.warn(\n",
      "/scratch/qualis/miniconda3/envs/transformer/lib/python3.10/site-packages/transformers/generation/utils.py:1132: UserWarning: Using the model-agnostic default `max_length` (=20) to control the generation length. We recommend setting `max_new_tokens` to control the maximum length of the generation.\n",
      "  warnings.warn(\n",
      "/scratch/qualis/miniconda3/envs/transformer/lib/python3.10/site-packages/transformers/generation/utils.py:1132: UserWarning: Using the model-agnostic default `max_length` (=20) to control the generation length. We recommend setting `max_new_tokens` to control the maximum length of the generation.\n",
      "  warnings.warn(\n",
      "/scratch/qualis/miniconda3/envs/transformer/lib/python3.10/site-packages/transformers/generation/utils.py:1132: UserWarning: Using the model-agnostic default `max_length` (=20) to control the generation length. We recommend setting `max_new_tokens` to control the maximum length of the generation.\n",
      "  warnings.warn(\n",
      "/scratch/qualis/miniconda3/envs/transformer/lib/python3.10/site-packages/transformers/generation/utils.py:1132: UserWarning: Using the model-agnostic default `max_length` (=20) to control the generation length. We recommend setting `max_new_tokens` to control the maximum length of the generation.\n",
      "  warnings.warn(\n",
      "/scratch/qualis/miniconda3/envs/transformer/lib/python3.10/site-packages/transformers/generation/utils.py:1132: UserWarning: Using the model-agnostic default `max_length` (=20) to control the generation length. We recommend setting `max_new_tokens` to control the maximum length of the generation.\n",
      "  warnings.warn(\n"
     ]
    },
    {
     "data": {
      "text/plain": [
       "TrainOutput(global_step=9672, training_loss=3.9027171549075295, metrics={'train_runtime': 773.7644, 'train_samples_per_second': 99.999, 'train_steps_per_second': 12.5, 'total_flos': 1.187112454422528e+16, 'train_loss': 3.9027171549075295, 'epoch': 8.0})"
      ]
     },
     "execution_count": 92,
     "metadata": {},
     "output_type": "execute_result"
    }
   ],
   "source": [
    "trainer.train()"
   ]
  },
  {
   "cell_type": "code",
   "execution_count": 93,
   "id": "e99c2e02-d215-410b-8e99-36a5bdbfd10e",
   "metadata": {},
   "outputs": [
    {
     "data": {
      "text/html": [
       "\n",
       "    <div>\n",
       "      \n",
       "      <progress value='30' max='30' style='width:300px; height:20px; vertical-align: middle;'></progress>\n",
       "      [30/30 00:05]\n",
       "    </div>\n",
       "    "
      ],
      "text/plain": [
       "<IPython.core.display.HTML object>"
      ]
     },
     "metadata": {},
     "output_type": "display_data"
    },
    {
     "data": {
      "text/plain": [
       "{'eval_loss': 3.0312254428863525,\n",
       " 'eval_rouge1': 17.604,\n",
       " 'eval_rouge2': 8.6272,\n",
       " 'eval_rougeL': 17.1796,\n",
       " 'eval_rougeLsum': 16.9454,\n",
       " 'eval_runtime': 5.4304,\n",
       " 'eval_samples_per_second': 43.828,\n",
       " 'eval_steps_per_second': 5.524,\n",
       " 'epoch': 8.0}"
      ]
     },
     "execution_count": 93,
     "metadata": {},
     "output_type": "execute_result"
    }
   ],
   "source": [
    "trainer.evaluate()"
   ]
  },
  {
   "cell_type": "code",
   "execution_count": null,
   "id": "bbdb7dad-cd3e-4926-acfd-8a1e9327d77a",
   "metadata": {},
   "outputs": [],
   "source": [
    "trainer.push_to_hub(commit_message=\"Training complete\", tags=\"summarization\")"
   ]
  },
  {
   "cell_type": "markdown",
   "id": "19d2e625-7909-4141-b9cb-9164868cbda6",
   "metadata": {},
   "source": [
    "이제 이 섹션을 마무리하기 전에, 🤗Accelerate에서 제공하는 저수준 기능을 사용하여 mT5를 미세 조정할 수 있는 방법을 살펴보겠습니다.\r\n",
    "#### \r\n",
    "🤗Accelerate를 이용한 mT5 미세조정\r\n",
    "🤗Accelerate로 모델을 미세 조정하는 것은 3장에서 본 텍스트 분류 예제와 매우 유사합니다. 주요 차이점은 학습 중에 요약을 명시적으로 생성하고 ROUGE 점수를 계산하는 방법을 정의해야 한다는 것입니다. Seq2SeqTrainer가 생성 과정을 처리했음을 기억하십시오. 🤗Accelerate에서 이 두 가지 요구 사항을 구현하는 방법을 살펴보겠습니다.\r\n",
    "\r\n",
    "학습을 위한 모든 것들을 준비하기\r\n",
    "가장 먼저 해야 할 일은 각 분할(split)에 대한 DataLoader를 만드는 것입니다. PyTorch dataloaders는 텐서(tensors) 배치를 입력으로 받기 때문에 데이터셋에서 형식을 \"torch\"로 설정해야 합니다:"
   ]
  },
  {
   "cell_type": "code",
   "execution_count": null,
   "id": "4451851d-45ea-4e35-8016-fd130f035ebe",
   "metadata": {},
   "outputs": [],
   "source": [
    "#tokenized_datasets.set_format(\"torch\")"
   ]
  },
  {
   "cell_type": "code",
   "execution_count": null,
   "id": "d128f23c-0270-40df-87b9-dea3ee2cfa0d",
   "metadata": {},
   "outputs": [],
   "source": [
    "model = AutoModelForSeq2SeqLM.from_pretrained(model_checkpoint)"
   ]
  },
  {
   "cell_type": "code",
   "execution_count": null,
   "id": "cbde5470-8c30-4efc-891e-bd76d2bab791",
   "metadata": {},
   "outputs": [],
   "source": [
    "from torch.utils.data import DataLoader\n",
    "\n",
    "batch_size = 8\n",
    "train_dataloader = DataLoader(\n",
    "    tokenized_datasets[\"train\"],\n",
    "    shuffle=True,\n",
    "    collate_fn=data_collator,\n",
    "    batch_size=batch_size,\n",
    ")\n",
    "eval_dataloader = DataLoader(\n",
    "    tokenized_datasets[\"validation\"], \n",
    "    collate_fn=data_collator, \n",
    "    batch_size=batch_size\n",
    ")"
   ]
  },
  {
   "cell_type": "code",
   "execution_count": null,
   "id": "904effab-27d1-4e22-89d6-aacec9c17e5f",
   "metadata": {},
   "outputs": [],
   "source": [
    "from torch.optim import AdamW\n",
    "\n",
    "optimizer = AdamW(model.parameters(), lr=2e-5)"
   ]
  },
  {
   "cell_type": "code",
   "execution_count": null,
   "id": "ef7531f5-0c90-4120-b9a2-98a9a2e3cd89",
   "metadata": {},
   "outputs": [],
   "source": [
    "from accelerate import Accelerator\n",
    "\n",
    "accelerator = Accelerator()\n",
    "model, optimizer, train_dataloader, eval_dataloader = accelerator.prepare(\n",
    "    model, optimizer, train_dataloader, eval_dataloader\n",
    ")"
   ]
  },
  {
   "cell_type": "code",
   "execution_count": null,
   "id": "f19af9a7-6699-49b6-b667-26df81424f79",
   "metadata": {},
   "outputs": [],
   "source": [
    "from transformers import get_scheduler\n",
    "\n",
    "num_train_epochs = 10\n",
    "num_update_steps_per_epoch = len(train_dataloader)\n",
    "num_training_steps = num_train_epochs * num_update_steps_per_epoch\n",
    "\n",
    "lr_scheduler = get_scheduler(\n",
    "    \"linear\",\n",
    "    optimizer=optimizer,\n",
    "    num_warmup_steps=0,\n",
    "    num_training_steps=num_training_steps,\n",
    ")"
   ]
  },
  {
   "cell_type": "code",
   "execution_count": null,
   "id": "ec1f16bf-89ae-4ee3-b6d2-0f81b2f91282",
   "metadata": {},
   "outputs": [],
   "source": [
    "def postprocess_text(preds, labels):\n",
    "    preds = [pred.strip() for pred in preds]\n",
    "    labels = [label.strip() for label in labels]\n",
    "\n",
    "    # ROUGE는 각 문장마다 개행문자가 들어갈 것을 요구한다.\n",
    "    preds = [\"\\n\".join(nltk.sent_tokenize(pred)) for pred in preds]\n",
    "    labels = [\"\\n\".join(nltk.sent_tokenize(label)) for label in labels]\n",
    "\n",
    "    return preds, labels"
   ]
  },
  {
   "cell_type": "code",
   "execution_count": null,
   "id": "627b85e8-534c-4af9-b25e-10956eec13f7",
   "metadata": {},
   "outputs": [],
   "source": [
    "#from huggingface_hub import get_full_repo_name\n",
    "\n",
    "#model_name = \"test-bert-finetuned-squad-accelerate\"\n",
    "#repo_name = get_full_repo_name(model_name)\n",
    "#repo_name\n"
   ]
  },
  {
   "cell_type": "code",
   "execution_count": null,
   "id": "3d63d176-27c1-4778-bcd9-251421990cff",
   "metadata": {},
   "outputs": [],
   "source": [
    "#from huggingface_hub import Repository\n",
    "\n",
    "output_dir = \"results-mt5-finetuned-squad-accelerate\"\n",
    "#repo = Repository(output_dir, clone_from=repo_name)"
   ]
  },
  {
   "cell_type": "code",
   "execution_count": null,
   "id": "d898e7b4-9970-49d9-8cb0-41467f603b7e",
   "metadata": {},
   "outputs": [],
   "source": [
    "from tqdm.auto import tqdm\n",
    "import torch\n",
    "import numpy as np\n",
    "\n",
    "progress_bar = tqdm(range(num_training_steps))\n",
    "\n",
    "for epoch in range(num_train_epochs):\n",
    "    # 학습\n",
    "    model.train()\n",
    "    for step, batch in enumerate(train_dataloader):\n",
    "        outputs = model(**batch)\n",
    "        loss = outputs.loss\n",
    "        accelerator.backward(loss)\n",
    "\n",
    "        optimizer.step()\n",
    "        lr_scheduler.step()\n",
    "        optimizer.zero_grad()\n",
    "        progress_bar.update(1)\n",
    "\n",
    "    # 평가\n",
    "    model.eval()\n",
    "    for step, batch in enumerate(eval_dataloader):\n",
    "        with torch.no_grad():\n",
    "            generated_tokens = accelerator.unwrap_model(model).generate(\n",
    "                batch[\"input_ids\"],\n",
    "                attention_mask=batch[\"attention_mask\"],\n",
    "            )\n",
    "\n",
    "            generated_tokens = accelerator.pad_across_processes(\n",
    "                generated_tokens, dim=1, pad_index=tokenizer.pad_token_id\n",
    "            )\n",
    "            labels = batch[\"labels\"]\n",
    "\n",
    "            # 만일 최대 길이로 패딩하지 않았으면 레이블도 역시 패딩해야 한다.\n",
    "            labels = accelerator.pad_across_processes(\n",
    "                batch[\"labels\"], dim=1, pad_index=tokenizer.pad_token_id\n",
    "            )\n",
    "\n",
    "            generated_tokens = accelerator.gather(generated_tokens).cpu().numpy()\n",
    "            labels = accelerator.gather(labels).cpu().numpy()\n",
    "\n",
    "            # 레이블 내의 -100을 모두 교체한다.\n",
    "            labels = np.where(labels != -100, labels, tokenizer.pad_token_id)\n",
    "            if isinstance(generated_tokens, tuple):\n",
    "                generated_tokens = generated_tokens[0]\n",
    "            decoded_preds = tokenizer.batch_decode(\n",
    "                generated_tokens, skip_special_tokens=True\n",
    "            )\n",
    "            decoded_labels = tokenizer.batch_decode(labels, skip_special_tokens=True)\n",
    "\n",
    "            decoded_preds, decoded_labels = postprocess_text(\n",
    "                decoded_preds, decoded_labels\n",
    "            )\n",
    "\n",
    "            rouge_score.add_batch(predictions=decoded_preds, references=decoded_labels)\n",
    "\n",
    "    # 메트릭 계산\n",
    "    result = rouge_score.compute()\n",
    "    # 중간값 ROUGE 점수를 추출\n",
    "    result = {key: value.mid.fmeasure * 100 for key, value in result.items()}\n",
    "    result = {k: round(v, 4) for k, v in result.items()}\n",
    "    print(f\"Epoch {epoch}:\", result)\n",
    "\n",
    "    # 저장 및 업로드\n",
    "    accelerator.wait_for_everyone()\n",
    "    unwrapped_model = accelerator.unwrap_model(model)\n",
    "    unwrapped_model.save_pretrained(output_dir, save_function=accelerator.save)\n",
    "    if accelerator.is_main_process:\n",
    "        tokenizer.save_pretrained(output_dir)\n",
    "        #repo.push_to_hub(\n",
    "        #    commit_message=f\"Training in progress epoch {epoch}\", blocking=False\n",
    "        #)\n"
   ]
  },
  {
   "cell_type": "code",
   "execution_count": null,
   "id": "a5a7b48e-3f06-4686-8015-237e2faa40bf",
   "metadata": {},
   "outputs": [],
   "source": [
    "from transformers import pipeline\n",
    "\n",
    "hub_model_id = \"hwang2006/mt5-small-finetuned-amazon-reviews-en-es\"\n",
    "summarizer = pipeline(\"summarization\", model=hub_model_id)\n"
   ]
  },
  {
   "cell_type": "code",
   "execution_count": null,
   "id": "25b67150-e6ac-4f18-b6a4-11f676267a77",
   "metadata": {},
   "outputs": [],
   "source": [
    "def print_summary(idx):\n",
    "    review = books_dataset[\"test\"][idx][\"review_body\"]\n",
    "    title = books_dataset[\"test\"][idx][\"review_title\"]\n",
    "    summary = summarizer(books_dataset[\"test\"][idx][\"review_body\"])[0][\"summary_text\"]\n",
    "    print(f\"'>>> Review: {review}'\")\n",
    "    print(f\"\\n'>>> Title: {title}'\")\n",
    "    print(f\"\\n'>>> Summary: {summary}'\")"
   ]
  },
  {
   "cell_type": "code",
   "execution_count": null,
   "id": "31ae6823-20c3-4225-aa1b-9ca27e46cef7",
   "metadata": {},
   "outputs": [],
   "source": [
    "print_summary(100)"
   ]
  },
  {
   "cell_type": "code",
   "execution_count": null,
   "id": "edf34cd7-b29b-4993-ae77-079a4076e82f",
   "metadata": {},
   "outputs": [],
   "source": [
    "print_summary(2)"
   ]
  },
  {
   "cell_type": "code",
   "execution_count": null,
   "id": "52718ad7-c6c8-40d5-b19c-fd06edbba462",
   "metadata": {},
   "outputs": [],
   "source": [
    "from datasets import load_dataset\n",
    "\n",
    "data_files = {\n",
    "    \"train\": \"amazon_reviews-multi/train.csv.zip\",\n",
    "    \"validation\": \"amazon_reviews-multi/validation.csv.zip\",\n",
    "    \"test\": \"amazon_reviews-multi/test.csv.zip\",\n",
    "}\n",
    "\n",
    "amazon_reviews_multi_datasets = load_dataset(\"csv\", data_files=data_files)\n",
    "\n",
    "spanish_dataset = amazon_reviews_multi_datasets.filter(lambda x: x[\"language\"] == \"es\")\n",
    "english_dataset = amazon_reviews_multi_datasets.filter(lambda x: x[\"language\"] == \"en\")\n",
    "\n",
    "def filter_books(example):\n",
    "    return (\n",
    "        example[\"product_category\"] == \"book\"\n",
    "        or example[\"product_category\"] == \"digital_ebook_purchase\"\n",
    "    )\n",
    "\n",
    "\n",
    "spanish_books = spanish_dataset.filter(filter_books)\n",
    "english_books = english_dataset.filter(filter_books)\n",
    "\n",
    "from datasets import concatenate_datasets, DatasetDict\n",
    "\n",
    "books_dataset = DatasetDict()\n",
    "\n",
    "for split in english_books.keys():\n",
    "    books_dataset[split] = concatenate_datasets(\n",
    "        [english_books[split], spanish_books[split]]\n",
    "    )\n",
    "    books_dataset[split] = books_dataset[split].shuffle(seed=42)\n",
    "\n",
    "from transformers import AutoTokenizer\n",
    "\n",
    "model_checkpoint = \"google/mt5-small\"\n",
    "tokenizer = AutoTokenizer.from_pretrained(model_checkpoint)\n",
    "\n",
    "max_input_length = 512\n",
    "max_target_length = 30\n",
    "\n",
    "def preprocess_function(examples):\n",
    "    model_inputs = tokenizer(\n",
    "        examples[\"review_body\"], max_length=max_input_length, truncation=True\n",
    "    )\n",
    "    # 타겟을 위한 토크나이저 설정\n",
    "    with tokenizer.as_target_tokenizer():\n",
    "        labels = tokenizer(\n",
    "            examples[\"review_title\"], max_length=max_target_length, truncation=True\n",
    "        )\n",
    "\n",
    "    model_inputs[\"labels\"] = labels[\"input_ids\"]\n",
    "    return model_inputs\n",
    "\n",
    "tokenized_datasets = books_dataset.map(preprocess_function, batched=True)\n",
    "#print(tokenized_datasets)\n",
    "#DatasetDict({\n",
    "#    train: Dataset({\n",
    "#        features: ['Unnamed: 0', 'review_id', 'product_id', 'reviewer_id', 'stars', 'review_body', 'review_title', 'language', 'product_category', 'input_ids', 'attention_mask', 'labels'],\n",
    "#        num_rows: 17612\n",
    "#    })\n",
    "#    validation: Dataset({\n",
    "#        features: ['Unnamed: 0', 'review_id', 'product_id', 'reviewer_id', 'stars', 'review_body', 'review_title', 'language', 'product_category', 'input_ids', 'attention_mask', 'labels'],\n",
    "#        num_rows: 424\n",
    "#    })\n",
    "#    test: Dataset({\n",
    "#        features: ['Unnamed: 0', 'review_id', 'product_id', 'reviewer_id', 'stars', 'review_body', 'review_title', 'language', 'product_category', 'input_ids', 'attention_mask', 'labels'],\n",
    "#        num_rows: 442\n",
    "#    })\n",
    "#})\n",
    "\n",
    "from datasets import load_metric\n",
    "\n",
    "rouge_score = load_metric(\"rouge\")\n",
    "\n",
    "from nltk.tokenize import sent_tokenize\n",
    "\n",
    "#def three_sentence_summary(text):\n",
    "#    return \"\\n\".join(sent_tokenize(text)[:3])\n",
    "\n",
    "#def evaluate_baseline(dataset, metric):\n",
    "#    summaries = [three_sentence_summary(text) for text in dataset[\"review_body\"]]\n",
    "#    return metric.compute(predictions=summaries, references=dataset[\"review_title\"])\n",
    "\n",
    "from transformers import AutoModelForSeq2SeqLM\n",
    "\n",
    "model = AutoModelForSeq2SeqLM.from_pretrained(model_checkpoint)\n",
    "\n",
    "from transformers import Seq2SeqTrainingArguments\n",
    "\n",
    "batch_size = 8\n",
    "num_train_epochs = 8\n",
    "# 매 에포크마다 training loss를 보여준다.\n",
    "logging_steps = len(tokenized_datasets[\"train\"]) // batch_size\n",
    "model_name = model_checkpoint.split(\"/\")[-1]\n",
    "\n",
    "args = Seq2SeqTrainingArguments(\n",
    "    output_dir=f\"{model_name}-finetuned-amazon-en-es\",\n",
    "    evaluation_strategy=\"epoch\",\n",
    "    learning_rate=5.6e-5,\n",
    "    per_device_train_batch_size=batch_size,\n",
    "    per_device_eval_batch_size=batch_size,\n",
    "    weight_decay=0.01,\n",
    "    save_total_limit=3,\n",
    "    num_train_epochs=num_train_epochs,\n",
    "    predict_with_generate=True,\n",
    "    #logging_steps=logging_steps,\n",
    "    #push_to_hub=True,\n",
    ")\n",
    "\n",
    "import numpy as np\n",
    "\n",
    "def compute_metrics(eval_pred):\n",
    "    predictions, labels = eval_pred\n",
    "    # 생성된 요약을 텍스트로 디코딩\n",
    "    decoded_preds = tokenizer.batch_decode(predictions, skip_special_tokens=True)\n",
    "    # 레이블 내의 -100을 교체한다.\n",
    "    labels = np.where(labels != -100, labels, tokenizer.pad_token_id)\n",
    "    # 레퍼런스 요약을 텍스트로 디코딩\n",
    "    decoded_labels = tokenizer.batch_decode(labels, skip_special_tokens=True)\n",
    "    # ROUGE는 각 문장 다음에 개행문자를 요구한다.\n",
    "    decoded_preds = [\"\\n\".join(sent_tokenize(pred.strip())) for pred in decoded_preds]\n",
    "    decoded_labels = [\"\\n\".join(sent_tokenize(label.strip())) for label in decoded_labels]\n",
    "    # ROUGE 점수 계산\n",
    "    result = rouge_score.compute(\n",
    "        predictions=decoded_preds, references=decoded_labels, use_stemmer=True\n",
    "    )\n",
    "    # 중간 점수(median scores) 추출\n",
    "    result = {key: value.mid.fmeasure * 100 for key, value in result.items()}\n",
    "    return {k: round(v, 4) for k, v in result.items()}\n",
    "\n",
    "from transformers import DataCollatorForSeq2Seq\n",
    "\n",
    "data_collator = DataCollatorForSeq2Seq(tokenizer, model=model)\n",
    "\n",
    "from transformers import Seq2SeqTrainer\n",
    "\n",
    "trainer = Seq2SeqTrainer(\n",
    "    model,\n",
    "    args,\n",
    "    train_dataset=tokenized_datasets[\"train\"],\n",
    "    eval_dataset=tokenized_datasets[\"validation\"],\n",
    "    data_collator=data_collator,\n",
    "    tokenizer=tokenizer,\n",
    "    compute_metrics=compute_metrics,\n",
    ")\n",
    "\n",
    "trainer.train()\n",
    "\n",
    "trainer.evaluate()\n",
    "\n",
    "#trainer.push_to_hub(commit_message=\"Training complete\", tags=\"summarization\")\n"
   ]
  },
  {
   "cell_type": "code",
   "execution_count": null,
   "id": "6c0b3c17-3406-42fe-89da-69c9cb6260ab",
   "metadata": {},
   "outputs": [],
   "source": [
    "!pip show sentencepiece"
   ]
  },
  {
   "cell_type": "code",
   "execution_count": null,
   "id": "8388edef-a00f-4be4-9aed-e2db9ad81df6",
   "metadata": {},
   "outputs": [],
   "source": [
    "from datasets import load_dataset\n",
    "\n",
    "data_files = {\n",
    "    \"train\": \"amazon_reviews-multi/train.csv.zip\",\n",
    "    \"validation\": \"amazon_reviews-multi/validation.csv.zip\",\n",
    "    \"test\": \"amazon_reviews-multi/test.csv.zip\",\n",
    "}\n",
    "\n",
    "amazon_reviews_multi_datasets = load_dataset(\"csv\", data_files=data_files)\n",
    "\n",
    "spanish_dataset = amazon_reviews_multi_datasets.filter(lambda x: x[\"language\"] == \"es\")\n",
    "english_dataset = amazon_reviews_multi_datasets.filter(lambda x: x[\"language\"] == \"en\")\n",
    "\n",
    "def filter_books(example):\n",
    "    return (\n",
    "        example[\"product_category\"] == \"book\"\n",
    "        or example[\"product_category\"] == \"digital_ebook_purchase\"\n",
    "    )\n",
    "\n",
    "\n",
    "spanish_books = spanish_dataset.filter(filter_books)\n",
    "english_books = english_dataset.filter(filter_books)\n",
    "\n",
    "from datasets import concatenate_datasets, DatasetDict\n",
    "\n",
    "books_dataset = DatasetDict()\n",
    "\n",
    "for split in english_books.keys():\n",
    "    books_dataset[split] = concatenate_datasets(\n",
    "        [english_books[split], spanish_books[split]]\n",
    "    )\n",
    "    books_dataset[split] = books_dataset[split].shuffle(seed=42)\n",
    "\n",
    "from transformers import AutoTokenizer\n",
    "tokenizer = AutoTokenizer.from_pretrained(model_checkpoint)\n",
    "\n",
    "model_checkpoint = \"google/mt5-small\"\n",
    "\n",
    "max_input_length = 512\n",
    "max_target_length = 30\n",
    "\n",
    "def preprocess_function(examples):\n",
    "    model_inputs = tokenizer(\n",
    "        examples[\"review_body\"], max_length=max_input_length, truncation=True\n",
    "    )\n",
    "    # 타겟을 위한 토크나이저 설정\n",
    "    with tokenizer.as_target_tokenizer():\n",
    "        labels = tokenizer(\n",
    "            examples[\"review_title\"], max_length=max_target_length, truncation=True\n",
    "        )\n",
    "\n",
    "    model_inputs[\"labels\"] = labels[\"input_ids\"]\n",
    "    return model_inputs\n",
    "\n",
    "tokenized_datasets = books_dataset.map(preprocess_function, batched=True)\n",
    "\n",
    "from datasets import load_metric\n",
    "\n",
    "rouge_score = load_metric(\"rouge\")\n",
    "\n",
    "from nltk.tokenize import sent_tokenize\n",
    "\n",
    "#def three_sentence_summary(text):\n",
    "#    return \"\\n\".join(sent_tokenize(text)[:3])\n",
    "\n",
    "#def evaluate_baseline(dataset, metric):\n",
    "#    summaries = [three_sentence_summary(text) for text in dataset[\"review_body\"]]\n",
    "#    return metric.compute(predictions=summaries, references=dataset[\"review_title\"])\n",
    "\n",
    "#tokenized_datasets.set_format(\"torch\")\n",
    "\n",
    "\n",
    "from transformers import AutoModelForSeq2SeqLM\n",
    "\n",
    "model = AutoModelForSeq2SeqLM.from_pretrained(model_checkpoint)\n",
    "\n",
    "from torch.utils.data import DataLoader\n",
    "\n",
    "from transformers import DataCollatorForSeq2Seq\n",
    "\n",
    "data_collator = DataCollatorForSeq2Seq(tokenizer, model=model)\n",
    "\n",
    "tokenized_datasets = tokenized_datasets.remove_columns(\n",
    "    books_dataset[\"train\"].column_names\n",
    ")\n",
    "\n",
    "\n",
    "batch_size = 8\n",
    "train_dataloader = DataLoader(\n",
    "    tokenized_datasets[\"train\"],\n",
    "    shuffle=True,\n",
    "    collate_fn=data_collator,\n",
    "    batch_size=batch_size,\n",
    ")\n",
    "eval_dataloader = DataLoader(\n",
    "    tokenized_datasets[\"validation\"], \n",
    "    collate_fn=data_collator, \n",
    "    batch_size=batch_size\n",
    ")\n",
    "\n",
    "from torch.optim import AdamW\n",
    "\n",
    "optimizer = AdamW(model.parameters(), lr=2e-5)\n",
    "\n",
    "from accelerate import Accelerator\n",
    "\n",
    "accelerator = Accelerator()\n",
    "model, optimizer, train_dataloader, eval_dataloader = accelerator.prepare(\n",
    "    model, optimizer, train_dataloader, eval_dataloader\n",
    ")\n",
    "\n",
    "from transformers import get_scheduler\n",
    "\n",
    "#num_train_epochs = 10\n",
    "num_train_epochs = 8\n",
    "num_update_steps_per_epoch = len(train_dataloader)\n",
    "num_training_steps = num_train_epochs * num_update_steps_per_epoch\n",
    "\n",
    "lr_scheduler = get_scheduler(\n",
    "    \"linear\",\n",
    "    optimizer=optimizer,\n",
    "    num_warmup_steps=0,\n",
    "    num_training_steps=num_training_steps,\n",
    ")\n",
    "\n",
    "def postprocess_text(preds, labels):\n",
    "    preds = [pred.strip() for pred in preds]\n",
    "    labels = [label.strip() for label in labels]\n",
    "\n",
    "    # ROUGE는 각 문장마다 개행문자가 들어갈 것을 요구한다.\n",
    "    preds = [\"\\n\".join(sent_tokenize(pred)) for pred in preds]\n",
    "    labels = [\"\\n\".join(sent_tokenize(label)) for label in labels]\n",
    "\n",
    "    return preds, labels\n",
    "\n",
    "#from huggingface_hub import get_full_repo_name\n",
    "\n",
    "#model_name = \"test-bert-finetuned-squad-accelerate\"\n",
    "#repo_name = get_full_repo_name(model_name)\n",
    "#repo_name\n",
    "\n",
    "#from huggingface_hub import Repository\n",
    "\n",
    "output_dir = \"results-mt5-finetuned-squad-accelerate\"\n",
    "#repo = Repository(output_dir, clone_from=repo_name)\n",
    "\n",
    "from tqdm.auto import tqdm\n",
    "import torch\n",
    "import numpy as np\n",
    "\n",
    "progress_bar = tqdm(range(num_training_steps))\n",
    "\n",
    "for epoch in range(num_train_epochs):\n",
    "    # 학습\n",
    "    model.train()\n",
    "    for step, batch in enumerate(train_dataloader):\n",
    "        outputs = model(**batch)\n",
    "        loss = outputs.loss\n",
    "        accelerator.backward(loss)\n",
    "\n",
    "        optimizer.step()\n",
    "        lr_scheduler.step()\n",
    "        optimizer.zero_grad()\n",
    "        progress_bar.update(1)\n",
    "\n",
    "    # 평가\n",
    "    model.eval()\n",
    "    for step, batch in enumerate(eval_dataloader):\n",
    "        with torch.no_grad():\n",
    "            generated_tokens = accelerator.unwrap_model(model).generate(\n",
    "                batch[\"input_ids\"],\n",
    "                attention_mask=batch[\"attention_mask\"],\n",
    "            )\n",
    "\n",
    "            generated_tokens = accelerator.pad_across_processes(\n",
    "                generated_tokens, dim=1, pad_index=tokenizer.pad_token_id\n",
    "            )\n",
    "            labels = batch[\"labels\"]\n",
    "\n",
    "            # 만일 최대 길이로 패딩하지 않았으면 레이블도 역시 패딩해야 한다.\n",
    "            labels = accelerator.pad_across_processes(\n",
    "                batch[\"labels\"], dim=1, pad_index=tokenizer.pad_token_id\n",
    "            )\n",
    "\n",
    "            generated_tokens = accelerator.gather(generated_tokens).cpu().numpy()\n",
    "            labels = accelerator.gather(labels).cpu().numpy()\n",
    "\n",
    "            # 레이블 내의 -100을 모두 교체한다.\n",
    "            labels = np.where(labels != -100, labels, tokenizer.pad_token_id)\n",
    "            if isinstance(generated_tokens, tuple):\n",
    "                generated_tokens = generated_tokens[0]\n",
    "            decoded_preds = tokenizer.batch_decode(\n",
    "                generated_tokens, skip_special_tokens=True\n",
    "            )\n",
    "            decoded_labels = tokenizer.batch_decode(labels, skip_special_tokens=True)\n",
    "\n",
    "            decoded_preds, decoded_labels = postprocess_text(\n",
    "                decoded_preds, decoded_labels\n",
    "            )\n",
    "\n",
    "            rouge_score.add_batch(predictions=decoded_preds, references=decoded_labels)\n",
    "\n",
    "    # 메트릭 계산\n",
    "    result = rouge_score.compute()\n",
    "    # 중간값 ROUGE 점수를 추출\n",
    "    result = {key: value.mid.fmeasure * 100 for key, value in result.items()}\n",
    "    result = {k: round(v, 4) for k, v in result.items()}\n",
    "    print(f\"Epoch {epoch}:\", result)\n",
    "\n",
    "    # 저장 및 업로드\n",
    "    accelerator.wait_for_everyone()\n",
    "    unwrapped_model = accelerator.unwrap_model(model)\n",
    "    unwrapped_model.save_pretrained(output_dir, save_function=accelerator.save)\n",
    "    if accelerator.is_main_process:\n",
    "        tokenizer.save_pretrained(output_dir)\n",
    "        #repo.push_to_hub(\n",
    "        #    commit_message=f\"Training in progress epoch {epoch}\", blocking=False\n",
    "        #)"
   ]
  },
  {
   "cell_type": "code",
   "execution_count": null,
   "id": "5199f88c-77ad-4b63-ad64-f7c5e8e2e20e",
   "metadata": {},
   "outputs": [],
   "source": [
    "import torch\n",
    "import numpy as np\n",
    "\n",
    "from datasets import load_dataset, concatenate_datasets, DatasetDict, load_metric\n",
    "from transformers import AutoTokenizer, AutoModelForSeq2SeqLM, DataCollatorForSeq2Seq, get_scheduler\n",
    "\n",
    "from nltk.tokenize import sent_tokenize\n",
    "\n",
    "from torch.utils.data import DataLoader\n",
    "from torch.optim import AdamW\n",
    "from accelerate import Accelerator\n",
    "\n",
    "from tqdm.auto import tqdm\n",
    "\n",
    "data_files = {\n",
    "    \"train\": \"amazon_reviews-multi/train.csv.zip\",\n",
    "    \"validation\": \"amazon_reviews-multi/validation.csv.zip\",\n",
    "    \"test\": \"amazon_reviews-multi/test.csv.zip\",\n",
    "}\n",
    "\n",
    "amazon_reviews_multi_datasets = load_dataset(\"csv\", data_files=data_files)\n",
    "\n",
    "spanish_dataset = amazon_reviews_multi_datasets.filter(lambda x: x[\"language\"] == \"es\")\n",
    "english_dataset = amazon_reviews_multi_datasets.filter(lambda x: x[\"language\"] == \"en\")\n",
    "\n",
    "def filter_books(example):\n",
    "    return (\n",
    "        example[\"product_category\"] == \"book\"\n",
    "        or example[\"product_category\"] == \"digital_ebook_purchase\"\n",
    "    )\n",
    "\n",
    "\n",
    "spanish_books = spanish_dataset.filter(filter_books)\n",
    "english_books = english_dataset.filter(filter_books)\n",
    "\n",
    "books_dataset = DatasetDict()\n",
    "\n",
    "for split in english_books.keys():\n",
    "    books_dataset[split] = concatenate_datasets(\n",
    "        [english_books[split], spanish_books[split]]\n",
    "    )\n",
    "    books_dataset[split] = books_dataset[split].shuffle(seed=42)\n",
    "\n",
    "model_checkpoint = \"google/mt5-small\"\n",
    "\n",
    "def get_dataloaders(accelerator: Accelerator, model, batch_size: int = 32):\n",
    "\n",
    "    max_input_length = 512\n",
    "    max_target_length = 30\n",
    "\n",
    "    tokenizer = AutoTokenizer.from_pretrained(model_checkpoint)\n",
    "\n",
    "    def preprocess_function(examples):\n",
    "        model_inputs = tokenizer(\n",
    "            examples[\"review_body\"], max_length=max_input_length, truncation=True\n",
    "        )\n",
    "        # 타겟을 위한 토크나이저 설정\n",
    "        with tokenizer.as_target_tokenizer():\n",
    "            labels = tokenizer(\n",
    "                examples[\"review_title\"], max_length=max_target_length, truncation=True\n",
    "            )\n",
    "\n",
    "        model_inputs[\"labels\"] = labels[\"input_ids\"]\n",
    "        return model_inputs\n",
    "    \n",
    "    tokenized_datasets = books_dataset.map(preprocess_function, batched=True)\n",
    "    tokenized_datasets = tokenized_datasets.remove_columns(\n",
    "        books_dataset[\"train\"].column_names\n",
    "    )\n",
    "    #tokenized_datasets.set_format(\"torch\")\n",
    "\n",
    "    data_collator = DataCollatorForSeq2Seq(tokenizer, model=model)\n",
    "\n",
    "    batch_size = 8\n",
    "    train_dataloader = DataLoader(\n",
    "        tokenized_datasets[\"train\"],\n",
    "        shuffle=True,\n",
    "        collate_fn=data_collator,\n",
    "        batch_size=batch_size,\n",
    "    )\n",
    "    eval_dataloader = DataLoader(\n",
    "        tokenized_datasets[\"validation\"], \n",
    "        collate_fn=data_collator, \n",
    "        batch_size=batch_size\n",
    "    )\n",
    "\n",
    "    return train_dataloader, eval_dataloader, tokenizer\n",
    "\n",
    "#def training_function(config, args):\n",
    "def training_function():\n",
    "\n",
    "    batch_size = 8\n",
    "\n",
    "    accelerator = Accelerator()\n",
    "    model = AutoModelForSeq2SeqLM.from_pretrained(model_checkpoint)\n",
    "    train_dataloader, eval_dataloader, tokenizer = get_dataloaders(accelerator, model, \n",
    "                                                                   batch_size=batch_size)\n",
    "    \n",
    "    optimizer = AdamW(model.parameters(), lr=2e-5)\n",
    "    \n",
    "    model, optimizer, train_dataloader, eval_dataloader = accelerator.prepare(\n",
    "        model, optimizer, train_dataloader, eval_dataloader\n",
    "    )\n",
    "\n",
    "    num_train_epochs = 8\n",
    "    num_update_steps_per_epoch = len(train_dataloader)\n",
    "    num_training_steps = num_train_epochs * num_update_steps_per_epoch\n",
    "\n",
    "    lr_scheduler = get_scheduler(\n",
    "        \"linear\",\n",
    "        optimizer=optimizer,\n",
    "        num_warmup_steps=0,\n",
    "        num_training_steps=num_training_steps,\n",
    "    )\n",
    "\n",
    "    def postprocess_text(preds, labels):\n",
    "        preds = [pred.strip() for pred in preds]\n",
    "        labels = [label.strip() for label in labels]\n",
    "\n",
    "        # ROUGE는 각 문장마다 개행문자가 들어갈 것을 요구한다.\n",
    "        preds = [\"\\n\".join(sent_tokenize(pred)) for pred in preds]\n",
    "        labels = [\"\\n\".join(sent_tokenize(label)) for label in labels]\n",
    "\n",
    "        return preds, labels\n",
    "\n",
    "    #from huggingface_hub import get_full_repo_name\n",
    "\n",
    "    #model_name = \"test-bert-finetuned-squad-accelerate\"\n",
    "    #repo_name = get_full_repo_name(model_name)\n",
    "    #repo_name\n",
    "\n",
    "    #from huggingface_hub import Repository\n",
    "\n",
    "    output_dir = \"results-mt5-finetuned-squad-accelerate\"\n",
    "    #repo = Repository(output_dir, clone_from=repo_name)\n",
    "\n",
    "    rouge_score = load_metric(\"rouge\")\n",
    "\n",
    "    progress_bar = tqdm(range(num_training_steps))\n",
    "\n",
    "    for epoch in range(num_train_epochs):\n",
    "    # 학습\n",
    "        model.train()\n",
    "        for step, batch in enumerate(train_dataloader):\n",
    "            outputs = model(**batch)\n",
    "            loss = outputs.loss\n",
    "            accelerator.backward(loss)\n",
    "\n",
    "            optimizer.step()\n",
    "            lr_scheduler.step()\n",
    "            optimizer.zero_grad()\n",
    "            progress_bar.update(1)\n",
    "\n",
    "        # 평가\n",
    "        model.eval()\n",
    "        for step, batch in enumerate(eval_dataloader):\n",
    "            with torch.no_grad():\n",
    "                generated_tokens = accelerator.unwrap_model(model).generate(\n",
    "                    batch[\"input_ids\"],\n",
    "                    attention_mask=batch[\"attention_mask\"],\n",
    "                )\n",
    "\n",
    "            generated_tokens = accelerator.pad_across_processes(\n",
    "                generated_tokens, dim=1, pad_index=tokenizer.pad_token_id\n",
    "            )\n",
    "            labels = batch[\"labels\"]\n",
    "\n",
    "            # 만일 최대 길이로 패딩하지 않았으면 레이블도 역시 패딩해야 한다.\n",
    "            labels = accelerator.pad_across_processes(\n",
    "                batch[\"labels\"], dim=1, pad_index=tokenizer.pad_token_id\n",
    "            )\n",
    "\n",
    "            generated_tokens = accelerator.gather(generated_tokens).cpu().numpy()\n",
    "            labels = accelerator.gather(labels).cpu().numpy()\n",
    "\n",
    "            # 레이블 내의 -100을 모두 교체한다.\n",
    "            labels = np.where(labels != -100, labels, tokenizer.pad_token_id)\n",
    "            if isinstance(generated_tokens, tuple):\n",
    "                generated_tokens = generated_tokens[0]\n",
    "            decoded_preds = tokenizer.batch_decode(\n",
    "                generated_tokens, skip_special_tokens=True\n",
    "            )\n",
    "            decoded_labels = tokenizer.batch_decode(labels, skip_special_tokens=True)\n",
    "\n",
    "            decoded_preds, decoded_labels = postprocess_text(\n",
    "                decoded_preds, decoded_labels\n",
    "            )\n",
    "\n",
    "            rouge_score.add_batch(predictions=decoded_preds, references=decoded_labels)\n",
    "\n",
    "        # 메트릭 계산\n",
    "        result = rouge_score.compute()\n",
    "        # 중간값 ROUGE 점수를 추출\n",
    "        result = {key: value.mid.fmeasure * 100 for key, value in result.items()}\n",
    "        result = {k: round(v, 4) for k, v in result.items()}\n",
    "        #print(f\"Epoch {epoch}:\", result)\n",
    "        Accelerator.print(f\"Epoch {epoch}:\", result)\n",
    "\n",
    "        # 저장 및 업로드\n",
    "        accelerator.wait_for_everyone()\n",
    "        unwrapped_model = accelerator.unwrap_model(model)\n",
    "        unwrapped_model.save_pretrained(output_dir, save_function=accelerator.save)\n",
    "        if accelerator.is_main_process:\n",
    "            tokenizer.save_pretrained(output_dir)\n",
    "            #repo.push_to_hub(\n",
    "            #    commit_message=f\"Training in progress epoch {epoch}\", blocking=False\n",
    "            #)\n",
    "\n",
    "#from huggingface_hub import Repository, get_full_repo_name\n",
    "\n",
    "#model_name = \"marian-finetuned-kde4-en-to-fr-accelerate\"\n",
    "#repo_name = get_full_repo_name(model_name)\n",
    "#repo_name\n",
    "#repo = Repository(output_dir, clone_from=repo_name)\n",
    "#notebook_launcher(function, args, num_processes, mixed_precision, use_port, master_addr, node_rank, num_nodes)\n",
    "\n",
    "from accelerate import notebook_launcher\n",
    "\n",
    "notebook_launcher(training_function, num_processes=4)\n"
   ]
  },
  {
   "cell_type": "code",
   "execution_count": null,
   "id": "ba795108-243f-44c1-80b2-16ed563a9660",
   "metadata": {},
   "outputs": [],
   "source": []
  }
 ],
 "metadata": {
  "kernelspec": {
   "display_name": "transformer",
   "language": "python",
   "name": "transformer"
  },
  "language_info": {
   "codemirror_mode": {
    "name": "ipython",
    "version": 3
   },
   "file_extension": ".py",
   "mimetype": "text/x-python",
   "name": "python",
   "nbconvert_exporter": "python",
   "pygments_lexer": "ipython3",
   "version": "3.10.14"
  }
 },
 "nbformat": 4,
 "nbformat_minor": 5
}
