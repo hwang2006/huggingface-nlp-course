{
 "cells": [
  {
   "cell_type": "code",
   "execution_count": 1,
   "id": "7ad7ebbe-6145-4fb2-8d7d-4fa58129afc3",
   "metadata": {},
   "outputs": [
    {
     "name": "stderr",
     "output_type": "stream",
     "text": [
      "100%|██████████| 1000/1000 [00:07<00:00, 132.66it/s]\n"
     ]
    }
   ],
   "source": [
    "import torch\n",
    "import torch.nn as nn\n",
    "import torch.optim as optim\n",
    "from tqdm import tqdm\n",
    "\n",
    "# Define a simple model\n",
    "class MyModel(nn.Module):\n",
    "    def __init__(self):\n",
    "        super(MyModel, self).__init__()\n",
    "        self.layer1 = nn.Linear(10000, 10000)\n",
    "        self.layer2 = nn.Linear(10000, 1)\n",
    "\n",
    "    def forward(self, x):\n",
    "        x = torch.relu(self.layer1(x))\n",
    "        x = self.layer2(x)\n",
    "        return x\n",
    "\n",
    "model = MyModel().cuda()\n",
    "optimizer = optim.Adam(model.parameters(), lr=0.001)\n",
    "\n",
    "# Dummy data\n",
    "inputs = torch.randn(64, 10000).to(\"cuda\")\n",
    "targets = torch.randn(64, 1).to(\"cuda\")\n",
    "\n",
    "# Training loop\n",
    "model.train()\n",
    "for epoch in tqdm(range(1000)):\n",
    "    optimizer.zero_grad()\n",
    "    outputs = model(inputs)\n",
    "    loss = nn.MSELoss()(outputs, targets)\n",
    "    loss.backward()\n",
    "    optimizer.step()"
   ]
  },
  {
   "cell_type": "code",
   "execution_count": 1,
   "id": "895a3b6e-ea6d-4bef-ae53-c4143e82a724",
   "metadata": {},
   "outputs": [
    {
     "name": "stdout",
     "output_type": "stream",
     "text": [
      "[2024-04-15 18:45:58,364] [INFO] [real_accelerator.py:191:get_accelerator] Setting ds_accelerator to cuda (auto detect)\n",
      "[2024-04-15 18:46:03,511] [INFO] [logging.py:96:log_dist] [Rank -1] DeepSpeed info: version=0.14.0, git-hash=unknown, git-branch=unknown\n",
      "[2024-04-15 18:46:03,512] [INFO] [comm.py:637:init_distributed] cdb=None\n",
      "[2024-04-15 18:46:03,513] [INFO] [comm.py:652:init_distributed] Not using the DeepSpeed or dist launchers, attempting to detect MPI environment...\n",
      "[2024-04-15 18:46:05,364] [INFO] [comm.py:702:mpi_discovery] Discovered MPI settings of world_rank=0, local_rank=0, world_size=1, master_addr=10.151.0.1, master_port=29500\n",
      "[2024-04-15 18:46:05,365] [INFO] [comm.py:668:init_distributed] Initializing TorchBackend in DeepSpeed with backend nccl\n",
      "[2024-04-15 18:46:08,403] [INFO] [logging.py:96:log_dist] [Rank 0] DeepSpeed Flops Profiler Enabled: False\n",
      "[2024-04-15 18:46:08,404] [INFO] [logging.py:96:log_dist] [Rank 0] Using client Optimizer as basic optimizer\n",
      "[2024-04-15 18:46:08,405] [INFO] [logging.py:96:log_dist] [Rank 0] Removing param_group that has no 'params' in the basic Optimizer\n",
      "[2024-04-15 18:46:08,405] [INFO] [logging.py:96:log_dist] [Rank 0] DeepSpeed Basic Optimizer = Adam\n",
      "[2024-04-15 18:46:08,406] [INFO] [logging.py:96:log_dist] [Rank 0] DeepSpeed Final Optimizer = Adam\n",
      "[2024-04-15 18:46:08,406] [INFO] [logging.py:96:log_dist] [Rank 0] DeepSpeed using client LR scheduler\n",
      "[2024-04-15 18:46:08,406] [INFO] [logging.py:96:log_dist] [Rank 0] DeepSpeed LR Scheduler = None\n",
      "[2024-04-15 18:46:08,407] [INFO] [logging.py:96:log_dist] [Rank 0] step=0, skipped=0, lr=[0.001], mom=[(0.9, 0.999)]\n",
      "[2024-04-15 18:46:08,407] [INFO] [config.py:996:print] DeepSpeedEngine configuration:\n",
      "[2024-04-15 18:46:08,408] [INFO] [config.py:1000:print]   activation_checkpointing_config  {\n",
      "    \"partition_activations\": false, \n",
      "    \"contiguous_memory_optimization\": false, \n",
      "    \"cpu_checkpointing\": false, \n",
      "    \"number_checkpoints\": null, \n",
      "    \"synchronize_checkpoint_boundary\": false, \n",
      "    \"profile\": false\n",
      "}\n",
      "[2024-04-15 18:46:08,408] [INFO] [config.py:1000:print]   aio_config ................... {'block_size': 1048576, 'queue_depth': 8, 'thread_count': 1, 'single_submit': False, 'overlap_events': True}\n",
      "[2024-04-15 18:46:08,408] [INFO] [config.py:1000:print]   amp_enabled .................. False\n",
      "[2024-04-15 18:46:08,408] [INFO] [config.py:1000:print]   amp_params ................... False\n",
      "[2024-04-15 18:46:08,409] [INFO] [config.py:1000:print]   autotuning_config ............ {\n",
      "    \"enabled\": false, \n",
      "    \"start_step\": null, \n",
      "    \"end_step\": null, \n",
      "    \"metric_path\": null, \n",
      "    \"arg_mappings\": null, \n",
      "    \"metric\": \"throughput\", \n",
      "    \"model_info\": null, \n",
      "    \"results_dir\": \"autotuning_results\", \n",
      "    \"exps_dir\": \"autotuning_exps\", \n",
      "    \"overwrite\": true, \n",
      "    \"fast\": true, \n",
      "    \"start_profile_step\": 3, \n",
      "    \"end_profile_step\": 5, \n",
      "    \"tuner_type\": \"gridsearch\", \n",
      "    \"tuner_early_stopping\": 5, \n",
      "    \"tuner_num_trials\": 50, \n",
      "    \"model_info_path\": null, \n",
      "    \"mp_size\": 1, \n",
      "    \"max_train_batch_size\": null, \n",
      "    \"min_train_batch_size\": 1, \n",
      "    \"max_train_micro_batch_size_per_gpu\": 1.024000e+03, \n",
      "    \"min_train_micro_batch_size_per_gpu\": 1, \n",
      "    \"num_tuning_micro_batch_sizes\": 3\n",
      "}\n",
      "[2024-04-15 18:46:08,409] [INFO] [config.py:1000:print]   bfloat16_enabled ............. False\n",
      "[2024-04-15 18:46:08,409] [INFO] [config.py:1000:print]   bfloat16_immediate_grad_update  False\n",
      "[2024-04-15 18:46:08,410] [INFO] [config.py:1000:print]   checkpoint_parallel_write_pipeline  False\n",
      "[2024-04-15 18:46:08,410] [INFO] [config.py:1000:print]   checkpoint_tag_validation_enabled  True\n",
      "[2024-04-15 18:46:08,412] [INFO] [config.py:1000:print]   checkpoint_tag_validation_fail  False\n",
      "[2024-04-15 18:46:08,412] [INFO] [config.py:1000:print]   comms_config ................. <deepspeed.comm.config.DeepSpeedCommsConfig object at 0x2b4cb42344f0>\n",
      "[2024-04-15 18:46:08,413] [INFO] [config.py:1000:print]   communication_data_type ...... None\n",
      "[2024-04-15 18:46:08,413] [INFO] [config.py:1000:print]   compile_config ............... enabled=False backend='inductor' kwargs={}\n",
      "[2024-04-15 18:46:08,413] [INFO] [config.py:1000:print]   compression_config ........... {'weight_quantization': {'shared_parameters': {'enabled': False, 'quantizer_kernel': False, 'schedule_offset': 0, 'quantize_groups': 1, 'quantize_verbose': False, 'quantization_type': 'symmetric', 'quantize_weight_in_forward': False, 'rounding': 'nearest', 'fp16_mixed_quantize': False, 'quantize_change_ratio': 0.001}, 'different_groups': {}}, 'activation_quantization': {'shared_parameters': {'enabled': False, 'quantization_type': 'symmetric', 'range_calibration': 'dynamic', 'schedule_offset': 1000}, 'different_groups': {}}, 'sparse_pruning': {'shared_parameters': {'enabled': False, 'method': 'l1', 'schedule_offset': 1000}, 'different_groups': {}}, 'row_pruning': {'shared_parameters': {'enabled': False, 'method': 'l1', 'schedule_offset': 1000}, 'different_groups': {}}, 'head_pruning': {'shared_parameters': {'enabled': False, 'method': 'topk', 'schedule_offset': 1000}, 'different_groups': {}}, 'channel_pruning': {'shared_parameters': {'enabled': False, 'method': 'l1', 'schedule_offset': 1000}, 'different_groups': {}}, 'layer_reduction': {'enabled': False}}\n",
      "[2024-04-15 18:46:08,413] [INFO] [config.py:1000:print]   curriculum_enabled_legacy .... False\n",
      "[2024-04-15 18:46:08,414] [INFO] [config.py:1000:print]   curriculum_params_legacy ..... False\n",
      "[2024-04-15 18:46:08,414] [INFO] [config.py:1000:print]   data_efficiency_config ....... {'enabled': False, 'seed': 1234, 'data_sampling': {'enabled': False, 'num_epochs': 1000, 'num_workers': 0, 'curriculum_learning': {'enabled': False}}, 'data_routing': {'enabled': False, 'random_ltd': {'enabled': False, 'layer_token_lr_schedule': {'enabled': False}}}}\n",
      "[2024-04-15 18:46:08,414] [INFO] [config.py:1000:print]   data_efficiency_enabled ...... False\n",
      "[2024-04-15 18:46:08,415] [INFO] [config.py:1000:print]   dataloader_drop_last ......... False\n",
      "[2024-04-15 18:46:08,415] [INFO] [config.py:1000:print]   disable_allgather ............ False\n",
      "[2024-04-15 18:46:08,415] [INFO] [config.py:1000:print]   dump_state ................... False\n",
      "[2024-04-15 18:46:08,415] [INFO] [config.py:1000:print]   dynamic_loss_scale_args ...... None\n",
      "[2024-04-15 18:46:08,416] [INFO] [config.py:1000:print]   eigenvalue_enabled ........... False\n",
      "[2024-04-15 18:46:08,416] [INFO] [config.py:1000:print]   eigenvalue_gas_boundary_resolution  1\n",
      "[2024-04-15 18:46:08,416] [INFO] [config.py:1000:print]   eigenvalue_layer_name ........ bert.encoder.layer\n",
      "[2024-04-15 18:46:08,416] [INFO] [config.py:1000:print]   eigenvalue_layer_num ......... 0\n",
      "[2024-04-15 18:46:08,417] [INFO] [config.py:1000:print]   eigenvalue_max_iter .......... 100\n",
      "[2024-04-15 18:46:08,417] [INFO] [config.py:1000:print]   eigenvalue_stability ......... 1e-06\n",
      "[2024-04-15 18:46:08,417] [INFO] [config.py:1000:print]   eigenvalue_tol ............... 0.01\n",
      "[2024-04-15 18:46:08,417] [INFO] [config.py:1000:print]   eigenvalue_verbose ........... False\n",
      "[2024-04-15 18:46:08,418] [INFO] [config.py:1000:print]   elasticity_enabled ........... False\n",
      "[2024-04-15 18:46:08,418] [INFO] [config.py:1000:print]   flops_profiler_config ........ {\n",
      "    \"enabled\": false, \n",
      "    \"recompute_fwd_factor\": 0.0, \n",
      "    \"profile_step\": 1, \n",
      "    \"module_depth\": -1, \n",
      "    \"top_modules\": 1, \n",
      "    \"detailed\": true, \n",
      "    \"output_file\": null\n",
      "}\n",
      "[2024-04-15 18:46:08,418] [INFO] [config.py:1000:print]   fp16_auto_cast ............... None\n",
      "[2024-04-15 18:46:08,418] [INFO] [config.py:1000:print]   fp16_enabled ................. False\n",
      "[2024-04-15 18:46:08,419] [INFO] [config.py:1000:print]   fp16_master_weights_and_gradients  False\n",
      "[2024-04-15 18:46:08,419] [INFO] [config.py:1000:print]   global_rank .................. 0\n",
      "[2024-04-15 18:46:08,419] [INFO] [config.py:1000:print]   grad_accum_dtype ............. None\n",
      "[2024-04-15 18:46:08,419] [INFO] [config.py:1000:print]   gradient_accumulation_steps .. 1\n",
      "[2024-04-15 18:46:08,420] [INFO] [config.py:1000:print]   gradient_clipping ............ 0.0\n",
      "[2024-04-15 18:46:08,420] [INFO] [config.py:1000:print]   gradient_predivide_factor .... 1.0\n",
      "[2024-04-15 18:46:08,420] [INFO] [config.py:1000:print]   graph_harvesting ............. False\n",
      "[2024-04-15 18:46:08,420] [INFO] [config.py:1000:print]   hybrid_engine ................ enabled=False max_out_tokens=512 inference_tp_size=1 release_inference_cache=False pin_parameters=True tp_gather_partition_size=8\n",
      "[2024-04-15 18:46:08,421] [INFO] [config.py:1000:print]   initial_dynamic_scale ........ 65536\n",
      "[2024-04-15 18:46:08,421] [INFO] [config.py:1000:print]   load_universal_checkpoint .... False\n",
      "[2024-04-15 18:46:08,421] [INFO] [config.py:1000:print]   loss_scale ................... 0\n",
      "[2024-04-15 18:46:08,421] [INFO] [config.py:1000:print]   memory_breakdown ............. False\n",
      "[2024-04-15 18:46:08,422] [INFO] [config.py:1000:print]   mics_hierarchial_params_gather  False\n",
      "[2024-04-15 18:46:08,422] [INFO] [config.py:1000:print]   mics_shard_size .............. -1\n",
      "[2024-04-15 18:46:08,422] [INFO] [config.py:1000:print]   monitor_config ............... tensorboard=TensorBoardConfig(enabled=False, output_path='', job_name='DeepSpeedJobName') wandb=WandbConfig(enabled=False, group=None, team=None, project='deepspeed') csv_monitor=CSVConfig(enabled=False, output_path='', job_name='DeepSpeedJobName') enabled=False\n",
      "[2024-04-15 18:46:08,423] [INFO] [config.py:1000:print]   nebula_config ................ {\n",
      "    \"enabled\": false, \n",
      "    \"persistent_storage_path\": null, \n",
      "    \"persistent_time_interval\": 100, \n",
      "    \"num_of_version_in_retention\": 2, \n",
      "    \"enable_nebula_load\": true, \n",
      "    \"load_path\": null\n",
      "}\n",
      "[2024-04-15 18:46:08,423] [INFO] [config.py:1000:print]   optimizer_legacy_fusion ...... False\n",
      "[2024-04-15 18:46:08,423] [INFO] [config.py:1000:print]   optimizer_name ............... adam\n",
      "[2024-04-15 18:46:08,423] [INFO] [config.py:1000:print]   optimizer_params ............. {'lr': 0.001}\n",
      "[2024-04-15 18:46:08,424] [INFO] [config.py:1000:print]   pipeline ..................... {'stages': 'auto', 'partition': 'best', 'seed_layers': False, 'activation_checkpoint_interval': 0, 'pipe_partitioned': True, 'grad_partitioned': True}\n",
      "[2024-04-15 18:46:08,424] [INFO] [config.py:1000:print]   pld_enabled .................. False\n",
      "[2024-04-15 18:46:08,424] [INFO] [config.py:1000:print]   pld_params ................... False\n",
      "[2024-04-15 18:46:08,424] [INFO] [config.py:1000:print]   prescale_gradients ........... False\n",
      "[2024-04-15 18:46:08,425] [INFO] [config.py:1000:print]   scheduler_name ............... None\n",
      "[2024-04-15 18:46:08,425] [INFO] [config.py:1000:print]   scheduler_params ............. None\n",
      "[2024-04-15 18:46:08,425] [INFO] [config.py:1000:print]   seq_parallel_communication_data_type  torch.float32\n",
      "[2024-04-15 18:46:08,425] [INFO] [config.py:1000:print]   sparse_attention ............. None\n",
      "[2024-04-15 18:46:08,426] [INFO] [config.py:1000:print]   sparse_gradients_enabled ..... False\n",
      "[2024-04-15 18:46:08,426] [INFO] [config.py:1000:print]   steps_per_print .............. 10\n",
      "[2024-04-15 18:46:08,426] [INFO] [config.py:1000:print]   train_batch_size ............. 64\n",
      "[2024-04-15 18:46:08,426] [INFO] [config.py:1000:print]   train_micro_batch_size_per_gpu  64\n",
      "[2024-04-15 18:46:08,427] [INFO] [config.py:1000:print]   use_data_before_expert_parallel_  False\n",
      "[2024-04-15 18:46:08,427] [INFO] [config.py:1000:print]   use_node_local_storage ....... False\n",
      "[2024-04-15 18:46:08,427] [INFO] [config.py:1000:print]   wall_clock_breakdown ......... False\n",
      "[2024-04-15 18:46:08,427] [INFO] [config.py:1000:print]   weight_quantization_config ... None\n",
      "[2024-04-15 18:46:08,428] [INFO] [config.py:1000:print]   world_size ................... 1\n",
      "[2024-04-15 18:46:08,428] [INFO] [config.py:1000:print]   zero_allow_untested_optimizer  False\n",
      "[2024-04-15 18:46:08,428] [INFO] [config.py:1000:print]   zero_config .................. stage=0 contiguous_gradients=True reduce_scatter=True reduce_bucket_size=500,000,000 use_multi_rank_bucket_allreduce=True allgather_partitions=True allgather_bucket_size=500,000,000 overlap_comm=False load_from_fp32_weights=True elastic_checkpoint=False offload_param=None offload_optimizer=None sub_group_size=1,000,000,000 cpu_offload_param=None cpu_offload_use_pin_memory=None cpu_offload=None prefetch_bucket_size=50,000,000 param_persistence_threshold=100,000 model_persistence_threshold=sys.maxsize max_live_parameters=1,000,000,000 max_reuse_distance=1,000,000,000 gather_16bit_weights_on_model_save=False stage3_gather_fp16_weights_on_model_save=False ignore_unused_parameters=True legacy_stage1=False round_robin_gradients=False zero_hpz_partition_size=1 zero_quantized_weights=False zero_quantized_nontrainable_weights=False zero_quantized_gradients=False mics_shard_size=-1 mics_hierarchical_params_gather=False memory_efficient_linear=True pipeline_loading_checkpoint=False override_module_apply=True\n",
      "[2024-04-15 18:46:08,428] [INFO] [config.py:1000:print]   zero_enabled ................. False\n",
      "[2024-04-15 18:46:08,429] [INFO] [config.py:1000:print]   zero_force_ds_cpu_optimizer .. True\n",
      "[2024-04-15 18:46:08,429] [INFO] [config.py:1000:print]   zero_optimization_stage ...... 0\n",
      "[2024-04-15 18:46:08,429] [INFO] [config.py:986:print_user_config]   json = {\n",
      "    \"train_batch_size\": 64, \n",
      "    \"gradient_accumulation_steps\": 1, \n",
      "    \"fp16\": {\n",
      "        \"enabled\": false\n",
      "    }, \n",
      "    \"optimizer\": {\n",
      "        \"type\": \"Adam\", \n",
      "        \"params\": {\n",
      "            \"lr\": 0.001\n",
      "        }\n",
      "    }\n",
      "}\n"
     ]
    },
    {
     "name": "stderr",
     "output_type": "stream",
     "text": [
      "  1%|          | 8/1000 [00:07<10:52,  1.52it/s]  "
     ]
    },
    {
     "name": "stdout",
     "output_type": "stream",
     "text": [
      "[2024-04-15 18:46:15,938] [INFO] [logging.py:96:log_dist] [Rank 0] step=10, skipped=0, lr=[0.001], mom=[(0.9, 0.999)]\n",
      "[2024-04-15 18:46:15,952] [INFO] [timer.py:260:stop] epoch=0/micro_step=10/global_step=10, RunningAvgSamplesPerSec=4401.916253289932, CurrSamplesPerSec=4419.418109976951, MemAllocated=1.14GB, MaxMemAllocated=1.88GB\n"
     ]
    },
    {
     "name": "stderr",
     "output_type": "stream",
     "text": [
      "  2%|▏         | 15/1000 [00:07<04:50,  3.39it/s]"
     ]
    },
    {
     "name": "stdout",
     "output_type": "stream",
     "text": [
      "[2024-04-15 18:46:16,085] [INFO] [logging.py:96:log_dist] [Rank 0] step=20, skipped=0, lr=[0.001], mom=[(0.9, 0.999)]\n",
      "[2024-04-15 18:46:16,098] [INFO] [timer.py:260:stop] epoch=0/micro_step=20/global_step=20, RunningAvgSamplesPerSec=4426.507355925279, CurrSamplesPerSec=4434.1645908355085, MemAllocated=1.14GB, MaxMemAllocated=1.88GB\n"
     ]
    },
    {
     "name": "stderr",
     "output_type": "stream",
     "text": [
      "  3%|▎         | 29/1000 [00:07<01:46,  9.16it/s]"
     ]
    },
    {
     "name": "stdout",
     "output_type": "stream",
     "text": [
      "[2024-04-15 18:46:16,231] [INFO] [logging.py:96:log_dist] [Rank 0] step=30, skipped=0, lr=[0.001], mom=[(0.9, 0.999)]\n",
      "[2024-04-15 18:46:16,244] [INFO] [timer.py:260:stop] epoch=0/micro_step=30/global_step=30, RunningAvgSamplesPerSec=4447.327658934929, CurrSamplesPerSec=4463.435193960859, MemAllocated=1.14GB, MaxMemAllocated=1.88GB\n"
     ]
    },
    {
     "name": "stderr",
     "output_type": "stream",
     "text": [
      "  4%|▎         | 36/1000 [00:07<01:12, 13.25it/s]"
     ]
    },
    {
     "name": "stdout",
     "output_type": "stream",
     "text": [
      "[2024-04-15 18:46:16,380] [INFO] [logging.py:96:log_dist] [Rank 0] step=40, skipped=0, lr=[0.001], mom=[(0.9, 0.999)]\n",
      "[2024-04-15 18:46:16,393] [INFO] [timer.py:260:stop] epoch=0/micro_step=40/global_step=40, RunningAvgSamplesPerSec=4450.387960514088, CurrSamplesPerSec=4424.152550473836, MemAllocated=1.14GB, MaxMemAllocated=1.88GB\n"
     ]
    },
    {
     "name": "stderr",
     "output_type": "stream",
     "text": [
      "  4%|▍         | 43/1000 [00:07<00:52, 18.18it/s]"
     ]
    },
    {
     "name": "stdout",
     "output_type": "stream",
     "text": [
      "[2024-04-15 18:46:16,529] [INFO] [logging.py:96:log_dist] [Rank 0] step=50, skipped=0, lr=[0.001], mom=[(0.9, 0.999)]\n",
      "[2024-04-15 18:46:16,542] [INFO] [timer.py:260:stop] epoch=0/micro_step=50/global_step=50, RunningAvgSamplesPerSec=4449.628983415207, CurrSamplesPerSec=4423.277736582793, MemAllocated=1.14GB, MaxMemAllocated=1.88GB\n"
     ]
    },
    {
     "name": "stderr",
     "output_type": "stream",
     "text": [
      "  6%|▌         | 57/1000 [00:07<00:31, 29.99it/s]"
     ]
    },
    {
     "name": "stdout",
     "output_type": "stream",
     "text": [
      "[2024-04-15 18:46:16,679] [INFO] [logging.py:96:log_dist] [Rank 0] step=60, skipped=0, lr=[0.001], mom=[(0.9, 0.999)]\n",
      "[2024-04-15 18:46:16,714] [INFO] [timer.py:260:stop] epoch=0/micro_step=60/global_step=60, RunningAvgSamplesPerSec=4449.074650579508, CurrSamplesPerSec=4433.432252097509, MemAllocated=1.14GB, MaxMemAllocated=1.88GB\n"
     ]
    },
    {
     "name": "stderr",
     "output_type": "stream",
     "text": [
      "  6%|▋         | 64/1000 [00:08<00:26, 35.03it/s]"
     ]
    },
    {
     "name": "stdout",
     "output_type": "stream",
     "text": [
      "[2024-04-15 18:46:16,846] [INFO] [logging.py:96:log_dist] [Rank 0] step=70, skipped=0, lr=[0.001], mom=[(0.9, 0.999)]\n",
      "[2024-04-15 18:46:16,860] [INFO] [timer.py:260:stop] epoch=0/micro_step=70/global_step=70, RunningAvgSamplesPerSec=4453.989389157987, CurrSamplesPerSec=4467.223431519387, MemAllocated=1.14GB, MaxMemAllocated=1.88GB\n"
     ]
    },
    {
     "name": "stderr",
     "output_type": "stream",
     "text": [
      "  8%|▊         | 78/1000 [00:08<00:19, 46.97it/s]"
     ]
    },
    {
     "name": "stdout",
     "output_type": "stream",
     "text": [
      "[2024-04-15 18:46:16,994] [INFO] [logging.py:96:log_dist] [Rank 0] step=80, skipped=0, lr=[0.001], mom=[(0.9, 0.999)]\n",
      "[2024-04-15 18:46:17,007] [INFO] [timer.py:260:stop] epoch=0/micro_step=80/global_step=80, RunningAvgSamplesPerSec=4456.622477394917, CurrSamplesPerSec=4433.725158562368, MemAllocated=1.14GB, MaxMemAllocated=1.88GB\n"
     ]
    },
    {
     "name": "stderr",
     "output_type": "stream",
     "text": [
      "  8%|▊         | 85/1000 [00:08<00:17, 51.61it/s]"
     ]
    },
    {
     "name": "stdout",
     "output_type": "stream",
     "text": [
      "[2024-04-15 18:46:17,143] [INFO] [logging.py:96:log_dist] [Rank 0] step=90, skipped=0, lr=[0.001], mom=[(0.9, 0.999)]\n",
      "[2024-04-15 18:46:17,156] [INFO] [timer.py:260:stop] epoch=0/micro_step=90/global_step=90, RunningAvgSamplesPerSec=4455.669523648567, CurrSamplesPerSec=4394.098150270093, MemAllocated=1.14GB, MaxMemAllocated=1.88GB\n"
     ]
    },
    {
     "name": "stderr",
     "output_type": "stream",
     "text": [
      " 10%|▉         | 99/1000 [00:08<00:15, 58.56it/s]"
     ]
    },
    {
     "name": "stdout",
     "output_type": "stream",
     "text": [
      "[2024-04-15 18:46:17,293] [INFO] [logging.py:96:log_dist] [Rank 0] step=100, skipped=0, lr=[0.001], mom=[(0.9, 0.999)]\n",
      "[2024-04-15 18:46:17,306] [INFO] [timer.py:260:stop] epoch=0/micro_step=100/global_step=100, RunningAvgSamplesPerSec=4453.8742578900765, CurrSamplesPerSec=4428.897145685531, MemAllocated=1.14GB, MaxMemAllocated=1.88GB\n"
     ]
    },
    {
     "name": "stderr",
     "output_type": "stream",
     "text": [
      " 11%|█         | 106/1000 [00:08<00:14, 60.78it/s]"
     ]
    },
    {
     "name": "stdout",
     "output_type": "stream",
     "text": [
      "[2024-04-15 18:46:17,441] [INFO] [logging.py:96:log_dist] [Rank 0] step=110, skipped=0, lr=[0.001], mom=[(0.9, 0.999)]\n",
      "[2024-04-15 18:46:17,454] [INFO] [timer.py:260:stop] epoch=0/micro_step=110/global_step=110, RunningAvgSamplesPerSec=4453.892062321549, CurrSamplesPerSec=4458.83852964138, MemAllocated=1.14GB, MaxMemAllocated=1.88GB\n"
     ]
    },
    {
     "name": "stderr",
     "output_type": "stream",
     "text": [
      " 11%|█▏        | 113/1000 [00:08<00:14, 62.77it/s]"
     ]
    },
    {
     "name": "stdout",
     "output_type": "stream",
     "text": [
      "[2024-04-15 18:46:17,587] [INFO] [logging.py:96:log_dist] [Rank 0] step=120, skipped=0, lr=[0.001], mom=[(0.9, 0.999)]\n",
      "[2024-04-15 18:46:17,600] [INFO] [timer.py:260:stop] epoch=0/micro_step=120/global_step=120, RunningAvgSamplesPerSec=4456.200171070995, CurrSamplesPerSec=4462.322228871601, MemAllocated=1.14GB, MaxMemAllocated=1.88GB\n"
     ]
    },
    {
     "name": "stderr",
     "output_type": "stream",
     "text": [
      " 13%|█▎        | 127/1000 [00:08<00:13, 65.70it/s]"
     ]
    },
    {
     "name": "stdout",
     "output_type": "stream",
     "text": [
      "[2024-04-15 18:46:17,733] [INFO] [logging.py:96:log_dist] [Rank 0] step=130, skipped=0, lr=[0.001], mom=[(0.9, 0.999)]\n",
      "[2024-04-15 18:46:17,746] [INFO] [timer.py:260:stop] epoch=0/micro_step=130/global_step=130, RunningAvgSamplesPerSec=4458.70545095166, CurrSamplesPerSec=4470.050223139945, MemAllocated=1.14GB, MaxMemAllocated=1.88GB\n"
     ]
    },
    {
     "name": "stderr",
     "output_type": "stream",
     "text": [
      " 13%|█▎        | 134/1000 [00:09<00:13, 66.51it/s]"
     ]
    },
    {
     "name": "stdout",
     "output_type": "stream",
     "text": [
      "[2024-04-15 18:46:17,880] [INFO] [logging.py:96:log_dist] [Rank 0] step=140, skipped=0, lr=[0.001], mom=[(0.9, 0.999)]\n",
      "[2024-04-15 18:46:17,893] [INFO] [timer.py:260:stop] epoch=0/micro_step=140/global_step=140, RunningAvgSamplesPerSec=4459.705454553772, CurrSamplesPerSec=4428.9702189443815, MemAllocated=1.14GB, MaxMemAllocated=1.88GB\n"
     ]
    },
    {
     "name": "stderr",
     "output_type": "stream",
     "text": [
      " 15%|█▍        | 148/1000 [00:09<00:12, 66.96it/s]"
     ]
    },
    {
     "name": "stdout",
     "output_type": "stream",
     "text": [
      "[2024-04-15 18:46:18,030] [INFO] [logging.py:96:log_dist] [Rank 0] step=150, skipped=0, lr=[0.001], mom=[(0.9, 0.999)]\n",
      "[2024-04-15 18:46:18,042] [INFO] [timer.py:260:stop] epoch=0/micro_step=150/global_step=150, RunningAvgSamplesPerSec=4459.183851938086, CurrSamplesPerSec=4430.8709704042385, MemAllocated=1.14GB, MaxMemAllocated=1.88GB\n"
     ]
    },
    {
     "name": "stderr",
     "output_type": "stream",
     "text": [
      " 16%|█▌        | 155/1000 [00:09<00:12, 66.89it/s]"
     ]
    },
    {
     "name": "stdout",
     "output_type": "stream",
     "text": [
      "[2024-04-15 18:46:18,178] [INFO] [logging.py:96:log_dist] [Rank 0] step=160, skipped=0, lr=[0.001], mom=[(0.9, 0.999)]\n",
      "[2024-04-15 18:46:18,191] [INFO] [timer.py:260:stop] epoch=0/micro_step=160/global_step=160, RunningAvgSamplesPerSec=4458.3815397145545, CurrSamplesPerSec=4427.217125987499, MemAllocated=1.14GB, MaxMemAllocated=1.88GB\n"
     ]
    },
    {
     "name": "stderr",
     "output_type": "stream",
     "text": [
      " 17%|█▋        | 169/1000 [00:09<00:12, 67.33it/s]"
     ]
    },
    {
     "name": "stdout",
     "output_type": "stream",
     "text": [
      "[2024-04-15 18:46:18,326] [INFO] [logging.py:96:log_dist] [Rank 0] step=170, skipped=0, lr=[0.001], mom=[(0.9, 0.999)]\n",
      "[2024-04-15 18:46:18,339] [INFO] [timer.py:260:stop] epoch=0/micro_step=170/global_step=170, RunningAvgSamplesPerSec=4458.59695499163, CurrSamplesPerSec=4452.182774119716, MemAllocated=1.14GB, MaxMemAllocated=1.88GB\n"
     ]
    },
    {
     "name": "stderr",
     "output_type": "stream",
     "text": [
      " 18%|█▊        | 176/1000 [00:09<00:12, 67.65it/s]"
     ]
    },
    {
     "name": "stdout",
     "output_type": "stream",
     "text": [
      "[2024-04-15 18:46:18,472] [INFO] [logging.py:96:log_dist] [Rank 0] step=180, skipped=0, lr=[0.001], mom=[(0.9, 0.999)]\n",
      "[2024-04-15 18:46:18,485] [INFO] [timer.py:260:stop] epoch=0/micro_step=180/global_step=180, RunningAvgSamplesPerSec=4460.227442749078, CurrSamplesPerSec=4461.209818683419, MemAllocated=1.14GB, MaxMemAllocated=1.88GB\n"
     ]
    },
    {
     "name": "stderr",
     "output_type": "stream",
     "text": [
      " 18%|█▊        | 183/1000 [00:09<00:12, 67.87it/s]"
     ]
    },
    {
     "name": "stdout",
     "output_type": "stream",
     "text": [
      "[2024-04-15 18:46:18,617] [INFO] [logging.py:96:log_dist] [Rank 0] step=190, skipped=0, lr=[0.001], mom=[(0.9, 0.999)]\n",
      "[2024-04-15 18:46:18,631] [INFO] [timer.py:260:stop] epoch=0/micro_step=190/global_step=190, RunningAvgSamplesPerSec=4461.492996729857, CurrSamplesPerSec=4420.436979218127, MemAllocated=1.14GB, MaxMemAllocated=1.88GB\n"
     ]
    },
    {
     "name": "stderr",
     "output_type": "stream",
     "text": [
      " 20%|█▉        | 197/1000 [00:10<00:11, 68.37it/s]"
     ]
    },
    {
     "name": "stdout",
     "output_type": "stream",
     "text": [
      "[2024-04-15 18:46:18,763] [INFO] [logging.py:96:log_dist] [Rank 0] step=200, skipped=0, lr=[0.001], mom=[(0.9, 0.999)]\n",
      "[2024-04-15 18:46:18,776] [INFO] [timer.py:260:stop] epoch=0/micro_step=200/global_step=200, RunningAvgSamplesPerSec=4462.856157998056, CurrSamplesPerSec=4461.135677723858, MemAllocated=1.14GB, MaxMemAllocated=1.88GB\n"
     ]
    },
    {
     "name": "stderr",
     "output_type": "stream",
     "text": [
      " 20%|██        | 204/1000 [00:10<00:11, 68.42it/s]"
     ]
    },
    {
     "name": "stdout",
     "output_type": "stream",
     "text": [
      "[2024-04-15 18:46:18,910] [INFO] [logging.py:96:log_dist] [Rank 0] step=210, skipped=0, lr=[0.001], mom=[(0.9, 0.999)]\n",
      "[2024-04-15 18:46:18,923] [INFO] [timer.py:260:stop] epoch=0/micro_step=210/global_step=210, RunningAvgSamplesPerSec=4463.34385284115, CurrSamplesPerSec=4423.642200322995, MemAllocated=1.14GB, MaxMemAllocated=1.88GB\n"
     ]
    },
    {
     "name": "stderr",
     "output_type": "stream",
     "text": [
      " 22%|██▏       | 218/1000 [00:10<00:11, 67.89it/s]"
     ]
    },
    {
     "name": "stdout",
     "output_type": "stream",
     "text": [
      "[2024-04-15 18:46:19,060] [INFO] [logging.py:96:log_dist] [Rank 0] step=220, skipped=0, lr=[0.001], mom=[(0.9, 0.999)]\n",
      "[2024-04-15 18:46:19,073] [INFO] [timer.py:260:stop] epoch=0/micro_step=220/global_step=220, RunningAvgSamplesPerSec=4462.702344433428, CurrSamplesPerSec=4425.538380374572, MemAllocated=1.14GB, MaxMemAllocated=1.88GB\n"
     ]
    },
    {
     "name": "stderr",
     "output_type": "stream",
     "text": [
      " 22%|██▎       | 225/1000 [00:10<00:11, 67.50it/s]"
     ]
    },
    {
     "name": "stdout",
     "output_type": "stream",
     "text": [
      "[2024-04-15 18:46:19,209] [INFO] [logging.py:96:log_dist] [Rank 0] step=230, skipped=0, lr=[0.001], mom=[(0.9, 0.999)]\n",
      "[2024-04-15 18:46:19,222] [INFO] [timer.py:260:stop] epoch=0/micro_step=230/global_step=230, RunningAvgSamplesPerSec=4461.84662189993, CurrSamplesPerSec=4424.51715839789, MemAllocated=1.14GB, MaxMemAllocated=1.88GB\n"
     ]
    },
    {
     "name": "stderr",
     "output_type": "stream",
     "text": [
      " 24%|██▍       | 239/1000 [00:10<00:11, 67.50it/s]"
     ]
    },
    {
     "name": "stdout",
     "output_type": "stream",
     "text": [
      "[2024-04-15 18:46:19,357] [INFO] [logging.py:96:log_dist] [Rank 0] step=240, skipped=0, lr=[0.001], mom=[(0.9, 0.999)]\n",
      "[2024-04-15 18:46:19,371] [INFO] [timer.py:260:stop] epoch=0/micro_step=240/global_step=240, RunningAvgSamplesPerSec=4461.53507116862, CurrSamplesPerSec=4463.2125565309925, MemAllocated=1.14GB, MaxMemAllocated=1.88GB\n"
     ]
    },
    {
     "name": "stderr",
     "output_type": "stream",
     "text": [
      " 25%|██▍       | 246/1000 [00:10<00:11, 67.63it/s]"
     ]
    },
    {
     "name": "stdout",
     "output_type": "stream",
     "text": [
      "[2024-04-15 18:46:19,503] [INFO] [logging.py:96:log_dist] [Rank 0] step=250, skipped=0, lr=[0.001], mom=[(0.9, 0.999)]\n",
      "[2024-04-15 18:46:19,517] [INFO] [timer.py:260:stop] epoch=0/micro_step=250/global_step=250, RunningAvgSamplesPerSec=4462.418544229307, CurrSamplesPerSec=4465.217093334664, MemAllocated=1.14GB, MaxMemAllocated=1.88GB\n"
     ]
    },
    {
     "name": "stderr",
     "output_type": "stream",
     "text": [
      " 25%|██▌       | 253/1000 [00:10<00:11, 67.84it/s]"
     ]
    },
    {
     "name": "stdout",
     "output_type": "stream",
     "text": [
      "[2024-04-15 18:46:19,651] [INFO] [logging.py:96:log_dist] [Rank 0] step=260, skipped=0, lr=[0.001], mom=[(0.9, 0.999)]\n",
      "[2024-04-15 18:46:19,664] [INFO] [timer.py:260:stop] epoch=0/micro_step=260/global_step=260, RunningAvgSamplesPerSec=4462.548803115573, CurrSamplesPerSec=4424.371308016877, MemAllocated=1.14GB, MaxMemAllocated=1.88GB\n"
     ]
    },
    {
     "name": "stderr",
     "output_type": "stream",
     "text": [
      " 27%|██▋       | 267/1000 [00:11<00:10, 67.61it/s]"
     ]
    },
    {
     "name": "stdout",
     "output_type": "stream",
     "text": [
      "[2024-04-15 18:46:19,801] [INFO] [logging.py:96:log_dist] [Rank 0] step=270, skipped=0, lr=[0.001], mom=[(0.9, 0.999)]\n",
      "[2024-04-15 18:46:19,813] [INFO] [timer.py:260:stop] epoch=0/micro_step=270/global_step=270, RunningAvgSamplesPerSec=4461.908192514387, CurrSamplesPerSec=4426.925078747299, MemAllocated=1.14GB, MaxMemAllocated=1.88GB\n"
     ]
    },
    {
     "name": "stderr",
     "output_type": "stream",
     "text": [
      " 27%|██▋       | 274/1000 [00:11<00:10, 67.34it/s]"
     ]
    },
    {
     "name": "stdout",
     "output_type": "stream",
     "text": [
      "[2024-04-15 18:46:19,949] [INFO] [logging.py:96:log_dist] [Rank 0] step=280, skipped=0, lr=[0.001], mom=[(0.9, 0.999)]\n",
      "[2024-04-15 18:46:19,962] [INFO] [timer.py:260:stop] epoch=0/micro_step=280/global_step=280, RunningAvgSamplesPerSec=4461.448526641, CurrSamplesPerSec=4423.933814562115, MemAllocated=1.14GB, MaxMemAllocated=1.88GB\n"
     ]
    },
    {
     "name": "stderr",
     "output_type": "stream",
     "text": [
      " 29%|██▉       | 288/1000 [00:11<00:10, 67.49it/s]"
     ]
    },
    {
     "name": "stdout",
     "output_type": "stream",
     "text": [
      "[2024-04-15 18:46:20,097] [INFO] [logging.py:96:log_dist] [Rank 0] step=290, skipped=0, lr=[0.001], mom=[(0.9, 0.999)]\n",
      "[2024-04-15 18:46:20,110] [INFO] [timer.py:260:stop] epoch=0/micro_step=290/global_step=290, RunningAvgSamplesPerSec=4461.51619113925, CurrSamplesPerSec=4466.777422790203, MemAllocated=1.14GB, MaxMemAllocated=1.88GB\n"
     ]
    },
    {
     "name": "stderr",
     "output_type": "stream",
     "text": [
      " 30%|██▉       | 295/1000 [00:11<00:10, 67.69it/s]"
     ]
    },
    {
     "name": "stdout",
     "output_type": "stream",
     "text": [
      "[2024-04-15 18:46:20,243] [INFO] [logging.py:96:log_dist] [Rank 0] step=300, skipped=0, lr=[0.001], mom=[(0.9, 0.999)]\n",
      "[2024-04-15 18:46:20,256] [INFO] [timer.py:260:stop] epoch=0/micro_step=300/global_step=300, RunningAvgSamplesPerSec=4462.367533389199, CurrSamplesPerSec=4472.135412501666, MemAllocated=1.14GB, MaxMemAllocated=1.88GB\n"
     ]
    },
    {
     "name": "stderr",
     "output_type": "stream",
     "text": [
      " 31%|███       | 309/1000 [00:11<00:10, 68.24it/s]"
     ]
    },
    {
     "name": "stdout",
     "output_type": "stream",
     "text": [
      "[2024-04-15 18:46:20,389] [INFO] [logging.py:96:log_dist] [Rank 0] step=310, skipped=0, lr=[0.001], mom=[(0.9, 0.999)]\n",
      "[2024-04-15 18:46:20,402] [INFO] [timer.py:260:stop] epoch=0/micro_step=310/global_step=310, RunningAvgSamplesPerSec=4463.166056062376, CurrSamplesPerSec=4469.9757880538855, MemAllocated=1.14GB, MaxMemAllocated=1.88GB\n"
     ]
    },
    {
     "name": "stderr",
     "output_type": "stream",
     "text": [
      " 32%|███▏      | 316/1000 [00:11<00:10, 68.10it/s]"
     ]
    },
    {
     "name": "stdout",
     "output_type": "stream",
     "text": [
      "[2024-04-15 18:46:20,537] [INFO] [logging.py:96:log_dist] [Rank 0] step=320, skipped=0, lr=[0.001], mom=[(0.9, 0.999)]\n",
      "[2024-04-15 18:46:20,550] [INFO] [timer.py:260:stop] epoch=0/micro_step=320/global_step=320, RunningAvgSamplesPerSec=4463.2526949714575, CurrSamplesPerSec=4428.458756763891, MemAllocated=1.14GB, MaxMemAllocated=1.88GB\n"
     ]
    },
    {
     "name": "stderr",
     "output_type": "stream",
     "text": [
      " 32%|███▏      | 323/1000 [00:11<00:09, 67.74it/s]"
     ]
    },
    {
     "name": "stdout",
     "output_type": "stream",
     "text": [
      "[2024-04-15 18:46:20,686] [INFO] [logging.py:96:log_dist] [Rank 0] step=330, skipped=0, lr=[0.001], mom=[(0.9, 0.999)]\n",
      "[2024-04-15 18:46:20,699] [INFO] [timer.py:260:stop] epoch=0/micro_step=330/global_step=330, RunningAvgSamplesPerSec=4462.87909445252, CurrSamplesPerSec=4431.675625701644, MemAllocated=1.14GB, MaxMemAllocated=1.88GB\n"
     ]
    },
    {
     "name": "stderr",
     "output_type": "stream",
     "text": [
      " 34%|███▎      | 337/1000 [00:12<00:09, 67.55it/s]"
     ]
    },
    {
     "name": "stdout",
     "output_type": "stream",
     "text": [
      "[2024-04-15 18:46:20,835] [INFO] [logging.py:96:log_dist] [Rank 0] step=340, skipped=0, lr=[0.001], mom=[(0.9, 0.999)]\n",
      "[2024-04-15 18:46:20,848] [INFO] [timer.py:260:stop] epoch=0/micro_step=340/global_step=340, RunningAvgSamplesPerSec=4462.450400115207, CurrSamplesPerSec=4438.343545906979, MemAllocated=1.14GB, MaxMemAllocated=1.88GB\n"
     ]
    },
    {
     "name": "stderr",
     "output_type": "stream",
     "text": [
      " 34%|███▍      | 344/1000 [00:12<00:09, 67.56it/s]"
     ]
    },
    {
     "name": "stdout",
     "output_type": "stream",
     "text": [
      "[2024-04-15 18:46:20,980] [INFO] [logging.py:96:log_dist] [Rank 0] step=350, skipped=0, lr=[0.001], mom=[(0.9, 0.999)]\n",
      "[2024-04-15 18:46:20,994] [INFO] [timer.py:260:stop] epoch=0/micro_step=350/global_step=350, RunningAvgSamplesPerSec=4463.005933042828, CurrSamplesPerSec=4459.801561721216, MemAllocated=1.14GB, MaxMemAllocated=1.88GB\n"
     ]
    },
    {
     "name": "stderr",
     "output_type": "stream",
     "text": [
      " 36%|███▌      | 358/1000 [00:12<00:09, 68.12it/s]"
     ]
    },
    {
     "name": "stdout",
     "output_type": "stream",
     "text": [
      "[2024-04-15 18:46:21,127] [INFO] [logging.py:96:log_dist] [Rank 0] step=360, skipped=0, lr=[0.001], mom=[(0.9, 0.999)]\n",
      "[2024-04-15 18:46:21,140] [INFO] [timer.py:260:stop] epoch=0/micro_step=360/global_step=360, RunningAvgSamplesPerSec=4463.693307049071, CurrSamplesPerSec=4473.327822956939, MemAllocated=1.14GB, MaxMemAllocated=1.88GB\n"
     ]
    },
    {
     "name": "stderr",
     "output_type": "stream",
     "text": [
      " 36%|███▋      | 365/1000 [00:12<00:09, 68.22it/s]"
     ]
    },
    {
     "name": "stdout",
     "output_type": "stream",
     "text": [
      "[2024-04-15 18:46:21,272] [INFO] [logging.py:96:log_dist] [Rank 0] step=370, skipped=0, lr=[0.001], mom=[(0.9, 0.999)]\n",
      "[2024-04-15 18:46:21,286] [INFO] [timer.py:260:stop] epoch=0/micro_step=370/global_step=370, RunningAvgSamplesPerSec=4464.369747083404, CurrSamplesPerSec=4465.514214895281, MemAllocated=1.14GB, MaxMemAllocated=1.88GB\n"
     ]
    },
    {
     "name": "stderr",
     "output_type": "stream",
     "text": [
      " 38%|███▊      | 379/1000 [00:12<00:09, 68.53it/s]"
     ]
    },
    {
     "name": "stdout",
     "output_type": "stream",
     "text": [
      "[2024-04-15 18:46:21,418] [INFO] [logging.py:96:log_dist] [Rank 0] step=380, skipped=0, lr=[0.001], mom=[(0.9, 0.999)]\n",
      "[2024-04-15 18:46:21,432] [INFO] [timer.py:260:stop] epoch=0/micro_step=380/global_step=380, RunningAvgSamplesPerSec=4464.906062002017, CurrSamplesPerSec=4428.385700381081, MemAllocated=1.14GB, MaxMemAllocated=1.88GB\n"
     ]
    },
    {
     "name": "stderr",
     "output_type": "stream",
     "text": [
      " 39%|███▊      | 386/1000 [00:12<00:08, 68.26it/s]"
     ]
    },
    {
     "name": "stdout",
     "output_type": "stream",
     "text": [
      "[2024-04-15 18:46:21,567] [INFO] [logging.py:96:log_dist] [Rank 0] step=390, skipped=0, lr=[0.001], mom=[(0.9, 0.999)]\n",
      "[2024-04-15 18:46:21,580] [INFO] [timer.py:260:stop] epoch=0/micro_step=390/global_step=390, RunningAvgSamplesPerSec=4464.810146915734, CurrSamplesPerSec=4431.529303001288, MemAllocated=1.14GB, MaxMemAllocated=1.88GB\n"
     ]
    },
    {
     "name": "stderr",
     "output_type": "stream",
     "text": [
      " 39%|███▉      | 393/1000 [00:12<00:08, 67.79it/s]"
     ]
    },
    {
     "name": "stdout",
     "output_type": "stream",
     "text": [
      "[2024-04-15 18:46:21,716] [INFO] [logging.py:96:log_dist] [Rank 0] step=400, skipped=0, lr=[0.001], mom=[(0.9, 0.999)]\n",
      "[2024-04-15 18:46:21,729] [INFO] [timer.py:260:stop] epoch=0/micro_step=400/global_step=400, RunningAvgSamplesPerSec=4464.341822412421, CurrSamplesPerSec=4430.066607254844, MemAllocated=1.14GB, MaxMemAllocated=1.88GB\n"
     ]
    },
    {
     "name": "stderr",
     "output_type": "stream",
     "text": [
      " 41%|████      | 407/1000 [00:13<00:08, 67.52it/s]"
     ]
    },
    {
     "name": "stdout",
     "output_type": "stream",
     "text": [
      "[2024-04-15 18:46:21,865] [INFO] [logging.py:96:log_dist] [Rank 0] step=410, skipped=0, lr=[0.001], mom=[(0.9, 0.999)]\n",
      "[2024-04-15 18:46:21,878] [INFO] [timer.py:260:stop] epoch=0/micro_step=410/global_step=410, RunningAvgSamplesPerSec=4463.827591928404, CurrSamplesPerSec=4422.986208828327, MemAllocated=1.14GB, MaxMemAllocated=1.88GB\n"
     ]
    },
    {
     "name": "stderr",
     "output_type": "stream",
     "text": [
      " 41%|████▏     | 414/1000 [00:13<00:08, 67.36it/s]"
     ]
    },
    {
     "name": "stdout",
     "output_type": "stream",
     "text": [
      "[2024-04-15 18:46:22,012] [INFO] [logging.py:96:log_dist] [Rank 0] step=420, skipped=0, lr=[0.001], mom=[(0.9, 0.999)]\n",
      "[2024-04-15 18:46:22,025] [INFO] [timer.py:260:stop] epoch=0/micro_step=420/global_step=420, RunningAvgSamplesPerSec=4464.043210256214, CurrSamplesPerSec=4463.2125565309925, MemAllocated=1.14GB, MaxMemAllocated=1.88GB\n"
     ]
    },
    {
     "name": "stderr",
     "output_type": "stream",
     "text": [
      " 43%|████▎     | 428/1000 [00:13<00:08, 68.01it/s]"
     ]
    },
    {
     "name": "stdout",
     "output_type": "stream",
     "text": [
      "[2024-04-15 18:46:22,158] [INFO] [logging.py:96:log_dist] [Rank 0] step=430, skipped=0, lr=[0.001], mom=[(0.9, 0.999)]\n",
      "[2024-04-15 18:46:22,171] [INFO] [timer.py:260:stop] epoch=0/micro_step=430/global_step=430, RunningAvgSamplesPerSec=4464.49250469763, CurrSamplesPerSec=4468.561992275935, MemAllocated=1.14GB, MaxMemAllocated=1.88GB\n"
     ]
    },
    {
     "name": "stderr",
     "output_type": "stream",
     "text": [
      " 44%|████▎     | 435/1000 [00:13<00:08, 67.86it/s]"
     ]
    },
    {
     "name": "stdout",
     "output_type": "stream",
     "text": [
      "[2024-04-15 18:46:22,307] [INFO] [logging.py:96:log_dist] [Rank 0] step=440, skipped=0, lr=[0.001], mom=[(0.9, 0.999)]\n",
      "[2024-04-15 18:46:22,320] [INFO] [timer.py:260:stop] epoch=0/micro_step=440/global_step=440, RunningAvgSamplesPerSec=4464.370717184436, CurrSamplesPerSec=4432.40738416829, MemAllocated=1.14GB, MaxMemAllocated=1.88GB\n"
     ]
    },
    {
     "name": "stderr",
     "output_type": "stream",
     "text": [
      " 45%|████▍     | 449/1000 [00:13<00:08, 67.51it/s]"
     ]
    },
    {
     "name": "stdout",
     "output_type": "stream",
     "text": [
      "[2024-04-15 18:46:22,457] [INFO] [logging.py:96:log_dist] [Rank 0] step=450, skipped=0, lr=[0.001], mom=[(0.9, 0.999)]\n",
      "[2024-04-15 18:46:22,470] [INFO] [timer.py:260:stop] epoch=0/micro_step=450/global_step=450, RunningAvgSamplesPerSec=4463.800837987925, CurrSamplesPerSec=4415.855763378243, MemAllocated=1.14GB, MaxMemAllocated=1.88GB\n"
     ]
    },
    {
     "name": "stderr",
     "output_type": "stream",
     "text": [
      " 46%|████▌     | 456/1000 [00:13<00:08, 67.24it/s]"
     ]
    },
    {
     "name": "stdout",
     "output_type": "stream",
     "text": [
      "[2024-04-15 18:46:22,607] [INFO] [logging.py:96:log_dist] [Rank 0] step=460, skipped=0, lr=[0.001], mom=[(0.9, 0.999)]\n",
      "[2024-04-15 18:46:22,619] [INFO] [timer.py:260:stop] epoch=0/micro_step=460/global_step=460, RunningAvgSamplesPerSec=4463.323710433582, CurrSamplesPerSec=4440.986946811151, MemAllocated=1.14GB, MaxMemAllocated=1.88GB\n"
     ]
    },
    {
     "name": "stderr",
     "output_type": "stream",
     "text": [
      " 46%|████▋     | 463/1000 [00:13<00:07, 67.14it/s]"
     ]
    },
    {
     "name": "stdout",
     "output_type": "stream",
     "text": [
      "[2024-04-15 18:46:22,752] [INFO] [logging.py:96:log_dist] [Rank 0] step=470, skipped=0, lr=[0.001], mom=[(0.9, 0.999)]\n",
      "[2024-04-15 18:46:22,766] [INFO] [timer.py:260:stop] epoch=0/micro_step=470/global_step=470, RunningAvgSamplesPerSec=4463.589499170635, CurrSamplesPerSec=4461.135677723858, MemAllocated=1.14GB, MaxMemAllocated=1.88GB\n"
     ]
    },
    {
     "name": "stderr",
     "output_type": "stream",
     "text": [
      " 48%|████▊     | 477/1000 [00:14<00:07, 67.91it/s]"
     ]
    },
    {
     "name": "stdout",
     "output_type": "stream",
     "text": [
      "[2024-04-15 18:46:22,899] [INFO] [logging.py:96:log_dist] [Rank 0] step=480, skipped=0, lr=[0.001], mom=[(0.9, 0.999)]\n",
      "[2024-04-15 18:46:22,912] [INFO] [timer.py:260:stop] epoch=0/micro_step=480/global_step=480, RunningAvgSamplesPerSec=4463.9982521431075, CurrSamplesPerSec=4463.732078420939, MemAllocated=1.14GB, MaxMemAllocated=1.88GB\n"
     ]
    },
    {
     "name": "stderr",
     "output_type": "stream",
     "text": [
      " 48%|████▊     | 484/1000 [00:14<00:07, 68.04it/s]"
     ]
    },
    {
     "name": "stdout",
     "output_type": "stream",
     "text": [
      "[2024-04-15 18:46:23,044] [INFO] [logging.py:96:log_dist] [Rank 0] step=490, skipped=0, lr=[0.001], mom=[(0.9, 0.999)]\n",
      "[2024-04-15 18:46:23,058] [INFO] [timer.py:260:stop] epoch=0/micro_step=490/global_step=490, RunningAvgSamplesPerSec=4464.481917905392, CurrSamplesPerSec=4456.321795574148, MemAllocated=1.14GB, MaxMemAllocated=1.88GB\n"
     ]
    },
    {
     "name": "stderr",
     "output_type": "stream",
     "text": [
      " 50%|████▉     | 498/1000 [00:14<00:07, 67.91it/s]"
     ]
    },
    {
     "name": "stdout",
     "output_type": "stream",
     "text": [
      "[2024-04-15 18:46:23,194] [INFO] [logging.py:96:log_dist] [Rank 0] step=500, skipped=0, lr=[0.001], mom=[(0.9, 0.999)]\n",
      "[2024-04-15 18:46:23,207] [INFO] [timer.py:260:stop] epoch=0/micro_step=500/global_step=500, RunningAvgSamplesPerSec=4464.2913777012745, CurrSamplesPerSec=4427.217125987499, MemAllocated=1.14GB, MaxMemAllocated=1.88GB\n"
     ]
    },
    {
     "name": "stderr",
     "output_type": "stream",
     "text": [
      " 50%|█████     | 505/1000 [00:14<00:07, 67.52it/s]"
     ]
    },
    {
     "name": "stdout",
     "output_type": "stream",
     "text": [
      "[2024-04-15 18:46:23,343] [INFO] [logging.py:96:log_dist] [Rank 0] step=510, skipped=0, lr=[0.001], mom=[(0.9, 0.999)]\n",
      "[2024-04-15 18:46:23,356] [INFO] [timer.py:260:stop] epoch=0/micro_step=510/global_step=510, RunningAvgSamplesPerSec=4463.86650760249, CurrSamplesPerSec=4423.933814562115, MemAllocated=1.14GB, MaxMemAllocated=1.88GB\n"
     ]
    },
    {
     "name": "stderr",
     "output_type": "stream",
     "text": [
      " 52%|█████▏    | 519/1000 [00:14<00:07, 67.42it/s]"
     ]
    },
    {
     "name": "stdout",
     "output_type": "stream",
     "text": [
      "[2024-04-15 18:46:23,492] [INFO] [logging.py:96:log_dist] [Rank 0] step=520, skipped=0, lr=[0.001], mom=[(0.9, 0.999)]\n",
      "[2024-04-15 18:46:23,505] [INFO] [timer.py:260:stop] epoch=0/micro_step=520/global_step=520, RunningAvgSamplesPerSec=4463.521733422178, CurrSamplesPerSec=4459.357033689947, MemAllocated=1.14GB, MaxMemAllocated=1.88GB\n"
     ]
    },
    {
     "name": "stderr",
     "output_type": "stream",
     "text": [
      " 53%|█████▎    | 526/1000 [00:14<00:07, 67.61it/s]"
     ]
    },
    {
     "name": "stdout",
     "output_type": "stream",
     "text": [
      "[2024-04-15 18:46:23,638] [INFO] [logging.py:96:log_dist] [Rank 0] step=530, skipped=0, lr=[0.001], mom=[(0.9, 0.999)]\n",
      "[2024-04-15 18:46:23,651] [INFO] [timer.py:260:stop] epoch=0/micro_step=530/global_step=530, RunningAvgSamplesPerSec=4463.866336018582, CurrSamplesPerSec=4463.509411373462, MemAllocated=1.14GB, MaxMemAllocated=1.88GB\n"
     ]
    },
    {
     "name": "stderr",
     "output_type": "stream",
     "text": [
      " 53%|█████▎    | 533/1000 [00:14<00:06, 67.84it/s]"
     ]
    },
    {
     "name": "stdout",
     "output_type": "stream",
     "text": [
      "[2024-04-15 18:46:23,784] [INFO] [logging.py:96:log_dist] [Rank 0] step=540, skipped=0, lr=[0.001], mom=[(0.9, 0.999)]\n",
      "[2024-04-15 18:46:23,797] [INFO] [timer.py:260:stop] epoch=0/micro_step=540/global_step=540, RunningAvgSamplesPerSec=4464.275595184349, CurrSamplesPerSec=4466.108576657516, MemAllocated=1.14GB, MaxMemAllocated=1.88GB\n"
     ]
    },
    {
     "name": "stderr",
     "output_type": "stream",
     "text": [
      " 55%|█████▍    | 547/1000 [00:15<00:06, 68.34it/s]"
     ]
    },
    {
     "name": "stdout",
     "output_type": "stream",
     "text": [
      "[2024-04-15 18:46:23,929] [INFO] [logging.py:96:log_dist] [Rank 0] step=550, skipped=0, lr=[0.001], mom=[(0.9, 0.999)]\n",
      "[2024-04-15 18:46:23,943] [INFO] [timer.py:260:stop] epoch=0/micro_step=550/global_step=550, RunningAvgSamplesPerSec=4464.690721379143, CurrSamplesPerSec=4461.506407166719, MemAllocated=1.14GB, MaxMemAllocated=1.88GB\n"
     ]
    },
    {
     "name": "stderr",
     "output_type": "stream",
     "text": [
      " 55%|█████▌    | 554/1000 [00:15<00:06, 68.36it/s]"
     ]
    },
    {
     "name": "stdout",
     "output_type": "stream",
     "text": [
      "[2024-04-15 18:46:24,076] [INFO] [logging.py:96:log_dist] [Rank 0] step=560, skipped=0, lr=[0.001], mom=[(0.9, 0.999)]\n",
      "[2024-04-15 18:46:24,089] [INFO] [timer.py:260:stop] epoch=0/micro_step=560/global_step=560, RunningAvgSamplesPerSec=4465.038865996207, CurrSamplesPerSec=4428.751006401372, MemAllocated=1.14GB, MaxMemAllocated=1.88GB\n"
     ]
    },
    {
     "name": "stderr",
     "output_type": "stream",
     "text": [
      " 57%|█████▋    | 568/1000 [00:15<00:06, 67.98it/s]"
     ]
    },
    {
     "name": "stdout",
     "output_type": "stream",
     "text": [
      "[2024-04-15 18:46:24,226] [INFO] [logging.py:96:log_dist] [Rank 0] step=570, skipped=0, lr=[0.001], mom=[(0.9, 0.999)]\n",
      "[2024-04-15 18:46:24,239] [INFO] [timer.py:260:stop] epoch=0/micro_step=570/global_step=570, RunningAvgSamplesPerSec=4464.804562722545, CurrSamplesPerSec=4426.487080124664, MemAllocated=1.14GB, MaxMemAllocated=1.88GB\n"
     ]
    },
    {
     "name": "stderr",
     "output_type": "stream",
     "text": [
      " 57%|█████▊    | 575/1000 [00:15<00:06, 67.50it/s]"
     ]
    },
    {
     "name": "stdout",
     "output_type": "stream",
     "text": [
      "[2024-04-15 18:46:24,375] [INFO] [logging.py:96:log_dist] [Rank 0] step=580, skipped=0, lr=[0.001], mom=[(0.9, 0.999)]\n",
      "[2024-04-15 18:46:24,388] [INFO] [timer.py:260:stop] epoch=0/micro_step=580/global_step=580, RunningAvgSamplesPerSec=4464.398799850204, CurrSamplesPerSec=4424.808888009758, MemAllocated=1.14GB, MaxMemAllocated=1.88GB\n"
     ]
    },
    {
     "name": "stderr",
     "output_type": "stream",
     "text": [
      " 59%|█████▉    | 589/1000 [00:15<00:06, 67.34it/s]"
     ]
    },
    {
     "name": "stdout",
     "output_type": "stream",
     "text": [
      "[2024-04-15 18:46:24,524] [INFO] [logging.py:96:log_dist] [Rank 0] step=590, skipped=0, lr=[0.001], mom=[(0.9, 0.999)]\n",
      "[2024-04-15 18:46:24,537] [INFO] [timer.py:260:stop] epoch=0/micro_step=590/global_step=590, RunningAvgSamplesPerSec=4464.024457325931, CurrSamplesPerSec=4464.251721270581, MemAllocated=1.14GB, MaxMemAllocated=1.88GB\n"
     ]
    },
    {
     "name": "stderr",
     "output_type": "stream",
     "text": [
      " 60%|█████▉    | 596/1000 [00:15<00:05, 67.55it/s]"
     ]
    },
    {
     "name": "stdout",
     "output_type": "stream",
     "text": [
      "[2024-04-15 18:46:24,670] [INFO] [logging.py:96:log_dist] [Rank 0] step=600, skipped=0, lr=[0.001], mom=[(0.9, 0.999)]\n",
      "[2024-04-15 18:46:24,683] [INFO] [timer.py:260:stop] epoch=0/micro_step=600/global_step=600, RunningAvgSamplesPerSec=4464.262398431221, CurrSamplesPerSec=4460.394403642285, MemAllocated=1.14GB, MaxMemAllocated=1.88GB\n"
     ]
    },
    {
     "name": "stderr",
     "output_type": "stream",
     "text": [
      " 60%|██████    | 603/1000 [00:15<00:05, 67.78it/s]"
     ]
    },
    {
     "name": "stdout",
     "output_type": "stream",
     "text": [
      "[2024-04-15 18:46:24,817] [INFO] [logging.py:96:log_dist] [Rank 0] step=610, skipped=0, lr=[0.001], mom=[(0.9, 0.999)]\n",
      "[2024-04-15 18:46:24,830] [INFO] [timer.py:260:stop] epoch=0/micro_step=610/global_step=610, RunningAvgSamplesPerSec=4464.459441317652, CurrSamplesPerSec=4428.0934989525085, MemAllocated=1.14GB, MaxMemAllocated=1.88GB\n"
     ]
    },
    {
     "name": "stderr",
     "output_type": "stream",
     "text": [
      " 62%|██████▏   | 617/1000 [00:16<00:05, 67.73it/s]"
     ]
    },
    {
     "name": "stdout",
     "output_type": "stream",
     "text": [
      "[2024-04-15 18:46:24,966] [INFO] [logging.py:96:log_dist] [Rank 0] step=620, skipped=0, lr=[0.001], mom=[(0.9, 0.999)]\n",
      "[2024-04-15 18:46:24,979] [INFO] [timer.py:260:stop] epoch=0/micro_step=620/global_step=620, RunningAvgSamplesPerSec=4464.269861706031, CurrSamplesPerSec=4426.998086945049, MemAllocated=1.14GB, MaxMemAllocated=1.88GB\n"
     ]
    },
    {
     "name": "stderr",
     "output_type": "stream",
     "text": [
      " 62%|██████▏   | 624/1000 [00:16<00:05, 67.42it/s]"
     ]
    },
    {
     "name": "stdout",
     "output_type": "stream",
     "text": [
      "[2024-04-15 18:46:25,115] [INFO] [logging.py:96:log_dist] [Rank 0] step=630, skipped=0, lr=[0.001], mom=[(0.9, 0.999)]\n",
      "[2024-04-15 18:46:25,128] [INFO] [timer.py:260:stop] epoch=0/micro_step=630/global_step=630, RunningAvgSamplesPerSec=4463.980536773526, CurrSamplesPerSec=4424.51715839789, MemAllocated=1.14GB, MaxMemAllocated=1.88GB\n"
     ]
    },
    {
     "name": "stderr",
     "output_type": "stream",
     "text": [
      " 64%|██████▍   | 638/1000 [00:16<00:05, 67.34it/s]"
     ]
    },
    {
     "name": "stdout",
     "output_type": "stream",
     "text": [
      "[2024-04-15 18:46:25,264] [INFO] [logging.py:96:log_dist] [Rank 0] step=640, skipped=0, lr=[0.001], mom=[(0.9, 0.999)]\n",
      "[2024-04-15 18:46:25,277] [INFO] [timer.py:260:stop] epoch=0/micro_step=640/global_step=640, RunningAvgSamplesPerSec=4463.78582896777, CurrSamplesPerSec=4462.025531914894, MemAllocated=1.14GB, MaxMemAllocated=1.88GB\n"
     ]
    },
    {
     "name": "stderr",
     "output_type": "stream",
     "text": [
      " 64%|██████▍   | 645/1000 [00:16<00:05, 67.57it/s]"
     ]
    },
    {
     "name": "stdout",
     "output_type": "stream",
     "text": [
      "[2024-04-15 18:46:25,410] [INFO] [logging.py:96:log_dist] [Rank 0] step=650, skipped=0, lr=[0.001], mom=[(0.9, 0.999)]\n",
      "[2024-04-15 18:46:25,423] [INFO] [timer.py:260:stop] epoch=0/micro_step=650/global_step=650, RunningAvgSamplesPerSec=4464.107593030121, CurrSamplesPerSec=4462.322228871601, MemAllocated=1.14GB, MaxMemAllocated=1.88GB\n"
     ]
    },
    {
     "name": "stderr",
     "output_type": "stream",
     "text": [
      " 66%|██████▌   | 659/1000 [00:16<00:05, 68.14it/s]"
     ]
    },
    {
     "name": "stdout",
     "output_type": "stream",
     "text": [
      "[2024-04-15 18:46:25,556] [INFO] [logging.py:96:log_dist] [Rank 0] step=660, skipped=0, lr=[0.001], mom=[(0.9, 0.999)]\n",
      "[2024-04-15 18:46:25,569] [INFO] [timer.py:260:stop] epoch=0/micro_step=660/global_step=660, RunningAvgSamplesPerSec=4464.421539612934, CurrSamplesPerSec=4449.52603225646, MemAllocated=1.14GB, MaxMemAllocated=1.88GB\n"
     ]
    },
    {
     "name": "stderr",
     "output_type": "stream",
     "text": [
      " 67%|██████▋   | 666/1000 [00:16<00:04, 68.11it/s]"
     ]
    },
    {
     "name": "stdout",
     "output_type": "stream",
     "text": [
      "[2024-04-15 18:46:25,704] [INFO] [logging.py:96:log_dist] [Rank 0] step=670, skipped=0, lr=[0.001], mom=[(0.9, 0.999)]\n",
      "[2024-04-15 18:46:25,717] [INFO] [timer.py:260:stop] epoch=0/micro_step=670/global_step=670, RunningAvgSamplesPerSec=4464.55593961603, CurrSamplesPerSec=4427.290143818445, MemAllocated=1.14GB, MaxMemAllocated=1.88GB\n"
     ]
    },
    {
     "name": "stderr",
     "output_type": "stream",
     "text": [
      " 67%|██████▋   | 673/1000 [00:17<00:04, 67.59it/s]"
     ]
    },
    {
     "name": "stdout",
     "output_type": "stream",
     "text": [
      "[2024-04-15 18:46:25,853] [INFO] [logging.py:96:log_dist] [Rank 0] step=680, skipped=0, lr=[0.001], mom=[(0.9, 0.999)]\n",
      "[2024-04-15 18:46:25,867] [INFO] [timer.py:260:stop] epoch=0/micro_step=680/global_step=680, RunningAvgSamplesPerSec=4464.286872152763, CurrSamplesPerSec=4424.07963609994, MemAllocated=1.14GB, MaxMemAllocated=1.88GB\n"
     ]
    },
    {
     "name": "stderr",
     "output_type": "stream",
     "text": [
      " 69%|██████▊   | 687/1000 [00:17<00:04, 67.41it/s]"
     ]
    },
    {
     "name": "stdout",
     "output_type": "stream",
     "text": [
      "[2024-04-15 18:46:26,003] [INFO] [logging.py:96:log_dist] [Rank 0] step=690, skipped=0, lr=[0.001], mom=[(0.9, 0.999)]\n",
      "[2024-04-15 18:46:26,016] [INFO] [timer.py:260:stop] epoch=0/micro_step=690/global_step=690, RunningAvgSamplesPerSec=4463.987784554952, CurrSamplesPerSec=4424.8818264238025, MemAllocated=1.14GB, MaxMemAllocated=1.88GB\n"
     ]
    },
    {
     "name": "stderr",
     "output_type": "stream",
     "text": [
      " 69%|██████▉   | 694/1000 [00:17<00:04, 67.26it/s]"
     ]
    },
    {
     "name": "stdout",
     "output_type": "stream",
     "text": [
      "[2024-04-15 18:46:26,150] [INFO] [logging.py:96:log_dist] [Rank 0] step=700, skipped=0, lr=[0.001], mom=[(0.9, 0.999)]\n",
      "[2024-04-15 18:46:26,163] [INFO] [timer.py:260:stop] epoch=0/micro_step=700/global_step=700, RunningAvgSamplesPerSec=4464.078670807391, CurrSamplesPerSec=4462.841543500307, MemAllocated=1.14GB, MaxMemAllocated=1.88GB\n"
     ]
    },
    {
     "name": "stderr",
     "output_type": "stream",
     "text": [
      " 71%|███████   | 708/1000 [00:17<00:04, 67.94it/s]"
     ]
    },
    {
     "name": "stdout",
     "output_type": "stream",
     "text": [
      "[2024-04-15 18:46:26,296] [INFO] [logging.py:96:log_dist] [Rank 0] step=710, skipped=0, lr=[0.001], mom=[(0.9, 0.999)]\n",
      "[2024-04-15 18:46:26,310] [INFO] [timer.py:260:stop] epoch=0/micro_step=710/global_step=710, RunningAvgSamplesPerSec=4464.211558923954, CurrSamplesPerSec=4388.351414091875, MemAllocated=1.14GB, MaxMemAllocated=1.88GB\n"
     ]
    },
    {
     "name": "stderr",
     "output_type": "stream",
     "text": [
      " 72%|███████▏  | 715/1000 [00:17<00:04, 67.90it/s]"
     ]
    },
    {
     "name": "stdout",
     "output_type": "stream",
     "text": [
      "[2024-04-15 18:46:26,443] [INFO] [logging.py:96:log_dist] [Rank 0] step=720, skipped=0, lr=[0.001], mom=[(0.9, 0.999)]\n",
      "[2024-04-15 18:46:26,456] [INFO] [timer.py:260:stop] epoch=0/micro_step=720/global_step=720, RunningAvgSamplesPerSec=4464.4420942622355, CurrSamplesPerSec=4460.320289782829, MemAllocated=1.14GB, MaxMemAllocated=1.88GB\n"
     ]
    },
    {
     "name": "stderr",
     "output_type": "stream",
     "text": [
      " 73%|███████▎  | 729/1000 [00:17<00:03, 68.34it/s]"
     ]
    },
    {
     "name": "stdout",
     "output_type": "stream",
     "text": [
      "[2024-04-15 18:46:26,589] [INFO] [logging.py:96:log_dist] [Rank 0] step=730, skipped=0, lr=[0.001], mom=[(0.9, 0.999)]\n",
      "[2024-04-15 18:46:26,602] [INFO] [timer.py:260:stop] epoch=0/micro_step=730/global_step=730, RunningAvgSamplesPerSec=4464.756490238873, CurrSamplesPerSec=4461.5805604494235, MemAllocated=1.14GB, MaxMemAllocated=1.88GB\n"
     ]
    },
    {
     "name": "stderr",
     "output_type": "stream",
     "text": [
      " 74%|███████▎  | 736/1000 [00:17<00:03, 68.39it/s]"
     ]
    },
    {
     "name": "stdout",
     "output_type": "stream",
     "text": [
      "[2024-04-15 18:46:26,735] [INFO] [logging.py:96:log_dist] [Rank 0] step=740, skipped=0, lr=[0.001], mom=[(0.9, 0.999)]\n",
      "[2024-04-15 18:46:26,748] [INFO] [timer.py:260:stop] epoch=0/micro_step=740/global_step=740, RunningAvgSamplesPerSec=4464.979082398855, CurrSamplesPerSec=4429.481799280552, MemAllocated=1.14GB, MaxMemAllocated=1.88GB\n"
     ]
    },
    {
     "name": "stderr",
     "output_type": "stream",
     "text": [
      " 74%|███████▍  | 743/1000 [00:18<00:03, 68.06it/s]"
     ]
    },
    {
     "name": "stdout",
     "output_type": "stream",
     "text": [
      "[2024-04-15 18:46:26,884] [INFO] [logging.py:96:log_dist] [Rank 0] step=750, skipped=0, lr=[0.001], mom=[(0.9, 0.999)]\n",
      "[2024-04-15 18:46:26,897] [INFO] [timer.py:260:stop] epoch=0/micro_step=750/global_step=750, RunningAvgSamplesPerSec=4464.857462312828, CurrSamplesPerSec=4433.725158562368, MemAllocated=1.14GB, MaxMemAllocated=1.88GB\n"
     ]
    },
    {
     "name": "stderr",
     "output_type": "stream",
     "text": [
      " 76%|███████▌  | 757/1000 [00:18<00:03, 67.67it/s]"
     ]
    },
    {
     "name": "stdout",
     "output_type": "stream",
     "text": [
      "[2024-04-15 18:46:27,034] [INFO] [logging.py:96:log_dist] [Rank 0] step=760, skipped=0, lr=[0.001], mom=[(0.9, 0.999)]\n",
      "[2024-04-15 18:46:27,046] [INFO] [timer.py:260:stop] epoch=0/micro_step=760/global_step=760, RunningAvgSamplesPerSec=4464.5905434156, CurrSamplesPerSec=4427.071097550919, MemAllocated=1.14GB, MaxMemAllocated=1.88GB\n"
     ]
    },
    {
     "name": "stderr",
     "output_type": "stream",
     "text": [
      " 76%|███████▋  | 764/1000 [00:18<00:03, 67.38it/s]"
     ]
    },
    {
     "name": "stdout",
     "output_type": "stream",
     "text": [
      "[2024-04-15 18:46:27,182] [INFO] [logging.py:96:log_dist] [Rank 0] step=770, skipped=0, lr=[0.001], mom=[(0.9, 0.999)]\n",
      "[2024-04-15 18:46:27,195] [INFO] [timer.py:260:stop] epoch=0/micro_step=770/global_step=770, RunningAvgSamplesPerSec=4464.433663524056, CurrSamplesPerSec=4462.6189652879375, MemAllocated=1.14GB, MaxMemAllocated=1.88GB\n"
     ]
    },
    {
     "name": "stderr",
     "output_type": "stream",
     "text": [
      " 78%|███████▊  | 778/1000 [00:18<00:03, 67.82it/s]"
     ]
    },
    {
     "name": "stdout",
     "output_type": "stream",
     "text": [
      "[2024-04-15 18:46:27,328] [INFO] [logging.py:96:log_dist] [Rank 0] step=780, skipped=0, lr=[0.001], mom=[(0.9, 0.999)]\n",
      "[2024-04-15 18:46:27,341] [INFO] [timer.py:260:stop] epoch=0/micro_step=780/global_step=780, RunningAvgSamplesPerSec=4464.603402814454, CurrSamplesPerSec=4462.099702455161, MemAllocated=1.14GB, MaxMemAllocated=1.88GB\n"
     ]
    },
    {
     "name": "stderr",
     "output_type": "stream",
     "text": [
      " 78%|███████▊  | 785/1000 [00:18<00:03, 67.93it/s]"
     ]
    },
    {
     "name": "stdout",
     "output_type": "stream",
     "text": [
      "[2024-04-15 18:46:27,476] [INFO] [logging.py:96:log_dist] [Rank 0] step=790, skipped=0, lr=[0.001], mom=[(0.9, 0.999)]\n",
      "[2024-04-15 18:46:27,489] [INFO] [timer.py:260:stop] epoch=0/micro_step=790/global_step=790, RunningAvgSamplesPerSec=4464.3666694947915, CurrSamplesPerSec=4416.800315914176, MemAllocated=1.14GB, MaxMemAllocated=1.88GB\n"
     ]
    },
    {
     "name": "stderr",
     "output_type": "stream",
     "text": [
      " 80%|███████▉  | 799/1000 [00:18<00:02, 67.49it/s]"
     ]
    },
    {
     "name": "stdout",
     "output_type": "stream",
     "text": [
      "[2024-04-15 18:46:27,626] [INFO] [logging.py:96:log_dist] [Rank 0] step=800, skipped=0, lr=[0.001], mom=[(0.9, 0.999)]\n",
      "[2024-04-15 18:46:27,639] [INFO] [timer.py:260:stop] epoch=0/micro_step=800/global_step=800, RunningAvgSamplesPerSec=4464.076819013696, CurrSamplesPerSec=4426.341099843351, MemAllocated=1.14GB, MaxMemAllocated=1.88GB\n"
     ]
    },
    {
     "name": "stderr",
     "output_type": "stream",
     "text": [
      " 81%|████████  | 806/1000 [00:18<00:02, 67.25it/s]"
     ]
    },
    {
     "name": "stdout",
     "output_type": "stream",
     "text": [
      "[2024-04-15 18:46:27,775] [INFO] [logging.py:96:log_dist] [Rank 0] step=810, skipped=0, lr=[0.001], mom=[(0.9, 0.999)]\n",
      "[2024-04-15 18:46:27,788] [INFO] [timer.py:260:stop] epoch=0/micro_step=810/global_step=810, RunningAvgSamplesPerSec=4463.801069295304, CurrSamplesPerSec=4443.412831887705, MemAllocated=1.14GB, MaxMemAllocated=1.88GB\n"
     ]
    },
    {
     "name": "stderr",
     "output_type": "stream",
     "text": [
      " 81%|████████▏ | 813/1000 [00:19<00:02, 67.13it/s]"
     ]
    },
    {
     "name": "stdout",
     "output_type": "stream",
     "text": [
      "[2024-04-15 18:46:27,923] [INFO] [logging.py:96:log_dist] [Rank 0] step=820, skipped=0, lr=[0.001], mom=[(0.9, 0.999)]\n",
      "[2024-04-15 18:46:27,936] [INFO] [timer.py:260:stop] epoch=0/micro_step=820/global_step=820, RunningAvgSamplesPerSec=4463.723730274244, CurrSamplesPerSec=4458.172058725835, MemAllocated=1.14GB, MaxMemAllocated=1.88GB\n"
     ]
    },
    {
     "name": "stderr",
     "output_type": "stream",
     "text": [
      " 83%|████████▎ | 827/1000 [00:19<00:02, 67.74it/s]"
     ]
    },
    {
     "name": "stdout",
     "output_type": "stream",
     "text": [
      "[2024-04-15 18:46:28,069] [INFO] [logging.py:96:log_dist] [Rank 0] step=830, skipped=0, lr=[0.001], mom=[(0.9, 0.999)]\n",
      "[2024-04-15 18:46:28,082] [INFO] [timer.py:260:stop] epoch=0/micro_step=830/global_step=830, RunningAvgSamplesPerSec=4463.95306426139, CurrSamplesPerSec=4464.177479170477, MemAllocated=1.14GB, MaxMemAllocated=1.88GB\n"
     ]
    },
    {
     "name": "stderr",
     "output_type": "stream",
     "text": [
      " 83%|████████▎ | 834/1000 [00:19<00:02, 67.91it/s]"
     ]
    },
    {
     "name": "stdout",
     "output_type": "stream",
     "text": [
      "[2024-04-15 18:46:28,214] [INFO] [logging.py:96:log_dist] [Rank 0] step=840, skipped=0, lr=[0.001], mom=[(0.9, 0.999)]\n",
      "[2024-04-15 18:46:28,228] [INFO] [timer.py:260:stop] epoch=0/micro_step=840/global_step=840, RunningAvgSamplesPerSec=4464.242064342195, CurrSamplesPerSec=4464.177479170477, MemAllocated=1.14GB, MaxMemAllocated=1.88GB\n"
     ]
    },
    {
     "name": "stderr",
     "output_type": "stream",
     "text": [
      " 85%|████████▍ | 848/1000 [00:19<00:02, 68.26it/s]"
     ]
    },
    {
     "name": "stdout",
     "output_type": "stream",
     "text": [
      "[2024-04-15 18:46:28,362] [INFO] [logging.py:96:log_dist] [Rank 0] step=850, skipped=0, lr=[0.001], mom=[(0.9, 0.999)]\n",
      "[2024-04-15 18:46:28,375] [INFO] [timer.py:260:stop] epoch=0/micro_step=850/global_step=850, RunningAvgSamplesPerSec=4464.36300149548, CurrSamplesPerSec=4436.436379261903, MemAllocated=1.14GB, MaxMemAllocated=1.88GB\n"
     ]
    },
    {
     "name": "stderr",
     "output_type": "stream",
     "text": [
      " 86%|████████▌ | 855/1000 [00:19<00:02, 67.82it/s]"
     ]
    },
    {
     "name": "stdout",
     "output_type": "stream",
     "text": [
      "[2024-04-15 18:46:28,511] [INFO] [logging.py:96:log_dist] [Rank 0] step=860, skipped=0, lr=[0.001], mom=[(0.9, 0.999)]\n",
      "[2024-04-15 18:46:28,524] [INFO] [timer.py:260:stop] epoch=0/micro_step=860/global_step=860, RunningAvgSamplesPerSec=4464.243414339487, CurrSamplesPerSec=4433.725158562368, MemAllocated=1.14GB, MaxMemAllocated=1.88GB\n"
     ]
    },
    {
     "name": "stderr",
     "output_type": "stream",
     "text": [
      " 87%|████████▋ | 869/1000 [00:19<00:01, 67.54it/s]"
     ]
    },
    {
     "name": "stdout",
     "output_type": "stream",
     "text": [
      "[2024-04-15 18:46:28,661] [INFO] [logging.py:96:log_dist] [Rank 0] step=870, skipped=0, lr=[0.001], mom=[(0.9, 0.999)]\n",
      "[2024-04-15 18:46:28,674] [INFO] [timer.py:260:stop] epoch=0/micro_step=870/global_step=870, RunningAvgSamplesPerSec=4463.889686074926, CurrSamplesPerSec=4339.753552663487, MemAllocated=1.14GB, MaxMemAllocated=1.88GB\n"
     ]
    },
    {
     "name": "stderr",
     "output_type": "stream",
     "text": [
      " 88%|████████▊ | 876/1000 [00:20<00:01, 67.32it/s]"
     ]
    },
    {
     "name": "stdout",
     "output_type": "stream",
     "text": [
      "[2024-04-15 18:46:28,808] [INFO] [logging.py:96:log_dist] [Rank 0] step=880, skipped=0, lr=[0.001], mom=[(0.9, 0.999)]\n",
      "[2024-04-15 18:46:28,821] [INFO] [timer.py:260:stop] epoch=0/micro_step=880/global_step=880, RunningAvgSamplesPerSec=4463.816535401321, CurrSamplesPerSec=4459.06073089701, MemAllocated=1.14GB, MaxMemAllocated=1.88GB\n"
     ]
    },
    {
     "name": "stderr",
     "output_type": "stream",
     "text": [
      " 88%|████████▊ | 883/1000 [00:20<00:01, 67.57it/s]"
     ]
    },
    {
     "name": "stdout",
     "output_type": "stream",
     "text": [
      "[2024-04-15 18:46:28,954] [INFO] [logging.py:96:log_dist] [Rank 0] step=890, skipped=0, lr=[0.001], mom=[(0.9, 0.999)]\n",
      "[2024-04-15 18:46:28,967] [INFO] [timer.py:260:stop] epoch=0/micro_step=890/global_step=890, RunningAvgSamplesPerSec=4464.03677710018, CurrSamplesPerSec=4457.949946026738, MemAllocated=1.14GB, MaxMemAllocated=1.88GB\n"
     ]
    },
    {
     "name": "stderr",
     "output_type": "stream",
     "text": [
      " 90%|████████▉ | 897/1000 [00:20<00:01, 68.13it/s]"
     ]
    },
    {
     "name": "stdout",
     "output_type": "stream",
     "text": [
      "[2024-04-15 18:46:29,100] [INFO] [logging.py:96:log_dist] [Rank 0] step=900, skipped=0, lr=[0.001], mom=[(0.9, 0.999)]\n",
      "[2024-04-15 18:46:29,113] [INFO] [timer.py:260:stop] epoch=0/micro_step=900/global_step=900, RunningAvgSamplesPerSec=4464.303559924767, CurrSamplesPerSec=4464.400212879191, MemAllocated=1.14GB, MaxMemAllocated=1.88GB\n"
     ]
    },
    {
     "name": "stderr",
     "output_type": "stream",
     "text": [
      " 90%|█████████ | 904/1000 [00:20<00:01, 68.22it/s]"
     ]
    },
    {
     "name": "stdout",
     "output_type": "stream",
     "text": [
      "[2024-04-15 18:46:29,246] [INFO] [logging.py:96:log_dist] [Rank 0] step=910, skipped=0, lr=[0.001], mom=[(0.9, 0.999)]\n",
      "[2024-04-15 18:46:29,259] [INFO] [timer.py:260:stop] epoch=0/micro_step=910/global_step=910, RunningAvgSamplesPerSec=4464.568913294592, CurrSamplesPerSec=4461.951363840361, MemAllocated=1.14GB, MaxMemAllocated=1.88GB\n"
     ]
    },
    {
     "name": "stderr",
     "output_type": "stream",
     "text": [
      " 92%|█████████▏| 918/1000 [00:20<00:01, 68.40it/s]"
     ]
    },
    {
     "name": "stdout",
     "output_type": "stream",
     "text": [
      "[2024-04-15 18:46:29,394] [INFO] [logging.py:96:log_dist] [Rank 0] step=920, skipped=0, lr=[0.001], mom=[(0.9, 0.999)]\n",
      "[2024-04-15 18:46:29,406] [INFO] [timer.py:260:stop] epoch=0/micro_step=920/global_step=920, RunningAvgSamplesPerSec=4464.654272901021, CurrSamplesPerSec=4424.590087194449, MemAllocated=1.14GB, MaxMemAllocated=1.88GB\n"
     ]
    },
    {
     "name": "stderr",
     "output_type": "stream",
     "text": [
      " 92%|█████████▎| 925/1000 [00:20<00:01, 67.88it/s]"
     ]
    },
    {
     "name": "stdout",
     "output_type": "stream",
     "text": [
      "[2024-04-15 18:46:29,543] [INFO] [logging.py:96:log_dist] [Rank 0] step=930, skipped=0, lr=[0.001], mom=[(0.9, 0.999)]\n",
      "[2024-04-15 18:46:29,555] [INFO] [timer.py:260:stop] epoch=0/micro_step=930/global_step=930, RunningAvgSamplesPerSec=4464.5123881977115, CurrSamplesPerSec=4428.458756763891, MemAllocated=1.14GB, MaxMemAllocated=1.88GB\n"
     ]
    },
    {
     "name": "stderr",
     "output_type": "stream",
     "text": [
      " 94%|█████████▍| 939/1000 [00:20<00:00, 67.51it/s]"
     ]
    },
    {
     "name": "stdout",
     "output_type": "stream",
     "text": [
      "[2024-04-15 18:46:29,692] [INFO] [logging.py:96:log_dist] [Rank 0] step=940, skipped=0, lr=[0.001], mom=[(0.9, 0.999)]\n",
      "[2024-04-15 18:46:29,705] [INFO] [timer.py:260:stop] epoch=0/micro_step=940/global_step=940, RunningAvgSamplesPerSec=4464.232962639013, CurrSamplesPerSec=4429.701084176307, MemAllocated=1.14GB, MaxMemAllocated=1.88GB\n"
     ]
    },
    {
     "name": "stderr",
     "output_type": "stream",
     "text": [
      " 95%|█████████▍| 946/1000 [00:21<00:00, 67.24it/s]"
     ]
    },
    {
     "name": "stdout",
     "output_type": "stream",
     "text": [
      "[2024-04-15 18:46:29,840] [INFO] [logging.py:96:log_dist] [Rank 0] step=950, skipped=0, lr=[0.001], mom=[(0.9, 0.999)]\n",
      "[2024-04-15 18:46:29,853] [INFO] [timer.py:260:stop] epoch=0/micro_step=950/global_step=950, RunningAvgSamplesPerSec=4464.099872188805, CurrSamplesPerSec=4452.995189277064, MemAllocated=1.14GB, MaxMemAllocated=1.88GB\n"
     ]
    },
    {
     "name": "stderr",
     "output_type": "stream",
     "text": [
      " 95%|█████████▌| 953/1000 [00:21<00:00, 67.48it/s]"
     ]
    },
    {
     "name": "stdout",
     "output_type": "stream",
     "text": [
      "[2024-04-15 18:46:29,986] [INFO] [logging.py:96:log_dist] [Rank 0] step=960, skipped=0, lr=[0.001], mom=[(0.9, 0.999)]\n",
      "[2024-04-15 18:46:29,999] [INFO] [timer.py:260:stop] epoch=0/micro_step=960/global_step=960, RunningAvgSamplesPerSec=4464.256293672709, CurrSamplesPerSec=4456.025895984462, MemAllocated=1.14GB, MaxMemAllocated=1.88GB\n"
     ]
    },
    {
     "name": "stderr",
     "output_type": "stream",
     "text": [
      " 97%|█████████▋| 967/1000 [00:21<00:00, 68.02it/s]"
     ]
    },
    {
     "name": "stdout",
     "output_type": "stream",
     "text": [
      "[2024-04-15 18:46:30,134] [INFO] [logging.py:96:log_dist] [Rank 0] step=970, skipped=0, lr=[0.001], mom=[(0.9, 0.999)]\n",
      "[2024-04-15 18:46:30,147] [INFO] [timer.py:260:stop] epoch=0/micro_step=970/global_step=970, RunningAvgSamplesPerSec=4464.318986131819, CurrSamplesPerSec=4420.582570318161, MemAllocated=1.14GB, MaxMemAllocated=1.88GB\n"
     ]
    },
    {
     "name": "stderr",
     "output_type": "stream",
     "text": [
      " 97%|█████████▋| 974/1000 [00:21<00:00, 67.61it/s]"
     ]
    },
    {
     "name": "stdout",
     "output_type": "stream",
     "text": [
      "[2024-04-15 18:46:30,283] [INFO] [logging.py:96:log_dist] [Rank 0] step=980, skipped=0, lr=[0.001], mom=[(0.9, 0.999)]\n",
      "[2024-04-15 18:46:30,296] [INFO] [timer.py:260:stop] epoch=0/micro_step=980/global_step=980, RunningAvgSamplesPerSec=4464.183324317843, CurrSamplesPerSec=4426.779069575686, MemAllocated=1.14GB, MaxMemAllocated=1.88GB\n"
     ]
    },
    {
     "name": "stderr",
     "output_type": "stream",
     "text": [
      " 99%|█████████▉| 988/1000 [00:21<00:00, 67.39it/s]"
     ]
    },
    {
     "name": "stdout",
     "output_type": "stream",
     "text": [
      "[2024-04-15 18:46:30,433] [INFO] [logging.py:96:log_dist] [Rank 0] step=990, skipped=0, lr=[0.001], mom=[(0.9, 0.999)]\n",
      "[2024-04-15 18:46:30,446] [INFO] [timer.py:260:stop] epoch=0/micro_step=990/global_step=990, RunningAvgSamplesPerSec=4463.924788990304, CurrSamplesPerSec=4416.291660497179, MemAllocated=1.14GB, MaxMemAllocated=1.88GB\n"
     ]
    },
    {
     "name": "stderr",
     "output_type": "stream",
     "text": [
      "100%|█████████▉| 995/1000 [00:21<00:00, 67.19it/s]"
     ]
    },
    {
     "name": "stdout",
     "output_type": "stream",
     "text": [
      "[2024-04-15 18:46:30,580] [INFO] [logging.py:96:log_dist] [Rank 0] step=1000, skipped=0, lr=[0.001], mom=[(0.9, 0.999)]\n",
      "[2024-04-15 18:46:30,594] [INFO] [timer.py:260:stop] epoch=0/micro_step=1000/global_step=1000, RunningAvgSamplesPerSec=4463.89466765887, CurrSamplesPerSec=4463.06414391647, MemAllocated=1.14GB, MaxMemAllocated=1.88GB\n"
     ]
    },
    {
     "name": "stderr",
     "output_type": "stream",
     "text": [
      "100%|██████████| 1000/1000 [00:21<00:00, 45.73it/s]\n"
     ]
    }
   ],
   "source": [
    "import deepspeed\n",
    "import torch\n",
    "import torch.nn as nn\n",
    "import torch.optim as optim\n",
    "from tqdm import tqdm\n",
    "\n",
    "# Define a simple model\n",
    "class MyModel(nn.Module):\n",
    "    def __init__(self):\n",
    "        super(MyModel, self).__init__()\n",
    "        self.layer1 = nn.Linear(10000, 10000)\n",
    "        self.layer2 = nn.Linear(10000, 1)\n",
    "\n",
    "    def forward(self, x):\n",
    "        x = torch.relu(self.layer1(x))\n",
    "        x = self.layer2(x)\n",
    "        return x\n",
    "\n",
    "model = MyModel()\n",
    "# Configure DeepSpeed\n",
    "config = {\n",
    "    \"train_batch_size\": 64,\n",
    "    \"gradient_accumulation_steps\": 1,\n",
    "    \"fp16\": {\n",
    "        \"enabled\": False\n",
    "    },\n",
    "   \"optimizer\": {\n",
    "        \"type\": \"Adam\",\n",
    "        \"params\": {\n",
    "            \"lr\": 0.001\n",
    "        }\n",
    "    }\n",
    "}\n",
    "\n",
    "optimizer = optim.Adam(model.parameters(), lr=0.001)\n",
    "\n",
    "# Initialize DeepSpeed\n",
    "model_engine, optimizer, _, _ = deepspeed.initialize(model=model,\n",
    "                                                      model_parameters=model.parameters(),\n",
    "                                                      config=config,\n",
    "                                                     optimizer=optimizer,\n",
    "                                                     args=None\n",
    "                                                     )\n",
    "# Dummy data\n",
    "inputs = torch.randn(64, 10000).to(\"cuda\")\n",
    "targets = torch.randn(64, 1).to(\"cuda\")\n",
    "# Training loop with DeepSpeed\n",
    "model_engine.train()\n",
    "for epoch in tqdm(range(1000)):\n",
    "    optimizer.zero_grad()\n",
    "    outputs = model_engine(inputs)\n",
    "    loss = nn.MSELoss()(outputs, targets)\n",
    "    model_engine.backward(loss)\n",
    "    model_engine.step()"
   ]
  },
  {
   "cell_type": "code",
   "execution_count": 5,
   "id": "38529ffb-4615-4f84-84aa-51c4eec22f72",
   "metadata": {},
   "outputs": [
    {
     "name": "stdout",
     "output_type": "stream",
     "text": [
      "Launching training on one GPU.\n",
      "[2024-04-15 18:52:32,980] [INFO] [logging.py:96:log_dist] [Rank 0] DeepSpeed info: version=0.14.0, git-hash=unknown, git-branch=unknown\n",
      "[2024-04-15 18:52:33,068] [INFO] [logging.py:96:log_dist] [Rank 0] DeepSpeed Flops Profiler Enabled: False\n",
      "[2024-04-15 18:52:33,069] [INFO] [logging.py:96:log_dist] [Rank 0] Using client Optimizer as basic optimizer\n",
      "[2024-04-15 18:52:33,070] [INFO] [logging.py:96:log_dist] [Rank 0] Removing param_group that has no 'params' in the basic Optimizer\n",
      "[2024-04-15 18:52:33,070] [INFO] [logging.py:96:log_dist] [Rank 0] DeepSpeed Basic Optimizer = Adam\n",
      "[2024-04-15 18:52:33,070] [INFO] [logging.py:96:log_dist] [Rank 0] DeepSpeed Final Optimizer = Adam\n",
      "[2024-04-15 18:52:33,071] [INFO] [logging.py:96:log_dist] [Rank 0] DeepSpeed using client LR scheduler\n",
      "[2024-04-15 18:52:33,071] [INFO] [logging.py:96:log_dist] [Rank 0] DeepSpeed LR Scheduler = None\n",
      "[2024-04-15 18:52:33,071] [INFO] [logging.py:96:log_dist] [Rank 0] step=0, skipped=0, lr=[0.001], mom=[(0.9, 0.999)]\n",
      "[2024-04-15 18:52:33,072] [INFO] [config.py:996:print] DeepSpeedEngine configuration:\n",
      "[2024-04-15 18:52:33,072] [INFO] [config.py:1000:print]   activation_checkpointing_config  {\n",
      "    \"partition_activations\": false, \n",
      "    \"contiguous_memory_optimization\": false, \n",
      "    \"cpu_checkpointing\": false, \n",
      "    \"number_checkpoints\": null, \n",
      "    \"synchronize_checkpoint_boundary\": false, \n",
      "    \"profile\": false\n",
      "}\n",
      "[2024-04-15 18:52:33,072] [INFO] [config.py:1000:print]   aio_config ................... {'block_size': 1048576, 'queue_depth': 8, 'thread_count': 1, 'single_submit': False, 'overlap_events': True}\n",
      "[2024-04-15 18:52:33,073] [INFO] [config.py:1000:print]   amp_enabled .................. False\n",
      "[2024-04-15 18:52:33,073] [INFO] [config.py:1000:print]   amp_params ................... False\n",
      "[2024-04-15 18:52:33,073] [INFO] [config.py:1000:print]   autotuning_config ............ {\n",
      "    \"enabled\": false, \n",
      "    \"start_step\": null, \n",
      "    \"end_step\": null, \n",
      "    \"metric_path\": null, \n",
      "    \"arg_mappings\": null, \n",
      "    \"metric\": \"throughput\", \n",
      "    \"model_info\": null, \n",
      "    \"results_dir\": \"autotuning_results\", \n",
      "    \"exps_dir\": \"autotuning_exps\", \n",
      "    \"overwrite\": true, \n",
      "    \"fast\": true, \n",
      "    \"start_profile_step\": 3, \n",
      "    \"end_profile_step\": 5, \n",
      "    \"tuner_type\": \"gridsearch\", \n",
      "    \"tuner_early_stopping\": 5, \n",
      "    \"tuner_num_trials\": 50, \n",
      "    \"model_info_path\": null, \n",
      "    \"mp_size\": 1, \n",
      "    \"max_train_batch_size\": null, \n",
      "    \"min_train_batch_size\": 1, \n",
      "    \"max_train_micro_batch_size_per_gpu\": 1.024000e+03, \n",
      "    \"min_train_micro_batch_size_per_gpu\": 1, \n",
      "    \"num_tuning_micro_batch_sizes\": 3\n",
      "}\n",
      "[2024-04-15 18:52:33,074] [INFO] [config.py:1000:print]   bfloat16_enabled ............. False\n",
      "[2024-04-15 18:52:33,074] [INFO] [config.py:1000:print]   bfloat16_immediate_grad_update  False\n",
      "[2024-04-15 18:52:33,074] [INFO] [config.py:1000:print]   checkpoint_parallel_write_pipeline  False\n",
      "[2024-04-15 18:52:33,075] [INFO] [config.py:1000:print]   checkpoint_tag_validation_enabled  True\n",
      "[2024-04-15 18:52:33,075] [INFO] [config.py:1000:print]   checkpoint_tag_validation_fail  False\n",
      "[2024-04-15 18:52:33,075] [INFO] [config.py:1000:print]   comms_config ................. <deepspeed.comm.config.DeepSpeedCommsConfig object at 0x2b4cda562110>\n",
      "[2024-04-15 18:52:33,075] [INFO] [config.py:1000:print]   communication_data_type ...... None\n",
      "[2024-04-15 18:52:33,076] [INFO] [config.py:1000:print]   compile_config ............... enabled=False backend='inductor' kwargs={}\n",
      "[2024-04-15 18:52:33,076] [INFO] [config.py:1000:print]   compression_config ........... {'weight_quantization': {'shared_parameters': {'enabled': False, 'quantizer_kernel': False, 'schedule_offset': 0, 'quantize_groups': 1, 'quantize_verbose': False, 'quantization_type': 'symmetric', 'quantize_weight_in_forward': False, 'rounding': 'nearest', 'fp16_mixed_quantize': False, 'quantize_change_ratio': 0.001}, 'different_groups': {}}, 'activation_quantization': {'shared_parameters': {'enabled': False, 'quantization_type': 'symmetric', 'range_calibration': 'dynamic', 'schedule_offset': 1000}, 'different_groups': {}}, 'sparse_pruning': {'shared_parameters': {'enabled': False, 'method': 'l1', 'schedule_offset': 1000}, 'different_groups': {}}, 'row_pruning': {'shared_parameters': {'enabled': False, 'method': 'l1', 'schedule_offset': 1000}, 'different_groups': {}}, 'head_pruning': {'shared_parameters': {'enabled': False, 'method': 'topk', 'schedule_offset': 1000}, 'different_groups': {}}, 'channel_pruning': {'shared_parameters': {'enabled': False, 'method': 'l1', 'schedule_offset': 1000}, 'different_groups': {}}, 'layer_reduction': {'enabled': False}}\n",
      "[2024-04-15 18:52:33,076] [INFO] [config.py:1000:print]   curriculum_enabled_legacy .... False\n",
      "[2024-04-15 18:52:33,077] [INFO] [config.py:1000:print]   curriculum_params_legacy ..... False\n",
      "[2024-04-15 18:52:33,077] [INFO] [config.py:1000:print]   data_efficiency_config ....... {'enabled': False, 'seed': 1234, 'data_sampling': {'enabled': False, 'num_epochs': 1000, 'num_workers': 0, 'curriculum_learning': {'enabled': False}}, 'data_routing': {'enabled': False, 'random_ltd': {'enabled': False, 'layer_token_lr_schedule': {'enabled': False}}}}\n",
      "[2024-04-15 18:52:33,077] [INFO] [config.py:1000:print]   data_efficiency_enabled ...... False\n",
      "[2024-04-15 18:52:33,077] [INFO] [config.py:1000:print]   dataloader_drop_last ......... False\n",
      "[2024-04-15 18:52:33,078] [INFO] [config.py:1000:print]   disable_allgather ............ False\n",
      "[2024-04-15 18:52:33,078] [INFO] [config.py:1000:print]   dump_state ................... False\n",
      "[2024-04-15 18:52:33,078] [INFO] [config.py:1000:print]   dynamic_loss_scale_args ...... None\n",
      "[2024-04-15 18:52:33,078] [INFO] [config.py:1000:print]   eigenvalue_enabled ........... False\n",
      "[2024-04-15 18:52:33,079] [INFO] [config.py:1000:print]   eigenvalue_gas_boundary_resolution  1\n",
      "[2024-04-15 18:52:33,079] [INFO] [config.py:1000:print]   eigenvalue_layer_name ........ bert.encoder.layer\n",
      "[2024-04-15 18:52:33,079] [INFO] [config.py:1000:print]   eigenvalue_layer_num ......... 0\n",
      "[2024-04-15 18:52:33,079] [INFO] [config.py:1000:print]   eigenvalue_max_iter .......... 100\n",
      "[2024-04-15 18:52:33,080] [INFO] [config.py:1000:print]   eigenvalue_stability ......... 1e-06\n",
      "[2024-04-15 18:52:33,080] [INFO] [config.py:1000:print]   eigenvalue_tol ............... 0.01\n",
      "[2024-04-15 18:52:33,080] [INFO] [config.py:1000:print]   eigenvalue_verbose ........... False\n",
      "[2024-04-15 18:52:33,081] [INFO] [config.py:1000:print]   elasticity_enabled ........... False\n",
      "[2024-04-15 18:52:33,081] [INFO] [config.py:1000:print]   flops_profiler_config ........ {\n",
      "    \"enabled\": false, \n",
      "    \"recompute_fwd_factor\": 0.0, \n",
      "    \"profile_step\": 1, \n",
      "    \"module_depth\": -1, \n",
      "    \"top_modules\": 1, \n",
      "    \"detailed\": true, \n",
      "    \"output_file\": null\n",
      "}\n",
      "[2024-04-15 18:52:33,081] [INFO] [config.py:1000:print]   fp16_auto_cast ............... None\n",
      "[2024-04-15 18:52:33,081] [INFO] [config.py:1000:print]   fp16_enabled ................. False\n",
      "[2024-04-15 18:52:33,082] [INFO] [config.py:1000:print]   fp16_master_weights_and_gradients  False\n",
      "[2024-04-15 18:52:33,082] [INFO] [config.py:1000:print]   global_rank .................. 0\n",
      "[2024-04-15 18:52:33,082] [INFO] [config.py:1000:print]   grad_accum_dtype ............. None\n",
      "[2024-04-15 18:52:33,082] [INFO] [config.py:1000:print]   gradient_accumulation_steps .. 1\n",
      "[2024-04-15 18:52:33,083] [INFO] [config.py:1000:print]   gradient_clipping ............ 0.0\n",
      "[2024-04-15 18:52:33,083] [INFO] [config.py:1000:print]   gradient_predivide_factor .... 1.0\n",
      "[2024-04-15 18:52:33,083] [INFO] [config.py:1000:print]   graph_harvesting ............. False\n",
      "[2024-04-15 18:52:33,084] [INFO] [config.py:1000:print]   hybrid_engine ................ enabled=False max_out_tokens=512 inference_tp_size=1 release_inference_cache=False pin_parameters=True tp_gather_partition_size=8\n",
      "[2024-04-15 18:52:33,084] [INFO] [config.py:1000:print]   initial_dynamic_scale ........ 65536\n",
      "[2024-04-15 18:52:33,084] [INFO] [config.py:1000:print]   load_universal_checkpoint .... False\n",
      "[2024-04-15 18:52:33,084] [INFO] [config.py:1000:print]   loss_scale ................... 0\n",
      "[2024-04-15 18:52:33,085] [INFO] [config.py:1000:print]   memory_breakdown ............. False\n",
      "[2024-04-15 18:52:33,085] [INFO] [config.py:1000:print]   mics_hierarchial_params_gather  False\n",
      "[2024-04-15 18:52:33,085] [INFO] [config.py:1000:print]   mics_shard_size .............. -1\n",
      "[2024-04-15 18:52:33,085] [INFO] [config.py:1000:print]   monitor_config ............... tensorboard=TensorBoardConfig(enabled=False, output_path='', job_name='DeepSpeedJobName') wandb=WandbConfig(enabled=False, group=None, team=None, project='deepspeed') csv_monitor=CSVConfig(enabled=False, output_path='', job_name='DeepSpeedJobName') enabled=False\n",
      "[2024-04-15 18:52:33,086] [INFO] [config.py:1000:print]   nebula_config ................ {\n",
      "    \"enabled\": false, \n",
      "    \"persistent_storage_path\": null, \n",
      "    \"persistent_time_interval\": 100, \n",
      "    \"num_of_version_in_retention\": 2, \n",
      "    \"enable_nebula_load\": true, \n",
      "    \"load_path\": null\n",
      "}\n",
      "[2024-04-15 18:52:33,086] [INFO] [config.py:1000:print]   optimizer_legacy_fusion ...... False\n",
      "[2024-04-15 18:52:33,086] [INFO] [config.py:1000:print]   optimizer_name ............... adam\n",
      "[2024-04-15 18:52:33,087] [INFO] [config.py:1000:print]   optimizer_params ............. {'lr': 0.001}\n",
      "[2024-04-15 18:52:33,087] [INFO] [config.py:1000:print]   pipeline ..................... {'stages': 'auto', 'partition': 'best', 'seed_layers': False, 'activation_checkpoint_interval': 0, 'pipe_partitioned': True, 'grad_partitioned': True}\n",
      "[2024-04-15 18:52:33,087] [INFO] [config.py:1000:print]   pld_enabled .................. False\n",
      "[2024-04-15 18:52:33,087] [INFO] [config.py:1000:print]   pld_params ................... False\n",
      "[2024-04-15 18:52:33,088] [INFO] [config.py:1000:print]   prescale_gradients ........... False\n",
      "[2024-04-15 18:52:33,088] [INFO] [config.py:1000:print]   scheduler_name ............... None\n",
      "[2024-04-15 18:52:33,088] [INFO] [config.py:1000:print]   scheduler_params ............. None\n",
      "[2024-04-15 18:52:33,088] [INFO] [config.py:1000:print]   seq_parallel_communication_data_type  torch.float32\n",
      "[2024-04-15 18:52:33,089] [INFO] [config.py:1000:print]   sparse_attention ............. None\n",
      "[2024-04-15 18:52:33,089] [INFO] [config.py:1000:print]   sparse_gradients_enabled ..... False\n",
      "[2024-04-15 18:52:33,089] [INFO] [config.py:1000:print]   steps_per_print .............. 10\n",
      "[2024-04-15 18:52:33,090] [INFO] [config.py:1000:print]   train_batch_size ............. 64\n",
      "[2024-04-15 18:52:33,090] [INFO] [config.py:1000:print]   train_micro_batch_size_per_gpu  64\n",
      "[2024-04-15 18:52:33,090] [INFO] [config.py:1000:print]   use_data_before_expert_parallel_  False\n",
      "[2024-04-15 18:52:33,090] [INFO] [config.py:1000:print]   use_node_local_storage ....... False\n",
      "[2024-04-15 18:52:33,091] [INFO] [config.py:1000:print]   wall_clock_breakdown ......... False\n",
      "[2024-04-15 18:52:33,091] [INFO] [config.py:1000:print]   weight_quantization_config ... None\n",
      "[2024-04-15 18:52:33,091] [INFO] [config.py:1000:print]   world_size ................... 1\n",
      "[2024-04-15 18:52:33,091] [INFO] [config.py:1000:print]   zero_allow_untested_optimizer  False\n",
      "[2024-04-15 18:52:33,092] [INFO] [config.py:1000:print]   zero_config .................. stage=0 contiguous_gradients=True reduce_scatter=True reduce_bucket_size=500,000,000 use_multi_rank_bucket_allreduce=True allgather_partitions=True allgather_bucket_size=500,000,000 overlap_comm=False load_from_fp32_weights=True elastic_checkpoint=False offload_param=None offload_optimizer=None sub_group_size=1,000,000,000 cpu_offload_param=None cpu_offload_use_pin_memory=None cpu_offload=None prefetch_bucket_size=50,000,000 param_persistence_threshold=100,000 model_persistence_threshold=sys.maxsize max_live_parameters=1,000,000,000 max_reuse_distance=1,000,000,000 gather_16bit_weights_on_model_save=False stage3_gather_fp16_weights_on_model_save=False ignore_unused_parameters=True legacy_stage1=False round_robin_gradients=False zero_hpz_partition_size=1 zero_quantized_weights=False zero_quantized_nontrainable_weights=False zero_quantized_gradients=False mics_shard_size=-1 mics_hierarchical_params_gather=False memory_efficient_linear=True pipeline_loading_checkpoint=False override_module_apply=True\n",
      "[2024-04-15 18:52:33,092] [INFO] [config.py:1000:print]   zero_enabled ................. False\n",
      "[2024-04-15 18:52:33,092] [INFO] [config.py:1000:print]   zero_force_ds_cpu_optimizer .. True\n",
      "[2024-04-15 18:52:33,093] [INFO] [config.py:1000:print]   zero_optimization_stage ...... 0\n",
      "[2024-04-15 18:52:33,093] [INFO] [config.py:986:print_user_config]   json = {\n",
      "    \"train_batch_size\": 64, \n",
      "    \"gradient_accumulation_steps\": 1, \n",
      "    \"fp16\": {\n",
      "        \"enabled\": false\n",
      "    }, \n",
      "    \"optimizer\": {\n",
      "        \"type\": \"Adam\", \n",
      "        \"params\": {\n",
      "            \"lr\": 0.001\n",
      "        }\n",
      "    }\n",
      "}\n"
     ]
    },
    {
     "name": "stderr",
     "output_type": "stream",
     "text": [
      "  1%|          | 7/1000 [00:00<00:14, 66.54it/s]"
     ]
    },
    {
     "name": "stdout",
     "output_type": "stream",
     "text": [
      "[2024-04-15 18:52:33,237] [INFO] [logging.py:96:log_dist] [Rank 0] step=10, skipped=0, lr=[0.001], mom=[(0.9, 0.999)]\n",
      "[2024-04-15 18:52:33,250] [INFO] [timer.py:260:stop] epoch=0/micro_step=10/global_step=10, RunningAvgSamplesPerSec=4356.560346174211, CurrSamplesPerSec=4324.651705305215, MemAllocated=2.26GB, MaxMemAllocated=3.01GB\n"
     ]
    },
    {
     "name": "stderr",
     "output_type": "stream",
     "text": [
      "  1%|▏         | 14/1000 [00:00<00:14, 65.99it/s]"
     ]
    },
    {
     "name": "stdout",
     "output_type": "stream",
     "text": [
      "[2024-04-15 18:52:33,386] [INFO] [logging.py:96:log_dist] [Rank 0] step=20, skipped=0, lr=[0.001], mom=[(0.9, 0.999)]\n",
      "[2024-04-15 18:52:33,399] [INFO] [timer.py:260:stop] epoch=0/micro_step=20/global_step=20, RunningAvgSamplesPerSec=4387.817412735631, CurrSamplesPerSec=4422.330411861614, MemAllocated=2.26GB, MaxMemAllocated=3.01GB\n"
     ]
    },
    {
     "name": "stderr",
     "output_type": "stream",
     "text": [
      "  3%|▎         | 28/1000 [00:00<00:14, 67.46it/s]"
     ]
    },
    {
     "name": "stdout",
     "output_type": "stream",
     "text": [
      "[2024-04-15 18:52:33,533] [INFO] [logging.py:96:log_dist] [Rank 0] step=30, skipped=0, lr=[0.001], mom=[(0.9, 0.999)]\n",
      "[2024-04-15 18:52:33,546] [INFO] [timer.py:260:stop] epoch=0/micro_step=30/global_step=30, RunningAvgSamplesPerSec=4414.758617692061, CurrSamplesPerSec=4461.506407166719, MemAllocated=2.26GB, MaxMemAllocated=3.01GB\n"
     ]
    },
    {
     "name": "stderr",
     "output_type": "stream",
     "text": [
      "  4%|▎         | 35/1000 [00:00<00:14, 67.79it/s]"
     ]
    },
    {
     "name": "stdout",
     "output_type": "stream",
     "text": [
      "[2024-04-15 18:52:33,678] [INFO] [logging.py:96:log_dist] [Rank 0] step=40, skipped=0, lr=[0.001], mom=[(0.9, 0.999)]\n",
      "[2024-04-15 18:52:33,691] [INFO] [timer.py:260:stop] epoch=0/micro_step=40/global_step=40, RunningAvgSamplesPerSec=4433.191404068495, CurrSamplesPerSec=4458.023981133955, MemAllocated=2.26GB, MaxMemAllocated=3.01GB\n"
     ]
    },
    {
     "name": "stderr",
     "output_type": "stream",
     "text": [
      "  5%|▍         | 49/1000 [00:00<00:14, 67.86it/s]"
     ]
    },
    {
     "name": "stdout",
     "output_type": "stream",
     "text": [
      "[2024-04-15 18:52:33,827] [INFO] [logging.py:96:log_dist] [Rank 0] step=50, skipped=0, lr=[0.001], mom=[(0.9, 0.999)]\n",
      "[2024-04-15 18:52:33,840] [INFO] [timer.py:260:stop] epoch=0/micro_step=50/global_step=50, RunningAvgSamplesPerSec=4438.644746909202, CurrSamplesPerSec=4425.6843077126, MemAllocated=2.26GB, MaxMemAllocated=3.01GB\n"
     ]
    },
    {
     "name": "stderr",
     "output_type": "stream",
     "text": [
      "  6%|▌         | 56/1000 [00:00<00:13, 67.50it/s]"
     ]
    },
    {
     "name": "stdout",
     "output_type": "stream",
     "text": [
      "[2024-04-15 18:52:33,976] [INFO] [logging.py:96:log_dist] [Rank 0] step=60, skipped=0, lr=[0.001], mom=[(0.9, 0.999)]\n",
      "[2024-04-15 18:52:33,989] [INFO] [timer.py:260:stop] epoch=0/micro_step=60/global_step=60, RunningAvgSamplesPerSec=4439.367363645462, CurrSamplesPerSec=4427.655269104524, MemAllocated=2.26GB, MaxMemAllocated=3.01GB\n"
     ]
    },
    {
     "name": "stderr",
     "output_type": "stream",
     "text": [
      "  6%|▋         | 63/1000 [00:00<00:13, 67.29it/s]"
     ]
    },
    {
     "name": "stdout",
     "output_type": "stream",
     "text": [
      "[2024-04-15 18:52:34,124] [INFO] [logging.py:96:log_dist] [Rank 0] step=70, skipped=0, lr=[0.001], mom=[(0.9, 0.999)]\n",
      "[2024-04-15 18:52:34,138] [INFO] [timer.py:260:stop] epoch=0/micro_step=70/global_step=70, RunningAvgSamplesPerSec=4441.098237366602, CurrSamplesPerSec=4454.473067604792, MemAllocated=2.26GB, MaxMemAllocated=3.01GB\n"
     ]
    },
    {
     "name": "stderr",
     "output_type": "stream",
     "text": [
      "  8%|▊         | 77/1000 [00:01<00:13, 67.70it/s]"
     ]
    },
    {
     "name": "stdout",
     "output_type": "stream",
     "text": [
      "[2024-04-15 18:52:34,271] [INFO] [logging.py:96:log_dist] [Rank 0] step=80, skipped=0, lr=[0.001], mom=[(0.9, 0.999)]\n",
      "[2024-04-15 18:52:34,284] [INFO] [timer.py:260:stop] epoch=0/micro_step=80/global_step=80, RunningAvgSamplesPerSec=4445.881961193913, CurrSamplesPerSec=4458.764467477244, MemAllocated=2.26GB, MaxMemAllocated=3.01GB\n"
     ]
    },
    {
     "name": "stderr",
     "output_type": "stream",
     "text": [
      "  8%|▊         | 84/1000 [00:01<00:13, 67.89it/s]"
     ]
    },
    {
     "name": "stdout",
     "output_type": "stream",
     "text": [
      "[2024-04-15 18:52:34,417] [INFO] [logging.py:96:log_dist] [Rank 0] step=90, skipped=0, lr=[0.001], mom=[(0.9, 0.999)]\n",
      "[2024-04-15 18:52:34,430] [INFO] [timer.py:260:stop] epoch=0/micro_step=90/global_step=90, RunningAvgSamplesPerSec=4450.336639609946, CurrSamplesPerSec=4463.435193960859, MemAllocated=2.26GB, MaxMemAllocated=3.01GB\n"
     ]
    },
    {
     "name": "stderr",
     "output_type": "stream",
     "text": [
      " 10%|▉         | 98/1000 [00:01<00:13, 68.33it/s]"
     ]
    },
    {
     "name": "stdout",
     "output_type": "stream",
     "text": [
      "[2024-04-15 18:52:34,563] [INFO] [logging.py:96:log_dist] [Rank 0] step=100, skipped=0, lr=[0.001], mom=[(0.9, 0.999)]\n",
      "[2024-04-15 18:52:34,576] [INFO] [timer.py:260:stop] epoch=0/micro_step=100/global_step=100, RunningAvgSamplesPerSec=4453.470114640141, CurrSamplesPerSec=4421.2378489664825, MemAllocated=2.26GB, MaxMemAllocated=3.01GB\n"
     ]
    },
    {
     "name": "stderr",
     "output_type": "stream",
     "text": [
      " 10%|█         | 105/1000 [00:01<00:13, 68.35it/s]"
     ]
    },
    {
     "name": "stdout",
     "output_type": "stream",
     "text": [
      "[2024-04-15 18:52:34,708] [INFO] [logging.py:96:log_dist] [Rank 0] step=110, skipped=0, lr=[0.001], mom=[(0.9, 0.999)]\n",
      "[2024-04-15 18:52:34,722] [INFO] [timer.py:260:stop] epoch=0/micro_step=110/global_step=110, RunningAvgSamplesPerSec=4456.290970866668, CurrSamplesPerSec=4462.6189652879375, MemAllocated=2.26GB, MaxMemAllocated=3.01GB\n"
     ]
    },
    {
     "name": "stderr",
     "output_type": "stream",
     "text": [
      " 12%|█▏        | 119/1000 [00:01<00:12, 68.04it/s]"
     ]
    },
    {
     "name": "stdout",
     "output_type": "stream",
     "text": [
      "[2024-04-15 18:52:34,858] [INFO] [logging.py:96:log_dist] [Rank 0] step=120, skipped=0, lr=[0.001], mom=[(0.9, 0.999)]\n",
      "[2024-04-15 18:52:34,871] [INFO] [timer.py:260:stop] epoch=0/micro_step=120/global_step=120, RunningAvgSamplesPerSec=4456.1481378731705, CurrSamplesPerSec=4426.049168164355, MemAllocated=2.26GB, MaxMemAllocated=3.01GB\n"
     ]
    },
    {
     "name": "stderr",
     "output_type": "stream",
     "text": [
      " 13%|█▎        | 126/1000 [00:01<00:12, 67.58it/s]"
     ]
    },
    {
     "name": "stdout",
     "output_type": "stream",
     "text": [
      "[2024-04-15 18:52:35,008] [INFO] [logging.py:96:log_dist] [Rank 0] step=130, skipped=0, lr=[0.001], mom=[(0.9, 0.999)]\n",
      "[2024-04-15 18:52:35,020] [INFO] [timer.py:260:stop] epoch=0/micro_step=130/global_step=130, RunningAvgSamplesPerSec=4454.965141577173, CurrSamplesPerSec=4435.336836191798, MemAllocated=2.26GB, MaxMemAllocated=3.01GB\n"
     ]
    },
    {
     "name": "stderr",
     "output_type": "stream",
     "text": [
      " 13%|█▎        | 133/1000 [00:01<00:12, 67.35it/s]"
     ]
    },
    {
     "name": "stdout",
     "output_type": "stream",
     "text": [
      "[2024-04-15 18:52:35,156] [INFO] [logging.py:96:log_dist] [Rank 0] step=140, skipped=0, lr=[0.001], mom=[(0.9, 0.999)]\n",
      "[2024-04-15 18:52:35,169] [INFO] [timer.py:260:stop] epoch=0/micro_step=140/global_step=140, RunningAvgSamplesPerSec=4454.234720169935, CurrSamplesPerSec=4428.385700381081, MemAllocated=2.26GB, MaxMemAllocated=3.01GB\n"
     ]
    },
    {
     "name": "stderr",
     "output_type": "stream",
     "text": [
      " 15%|█▍        | 147/1000 [00:02<00:12, 67.68it/s]"
     ]
    },
    {
     "name": "stdout",
     "output_type": "stream",
     "text": [
      "[2024-04-15 18:52:35,302] [INFO] [logging.py:96:log_dist] [Rank 0] step=150, skipped=0, lr=[0.001], mom=[(0.9, 0.999)]\n",
      "[2024-04-15 18:52:35,316] [INFO] [timer.py:260:stop] epoch=0/micro_step=150/global_step=150, RunningAvgSamplesPerSec=4455.4237217464015, CurrSamplesPerSec=4454.325235629895, MemAllocated=2.26GB, MaxMemAllocated=3.01GB\n"
     ]
    },
    {
     "name": "stderr",
     "output_type": "stream",
     "text": [
      " 15%|█▌        | 154/1000 [00:02<00:12, 67.84it/s]"
     ]
    },
    {
     "name": "stdout",
     "output_type": "stream",
     "text": [
      "[2024-04-15 18:52:35,449] [INFO] [logging.py:96:log_dist] [Rank 0] step=160, skipped=0, lr=[0.001], mom=[(0.9, 0.999)]\n",
      "[2024-04-15 18:52:35,462] [INFO] [timer.py:260:stop] epoch=0/micro_step=160/global_step=160, RunningAvgSamplesPerSec=4456.798032959632, CurrSamplesPerSec=4439.077508227084, MemAllocated=2.26GB, MaxMemAllocated=3.01GB\n"
     ]
    },
    {
     "name": "stderr",
     "output_type": "stream",
     "text": [
      " 17%|█▋        | 168/1000 [00:02<00:12, 67.71it/s]"
     ]
    },
    {
     "name": "stdout",
     "output_type": "stream",
     "text": [
      "[2024-04-15 18:52:35,599] [INFO] [logging.py:96:log_dist] [Rank 0] step=170, skipped=0, lr=[0.001], mom=[(0.9, 0.999)]\n",
      "[2024-04-15 18:52:35,612] [INFO] [timer.py:260:stop] epoch=0/micro_step=170/global_step=170, RunningAvgSamplesPerSec=4456.469760106251, CurrSamplesPerSec=4432.041474730464, MemAllocated=2.26GB, MaxMemAllocated=3.01GB\n"
     ]
    },
    {
     "name": "stderr",
     "output_type": "stream",
     "text": [
      " 18%|█▊        | 175/1000 [00:02<00:12, 67.39it/s]"
     ]
    },
    {
     "name": "stdout",
     "output_type": "stream",
     "text": [
      "[2024-04-15 18:52:35,748] [INFO] [logging.py:96:log_dist] [Rank 0] step=180, skipped=0, lr=[0.001], mom=[(0.9, 0.999)]\n",
      "[2024-04-15 18:52:35,761] [INFO] [timer.py:260:stop] epoch=0/micro_step=180/global_step=180, RunningAvgSamplesPerSec=4455.602894315844, CurrSamplesPerSec=4429.116372696223, MemAllocated=2.26GB, MaxMemAllocated=3.01GB\n"
     ]
    },
    {
     "name": "stderr",
     "output_type": "stream",
     "text": [
      " 19%|█▉        | 189/1000 [00:02<00:12, 67.34it/s]"
     ]
    },
    {
     "name": "stdout",
     "output_type": "stream",
     "text": [
      "[2024-04-15 18:52:35,897] [INFO] [logging.py:96:log_dist] [Rank 0] step=190, skipped=0, lr=[0.001], mom=[(0.9, 0.999)]\n",
      "[2024-04-15 18:52:35,910] [INFO] [timer.py:260:stop] epoch=0/micro_step=190/global_step=190, RunningAvgSamplesPerSec=4455.04561591836, CurrSamplesPerSec=4461.803035088011, MemAllocated=2.26GB, MaxMemAllocated=3.01GB\n"
     ]
    },
    {
     "name": "stderr",
     "output_type": "stream",
     "text": [
      " 20%|█▉        | 196/1000 [00:02<00:11, 67.53it/s]"
     ]
    },
    {
     "name": "stdout",
     "output_type": "stream",
     "text": [
      "[2024-04-15 18:52:36,043] [INFO] [logging.py:96:log_dist] [Rank 0] step=200, skipped=0, lr=[0.001], mom=[(0.9, 0.999)]\n",
      "[2024-04-15 18:52:36,056] [INFO] [timer.py:260:stop] epoch=0/micro_step=200/global_step=200, RunningAvgSamplesPerSec=4455.959772281698, CurrSamplesPerSec=4447.83032873807, MemAllocated=2.26GB, MaxMemAllocated=3.01GB\n"
     ]
    },
    {
     "name": "stderr",
     "output_type": "stream",
     "text": [
      " 20%|██        | 203/1000 [00:03<00:11, 67.75it/s]"
     ]
    },
    {
     "name": "stdout",
     "output_type": "stream",
     "text": [
      "[2024-04-15 18:52:36,189] [INFO] [logging.py:96:log_dist] [Rank 0] step=210, skipped=0, lr=[0.001], mom=[(0.9, 0.999)]\n",
      "[2024-04-15 18:52:36,202] [INFO] [timer.py:260:stop] epoch=0/micro_step=210/global_step=210, RunningAvgSamplesPerSec=4457.274489251608, CurrSamplesPerSec=4460.023858972868, MemAllocated=2.26GB, MaxMemAllocated=3.01GB\n"
     ]
    },
    {
     "name": "stderr",
     "output_type": "stream",
     "text": [
      " 22%|██▏       | 217/1000 [00:03<00:11, 68.24it/s]"
     ]
    },
    {
     "name": "stdout",
     "output_type": "stream",
     "text": [
      "[2024-04-15 18:52:36,336] [INFO] [logging.py:96:log_dist] [Rank 0] step=220, skipped=0, lr=[0.001], mom=[(0.9, 0.999)]\n",
      "[2024-04-15 18:52:36,349] [INFO] [timer.py:260:stop] epoch=0/micro_step=220/global_step=220, RunningAvgSamplesPerSec=4457.984925610396, CurrSamplesPerSec=4425.8302446745365, MemAllocated=2.26GB, MaxMemAllocated=3.01GB\n"
     ]
    },
    {
     "name": "stderr",
     "output_type": "stream",
     "text": [
      " 22%|██▏       | 224/1000 [00:03<00:11, 67.78it/s]"
     ]
    },
    {
     "name": "stdout",
     "output_type": "stream",
     "text": [
      "[2024-04-15 18:52:36,485] [INFO] [logging.py:96:log_dist] [Rank 0] step=230, skipped=0, lr=[0.001], mom=[(0.9, 0.999)]\n",
      "[2024-04-15 18:52:36,498] [INFO] [timer.py:260:stop] epoch=0/micro_step=230/global_step=230, RunningAvgSamplesPerSec=4457.6486355228735, CurrSamplesPerSec=4427.290143818445, MemAllocated=2.26GB, MaxMemAllocated=3.01GB\n"
     ]
    },
    {
     "name": "stderr",
     "output_type": "stream",
     "text": [
      " 24%|██▍       | 238/1000 [00:03<00:11, 67.52it/s]"
     ]
    },
    {
     "name": "stdout",
     "output_type": "stream",
     "text": [
      "[2024-04-15 18:52:36,635] [INFO] [logging.py:96:log_dist] [Rank 0] step=240, skipped=0, lr=[0.001], mom=[(0.9, 0.999)]\n",
      "[2024-04-15 18:52:36,648] [INFO] [timer.py:260:stop] epoch=0/micro_step=240/global_step=240, RunningAvgSamplesPerSec=4456.872360405409, CurrSamplesPerSec=4420.073043420987, MemAllocated=2.26GB, MaxMemAllocated=3.01GB\n"
     ]
    },
    {
     "name": "stderr",
     "output_type": "stream",
     "text": [
      " 24%|██▍       | 245/1000 [00:03<00:11, 67.34it/s]"
     ]
    },
    {
     "name": "stdout",
     "output_type": "stream",
     "text": [
      "[2024-04-15 18:52:36,782] [INFO] [logging.py:96:log_dist] [Rank 0] step=250, skipped=0, lr=[0.001], mom=[(0.9, 0.999)]\n",
      "[2024-04-15 18:52:36,795] [INFO] [timer.py:260:stop] epoch=0/micro_step=250/global_step=250, RunningAvgSamplesPerSec=4457.03694904903, CurrSamplesPerSec=4450.632622608349, MemAllocated=2.26GB, MaxMemAllocated=3.01GB\n"
     ]
    },
    {
     "name": "stderr",
     "output_type": "stream",
     "text": [
      " 26%|██▌       | 259/1000 [00:03<00:10, 67.98it/s]"
     ]
    },
    {
     "name": "stdout",
     "output_type": "stream",
     "text": [
      "[2024-04-15 18:52:36,928] [INFO] [logging.py:96:log_dist] [Rank 0] step=260, skipped=0, lr=[0.001], mom=[(0.9, 0.999)]\n",
      "[2024-04-15 18:52:36,942] [INFO] [timer.py:260:stop] epoch=0/micro_step=260/global_step=260, RunningAvgSamplesPerSec=4457.860705425753, CurrSamplesPerSec=4452.995189277064, MemAllocated=2.26GB, MaxMemAllocated=3.01GB\n"
     ]
    },
    {
     "name": "stderr",
     "output_type": "stream",
     "text": [
      " 27%|██▋       | 266/1000 [00:03<00:10, 68.07it/s]"
     ]
    },
    {
     "name": "stdout",
     "output_type": "stream",
     "text": [
      "[2024-04-15 18:52:37,074] [INFO] [logging.py:96:log_dist] [Rank 0] step=270, skipped=0, lr=[0.001], mom=[(0.9, 0.999)]\n",
      "[2024-04-15 18:52:37,087] [INFO] [timer.py:260:stop] epoch=0/micro_step=270/global_step=270, RunningAvgSamplesPerSec=4458.871139881864, CurrSamplesPerSec=4459.357033689947, MemAllocated=2.26GB, MaxMemAllocated=3.01GB\n"
     ]
    },
    {
     "name": "stderr",
     "output_type": "stream",
     "text": [
      " 27%|██▋       | 273/1000 [00:04<00:10, 68.10it/s]"
     ]
    },
    {
     "name": "stdout",
     "output_type": "stream",
     "text": [
      "[2024-04-15 18:52:37,220] [INFO] [logging.py:96:log_dist] [Rank 0] step=280, skipped=0, lr=[0.001], mom=[(0.9, 0.999)]\n",
      "[2024-04-15 18:52:37,233] [INFO] [timer.py:260:stop] epoch=0/micro_step=280/global_step=280, RunningAvgSamplesPerSec=4459.825283033594, CurrSamplesPerSec=4459.727467561595, MemAllocated=2.26GB, MaxMemAllocated=3.01GB\n"
     ]
    },
    {
     "name": "stderr",
     "output_type": "stream",
     "text": [
      " 29%|██▊       | 287/1000 [00:04<00:10, 68.38it/s]"
     ]
    },
    {
     "name": "stdout",
     "output_type": "stream",
     "text": [
      "[2024-04-15 18:52:37,368] [INFO] [logging.py:96:log_dist] [Rank 0] step=290, skipped=0, lr=[0.001], mom=[(0.9, 0.999)]\n",
      "[2024-04-15 18:52:37,380] [INFO] [timer.py:260:stop] epoch=0/micro_step=290/global_step=290, RunningAvgSamplesPerSec=4460.207836998499, CurrSamplesPerSec=4430.285950058589, MemAllocated=2.26GB, MaxMemAllocated=3.01GB\n"
     ]
    },
    {
     "name": "stderr",
     "output_type": "stream",
     "text": [
      " 29%|██▉       | 294/1000 [00:04<00:10, 67.90it/s]"
     ]
    },
    {
     "name": "stdout",
     "output_type": "stream",
     "text": [
      "[2024-04-15 18:52:37,516] [INFO] [logging.py:96:log_dist] [Rank 0] step=300, skipped=0, lr=[0.001], mom=[(0.9, 0.999)]\n",
      "[2024-04-15 18:52:37,529] [INFO] [timer.py:260:stop] epoch=0/micro_step=300/global_step=300, RunningAvgSamplesPerSec=4459.907983143802, CurrSamplesPerSec=4425.903216764769, MemAllocated=2.26GB, MaxMemAllocated=3.01GB\n"
     ]
    },
    {
     "name": "stderr",
     "output_type": "stream",
     "text": [
      " 31%|███       | 308/1000 [00:04<00:10, 67.54it/s]"
     ]
    },
    {
     "name": "stdout",
     "output_type": "stream",
     "text": [
      "[2024-04-15 18:52:37,666] [INFO] [logging.py:96:log_dist] [Rank 0] step=310, skipped=0, lr=[0.001], mom=[(0.9, 0.999)]\n",
      "[2024-04-15 18:52:37,679] [INFO] [timer.py:260:stop] epoch=0/micro_step=310/global_step=310, RunningAvgSamplesPerSec=4459.208396360366, CurrSamplesPerSec=4422.039008961518, MemAllocated=2.26GB, MaxMemAllocated=3.01GB\n"
     ]
    },
    {
     "name": "stderr",
     "output_type": "stream",
     "text": [
      " 32%|███▏      | 315/1000 [00:04<00:10, 67.28it/s]"
     ]
    },
    {
     "name": "stdout",
     "output_type": "stream",
     "text": [
      "[2024-04-15 18:52:37,814] [INFO] [logging.py:96:log_dist] [Rank 0] step=320, skipped=0, lr=[0.001], mom=[(0.9, 0.999)]\n",
      "[2024-04-15 18:52:37,827] [INFO] [timer.py:260:stop] epoch=0/micro_step=320/global_step=320, RunningAvgSamplesPerSec=4459.119662199092, CurrSamplesPerSec=4459.134802903703, MemAllocated=2.26GB, MaxMemAllocated=3.01GB\n"
     ]
    },
    {
     "name": "stderr",
     "output_type": "stream",
     "text": [
      " 33%|███▎      | 329/1000 [00:04<00:09, 67.84it/s]"
     ]
    },
    {
     "name": "stdout",
     "output_type": "stream",
     "text": [
      "[2024-04-15 18:52:37,961] [INFO] [logging.py:96:log_dist] [Rank 0] step=330, skipped=0, lr=[0.001], mom=[(0.9, 0.999)]\n",
      "[2024-04-15 18:52:37,974] [INFO] [timer.py:260:stop] epoch=0/micro_step=330/global_step=330, RunningAvgSamplesPerSec=4459.4751592718, CurrSamplesPerSec=4429.408709139811, MemAllocated=2.26GB, MaxMemAllocated=3.01GB\n"
     ]
    },
    {
     "name": "stderr",
     "output_type": "stream",
     "text": [
      " 34%|███▎      | 336/1000 [00:04<00:09, 67.79it/s]"
     ]
    },
    {
     "name": "stdout",
     "output_type": "stream",
     "text": [
      "[2024-04-15 18:52:38,109] [INFO] [logging.py:96:log_dist] [Rank 0] step=340, skipped=0, lr=[0.001], mom=[(0.9, 0.999)]\n",
      "[2024-04-15 18:52:38,122] [INFO] [timer.py:260:stop] epoch=0/micro_step=340/global_step=340, RunningAvgSamplesPerSec=4459.578848237495, CurrSamplesPerSec=4418.908851465916, MemAllocated=2.26GB, MaxMemAllocated=3.01GB\n"
     ]
    },
    {
     "name": "stderr",
     "output_type": "stream",
     "text": [
      " 34%|███▍      | 343/1000 [00:05<00:09, 67.49it/s]"
     ]
    },
    {
     "name": "stdout",
     "output_type": "stream",
     "text": [
      "[2024-04-15 18:52:38,258] [INFO] [logging.py:96:log_dist] [Rank 0] step=350, skipped=0, lr=[0.001], mom=[(0.9, 0.999)]\n",
      "[2024-04-15 18:52:38,271] [INFO] [timer.py:260:stop] epoch=0/micro_step=350/global_step=350, RunningAvgSamplesPerSec=4459.026675627788, CurrSamplesPerSec=4420.50977356937, MemAllocated=2.26GB, MaxMemAllocated=3.01GB\n"
     ]
    },
    {
     "name": "stderr",
     "output_type": "stream",
     "text": [
      " 36%|███▌      | 357/1000 [00:05<00:09, 67.37it/s]"
     ]
    },
    {
     "name": "stdout",
     "output_type": "stream",
     "text": [
      "[2024-04-15 18:52:38,408] [INFO] [logging.py:96:log_dist] [Rank 0] step=360, skipped=0, lr=[0.001], mom=[(0.9, 0.999)]\n",
      "[2024-04-15 18:52:38,420] [INFO] [timer.py:260:stop] epoch=0/micro_step=360/global_step=360, RunningAvgSamplesPerSec=4458.574771982619, CurrSamplesPerSec=4426.925078747299, MemAllocated=2.26GB, MaxMemAllocated=3.01GB\n"
     ]
    },
    {
     "name": "stderr",
     "output_type": "stream",
     "text": [
      " 36%|███▋      | 364/1000 [00:05<00:09, 67.23it/s]"
     ]
    },
    {
     "name": "stdout",
     "output_type": "stream",
     "text": [
      "[2024-04-15 18:52:38,554] [INFO] [logging.py:96:log_dist] [Rank 0] step=370, skipped=0, lr=[0.001], mom=[(0.9, 0.999)]\n",
      "[2024-04-15 18:52:38,567] [INFO] [timer.py:260:stop] epoch=0/micro_step=370/global_step=370, RunningAvgSamplesPerSec=4458.953049080906, CurrSamplesPerSec=4462.470592146823, MemAllocated=2.26GB, MaxMemAllocated=3.01GB\n"
     ]
    },
    {
     "name": "stderr",
     "output_type": "stream",
     "text": [
      " 38%|███▊      | 378/1000 [00:05<00:09, 67.96it/s]"
     ]
    },
    {
     "name": "stdout",
     "output_type": "stream",
     "text": [
      "[2024-04-15 18:52:38,700] [INFO] [logging.py:96:log_dist] [Rank 0] step=380, skipped=0, lr=[0.001], mom=[(0.9, 0.999)]\n",
      "[2024-04-15 18:52:38,714] [INFO] [timer.py:260:stop] epoch=0/micro_step=380/global_step=380, RunningAvgSamplesPerSec=4459.554394765262, CurrSamplesPerSec=4464.251721270581, MemAllocated=2.26GB, MaxMemAllocated=3.01GB\n"
     ]
    },
    {
     "name": "stderr",
     "output_type": "stream",
     "text": [
      " 38%|███▊      | 385/1000 [00:05<00:09, 67.97it/s]"
     ]
    },
    {
     "name": "stdout",
     "output_type": "stream",
     "text": [
      "[2024-04-15 18:52:38,846] [INFO] [logging.py:96:log_dist] [Rank 0] step=390, skipped=0, lr=[0.001], mom=[(0.9, 0.999)]\n",
      "[2024-04-15 18:52:38,859] [INFO] [timer.py:260:stop] epoch=0/micro_step=390/global_step=390, RunningAvgSamplesPerSec=4460.111714511622, CurrSamplesPerSec=4468.561992275935, MemAllocated=2.26GB, MaxMemAllocated=3.01GB\n"
     ]
    },
    {
     "name": "stderr",
     "output_type": "stream",
     "text": [
      " 40%|███▉      | 399/1000 [00:05<00:08, 67.97it/s]"
     ]
    },
    {
     "name": "stdout",
     "output_type": "stream",
     "text": [
      "[2024-04-15 18:52:38,995] [INFO] [logging.py:96:log_dist] [Rank 0] step=400, skipped=0, lr=[0.001], mom=[(0.9, 0.999)]\n",
      "[2024-04-15 18:52:39,008] [INFO] [timer.py:260:stop] epoch=0/micro_step=400/global_step=400, RunningAvgSamplesPerSec=4460.123285518695, CurrSamplesPerSec=4423.204851041392, MemAllocated=2.26GB, MaxMemAllocated=3.01GB\n"
     ]
    },
    {
     "name": "stderr",
     "output_type": "stream",
     "text": [
      " 41%|████      | 406/1000 [00:05<00:08, 67.60it/s]"
     ]
    },
    {
     "name": "stdout",
     "output_type": "stream",
     "text": [
      "[2024-04-15 18:52:39,144] [INFO] [logging.py:96:log_dist] [Rank 0] step=410, skipped=0, lr=[0.001], mom=[(0.9, 0.999)]\n",
      "[2024-04-15 18:52:39,157] [INFO] [timer.py:260:stop] epoch=0/micro_step=410/global_step=410, RunningAvgSamplesPerSec=4459.716389969879, CurrSamplesPerSec=4417.890686460065, MemAllocated=2.26GB, MaxMemAllocated=3.01GB\n"
     ]
    },
    {
     "name": "stderr",
     "output_type": "stream",
     "text": [
      " 41%|████▏     | 413/1000 [00:06<00:08, 67.37it/s]"
     ]
    },
    {
     "name": "stdout",
     "output_type": "stream",
     "text": [
      "[2024-04-15 18:52:39,292] [INFO] [logging.py:96:log_dist] [Rank 0] step=420, skipped=0, lr=[0.001], mom=[(0.9, 0.999)]\n",
      "[2024-04-15 18:52:39,306] [INFO] [timer.py:260:stop] epoch=0/micro_step=420/global_step=420, RunningAvgSamplesPerSec=4459.511757674708, CurrSamplesPerSec=4457.505787017818, MemAllocated=2.26GB, MaxMemAllocated=3.01GB\n"
     ]
    },
    {
     "name": "stderr",
     "output_type": "stream",
     "text": [
      " 43%|████▎     | 427/1000 [00:06<00:08, 67.79it/s]"
     ]
    },
    {
     "name": "stdout",
     "output_type": "stream",
     "text": [
      "[2024-04-15 18:52:39,439] [INFO] [logging.py:96:log_dist] [Rank 0] step=430, skipped=0, lr=[0.001], mom=[(0.9, 0.999)]\n",
      "[2024-04-15 18:52:39,452] [INFO] [timer.py:260:stop] epoch=0/micro_step=430/global_step=430, RunningAvgSamplesPerSec=4459.976419848985, CurrSamplesPerSec=4462.099702455161, MemAllocated=2.26GB, MaxMemAllocated=3.01GB\n"
     ]
    },
    {
     "name": "stderr",
     "output_type": "stream",
     "text": [
      " 43%|████▎     | 434/1000 [00:06<00:08, 67.95it/s]"
     ]
    },
    {
     "name": "stdout",
     "output_type": "stream",
     "text": [
      "[2024-04-15 18:52:39,584] [INFO] [logging.py:96:log_dist] [Rank 0] step=440, skipped=0, lr=[0.001], mom=[(0.9, 0.999)]\n",
      "[2024-04-15 18:52:39,597] [INFO] [timer.py:260:stop] epoch=0/micro_step=440/global_step=440, RunningAvgSamplesPerSec=4460.578176028117, CurrSamplesPerSec=4465.9599713843645, MemAllocated=2.26GB, MaxMemAllocated=3.01GB\n"
     ]
    },
    {
     "name": "stderr",
     "output_type": "stream",
     "text": [
      " 45%|████▍     | 448/1000 [00:06<00:08, 68.38it/s]"
     ]
    },
    {
     "name": "stdout",
     "output_type": "stream",
     "text": [
      "[2024-04-15 18:52:39,730] [INFO] [logging.py:96:log_dist] [Rank 0] step=450, skipped=0, lr=[0.001], mom=[(0.9, 0.999)]\n",
      "[2024-04-15 18:52:39,744] [INFO] [timer.py:260:stop] epoch=0/micro_step=450/global_step=450, RunningAvgSamplesPerSec=4461.118466782109, CurrSamplesPerSec=4456.173840867213, MemAllocated=2.26GB, MaxMemAllocated=3.01GB\n"
     ]
    },
    {
     "name": "stderr",
     "output_type": "stream",
     "text": [
      " 46%|████▌     | 455/1000 [00:06<00:07, 68.38it/s]"
     ]
    },
    {
     "name": "stdout",
     "output_type": "stream",
     "text": [
      "[2024-04-15 18:52:39,876] [INFO] [logging.py:96:log_dist] [Rank 0] step=460, skipped=0, lr=[0.001], mom=[(0.9, 0.999)]\n",
      "[2024-04-15 18:52:39,889] [INFO] [timer.py:260:stop] epoch=0/micro_step=460/global_step=460, RunningAvgSamplesPerSec=4461.6101900703825, CurrSamplesPerSec=4451.223029217656, MemAllocated=2.26GB, MaxMemAllocated=3.01GB\n"
     ]
    },
    {
     "name": "stderr",
     "output_type": "stream",
     "text": [
      " 47%|████▋     | 469/1000 [00:06<00:07, 68.01it/s]"
     ]
    },
    {
     "name": "stdout",
     "output_type": "stream",
     "text": [
      "[2024-04-15 18:52:40,026] [INFO] [logging.py:96:log_dist] [Rank 0] step=470, skipped=0, lr=[0.001], mom=[(0.9, 0.999)]\n",
      "[2024-04-15 18:52:40,039] [INFO] [timer.py:260:stop] epoch=0/micro_step=470/global_step=470, RunningAvgSamplesPerSec=4461.4319394703425, CurrSamplesPerSec=4416.436978661095, MemAllocated=2.26GB, MaxMemAllocated=3.01GB\n"
     ]
    },
    {
     "name": "stderr",
     "output_type": "stream",
     "text": [
      " 48%|████▊     | 476/1000 [00:07<00:07, 67.55it/s]"
     ]
    },
    {
     "name": "stdout",
     "output_type": "stream",
     "text": [
      "[2024-04-15 18:52:40,175] [INFO] [logging.py:96:log_dist] [Rank 0] step=480, skipped=0, lr=[0.001], mom=[(0.9, 0.999)]\n",
      "[2024-04-15 18:52:40,188] [INFO] [timer.py:260:stop] epoch=0/micro_step=480/global_step=480, RunningAvgSamplesPerSec=4460.978252686564, CurrSamplesPerSec=4417.163712955193, MemAllocated=2.26GB, MaxMemAllocated=3.01GB\n"
     ]
    },
    {
     "name": "stderr",
     "output_type": "stream",
     "text": [
      " 48%|████▊     | 483/1000 [00:07<00:07, 67.33it/s]"
     ]
    },
    {
     "name": "stdout",
     "output_type": "stream",
     "text": [
      "[2024-04-15 18:52:40,324] [INFO] [logging.py:96:log_dist] [Rank 0] step=490, skipped=0, lr=[0.001], mom=[(0.9, 0.999)]\n",
      "[2024-04-15 18:52:40,337] [INFO] [timer.py:260:stop] epoch=0/micro_step=490/global_step=490, RunningAvgSamplesPerSec=4460.720047814748, CurrSamplesPerSec=4445.105168159765, MemAllocated=2.26GB, MaxMemAllocated=3.01GB\n"
     ]
    },
    {
     "name": "stderr",
     "output_type": "stream",
     "text": [
      " 50%|████▉     | 497/1000 [00:07<00:07, 67.64it/s]"
     ]
    },
    {
     "name": "stdout",
     "output_type": "stream",
     "text": [
      "[2024-04-15 18:52:40,471] [INFO] [logging.py:96:log_dist] [Rank 0] step=500, skipped=0, lr=[0.001], mom=[(0.9, 0.999)]\n",
      "[2024-04-15 18:52:40,484] [INFO] [timer.py:260:stop] epoch=0/micro_step=500/global_step=500, RunningAvgSamplesPerSec=4461.015836604796, CurrSamplesPerSec=4457.431769120919, MemAllocated=2.26GB, MaxMemAllocated=3.01GB\n"
     ]
    },
    {
     "name": "stderr",
     "output_type": "stream",
     "text": [
      " 50%|█████     | 504/1000 [00:07<00:07, 67.84it/s]"
     ]
    },
    {
     "name": "stdout",
     "output_type": "stream",
     "text": [
      "[2024-04-15 18:52:40,617] [INFO] [logging.py:96:log_dist] [Rank 0] step=510, skipped=0, lr=[0.001], mom=[(0.9, 0.999)]\n",
      "[2024-04-15 18:52:40,630] [INFO] [timer.py:260:stop] epoch=0/micro_step=510/global_step=510, RunningAvgSamplesPerSec=4461.3233700483115, CurrSamplesPerSec=4421.310669697269, MemAllocated=2.26GB, MaxMemAllocated=3.01GB\n"
     ]
    },
    {
     "name": "stderr",
     "output_type": "stream",
     "text": [
      " 52%|█████▏    | 518/1000 [00:07<00:07, 67.68it/s]"
     ]
    },
    {
     "name": "stdout",
     "output_type": "stream",
     "text": [
      "[2024-04-15 18:52:40,767] [INFO] [logging.py:96:log_dist] [Rank 0] step=520, skipped=0, lr=[0.001], mom=[(0.9, 0.999)]\n",
      "[2024-04-15 18:52:40,780] [INFO] [timer.py:260:stop] epoch=0/micro_step=520/global_step=520, RunningAvgSamplesPerSec=4461.10605065503, CurrSamplesPerSec=4426.195129190232, MemAllocated=2.26GB, MaxMemAllocated=3.01GB\n"
     ]
    },
    {
     "name": "stderr",
     "output_type": "stream",
     "text": [
      " 52%|█████▎    | 525/1000 [00:07<00:07, 67.34it/s]"
     ]
    },
    {
     "name": "stdout",
     "output_type": "stream",
     "text": [
      "[2024-04-15 18:52:40,916] [INFO] [logging.py:96:log_dist] [Rank 0] step=530, skipped=0, lr=[0.001], mom=[(0.9, 0.999)]\n",
      "[2024-04-15 18:52:40,929] [INFO] [timer.py:260:stop] epoch=0/micro_step=530/global_step=530, RunningAvgSamplesPerSec=4460.732719773211, CurrSamplesPerSec=4422.986208828327, MemAllocated=2.26GB, MaxMemAllocated=3.01GB\n"
     ]
    },
    {
     "name": "stderr",
     "output_type": "stream",
     "text": [
      " 54%|█████▍    | 539/1000 [00:07<00:06, 67.31it/s]"
     ]
    },
    {
     "name": "stdout",
     "output_type": "stream",
     "text": [
      "[2024-04-15 18:52:41,065] [INFO] [logging.py:96:log_dist] [Rank 0] step=540, skipped=0, lr=[0.001], mom=[(0.9, 0.999)]\n",
      "[2024-04-15 18:52:41,078] [INFO] [timer.py:260:stop] epoch=0/micro_step=540/global_step=540, RunningAvgSamplesPerSec=4460.414654511866, CurrSamplesPerSec=4457.949946026738, MemAllocated=2.26GB, MaxMemAllocated=3.01GB\n"
     ]
    },
    {
     "name": "stderr",
     "output_type": "stream",
     "text": [
      " 55%|█████▍    | 546/1000 [00:08<00:06, 67.53it/s]"
     ]
    },
    {
     "name": "stdout",
     "output_type": "stream",
     "text": [
      "[2024-04-15 18:52:41,211] [INFO] [logging.py:96:log_dist] [Rank 0] step=550, skipped=0, lr=[0.001], mom=[(0.9, 0.999)]\n",
      "[2024-04-15 18:52:41,224] [INFO] [timer.py:260:stop] epoch=0/micro_step=550/global_step=550, RunningAvgSamplesPerSec=4460.750806688557, CurrSamplesPerSec=4463.732078420939, MemAllocated=2.26GB, MaxMemAllocated=3.01GB\n"
     ]
    },
    {
     "name": "stderr",
     "output_type": "stream",
     "text": [
      " 55%|█████▌    | 553/1000 [00:08<00:06, 67.77it/s]"
     ]
    },
    {
     "name": "stdout",
     "output_type": "stream",
     "text": [
      "[2024-04-15 18:52:41,357] [INFO] [logging.py:96:log_dist] [Rank 0] step=560, skipped=0, lr=[0.001], mom=[(0.9, 0.999)]\n",
      "[2024-04-15 18:52:41,370] [INFO] [timer.py:260:stop] epoch=0/micro_step=560/global_step=560, RunningAvgSamplesPerSec=4461.200517711016, CurrSamplesPerSec=4466.48013311148, MemAllocated=2.26GB, MaxMemAllocated=3.01GB\n"
     ]
    },
    {
     "name": "stderr",
     "output_type": "stream",
     "text": [
      " 57%|█████▋    | 567/1000 [00:08<00:06, 68.24it/s]"
     ]
    },
    {
     "name": "stdout",
     "output_type": "stream",
     "text": [
      "[2024-04-15 18:52:41,504] [INFO] [logging.py:96:log_dist] [Rank 0] step=570, skipped=0, lr=[0.001], mom=[(0.9, 0.999)]\n",
      "[2024-04-15 18:52:41,517] [INFO] [timer.py:260:stop] epoch=0/micro_step=570/global_step=570, RunningAvgSamplesPerSec=4461.403667167287, CurrSamplesPerSec=4422.039008961518, MemAllocated=2.26GB, MaxMemAllocated=3.01GB\n"
     ]
    },
    {
     "name": "stderr",
     "output_type": "stream",
     "text": [
      " 57%|█████▋    | 574/1000 [00:08<00:06, 67.78it/s]"
     ]
    },
    {
     "name": "stdout",
     "output_type": "stream",
     "text": [
      "[2024-04-15 18:52:41,653] [INFO] [logging.py:96:log_dist] [Rank 0] step=580, skipped=0, lr=[0.001], mom=[(0.9, 0.999)]\n",
      "[2024-04-15 18:52:41,666] [INFO] [timer.py:260:stop] epoch=0/micro_step=580/global_step=580, RunningAvgSamplesPerSec=4461.151839729908, CurrSamplesPerSec=4410.486765358263, MemAllocated=2.26GB, MaxMemAllocated=3.01GB\n"
     ]
    },
    {
     "name": "stderr",
     "output_type": "stream",
     "text": [
      " 59%|█████▉    | 588/1000 [00:08<00:06, 67.51it/s]"
     ]
    },
    {
     "name": "stdout",
     "output_type": "stream",
     "text": [
      "[2024-04-15 18:52:41,803] [INFO] [logging.py:96:log_dist] [Rank 0] step=590, skipped=0, lr=[0.001], mom=[(0.9, 0.999)]\n",
      "[2024-04-15 18:52:41,816] [INFO] [timer.py:260:stop] epoch=0/micro_step=590/global_step=590, RunningAvgSamplesPerSec=4460.78316361223, CurrSamplesPerSec=4417.745272616559, MemAllocated=2.26GB, MaxMemAllocated=3.01GB\n"
     ]
    },
    {
     "name": "stderr",
     "output_type": "stream",
     "text": [
      " 60%|█████▉    | 595/1000 [00:08<00:06, 67.34it/s]"
     ]
    },
    {
     "name": "stdout",
     "output_type": "stream",
     "text": [
      "[2024-04-15 18:52:41,950] [INFO] [logging.py:96:log_dist] [Rank 0] step=600, skipped=0, lr=[0.001], mom=[(0.9, 0.999)]\n",
      "[2024-04-15 18:52:41,964] [INFO] [timer.py:260:stop] epoch=0/micro_step=600/global_step=600, RunningAvgSamplesPerSec=4460.881038413046, CurrSamplesPerSec=4459.875658342887, MemAllocated=2.26GB, MaxMemAllocated=3.01GB\n"
     ]
    },
    {
     "name": "stderr",
     "output_type": "stream",
     "text": [
      " 61%|██████    | 609/1000 [00:08<00:05, 67.84it/s]"
     ]
    },
    {
     "name": "stdout",
     "output_type": "stream",
     "text": [
      "[2024-04-15 18:52:42,097] [INFO] [logging.py:96:log_dist] [Rank 0] step=610, skipped=0, lr=[0.001], mom=[(0.9, 0.999)]\n",
      "[2024-04-15 18:52:42,110] [INFO] [timer.py:260:stop] epoch=0/micro_step=610/global_step=610, RunningAvgSamplesPerSec=4461.164455830009, CurrSamplesPerSec=4464.548714366497, MemAllocated=2.26GB, MaxMemAllocated=3.01GB\n"
     ]
    },
    {
     "name": "stderr",
     "output_type": "stream",
     "text": [
      " 62%|██████▏   | 616/1000 [00:09<00:05, 68.01it/s]"
     ]
    },
    {
     "name": "stdout",
     "output_type": "stream",
     "text": [
      "[2024-04-15 18:52:42,243] [INFO] [logging.py:96:log_dist] [Rank 0] step=620, skipped=0, lr=[0.001], mom=[(0.9, 0.999)]\n",
      "[2024-04-15 18:52:42,256] [INFO] [timer.py:260:stop] epoch=0/micro_step=620/global_step=620, RunningAvgSamplesPerSec=4461.560642011616, CurrSamplesPerSec=4465.142819122392, MemAllocated=2.26GB, MaxMemAllocated=3.01GB\n"
     ]
    },
    {
     "name": "stderr",
     "output_type": "stream",
     "text": [
      " 62%|██████▏   | 623/1000 [00:09<00:05, 68.14it/s]"
     ]
    },
    {
     "name": "stdout",
     "output_type": "stream",
     "text": [
      "[2024-04-15 18:52:42,388] [INFO] [logging.py:96:log_dist] [Rank 0] step=630, skipped=0, lr=[0.001], mom=[(0.9, 0.999)]\n",
      "[2024-04-15 18:52:42,402] [INFO] [timer.py:260:stop] epoch=0/micro_step=630/global_step=630, RunningAvgSamplesPerSec=4461.873419158151, CurrSamplesPerSec=4419.418109976951, MemAllocated=2.26GB, MaxMemAllocated=3.01GB\n"
     ]
    },
    {
     "name": "stderr",
     "output_type": "stream",
     "text": [
      " 64%|██████▎   | 637/1000 [00:09<00:05, 68.37it/s]"
     ]
    },
    {
     "name": "stdout",
     "output_type": "stream",
     "text": [
      "[2024-04-15 18:52:42,536] [INFO] [logging.py:96:log_dist] [Rank 0] step=640, skipped=0, lr=[0.001], mom=[(0.9, 0.999)]\n",
      "[2024-04-15 18:52:42,549] [INFO] [timer.py:260:stop] epoch=0/micro_step=640/global_step=640, RunningAvgSamplesPerSec=4461.978566264757, CurrSamplesPerSec=4419.272595568141, MemAllocated=2.26GB, MaxMemAllocated=3.01GB\n"
     ]
    },
    {
     "name": "stderr",
     "output_type": "stream",
     "text": [
      " 64%|██████▍   | 644/1000 [00:09<00:05, 67.86it/s]"
     ]
    },
    {
     "name": "stdout",
     "output_type": "stream",
     "text": [
      "[2024-04-15 18:52:42,685] [INFO] [logging.py:96:log_dist] [Rank 0] step=650, skipped=0, lr=[0.001], mom=[(0.9, 0.999)]\n",
      "[2024-04-15 18:52:42,698] [INFO] [timer.py:260:stop] epoch=0/micro_step=650/global_step=650, RunningAvgSamplesPerSec=4461.789759229913, CurrSamplesPerSec=4422.039008961518, MemAllocated=2.26GB, MaxMemAllocated=3.01GB\n"
     ]
    },
    {
     "name": "stderr",
     "output_type": "stream",
     "text": [
      " 66%|██████▌   | 658/1000 [00:09<00:05, 67.50it/s]"
     ]
    },
    {
     "name": "stdout",
     "output_type": "stream",
     "text": [
      "[2024-04-15 18:52:42,835] [INFO] [logging.py:96:log_dist] [Rank 0] step=660, skipped=0, lr=[0.001], mom=[(0.9, 0.999)]\n",
      "[2024-04-15 18:52:42,848] [INFO] [timer.py:260:stop] epoch=0/micro_step=660/global_step=660, RunningAvgSamplesPerSec=4461.408817089405, CurrSamplesPerSec=4425.246554566436, MemAllocated=2.26GB, MaxMemAllocated=3.01GB\n"
     ]
    },
    {
     "name": "stderr",
     "output_type": "stream",
     "text": [
      " 66%|██████▋   | 665/1000 [00:09<00:04, 67.26it/s]"
     ]
    },
    {
     "name": "stdout",
     "output_type": "stream",
     "text": [
      "[2024-04-15 18:52:42,982] [INFO] [logging.py:96:log_dist] [Rank 0] step=670, skipped=0, lr=[0.001], mom=[(0.9, 0.999)]\n",
      "[2024-04-15 18:52:42,996] [INFO] [timer.py:260:stop] epoch=0/micro_step=670/global_step=670, RunningAvgSamplesPerSec=4461.366987908186, CurrSamplesPerSec=4460.542638750416, MemAllocated=2.26GB, MaxMemAllocated=3.01GB\n"
     ]
    },
    {
     "name": "stderr",
     "output_type": "stream",
     "text": [
      " 68%|██████▊   | 679/1000 [00:10<00:04, 67.90it/s]"
     ]
    },
    {
     "name": "stdout",
     "output_type": "stream",
     "text": [
      "[2024-04-15 18:52:43,129] [INFO] [logging.py:96:log_dist] [Rank 0] step=680, skipped=0, lr=[0.001], mom=[(0.9, 0.999)]\n",
      "[2024-04-15 18:52:43,142] [INFO] [timer.py:260:stop] epoch=0/micro_step=680/global_step=680, RunningAvgSamplesPerSec=4461.531671503894, CurrSamplesPerSec=4421.674809336342, MemAllocated=2.26GB, MaxMemAllocated=3.01GB\n"
     ]
    },
    {
     "name": "stderr",
     "output_type": "stream",
     "text": [
      " 69%|██████▊   | 686/1000 [00:10<00:04, 67.87it/s]"
     ]
    },
    {
     "name": "stdout",
     "output_type": "stream",
     "text": [
      "[2024-04-15 18:52:43,277] [INFO] [logging.py:96:log_dist] [Rank 0] step=690, skipped=0, lr=[0.001], mom=[(0.9, 0.999)]\n",
      "[2024-04-15 18:52:43,290] [INFO] [timer.py:260:stop] epoch=0/micro_step=690/global_step=690, RunningAvgSamplesPerSec=4461.50511381738, CurrSamplesPerSec=4384.337634338353, MemAllocated=2.26GB, MaxMemAllocated=3.01GB\n"
     ]
    },
    {
     "name": "stderr",
     "output_type": "stream",
     "text": [
      " 69%|██████▉   | 693/1000 [00:10<00:04, 67.53it/s]"
     ]
    },
    {
     "name": "stdout",
     "output_type": "stream",
     "text": [
      "[2024-04-15 18:52:43,426] [INFO] [logging.py:96:log_dist] [Rank 0] step=700, skipped=0, lr=[0.001], mom=[(0.9, 0.999)]\n",
      "[2024-04-15 18:52:43,439] [INFO] [timer.py:260:stop] epoch=0/micro_step=700/global_step=700, RunningAvgSamplesPerSec=4461.257512379667, CurrSamplesPerSec=4425.027710466017, MemAllocated=2.26GB, MaxMemAllocated=3.01GB\n"
     ]
    },
    {
     "name": "stderr",
     "output_type": "stream",
     "text": [
      " 71%|███████   | 707/1000 [00:10<00:04, 67.41it/s]"
     ]
    },
    {
     "name": "stdout",
     "output_type": "stream",
     "text": [
      "[2024-04-15 18:52:43,576] [INFO] [logging.py:96:log_dist] [Rank 0] step=710, skipped=0, lr=[0.001], mom=[(0.9, 0.999)]\n",
      "[2024-04-15 18:52:43,589] [INFO] [timer.py:260:stop] epoch=0/micro_step=710/global_step=710, RunningAvgSamplesPerSec=4461.012324356663, CurrSamplesPerSec=4419.56363396885, MemAllocated=2.26GB, MaxMemAllocated=3.01GB\n"
     ]
    },
    {
     "name": "stderr",
     "output_type": "stream",
     "text": [
      " 71%|███████▏  | 714/1000 [00:10<00:04, 67.19it/s]"
     ]
    },
    {
     "name": "stdout",
     "output_type": "stream",
     "text": [
      "[2024-04-15 18:52:43,723] [INFO] [logging.py:96:log_dist] [Rank 0] step=720, skipped=0, lr=[0.001], mom=[(0.9, 0.999)]\n",
      "[2024-04-15 18:52:43,736] [INFO] [timer.py:260:stop] epoch=0/micro_step=720/global_step=720, RunningAvgSamplesPerSec=4461.135058171904, CurrSamplesPerSec=4465.885672456246, MemAllocated=2.26GB, MaxMemAllocated=3.01GB\n"
     ]
    },
    {
     "name": "stderr",
     "output_type": "stream",
     "text": [
      " 73%|███████▎  | 728/1000 [00:10<00:04, 67.91it/s]"
     ]
    },
    {
     "name": "stdout",
     "output_type": "stream",
     "text": [
      "[2024-04-15 18:52:43,869] [INFO] [logging.py:96:log_dist] [Rank 0] step=730, skipped=0, lr=[0.001], mom=[(0.9, 0.999)]\n",
      "[2024-04-15 18:52:43,882] [INFO] [timer.py:260:stop] epoch=0/micro_step=730/global_step=730, RunningAvgSamplesPerSec=4461.40424672255, CurrSamplesPerSec=4467.966977363515, MemAllocated=2.26GB, MaxMemAllocated=3.01GB\n"
     ]
    },
    {
     "name": "stderr",
     "output_type": "stream",
     "text": [
      " 74%|███████▎  | 735/1000 [00:10<00:03, 68.02it/s]"
     ]
    },
    {
     "name": "stdout",
     "output_type": "stream",
     "text": [
      "[2024-04-15 18:52:44,015] [INFO] [logging.py:96:log_dist] [Rank 0] step=740, skipped=0, lr=[0.001], mom=[(0.9, 0.999)]\n",
      "[2024-04-15 18:52:44,028] [INFO] [timer.py:260:stop] epoch=0/micro_step=740/global_step=740, RunningAvgSamplesPerSec=4461.705461049364, CurrSamplesPerSec=4462.767348295927, MemAllocated=2.26GB, MaxMemAllocated=3.01GB\n"
     ]
    },
    {
     "name": "stderr",
     "output_type": "stream",
     "text": [
      " 75%|███████▍  | 749/1000 [00:11<00:03, 67.96it/s]"
     ]
    },
    {
     "name": "stdout",
     "output_type": "stream",
     "text": [
      "[2024-04-15 18:52:44,164] [INFO] [logging.py:96:log_dist] [Rank 0] step=750, skipped=0, lr=[0.001], mom=[(0.9, 0.999)]\n",
      "[2024-04-15 18:52:44,177] [INFO] [timer.py:260:stop] epoch=0/micro_step=750/global_step=750, RunningAvgSamplesPerSec=4461.648172943758, CurrSamplesPerSec=4424.444232005406, MemAllocated=2.26GB, MaxMemAllocated=3.01GB\n"
     ]
    },
    {
     "name": "stderr",
     "output_type": "stream",
     "text": [
      " 76%|███████▌  | 756/1000 [00:11<00:03, 67.60it/s]"
     ]
    },
    {
     "name": "stdout",
     "output_type": "stream",
     "text": [
      "[2024-04-15 18:52:44,313] [INFO] [logging.py:96:log_dist] [Rank 0] step=760, skipped=0, lr=[0.001], mom=[(0.9, 0.999)]\n",
      "[2024-04-15 18:52:44,326] [INFO] [timer.py:260:stop] epoch=0/micro_step=760/global_step=760, RunningAvgSamplesPerSec=4461.43871265459, CurrSamplesPerSec=4428.458756763891, MemAllocated=2.26GB, MaxMemAllocated=3.01GB\n"
     ]
    },
    {
     "name": "stderr",
     "output_type": "stream",
     "text": [
      " 76%|███████▋  | 763/1000 [00:11<00:03, 67.39it/s]"
     ]
    },
    {
     "name": "stdout",
     "output_type": "stream",
     "text": [
      "[2024-04-15 18:52:44,461] [INFO] [logging.py:96:log_dist] [Rank 0] step=770, skipped=0, lr=[0.001], mom=[(0.9, 0.999)]\n",
      "[2024-04-15 18:52:44,474] [INFO] [timer.py:260:stop] epoch=0/micro_step=770/global_step=770, RunningAvgSamplesPerSec=4461.325186144779, CurrSamplesPerSec=4463.6578536033785, MemAllocated=2.26GB, MaxMemAllocated=3.01GB\n"
     ]
    },
    {
     "name": "stderr",
     "output_type": "stream",
     "text": [
      " 78%|███████▊  | 777/1000 [00:11<00:03, 67.83it/s]"
     ]
    },
    {
     "name": "stdout",
     "output_type": "stream",
     "text": [
      "[2024-04-15 18:52:44,607] [INFO] [logging.py:96:log_dist] [Rank 0] step=780, skipped=0, lr=[0.001], mom=[(0.9, 0.999)]\n",
      "[2024-04-15 18:52:44,620] [INFO] [timer.py:260:stop] epoch=0/micro_step=780/global_step=780, RunningAvgSamplesPerSec=4461.585516797846, CurrSamplesPerSec=4464.771485122166, MemAllocated=2.26GB, MaxMemAllocated=3.01GB\n"
     ]
    },
    {
     "name": "stderr",
     "output_type": "stream",
     "text": [
      " 78%|███████▊  | 784/1000 [00:11<00:03, 67.97it/s]"
     ]
    },
    {
     "name": "stdout",
     "output_type": "stream",
     "text": [
      "[2024-04-15 18:52:44,753] [INFO] [logging.py:96:log_dist] [Rank 0] step=790, skipped=0, lr=[0.001], mom=[(0.9, 0.999)]\n",
      "[2024-04-15 18:52:44,766] [INFO] [timer.py:260:stop] epoch=0/micro_step=790/global_step=790, RunningAvgSamplesPerSec=4461.883409977178, CurrSamplesPerSec=4458.098018700281, MemAllocated=2.26GB, MaxMemAllocated=3.01GB\n"
     ]
    },
    {
     "name": "stderr",
     "output_type": "stream",
     "text": [
      " 80%|███████▉  | 798/1000 [00:11<00:02, 68.36it/s]"
     ]
    },
    {
     "name": "stdout",
     "output_type": "stream",
     "text": [
      "[2024-04-15 18:52:44,899] [INFO] [logging.py:96:log_dist] [Rank 0] step=800, skipped=0, lr=[0.001], mom=[(0.9, 0.999)]\n",
      "[2024-04-15 18:52:44,912] [INFO] [timer.py:260:stop] epoch=0/micro_step=800/global_step=800, RunningAvgSamplesPerSec=4462.1804749334215, CurrSamplesPerSec=4465.142819122392, MemAllocated=2.26GB, MaxMemAllocated=3.01GB\n"
     ]
    },
    {
     "name": "stderr",
     "output_type": "stream",
     "text": [
      " 80%|████████  | 805/1000 [00:11<00:02, 68.36it/s]"
     ]
    },
    {
     "name": "stdout",
     "output_type": "stream",
     "text": [
      "[2024-04-15 18:52:45,044] [INFO] [logging.py:96:log_dist] [Rank 0] step=810, skipped=0, lr=[0.001], mom=[(0.9, 0.999)]\n",
      "[2024-04-15 18:52:45,058] [INFO] [timer.py:260:stop] epoch=0/micro_step=810/global_step=810, RunningAvgSamplesPerSec=4462.46765416444, CurrSamplesPerSec=4453.512335130651, MemAllocated=2.26GB, MaxMemAllocated=3.01GB\n"
     ]
    },
    {
     "name": "stderr",
     "output_type": "stream",
     "text": [
      " 82%|████████▏ | 819/1000 [00:12<00:02, 68.01it/s]"
     ]
    },
    {
     "name": "stdout",
     "output_type": "stream",
     "text": [
      "[2024-04-15 18:52:45,195] [INFO] [logging.py:96:log_dist] [Rank 0] step=820, skipped=0, lr=[0.001], mom=[(0.9, 0.999)]\n",
      "[2024-04-15 18:52:45,208] [INFO] [timer.py:260:stop] epoch=0/micro_step=820/global_step=820, RunningAvgSamplesPerSec=4462.342179349166, CurrSamplesPerSec=4417.890686460065, MemAllocated=2.26GB, MaxMemAllocated=3.01GB\n"
     ]
    },
    {
     "name": "stderr",
     "output_type": "stream",
     "text": [
      " 83%|████████▎ | 826/1000 [00:12<00:02, 67.47it/s]"
     ]
    },
    {
     "name": "stdout",
     "output_type": "stream",
     "text": [
      "[2024-04-15 18:52:45,344] [INFO] [logging.py:96:log_dist] [Rank 0] step=830, skipped=0, lr=[0.001], mom=[(0.9, 0.999)]\n",
      "[2024-04-15 18:52:45,357] [INFO] [timer.py:260:stop] epoch=0/micro_step=830/global_step=830, RunningAvgSamplesPerSec=4462.062796032704, CurrSamplesPerSec=4419.199841957098, MemAllocated=2.26GB, MaxMemAllocated=3.01GB\n"
     ]
    },
    {
     "name": "stderr",
     "output_type": "stream",
     "text": [
      " 83%|████████▎ | 833/1000 [00:12<00:02, 67.27it/s]"
     ]
    },
    {
     "name": "stdout",
     "output_type": "stream",
     "text": [
      "[2024-04-15 18:52:45,493] [INFO] [logging.py:96:log_dist] [Rank 0] step=840, skipped=0, lr=[0.001], mom=[(0.9, 0.999)]\n",
      "[2024-04-15 18:52:45,506] [INFO] [timer.py:260:stop] epoch=0/micro_step=840/global_step=840, RunningAvgSamplesPerSec=4461.891889552418, CurrSamplesPerSec=4458.83852964138, MemAllocated=2.26GB, MaxMemAllocated=3.01GB\n"
     ]
    },
    {
     "name": "stderr",
     "output_type": "stream",
     "text": [
      " 85%|████████▍ | 847/1000 [00:12<00:02, 67.70it/s]"
     ]
    },
    {
     "name": "stdout",
     "output_type": "stream",
     "text": [
      "[2024-04-15 18:52:45,639] [INFO] [logging.py:96:log_dist] [Rank 0] step=850, skipped=0, lr=[0.001], mom=[(0.9, 0.999)]\n",
      "[2024-04-15 18:52:45,652] [INFO] [timer.py:260:stop] epoch=0/micro_step=850/global_step=850, RunningAvgSamplesPerSec=4462.081859316928, CurrSamplesPerSec=4462.322228871601, MemAllocated=2.26GB, MaxMemAllocated=3.01GB\n"
     ]
    },
    {
     "name": "stderr",
     "output_type": "stream",
     "text": [
      " 85%|████████▌ | 854/1000 [00:12<00:02, 67.87it/s]"
     ]
    },
    {
     "name": "stdout",
     "output_type": "stream",
     "text": [
      "[2024-04-15 18:52:45,786] [INFO] [logging.py:96:log_dist] [Rank 0] step=860, skipped=0, lr=[0.001], mom=[(0.9, 0.999)]\n",
      "[2024-04-15 18:52:45,799] [INFO] [timer.py:260:stop] epoch=0/micro_step=860/global_step=860, RunningAvgSamplesPerSec=4462.232662346001, CurrSamplesPerSec=4424.371308016877, MemAllocated=2.26GB, MaxMemAllocated=3.01GB\n"
     ]
    },
    {
     "name": "stderr",
     "output_type": "stream",
     "text": [
      " 87%|████████▋ | 868/1000 [00:12<00:01, 67.66it/s]"
     ]
    },
    {
     "name": "stdout",
     "output_type": "stream",
     "text": [
      "[2024-04-15 18:52:45,936] [INFO] [logging.py:96:log_dist] [Rank 0] step=870, skipped=0, lr=[0.001], mom=[(0.9, 0.999)]\n",
      "[2024-04-15 18:52:45,949] [INFO] [timer.py:260:stop] epoch=0/micro_step=870/global_step=870, RunningAvgSamplesPerSec=4462.06381317616, CurrSamplesPerSec=4423.933814562115, MemAllocated=2.26GB, MaxMemAllocated=3.01GB\n"
     ]
    },
    {
     "name": "stderr",
     "output_type": "stream",
     "text": [
      " 88%|████████▊ | 875/1000 [00:12<00:01, 67.34it/s]"
     ]
    },
    {
     "name": "stdout",
     "output_type": "stream",
     "text": [
      "[2024-04-15 18:52:46,085] [INFO] [logging.py:96:log_dist] [Rank 0] step=880, skipped=0, lr=[0.001], mom=[(0.9, 0.999)]\n",
      "[2024-04-15 18:52:46,098] [INFO] [timer.py:260:stop] epoch=0/micro_step=880/global_step=880, RunningAvgSamplesPerSec=4461.832345283995, CurrSamplesPerSec=4423.204851041392, MemAllocated=2.26GB, MaxMemAllocated=3.01GB\n"
     ]
    },
    {
     "name": "stderr",
     "output_type": "stream",
     "text": [
      " 89%|████████▉ | 889/1000 [00:13<00:01, 67.34it/s]"
     ]
    },
    {
     "name": "stdout",
     "output_type": "stream",
     "text": [
      "[2024-04-15 18:52:46,234] [INFO] [logging.py:96:log_dist] [Rank 0] step=890, skipped=0, lr=[0.001], mom=[(0.9, 0.999)]\n",
      "[2024-04-15 18:52:46,247] [INFO] [timer.py:260:stop] epoch=0/micro_step=890/global_step=890, RunningAvgSamplesPerSec=4461.643108321634, CurrSamplesPerSec=4460.616759999335, MemAllocated=2.26GB, MaxMemAllocated=3.01GB\n"
     ]
    },
    {
     "name": "stderr",
     "output_type": "stream",
     "text": [
      " 90%|████████▉ | 896/1000 [00:13<00:01, 67.53it/s]"
     ]
    },
    {
     "name": "stdout",
     "output_type": "stream",
     "text": [
      "[2024-04-15 18:52:46,379] [INFO] [logging.py:96:log_dist] [Rank 0] step=900, skipped=0, lr=[0.001], mom=[(0.9, 0.999)]\n",
      "[2024-04-15 18:52:46,393] [INFO] [timer.py:260:stop] epoch=0/micro_step=900/global_step=900, RunningAvgSamplesPerSec=4461.789656253364, CurrSamplesPerSec=4465.588501463934, MemAllocated=2.26GB, MaxMemAllocated=3.01GB\n"
     ]
    },
    {
     "name": "stderr",
     "output_type": "stream",
     "text": [
      " 90%|█████████ | 903/1000 [00:13<00:01, 67.80it/s]"
     ]
    },
    {
     "name": "stdout",
     "output_type": "stream",
     "text": [
      "[2024-04-15 18:52:46,525] [INFO] [logging.py:96:log_dist] [Rank 0] step=910, skipped=0, lr=[0.001], mom=[(0.9, 0.999)]\n",
      "[2024-04-15 18:52:46,538] [INFO] [timer.py:260:stop] epoch=0/micro_step=910/global_step=910, RunningAvgSamplesPerSec=4462.044237688675, CurrSamplesPerSec=4462.6189652879375, MemAllocated=2.26GB, MaxMemAllocated=3.01GB\n"
     ]
    },
    {
     "name": "stderr",
     "output_type": "stream",
     "text": [
      " 92%|█████████▏| 917/1000 [00:13<00:01, 68.08it/s]"
     ]
    },
    {
     "name": "stdout",
     "output_type": "stream",
     "text": [
      "[2024-04-15 18:52:46,674] [INFO] [logging.py:96:log_dist] [Rank 0] step=920, skipped=0, lr=[0.001], mom=[(0.9, 0.999)]\n",
      "[2024-04-15 18:52:46,687] [INFO] [timer.py:260:stop] epoch=0/micro_step=920/global_step=920, RunningAvgSamplesPerSec=4462.102530356801, CurrSamplesPerSec=4429.62798679868, MemAllocated=2.26GB, MaxMemAllocated=3.01GB\n"
     ]
    },
    {
     "name": "stderr",
     "output_type": "stream",
     "text": [
      " 92%|█████████▏| 924/1000 [00:13<00:01, 67.50it/s]"
     ]
    },
    {
     "name": "stdout",
     "output_type": "stream",
     "text": [
      "[2024-04-15 18:52:46,823] [INFO] [logging.py:96:log_dist] [Rank 0] step=930, skipped=0, lr=[0.001], mom=[(0.9, 0.999)]\n",
      "[2024-04-15 18:52:46,836] [INFO] [timer.py:260:stop] epoch=0/micro_step=930/global_step=930, RunningAvgSamplesPerSec=4461.935939108718, CurrSamplesPerSec=4427.5822392293985, MemAllocated=2.26GB, MaxMemAllocated=3.01GB\n"
     ]
    },
    {
     "name": "stderr",
     "output_type": "stream",
     "text": [
      " 94%|█████████▍| 938/1000 [00:13<00:00, 67.36it/s]"
     ]
    },
    {
     "name": "stdout",
     "output_type": "stream",
     "text": [
      "[2024-04-15 18:52:46,973] [INFO] [logging.py:96:log_dist] [Rank 0] step=940, skipped=0, lr=[0.001], mom=[(0.9, 0.999)]\n",
      "[2024-04-15 18:52:46,986] [INFO] [timer.py:260:stop] epoch=0/micro_step=940/global_step=940, RunningAvgSamplesPerSec=4461.659855012975, CurrSamplesPerSec=4432.041474730464, MemAllocated=2.26GB, MaxMemAllocated=3.01GB\n"
     ]
    },
    {
     "name": "stderr",
     "output_type": "stream",
     "text": [
      " 94%|█████████▍| 945/1000 [00:13<00:00, 67.25it/s]"
     ]
    },
    {
     "name": "stdout",
     "output_type": "stream",
     "text": [
      "[2024-04-15 18:52:47,120] [INFO] [logging.py:96:log_dist] [Rank 0] step=950, skipped=0, lr=[0.001], mom=[(0.9, 0.999)]\n",
      "[2024-04-15 18:52:47,133] [INFO] [timer.py:260:stop] epoch=0/micro_step=950/global_step=950, RunningAvgSamplesPerSec=4461.700086962864, CurrSamplesPerSec=4460.320289782829, MemAllocated=2.26GB, MaxMemAllocated=3.01GB\n"
     ]
    },
    {
     "name": "stderr",
     "output_type": "stream",
     "text": [
      " 96%|█████████▌| 959/1000 [00:14<00:00, 67.95it/s]"
     ]
    },
    {
     "name": "stdout",
     "output_type": "stream",
     "text": [
      "[2024-04-15 18:52:47,266] [INFO] [logging.py:96:log_dist] [Rank 0] step=960, skipped=0, lr=[0.001], mom=[(0.9, 0.999)]\n",
      "[2024-04-15 18:52:47,280] [INFO] [timer.py:260:stop] epoch=0/micro_step=960/global_step=960, RunningAvgSamplesPerSec=4461.9089389522505, CurrSamplesPerSec=4462.470592146823, MemAllocated=2.26GB, MaxMemAllocated=3.01GB\n"
     ]
    },
    {
     "name": "stderr",
     "output_type": "stream",
     "text": [
      " 97%|█████████▋| 966/1000 [00:14<00:00, 68.07it/s]"
     ]
    },
    {
     "name": "stdout",
     "output_type": "stream",
     "text": [
      "[2024-04-15 18:52:47,412] [INFO] [logging.py:96:log_dist] [Rank 0] step=970, skipped=0, lr=[0.001], mom=[(0.9, 0.999)]\n",
      "[2024-04-15 18:52:47,425] [INFO] [timer.py:260:stop] epoch=0/micro_step=970/global_step=970, RunningAvgSamplesPerSec=4462.164297196839, CurrSamplesPerSec=4463.435193960859, MemAllocated=2.26GB, MaxMemAllocated=3.01GB\n"
     ]
    },
    {
     "name": "stderr",
     "output_type": "stream",
     "text": [
      " 97%|█████████▋| 973/1000 [00:14<00:00, 68.18it/s]"
     ]
    },
    {
     "name": "stdout",
     "output_type": "stream",
     "text": [
      "[2024-04-15 18:52:47,557] [INFO] [logging.py:96:log_dist] [Rank 0] step=980, skipped=0, lr=[0.001], mom=[(0.9, 0.999)]\n",
      "[2024-04-15 18:52:47,571] [INFO] [timer.py:260:stop] epoch=0/micro_step=980/global_step=980, RunningAvgSamplesPerSec=4462.400277646995, CurrSamplesPerSec=4457.061716505886, MemAllocated=2.26GB, MaxMemAllocated=3.01GB\n"
     ]
    },
    {
     "name": "stderr",
     "output_type": "stream",
     "text": [
      " 99%|█████████▊| 987/1000 [00:14<00:00, 68.35it/s]"
     ]
    },
    {
     "name": "stdout",
     "output_type": "stream",
     "text": [
      "[2024-04-15 18:52:47,706] [INFO] [logging.py:96:log_dist] [Rank 0] step=990, skipped=0, lr=[0.001], mom=[(0.9, 0.999)]\n",
      "[2024-04-15 18:52:47,718] [INFO] [timer.py:260:stop] epoch=0/micro_step=990/global_step=990, RunningAvgSamplesPerSec=4462.446414867401, CurrSamplesPerSec=4419.127090741473, MemAllocated=2.26GB, MaxMemAllocated=3.01GB\n"
     ]
    },
    {
     "name": "stderr",
     "output_type": "stream",
     "text": [
      " 99%|█████████▉| 994/1000 [00:14<00:00, 67.84it/s]"
     ]
    },
    {
     "name": "stdout",
     "output_type": "stream",
     "text": [
      "[2024-04-15 18:52:47,855] [INFO] [logging.py:96:log_dist] [Rank 0] step=1000, skipped=0, lr=[0.001], mom=[(0.9, 0.999)]\n",
      "[2024-04-15 18:52:47,867] [INFO] [timer.py:260:stop] epoch=0/micro_step=1000/global_step=1000, RunningAvgSamplesPerSec=4462.318661138759, CurrSamplesPerSec=4424.152550473836, MemAllocated=2.26GB, MaxMemAllocated=3.01GB\n"
     ]
    },
    {
     "name": "stderr",
     "output_type": "stream",
     "text": [
      "100%|██████████| 1000/1000 [00:14<00:00, 67.71it/s]\n"
     ]
    }
   ],
   "source": [
    "import deepspeed\n",
    "import torch\n",
    "import torch.nn as nn\n",
    "import torch.optim as optim\n",
    "from tqdm import tqdm\n",
    "\n",
    "# Define a simple model\n",
    "class MyModel(nn.Module):\n",
    "    def __init__(self):\n",
    "        super(MyModel, self).__init__()\n",
    "        self.layer1 = nn.Linear(10000, 10000)\n",
    "        self.layer2 = nn.Linear(10000, 1)\n",
    "\n",
    "    def forward(self, x):\n",
    "        x = torch.relu(self.layer1(x))\n",
    "        x = self.layer2(x)\n",
    "        return x\n",
    "\n",
    "def training_function():\n",
    "    model = MyModel()\n",
    "    # Configure DeepSpeed\n",
    "    config = {\n",
    "        \"train_batch_size\": 64,\n",
    "        \"gradient_accumulation_steps\": 1,\n",
    "        \"fp16\": {\n",
    "            \"enabled\": False\n",
    "            },\n",
    "        \"optimizer\": {\n",
    "        \"type\": \"Adam\",\n",
    "        \"params\": {\n",
    "            \"lr\": 0.001\n",
    "            }\n",
    "        }\n",
    "    }\n",
    "\n",
    "    optimizer = optim.Adam(model.parameters(), lr=0.001)\n",
    "\n",
    "    # Initialize DeepSpeed\n",
    "    model_engine, optimizer, _, _ = deepspeed.initialize(model=model,\n",
    "                                                      model_parameters=model.parameters(),\n",
    "                                                      config=config,\n",
    "                                                     optimizer=optimizer,\n",
    "                                                     args=None\n",
    "                                                     )\n",
    "    # Dummy data\n",
    "    inputs = torch.randn(64, 10000).to(\"cuda\")\n",
    "    targets = torch.randn(64, 1).to(\"cuda\")\n",
    "    # Training loop with DeepSpeed\n",
    "    model_engine.train()\n",
    "    for epoch in tqdm(range(1000)):\n",
    "        optimizer.zero_grad()\n",
    "        outputs = model_engine(inputs)\n",
    "        loss = nn.MSELoss()(outputs, targets)\n",
    "        model_engine.backward(loss)\n",
    "        model_engine.step()\n",
    "\n",
    "from accelerate import notebook_launcher\n",
    "notebook_launcher(training_function, num_processes=1)"
   ]
  },
  {
   "cell_type": "code",
   "execution_count": 6,
   "id": "ac2dc3f3-91ca-46af-b10f-afd0e6632cfd",
   "metadata": {},
   "outputs": [
    {
     "name": "stdout",
     "output_type": "stream",
     "text": [
      "[2024-04-15 18:54:11,894] torch.distributed.run: [WARNING] \n",
      "[2024-04-15 18:54:11,894] torch.distributed.run: [WARNING] *****************************************\n",
      "[2024-04-15 18:54:11,894] torch.distributed.run: [WARNING] Setting OMP_NUM_THREADS environment variable for each process to be 1 in default, to avoid your system being overloaded, please further tune the variable for optimal performance in your application as needed. \n",
      "[2024-04-15 18:54:11,894] torch.distributed.run: [WARNING] *****************************************\n",
      "[W socket.cpp:436] [c10d] The server socket has failed to bind to [::]:29500 (errno: 98 - Address already in use).\n",
      "[W socket.cpp:436] [c10d] The server socket has failed to bind to 0.0.0.0:29500 (errno: 98 - Address already in use).\n",
      "[E socket.cpp:472] [c10d] The server socket has failed to listen on any local network address.\n",
      "Traceback (most recent call last):\n",
      "  File \"/scratch/qualis/miniconda3/envs/dp/bin/torchrun\", line 33, in <module>\n",
      "    sys.exit(load_entry_point('torch==2.1.1', 'console_scripts', 'torchrun')())\n",
      "  File \"/scratch/qualis/miniconda3/envs/dp/lib/python3.10/site-packages/torch/distributed/elastic/multiprocessing/errors/__init__.py\", line 346, in wrapper\n",
      "    return f(*args, **kwargs)\n",
      "  File \"/scratch/qualis/miniconda3/envs/dp/lib/python3.10/site-packages/torch/distributed/run.py\", line 806, in main\n",
      "    run(args)\n",
      "  File \"/scratch/qualis/miniconda3/envs/dp/lib/python3.10/site-packages/torch/distributed/run.py\", line 797, in run\n",
      "    elastic_launch(\n",
      "  File \"/scratch/qualis/miniconda3/envs/dp/lib/python3.10/site-packages/torch/distributed/launcher/api.py\", line 134, in __call__\n",
      "    return launch_agent(self._config, self._entrypoint, list(args))\n",
      "  File \"/scratch/qualis/miniconda3/envs/dp/lib/python3.10/site-packages/torch/distributed/launcher/api.py\", line 255, in launch_agent\n",
      "    result = agent.run()\n",
      "  File \"/scratch/qualis/miniconda3/envs/dp/lib/python3.10/site-packages/torch/distributed/elastic/metrics/api.py\", line 124, in wrapper\n",
      "    result = f(*args, **kwargs)\n",
      "  File \"/scratch/qualis/miniconda3/envs/dp/lib/python3.10/site-packages/torch/distributed/elastic/agent/server/api.py\", line 736, in run\n",
      "    result = self._invoke_run(role)\n",
      "  File \"/scratch/qualis/miniconda3/envs/dp/lib/python3.10/site-packages/torch/distributed/elastic/agent/server/api.py\", line 871, in _invoke_run\n",
      "    self._initialize_workers(self._worker_group)\n",
      "  File \"/scratch/qualis/miniconda3/envs/dp/lib/python3.10/site-packages/torch/distributed/elastic/metrics/api.py\", line 124, in wrapper\n",
      "    result = f(*args, **kwargs)\n",
      "  File \"/scratch/qualis/miniconda3/envs/dp/lib/python3.10/site-packages/torch/distributed/elastic/agent/server/api.py\", line 705, in _initialize_workers\n",
      "    self._rendezvous(worker_group)\n",
      "  File \"/scratch/qualis/miniconda3/envs/dp/lib/python3.10/site-packages/torch/distributed/elastic/metrics/api.py\", line 124, in wrapper\n",
      "    result = f(*args, **kwargs)\n",
      "  File \"/scratch/qualis/miniconda3/envs/dp/lib/python3.10/site-packages/torch/distributed/elastic/agent/server/api.py\", line 546, in _rendezvous\n",
      "    store, group_rank, group_world_size = spec.rdzv_handler.next_rendezvous()\n",
      "  File \"/scratch/qualis/miniconda3/envs/dp/lib/python3.10/site-packages/torch/distributed/elastic/rendezvous/static_tcp_rendezvous.py\", line 54, in next_rendezvous\n",
      "    self._store = TCPStore(  # type: ignore[call-arg]\n",
      "RuntimeError: The server socket has failed to listen on any local network address. The server socket has failed to bind to [::]:29500 (errno: 98 - Address already in use). The server socket has failed to bind to 0.0.0.0:29500 (errno: 98 - Address already in use).\n"
     ]
    }
   ],
   "source": [
    "!torchrun --nproc_per_node 2 deepspeed.py"
   ]
  },
  {
   "cell_type": "code",
   "execution_count": null,
   "id": "5b511777-6b13-4b00-b36c-b1e8a7b3cdbb",
   "metadata": {},
   "outputs": [],
   "source": []
  }
 ],
 "metadata": {
  "kernelspec": {
   "display_name": "dp",
   "language": "python",
   "name": "dp"
  },
  "language_info": {
   "codemirror_mode": {
    "name": "ipython",
    "version": 3
   },
   "file_extension": ".py",
   "mimetype": "text/x-python",
   "name": "python",
   "nbconvert_exporter": "python",
   "pygments_lexer": "ipython3",
   "version": "3.10.14"
  }
 },
 "nbformat": 4,
 "nbformat_minor": 5
}
