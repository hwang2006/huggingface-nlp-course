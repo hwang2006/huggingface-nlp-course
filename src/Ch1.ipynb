{
 "cells": [
  {
   "cell_type": "code",
   "execution_count": 1,
   "id": "535f9aad-9a93-4061-a026-0f714fb09d08",
   "metadata": {},
   "outputs": [
    {
     "name": "stderr",
     "output_type": "stream",
     "text": [
      "No model was supplied, defaulted to distilbert/distilbert-base-uncased-finetuned-sst-2-english and revision af0f99b (https://huggingface.co/distilbert/distilbert-base-uncased-finetuned-sst-2-english).\n",
      "Using a pipeline without specifying a model name and revision in production is not recommended.\n"
     ]
    },
    {
     "data": {
      "application/vnd.jupyter.widget-view+json": {
       "model_id": "0407a5f4193d41be973ff1fbcfbd5bae",
       "version_major": 2,
       "version_minor": 0
      },
      "text/plain": [
       "config.json:   0%|          | 0.00/629 [00:00<?, ?B/s]"
      ]
     },
     "metadata": {},
     "output_type": "display_data"
    },
    {
     "data": {
      "application/vnd.jupyter.widget-view+json": {
       "model_id": "1d14d1e45bec48588f58aded4c92032b",
       "version_major": 2,
       "version_minor": 0
      },
      "text/plain": [
       "model.safetensors:   0%|          | 0.00/268M [00:00<?, ?B/s]"
      ]
     },
     "metadata": {},
     "output_type": "display_data"
    },
    {
     "data": {
      "application/vnd.jupyter.widget-view+json": {
       "model_id": "56fc42c7f2be49848cbe49fc05754661",
       "version_major": 2,
       "version_minor": 0
      },
      "text/plain": [
       "tokenizer_config.json:   0%|          | 0.00/48.0 [00:00<?, ?B/s]"
      ]
     },
     "metadata": {},
     "output_type": "display_data"
    },
    {
     "data": {
      "application/vnd.jupyter.widget-view+json": {
       "model_id": "d491872e2d744beda405a2e85abf7467",
       "version_major": 2,
       "version_minor": 0
      },
      "text/plain": [
       "vocab.txt:   0%|          | 0.00/232k [00:00<?, ?B/s]"
      ]
     },
     "metadata": {},
     "output_type": "display_data"
    },
    {
     "data": {
      "text/plain": [
       "[{'label': 'POSITIVE', 'score': 0.9598048329353333}]"
      ]
     },
     "execution_count": 1,
     "metadata": {},
     "output_type": "execute_result"
    }
   ],
   "source": [
    "from transformers import pipeline\n",
    "\n",
    "classifier = pipeline(\"sentiment-analysis\")\n",
    "classifier(\"I've been waiting for a HuggingFace course my whole life.\")"
   ]
  },
  {
   "cell_type": "code",
   "execution_count": 2,
   "id": "f613f04c-ffb5-4e16-834c-1e697948e98a",
   "metadata": {},
   "outputs": [
    {
     "data": {
      "text/plain": [
       "[{'label': 'POSITIVE', 'score': 0.9598048329353333},\n",
       " {'label': 'NEGATIVE', 'score': 0.9994558691978455}]"
      ]
     },
     "execution_count": 2,
     "metadata": {},
     "output_type": "execute_result"
    }
   ],
   "source": [
    "classifier(\n",
    "    [\"I've been waiting for a HuggingFace course my whole life.\", \"I hate this so much!\"]\n",
    ")"
   ]
  },
  {
   "cell_type": "markdown",
   "id": "bcd1dd03-f9ba-4e89-aae1-95f2eb249364",
   "metadata": {},
   "source": [
    "#### Zero-shot classification"
   ]
  },
  {
   "cell_type": "code",
   "execution_count": 3,
   "id": "ca9a5f86-574f-40fe-abac-2137925c986f",
   "metadata": {},
   "outputs": [
    {
     "name": "stderr",
     "output_type": "stream",
     "text": [
      "No model was supplied, defaulted to facebook/bart-large-mnli and revision c626438 (https://huggingface.co/facebook/bart-large-mnli).\n",
      "Using a pipeline without specifying a model name and revision in production is not recommended.\n"
     ]
    },
    {
     "data": {
      "application/vnd.jupyter.widget-view+json": {
       "model_id": "5fb0e87ac199452cbe04306b6eecee4c",
       "version_major": 2,
       "version_minor": 0
      },
      "text/plain": [
       "config.json:   0%|          | 0.00/1.15k [00:00<?, ?B/s]"
      ]
     },
     "metadata": {},
     "output_type": "display_data"
    },
    {
     "data": {
      "application/vnd.jupyter.widget-view+json": {
       "model_id": "4b7a70ba07aa498f8731b4d69632474e",
       "version_major": 2,
       "version_minor": 0
      },
      "text/plain": [
       "model.safetensors:   0%|          | 0.00/1.63G [00:00<?, ?B/s]"
      ]
     },
     "metadata": {},
     "output_type": "display_data"
    },
    {
     "data": {
      "application/vnd.jupyter.widget-view+json": {
       "model_id": "d14f0ddf16e94f1db96eb94b5eca1cb6",
       "version_major": 2,
       "version_minor": 0
      },
      "text/plain": [
       "tokenizer_config.json:   0%|          | 0.00/26.0 [00:00<?, ?B/s]"
      ]
     },
     "metadata": {},
     "output_type": "display_data"
    },
    {
     "data": {
      "application/vnd.jupyter.widget-view+json": {
       "model_id": "9e6935dc27b349d1b9e1da62745309ce",
       "version_major": 2,
       "version_minor": 0
      },
      "text/plain": [
       "vocab.json:   0%|          | 0.00/899k [00:00<?, ?B/s]"
      ]
     },
     "metadata": {},
     "output_type": "display_data"
    },
    {
     "data": {
      "application/vnd.jupyter.widget-view+json": {
       "model_id": "d0edc4f05e624094b8e2d1743708ac3e",
       "version_major": 2,
       "version_minor": 0
      },
      "text/plain": [
       "merges.txt:   0%|          | 0.00/456k [00:00<?, ?B/s]"
      ]
     },
     "metadata": {},
     "output_type": "display_data"
    },
    {
     "data": {
      "application/vnd.jupyter.widget-view+json": {
       "model_id": "c80f3eca8e6b4763b733f3e16032a1a3",
       "version_major": 2,
       "version_minor": 0
      },
      "text/plain": [
       "tokenizer.json:   0%|          | 0.00/1.36M [00:00<?, ?B/s]"
      ]
     },
     "metadata": {},
     "output_type": "display_data"
    },
    {
     "data": {
      "text/plain": [
       "{'sequence': 'This is a course about the Transformers library',\n",
       " 'labels': ['education', 'business', 'politics'],\n",
       " 'scores': [0.8445945382118225, 0.11197733879089355, 0.043428096920251846]}"
      ]
     },
     "execution_count": 3,
     "metadata": {},
     "output_type": "execute_result"
    }
   ],
   "source": [
    "from transformers import pipeline\n",
    "\n",
    "classifier = pipeline(\"zero-shot-classification\")\n",
    "classifier(\n",
    "    \"This is a course about the Transformers library\",\n",
    "    candidate_labels=[\"education\", \"politics\", \"business\"],\n",
    ")"
   ]
  },
  {
   "cell_type": "markdown",
   "id": "e4d86880-9de9-4af9-bd37-caf8cd296ffc",
   "metadata": {},
   "source": [
    "#### Text generation"
   ]
  },
  {
   "cell_type": "code",
   "execution_count": 4,
   "id": "4e2cc3a6-e109-45af-96b5-b1e2a6449606",
   "metadata": {},
   "outputs": [
    {
     "name": "stderr",
     "output_type": "stream",
     "text": [
      "No model was supplied, defaulted to openai-community/gpt2 and revision 6c0e608 (https://huggingface.co/openai-community/gpt2).\n",
      "Using a pipeline without specifying a model name and revision in production is not recommended.\n"
     ]
    },
    {
     "data": {
      "application/vnd.jupyter.widget-view+json": {
       "model_id": "9a7561807d024864a0ddc638eda0049d",
       "version_major": 2,
       "version_minor": 0
      },
      "text/plain": [
       "config.json:   0%|          | 0.00/665 [00:00<?, ?B/s]"
      ]
     },
     "metadata": {},
     "output_type": "display_data"
    },
    {
     "data": {
      "application/vnd.jupyter.widget-view+json": {
       "model_id": "ecb7f309fa1c49f6b1fbb5aa90c1f082",
       "version_major": 2,
       "version_minor": 0
      },
      "text/plain": [
       "model.safetensors:   0%|          | 0.00/548M [00:00<?, ?B/s]"
      ]
     },
     "metadata": {},
     "output_type": "display_data"
    },
    {
     "data": {
      "application/vnd.jupyter.widget-view+json": {
       "model_id": "382c2927c0844b4f84be1a2e2276ea36",
       "version_major": 2,
       "version_minor": 0
      },
      "text/plain": [
       "generation_config.json:   0%|          | 0.00/124 [00:00<?, ?B/s]"
      ]
     },
     "metadata": {},
     "output_type": "display_data"
    },
    {
     "data": {
      "application/vnd.jupyter.widget-view+json": {
       "model_id": "af049dc558fd4c49b10bcd627a500201",
       "version_major": 2,
       "version_minor": 0
      },
      "text/plain": [
       "tokenizer_config.json:   0%|          | 0.00/26.0 [00:00<?, ?B/s]"
      ]
     },
     "metadata": {},
     "output_type": "display_data"
    },
    {
     "data": {
      "application/vnd.jupyter.widget-view+json": {
       "model_id": "a90bb1a6f7704134a82a504bd8366eed",
       "version_major": 2,
       "version_minor": 0
      },
      "text/plain": [
       "vocab.json:   0%|          | 0.00/1.04M [00:00<?, ?B/s]"
      ]
     },
     "metadata": {},
     "output_type": "display_data"
    },
    {
     "data": {
      "application/vnd.jupyter.widget-view+json": {
       "model_id": "1ec05e50faa84bae974e3637d27f065f",
       "version_major": 2,
       "version_minor": 0
      },
      "text/plain": [
       "merges.txt:   0%|          | 0.00/456k [00:00<?, ?B/s]"
      ]
     },
     "metadata": {},
     "output_type": "display_data"
    },
    {
     "data": {
      "application/vnd.jupyter.widget-view+json": {
       "model_id": "c4c168cc77e94bd29dfd5897b84d5b28",
       "version_major": 2,
       "version_minor": 0
      },
      "text/plain": [
       "tokenizer.json:   0%|          | 0.00/1.36M [00:00<?, ?B/s]"
      ]
     },
     "metadata": {},
     "output_type": "display_data"
    },
    {
     "name": "stderr",
     "output_type": "stream",
     "text": [
      "Setting `pad_token_id` to `eos_token_id`:50256 for open-end generation.\n"
     ]
    },
    {
     "data": {
      "text/plain": [
       "[{'generated_text': 'In this course, we will teach you how to install, set up, and open a web client to your website. You will then explore the web client framework and provide your own unique solutions in the form of an HTML file. You will also build'}]"
      ]
     },
     "execution_count": 4,
     "metadata": {},
     "output_type": "execute_result"
    }
   ],
   "source": [
    "from transformers import pipeline\n",
    "\n",
    "generator = pipeline(\"text-generation\")\n",
    "generator(\"In this course, we will teach you how to\")"
   ]
  },
  {
   "cell_type": "code",
   "execution_count": 5,
   "id": "bf40868e-665b-4e8a-a776-682d2d4fc20a",
   "metadata": {},
   "outputs": [
    {
     "name": "stderr",
     "output_type": "stream",
     "text": [
      "No model was supplied, defaulted to openai-community/gpt2 and revision 6c0e608 (https://huggingface.co/openai-community/gpt2).\n",
      "Using a pipeline without specifying a model name and revision in production is not recommended.\n",
      "Setting `pad_token_id` to `eos_token_id`:50256 for open-end generation.\n"
     ]
    },
    {
     "data": {
      "text/plain": [
       "[{'generated_text': 'In this course, we will teach you how to use Python as a programming language after a Python 3 tutorial. It will help you get the confidence you'},\n",
       " {'generated_text': 'In this course, we will teach you how to use the new QQL framework with the new version of your web application and how to access the'}]"
      ]
     },
     "execution_count": 5,
     "metadata": {},
     "output_type": "execute_result"
    }
   ],
   "source": [
    "from transformers import pipeline\n",
    "\n",
    "generator = pipeline(\"text-generation\",  max_length=30,\n",
    "    num_return_sequences=2,)\n",
    "generator(\"In this course, we will teach you how to\")"
   ]
  },
  {
   "cell_type": "code",
   "execution_count": 6,
   "id": "d55aea6d-abda-45a2-8d26-a85d91723d7a",
   "metadata": {},
   "outputs": [
    {
     "name": "stderr",
     "output_type": "stream",
     "text": [
      "No model was supplied, defaulted to openai-community/gpt2 and revision 6c0e608 (https://huggingface.co/openai-community/gpt2).\n",
      "Using a pipeline without specifying a model name and revision in production is not recommended.\n",
      "Setting `pad_token_id` to `eos_token_id`:50256 for open-end generation.\n"
     ]
    },
    {
     "data": {
      "text/plain": [
       "[{'generated_text': 'In this course, we will teach you how to successfully work in an Excel spreadsheet from an overview to a complete project. This course is not for high school grads and will be taught in English.\\n\\nThis course is designed for students who are'},\n",
       " {'generated_text': \"In this course, we will teach you how to code the Python library to work in the Virtual Machine, and how to create and debug virtual machines! I'll also show you how to test virtual machines, make them do their jobs, and what types\"}]"
      ]
     },
     "execution_count": 6,
     "metadata": {},
     "output_type": "execute_result"
    }
   ],
   "source": [
    "from transformers import pipeline\n",
    "\n",
    "generator = pipeline(\"text-generation\",\n",
    "    num_return_sequences=2,)\n",
    "generator(\"In this course, we will teach you how to\")"
   ]
  },
  {
   "cell_type": "code",
   "execution_count": 7,
   "id": "e2e72d2b-92a2-477f-8b82-4a6ecb8e2803",
   "metadata": {},
   "outputs": [
    {
     "data": {
      "application/vnd.jupyter.widget-view+json": {
       "model_id": "eef428ea54c347148e3122ec7a284964",
       "version_major": 2,
       "version_minor": 0
      },
      "text/plain": [
       "config.json:   0%|          | 0.00/762 [00:00<?, ?B/s]"
      ]
     },
     "metadata": {},
     "output_type": "display_data"
    },
    {
     "data": {
      "application/vnd.jupyter.widget-view+json": {
       "model_id": "c0b5b34c2a584d5eb34ecfffffcf2050",
       "version_major": 2,
       "version_minor": 0
      },
      "text/plain": [
       "model.safetensors:   0%|          | 0.00/353M [00:00<?, ?B/s]"
      ]
     },
     "metadata": {},
     "output_type": "display_data"
    },
    {
     "data": {
      "application/vnd.jupyter.widget-view+json": {
       "model_id": "a0cd0d944b0f48d6b2b7beb26ca228a8",
       "version_major": 2,
       "version_minor": 0
      },
      "text/plain": [
       "generation_config.json:   0%|          | 0.00/124 [00:00<?, ?B/s]"
      ]
     },
     "metadata": {},
     "output_type": "display_data"
    },
    {
     "data": {
      "application/vnd.jupyter.widget-view+json": {
       "model_id": "a82071f839ca48f4b67b01c71bf70d27",
       "version_major": 2,
       "version_minor": 0
      },
      "text/plain": [
       "tokenizer_config.json:   0%|          | 0.00/26.0 [00:00<?, ?B/s]"
      ]
     },
     "metadata": {},
     "output_type": "display_data"
    },
    {
     "data": {
      "application/vnd.jupyter.widget-view+json": {
       "model_id": "a9b69b38e56349b8b15b917785c6564f",
       "version_major": 2,
       "version_minor": 0
      },
      "text/plain": [
       "vocab.json:   0%|          | 0.00/1.04M [00:00<?, ?B/s]"
      ]
     },
     "metadata": {},
     "output_type": "display_data"
    },
    {
     "data": {
      "application/vnd.jupyter.widget-view+json": {
       "model_id": "6a99dad097ef4342bb1f9bfc74368693",
       "version_major": 2,
       "version_minor": 0
      },
      "text/plain": [
       "merges.txt:   0%|          | 0.00/456k [00:00<?, ?B/s]"
      ]
     },
     "metadata": {},
     "output_type": "display_data"
    },
    {
     "data": {
      "application/vnd.jupyter.widget-view+json": {
       "model_id": "926a0693e3f5451880c96ada9dfb4f2b",
       "version_major": 2,
       "version_minor": 0
      },
      "text/plain": [
       "tokenizer.json:   0%|          | 0.00/1.36M [00:00<?, ?B/s]"
      ]
     },
     "metadata": {},
     "output_type": "display_data"
    },
    {
     "name": "stderr",
     "output_type": "stream",
     "text": [
      "Truncation was not explicitly activated but `max_length` is provided a specific value, please use `truncation=True` to explicitly truncate examples to max length. Defaulting to 'longest_first' truncation strategy. If you encode pairs of sequences (GLUE-style) with the tokenizer you can select this strategy more precisely by providing a specific strategy to `truncation`.\n",
      "Setting `pad_token_id` to `eos_token_id`:50256 for open-end generation.\n"
     ]
    },
    {
     "data": {
      "text/plain": [
       "[{'generated_text': 'In this course, we will teach you how to use the following principles and tools:\\n\\n\\n\\n\\n\\n\\n\\n\\n\\n\\n\\n\\n'},\n",
       " {'generated_text': 'In this course, we will teach you how to identify and identify these unique traits from the genetics of children that are unique to each other, and then'}]"
      ]
     },
     "execution_count": 7,
     "metadata": {},
     "output_type": "execute_result"
    }
   ],
   "source": [
    "from transformers import pipeline\n",
    "\n",
    "generator = pipeline(\"text-generation\", model=\"distilgpt2\")\n",
    "generator(\n",
    "    \"In this course, we will teach you how to\",\n",
    "    max_length=30,\n",
    "    num_return_sequences=2,\n",
    ")"
   ]
  },
  {
   "cell_type": "markdown",
   "id": "415705ea-a371-4b04-9e84-5a742548435d",
   "metadata": {},
   "source": [
    "#### Mask filling"
   ]
  },
  {
   "cell_type": "code",
   "execution_count": 8,
   "id": "287168c1-abc5-448a-a899-b8eebf73a449",
   "metadata": {},
   "outputs": [
    {
     "name": "stderr",
     "output_type": "stream",
     "text": [
      "No model was supplied, defaulted to distilbert/distilroberta-base and revision ec58a5b (https://huggingface.co/distilbert/distilroberta-base).\n",
      "Using a pipeline without specifying a model name and revision in production is not recommended.\n"
     ]
    },
    {
     "data": {
      "application/vnd.jupyter.widget-view+json": {
       "model_id": "d7133029d79a4fa7923d15fbb6647c67",
       "version_major": 2,
       "version_minor": 0
      },
      "text/plain": [
       "config.json:   0%|          | 0.00/480 [00:00<?, ?B/s]"
      ]
     },
     "metadata": {},
     "output_type": "display_data"
    },
    {
     "data": {
      "application/vnd.jupyter.widget-view+json": {
       "model_id": "c9503ef53c5a41fe82fb4d4db04e26a4",
       "version_major": 2,
       "version_minor": 0
      },
      "text/plain": [
       "model.safetensors:   0%|          | 0.00/331M [00:00<?, ?B/s]"
      ]
     },
     "metadata": {},
     "output_type": "display_data"
    },
    {
     "name": "stderr",
     "output_type": "stream",
     "text": [
      "Some weights of the model checkpoint at distilbert/distilroberta-base were not used when initializing RobertaForMaskedLM: ['roberta.pooler.dense.bias', 'roberta.pooler.dense.weight']\n",
      "- This IS expected if you are initializing RobertaForMaskedLM from the checkpoint of a model trained on another task or with another architecture (e.g. initializing a BertForSequenceClassification model from a BertForPreTraining model).\n",
      "- This IS NOT expected if you are initializing RobertaForMaskedLM from the checkpoint of a model that you expect to be exactly identical (initializing a BertForSequenceClassification model from a BertForSequenceClassification model).\n"
     ]
    },
    {
     "data": {
      "application/vnd.jupyter.widget-view+json": {
       "model_id": "33559ded9b064a2d9b12dbc4d0fb2a46",
       "version_major": 2,
       "version_minor": 0
      },
      "text/plain": [
       "tokenizer_config.json:   0%|          | 0.00/25.0 [00:00<?, ?B/s]"
      ]
     },
     "metadata": {},
     "output_type": "display_data"
    },
    {
     "data": {
      "application/vnd.jupyter.widget-view+json": {
       "model_id": "8759b2ee9f3e4752ab3a2887887260d9",
       "version_major": 2,
       "version_minor": 0
      },
      "text/plain": [
       "vocab.json:   0%|          | 0.00/899k [00:00<?, ?B/s]"
      ]
     },
     "metadata": {},
     "output_type": "display_data"
    },
    {
     "data": {
      "application/vnd.jupyter.widget-view+json": {
       "model_id": "cfe159ce586048a89b9b682f5efefbed",
       "version_major": 2,
       "version_minor": 0
      },
      "text/plain": [
       "merges.txt:   0%|          | 0.00/456k [00:00<?, ?B/s]"
      ]
     },
     "metadata": {},
     "output_type": "display_data"
    },
    {
     "data": {
      "application/vnd.jupyter.widget-view+json": {
       "model_id": "99694bef9b65412ca1febc6def633552",
       "version_major": 2,
       "version_minor": 0
      },
      "text/plain": [
       "tokenizer.json:   0%|          | 0.00/1.36M [00:00<?, ?B/s]"
      ]
     },
     "metadata": {},
     "output_type": "display_data"
    },
    {
     "data": {
      "text/plain": [
       "[{'score': 0.19619743525981903,\n",
       "  'token': 30412,\n",
       "  'token_str': ' mathematical',\n",
       "  'sequence': 'This course will teach you all about mathematical models.'},\n",
       " {'score': 0.04052703455090523,\n",
       "  'token': 38163,\n",
       "  'token_str': ' computational',\n",
       "  'sequence': 'This course will teach you all about computational models.'}]"
      ]
     },
     "execution_count": 8,
     "metadata": {},
     "output_type": "execute_result"
    }
   ],
   "source": [
    "from transformers import pipeline\n",
    "\n",
    "unmasker = pipeline(\"fill-mask\")\n",
    "unmasker(\"This course will teach you all about <mask> models.\", top_k=2)"
   ]
  },
  {
   "cell_type": "markdown",
   "id": "99911018-d577-40a5-bdbd-21152918d8bc",
   "metadata": {},
   "source": [
    "#### Named entity recognition"
   ]
  },
  {
   "cell_type": "code",
   "execution_count": 9,
   "id": "a5d970cb-5105-4982-8779-cbd5f8bee9b7",
   "metadata": {},
   "outputs": [
    {
     "name": "stderr",
     "output_type": "stream",
     "text": [
      "No model was supplied, defaulted to dbmdz/bert-large-cased-finetuned-conll03-english and revision f2482bf (https://huggingface.co/dbmdz/bert-large-cased-finetuned-conll03-english).\n",
      "Using a pipeline without specifying a model name and revision in production is not recommended.\n",
      "Some weights of the model checkpoint at dbmdz/bert-large-cased-finetuned-conll03-english were not used when initializing BertForTokenClassification: ['bert.pooler.dense.bias', 'bert.pooler.dense.weight']\n",
      "- This IS expected if you are initializing BertForTokenClassification from the checkpoint of a model trained on another task or with another architecture (e.g. initializing a BertForSequenceClassification model from a BertForPreTraining model).\n",
      "- This IS NOT expected if you are initializing BertForTokenClassification from the checkpoint of a model that you expect to be exactly identical (initializing a BertForSequenceClassification model from a BertForSequenceClassification model).\n",
      "/scratch/qualis/miniconda3/envs/transformer/lib/python3.10/site-packages/transformers/pipelines/token_classification.py:168: UserWarning: `grouped_entities` is deprecated and will be removed in version v5.0.0, defaulted to `aggregation_strategy=\"simple\"` instead.\n",
      "  warnings.warn(\n"
     ]
    },
    {
     "data": {
      "text/plain": [
       "[{'entity_group': 'PER',\n",
       "  'score': 0.9981694,\n",
       "  'word': 'Sylvain',\n",
       "  'start': 11,\n",
       "  'end': 18},\n",
       " {'entity_group': 'ORG',\n",
       "  'score': 0.9796019,\n",
       "  'word': 'Hugging Face',\n",
       "  'start': 33,\n",
       "  'end': 45},\n",
       " {'entity_group': 'LOC',\n",
       "  'score': 0.9932106,\n",
       "  'word': 'Brooklyn',\n",
       "  'start': 49,\n",
       "  'end': 57}]"
      ]
     },
     "execution_count": 9,
     "metadata": {},
     "output_type": "execute_result"
    }
   ],
   "source": [
    "from transformers import pipeline\n",
    "\n",
    "ner = pipeline(\"ner\", grouped_entities=True)\n",
    "ner(\"My name is Sylvain and I work at Hugging Face in Brooklyn.\")"
   ]
  },
  {
   "cell_type": "markdown",
   "id": "ef4d5722-0378-4107-99e8-1b1f0947df87",
   "metadata": {},
   "source": [
    "#### Question answering"
   ]
  },
  {
   "cell_type": "code",
   "execution_count": 10,
   "id": "5f8d2de7-311d-49f3-b4c9-d33861628fb7",
   "metadata": {},
   "outputs": [
    {
     "name": "stderr",
     "output_type": "stream",
     "text": [
      "No model was supplied, defaulted to distilbert/distilbert-base-cased-distilled-squad and revision 626af31 (https://huggingface.co/distilbert/distilbert-base-cased-distilled-squad).\n",
      "Using a pipeline without specifying a model name and revision in production is not recommended.\n"
     ]
    },
    {
     "data": {
      "text/plain": [
       "{'score': 0.6949753165245056, 'start': 33, 'end': 45, 'answer': 'Hugging Face'}"
      ]
     },
     "execution_count": 10,
     "metadata": {},
     "output_type": "execute_result"
    }
   ],
   "source": [
    "from transformers import pipeline\n",
    "\n",
    "question_answerer = pipeline(\"question-answering\")\n",
    "question_answerer(\n",
    "    question=\"Where do I work?\",\n",
    "    context=\"My name is Sylvain and I work at Hugging Face in Brooklyn\",\n",
    ")"
   ]
  },
  {
   "cell_type": "markdown",
   "id": "4fa30bd6-cb34-4045-b863-301687f729e4",
   "metadata": {},
   "source": [
    "#### Summarization"
   ]
  },
  {
   "cell_type": "code",
   "execution_count": 11,
   "id": "44f4a304-ce2c-4b67-afcb-c22f33e47530",
   "metadata": {},
   "outputs": [
    {
     "name": "stderr",
     "output_type": "stream",
     "text": [
      "No model was supplied, defaulted to sshleifer/distilbart-cnn-12-6 and revision a4f8f3e (https://huggingface.co/sshleifer/distilbart-cnn-12-6).\n",
      "Using a pipeline without specifying a model name and revision in production is not recommended.\n"
     ]
    },
    {
     "data": {
      "application/vnd.jupyter.widget-view+json": {
       "model_id": "7f75703e55e342189dc702d8b4fca455",
       "version_major": 2,
       "version_minor": 0
      },
      "text/plain": [
       "config.json:   0%|          | 0.00/1.80k [00:00<?, ?B/s]"
      ]
     },
     "metadata": {},
     "output_type": "display_data"
    },
    {
     "data": {
      "application/vnd.jupyter.widget-view+json": {
       "model_id": "44fde69e426b42959215687f820f8997",
       "version_major": 2,
       "version_minor": 0
      },
      "text/plain": [
       "pytorch_model.bin:   0%|          | 0.00/1.22G [00:00<?, ?B/s]"
      ]
     },
     "metadata": {},
     "output_type": "display_data"
    },
    {
     "data": {
      "application/vnd.jupyter.widget-view+json": {
       "model_id": "52a9ab277d7347fcb48072d0da397dd2",
       "version_major": 2,
       "version_minor": 0
      },
      "text/plain": [
       "tokenizer_config.json:   0%|          | 0.00/26.0 [00:00<?, ?B/s]"
      ]
     },
     "metadata": {},
     "output_type": "display_data"
    },
    {
     "data": {
      "application/vnd.jupyter.widget-view+json": {
       "model_id": "da8826df816c4ff1a21fceaba98913e7",
       "version_major": 2,
       "version_minor": 0
      },
      "text/plain": [
       "vocab.json:   0%|          | 0.00/899k [00:00<?, ?B/s]"
      ]
     },
     "metadata": {},
     "output_type": "display_data"
    },
    {
     "data": {
      "application/vnd.jupyter.widget-view+json": {
       "model_id": "060e4b2ce629426b8b7d0555c43965c0",
       "version_major": 2,
       "version_minor": 0
      },
      "text/plain": [
       "merges.txt:   0%|          | 0.00/456k [00:00<?, ?B/s]"
      ]
     },
     "metadata": {},
     "output_type": "display_data"
    },
    {
     "data": {
      "text/plain": [
       "[{'summary_text': ' America has changed dramatically during recent years . The number of engineering graduates in the U.S. has declined in traditional engineering disciplines such as mechanical, civil,    electrical, chemical, and aeronautical engineering . Rapidly developing economies such as China and India continue to encourage and advance the teaching of engineering .'}]"
      ]
     },
     "execution_count": 11,
     "metadata": {},
     "output_type": "execute_result"
    }
   ],
   "source": [
    "from transformers import pipeline\n",
    "\n",
    "summarizer = pipeline(\"summarization\")\n",
    "summarizer(\n",
    "    \"\"\"\n",
    "    America has changed dramatically during recent years. Not only has the number of \n",
    "    graduates in traditional engineering disciplines such as mechanical, civil, \n",
    "    electrical, chemical, and aeronautical engineering declined, but in most of \n",
    "    the premier American universities engineering curricula now concentrate on \n",
    "    and encourage largely the study of engineering science. As a result, there \n",
    "    are declining offerings in engineering subjects dealing with infrastructure, \n",
    "    the environment, and related issues, and greater concentration on high \n",
    "    technology subjects, largely supporting increasingly complex scientific \n",
    "    developments. While the latter is important, it should not be at the expense \n",
    "    of more traditional engineering.\n",
    "\n",
    "    Rapidly developing economies such as China and India, as well as other \n",
    "    industrial countries in Europe and Asia, continue to encourage and advance \n",
    "    the teaching of engineering. Both China and India, respectively, graduate \n",
    "    six and eight times as many traditional engineers as does the United States. \n",
    "    Other industrial countries at minimum maintain their output, while America \n",
    "    suffers an increasingly serious decline in the number of engineering graduates \n",
    "    and a lack of well-educated engineers.\n",
    "\"\"\"\n",
    ")"
   ]
  },
  {
   "cell_type": "markdown",
   "id": "5c5408db-8f26-44a2-828a-cd20bc550057",
   "metadata": {},
   "source": [
    "#### Translation"
   ]
  },
  {
   "cell_type": "code",
   "execution_count": 12,
   "id": "a6c691b7-076b-44ec-a912-664900482808",
   "metadata": {},
   "outputs": [
    {
     "name": "stdout",
     "output_type": "stream",
     "text": [
      "Looking in indexes: https://pypi.org/simple, https://pypi.ngc.nvidia.com\n",
      "Collecting sentencepiece\n",
      "  Downloading sentencepiece-0.2.0-cp310-cp310-manylinux_2_17_x86_64.manylinux2014_x86_64.whl.metadata (7.7 kB)\n",
      "Downloading sentencepiece-0.2.0-cp310-cp310-manylinux_2_17_x86_64.manylinux2014_x86_64.whl (1.3 MB)\n",
      "\u001b[2K   \u001b[90m━━━━━━━━━━━━━━━━━━━━━━━━━━━━━━━━━━━━━━━━\u001b[0m \u001b[32m1.3/1.3 MB\u001b[0m \u001b[31m34.3 MB/s\u001b[0m eta \u001b[36m0:00:00\u001b[0m\n",
      "\u001b[?25hInstalling collected packages: sentencepiece\n",
      "Successfully installed sentencepiece-0.2.0\n"
     ]
    }
   ],
   "source": [
    "!python -m pip install sentencepiece\n",
    "#!pip install transformers[sentencepiece]"
   ]
  },
  {
   "cell_type": "code",
   "execution_count": 13,
   "id": "1c3cf32b-6a19-4d49-8af8-61d512755b37",
   "metadata": {},
   "outputs": [
    {
     "name": "stdout",
     "output_type": "stream",
     "text": [
      "Name: sentencepiece\n",
      "Version: 0.2.0\n",
      "Summary: SentencePiece python wrapper\n",
      "Home-page: https://github.com/google/sentencepiece\n",
      "Author: Taku Kudo\n",
      "Author-email: taku@google.com\n",
      "License: Apache\n",
      "Location: /scratch/qualis/miniconda3/envs/hf-nlp-course/lib/python3.10/site-packages\n",
      "Requires: \n",
      "Required-by: \n"
     ]
    }
   ],
   "source": [
    "!pip show sentencepiece"
   ]
  },
  {
   "cell_type": "code",
   "execution_count": 14,
   "id": "61fdfc7c-03cc-4177-a49c-3e5b8350e26e",
   "metadata": {},
   "outputs": [],
   "source": [
    "#!conda install sentencepiece -y"
   ]
  },
  {
   "cell_type": "code",
   "execution_count": 15,
   "id": "c39cf92e-ce69-4ee9-b962-4c7c8d8b9cdd",
   "metadata": {},
   "outputs": [
    {
     "data": {
      "application/vnd.jupyter.widget-view+json": {
       "model_id": "25ea83b4b2de486da71d9937abee1262",
       "version_major": 2,
       "version_minor": 0
      },
      "text/plain": [
       "config.json:   0%|          | 0.00/1.42k [00:00<?, ?B/s]"
      ]
     },
     "metadata": {},
     "output_type": "display_data"
    },
    {
     "data": {
      "application/vnd.jupyter.widget-view+json": {
       "model_id": "34835c6a87e5423fa91b4821506c1d3a",
       "version_major": 2,
       "version_minor": 0
      },
      "text/plain": [
       "pytorch_model.bin:   0%|          | 0.00/301M [00:00<?, ?B/s]"
      ]
     },
     "metadata": {},
     "output_type": "display_data"
    },
    {
     "data": {
      "application/vnd.jupyter.widget-view+json": {
       "model_id": "2d2ebf8a8030447e8703dda66fbda40b",
       "version_major": 2,
       "version_minor": 0
      },
      "text/plain": [
       "generation_config.json:   0%|          | 0.00/293 [00:00<?, ?B/s]"
      ]
     },
     "metadata": {},
     "output_type": "display_data"
    },
    {
     "data": {
      "application/vnd.jupyter.widget-view+json": {
       "model_id": "e4f851f8233c451c9ba4380214f869e3",
       "version_major": 2,
       "version_minor": 0
      },
      "text/plain": [
       "tokenizer_config.json:   0%|          | 0.00/42.0 [00:00<?, ?B/s]"
      ]
     },
     "metadata": {},
     "output_type": "display_data"
    },
    {
     "data": {
      "application/vnd.jupyter.widget-view+json": {
       "model_id": "711bc69acb034b8381f6d6b46cf8ff8c",
       "version_major": 2,
       "version_minor": 0
      },
      "text/plain": [
       "source.spm:   0%|          | 0.00/802k [00:00<?, ?B/s]"
      ]
     },
     "metadata": {},
     "output_type": "display_data"
    },
    {
     "data": {
      "application/vnd.jupyter.widget-view+json": {
       "model_id": "64b59d5f28414ad5bbea969c26c71419",
       "version_major": 2,
       "version_minor": 0
      },
      "text/plain": [
       "target.spm:   0%|          | 0.00/778k [00:00<?, ?B/s]"
      ]
     },
     "metadata": {},
     "output_type": "display_data"
    },
    {
     "data": {
      "application/vnd.jupyter.widget-view+json": {
       "model_id": "ac563413896240f3aae80625c213c7fa",
       "version_major": 2,
       "version_minor": 0
      },
      "text/plain": [
       "vocab.json:   0%|          | 0.00/1.34M [00:00<?, ?B/s]"
      ]
     },
     "metadata": {},
     "output_type": "display_data"
    },
    {
     "data": {
      "text/plain": [
       "[{'translation_text': 'This course is produced by Hugging Face.'}]"
      ]
     },
     "execution_count": 15,
     "metadata": {},
     "output_type": "execute_result"
    }
   ],
   "source": [
    "from transformers import pipeline\n",
    "\n",
    "translator = pipeline(\"translation\", model=\"Helsinki-NLP/opus-mt-fr-en\")\n",
    "#translator = pipeline(\"translation\", model=\"krrishD/Helsinki-NLP_opus-mt-fr-en\")\n",
    "translator(\"Ce cours est produit par Hugging Face.\")"
   ]
  },
  {
   "cell_type": "code",
   "execution_count": 16,
   "id": "6955c017-981b-4852-b52a-fc935563cf72",
   "metadata": {},
   "outputs": [
    {
     "data": {
      "application/vnd.jupyter.widget-view+json": {
       "model_id": "f4146e4cd87247f0a36c86ed4fd12919",
       "version_major": 2,
       "version_minor": 0
      },
      "text/plain": [
       "model.safetensors:   0%|          | 0.00/440M [00:00<?, ?B/s]"
      ]
     },
     "metadata": {},
     "output_type": "display_data"
    },
    {
     "name": "stderr",
     "output_type": "stream",
     "text": [
      "Some weights of the model checkpoint at bert-base-uncased were not used when initializing BertForMaskedLM: ['bert.pooler.dense.bias', 'bert.pooler.dense.weight', 'cls.seq_relationship.bias', 'cls.seq_relationship.weight']\n",
      "- This IS expected if you are initializing BertForMaskedLM from the checkpoint of a model trained on another task or with another architecture (e.g. initializing a BertForSequenceClassification model from a BertForPreTraining model).\n",
      "- This IS NOT expected if you are initializing BertForMaskedLM from the checkpoint of a model that you expect to be exactly identical (initializing a BertForSequenceClassification model from a BertForSequenceClassification model).\n"
     ]
    },
    {
     "name": "stdout",
     "output_type": "stream",
     "text": [
      "['carpenter', 'lawyer', 'farmer', 'businessman', 'doctor']\n",
      "['nurse', 'maid', 'teacher', 'waitress', 'prostitute']\n"
     ]
    }
   ],
   "source": [
    "from transformers import pipeline\n",
    "\n",
    "unmasker = pipeline(\"fill-mask\", model=\"bert-base-uncased\")\n",
    "result = unmasker(\"This man works as a [MASK].\")\n",
    "print([r[\"token_str\"] for r in result])\n",
    "\n",
    "result = unmasker(\"This woman works as a [MASK].\")\n",
    "print([r[\"token_str\"] for r in result])\n"
   ]
  },
  {
   "cell_type": "code",
   "execution_count": 17,
   "id": "ac8f582e-c94b-4215-ab5f-615d589f562e",
   "metadata": {},
   "outputs": [
    {
     "data": {
      "application/vnd.jupyter.widget-view+json": {
       "model_id": "e43dcbb8a1fa46c0b90df8030304199e",
       "version_major": 2,
       "version_minor": 0
      },
      "text/plain": [
       "tokenizer_config.json:   0%|          | 0.00/44.0 [00:00<?, ?B/s]"
      ]
     },
     "metadata": {},
     "output_type": "display_data"
    },
    {
     "data": {
      "application/vnd.jupyter.widget-view+json": {
       "model_id": "0e32f45af8d340ebb572b6a136c2a4fa",
       "version_major": 2,
       "version_minor": 0
      },
      "text/plain": [
       "config.json:   0%|          | 0.00/1.47k [00:00<?, ?B/s]"
      ]
     },
     "metadata": {},
     "output_type": "display_data"
    },
    {
     "data": {
      "application/vnd.jupyter.widget-view+json": {
       "model_id": "d9b5f3c3f7554224b2be26e3bf14f842",
       "version_major": 2,
       "version_minor": 0
      },
      "text/plain": [
       "source.spm:   0%|          | 0.00/802k [00:00<?, ?B/s]"
      ]
     },
     "metadata": {},
     "output_type": "display_data"
    },
    {
     "data": {
      "application/vnd.jupyter.widget-view+json": {
       "model_id": "c5e4a042188548d58f01007e5ba1e4c6",
       "version_major": 2,
       "version_minor": 0
      },
      "text/plain": [
       "target.spm:   0%|          | 0.00/826k [00:00<?, ?B/s]"
      ]
     },
     "metadata": {},
     "output_type": "display_data"
    },
    {
     "data": {
      "application/vnd.jupyter.widget-view+json": {
       "model_id": "51d88b3353f641e5af2a324852f707ea",
       "version_major": 2,
       "version_minor": 0
      },
      "text/plain": [
       "vocab.json:   0%|          | 0.00/1.59M [00:00<?, ?B/s]"
      ]
     },
     "metadata": {},
     "output_type": "display_data"
    },
    {
     "ename": "NameError",
     "evalue": "name 'text' is not defined",
     "output_type": "error",
     "traceback": [
      "\u001b[0;31m---------------------------------------------------------------------------\u001b[0m",
      "\u001b[0;31mNameError\u001b[0m                                 Traceback (most recent call last)",
      "Cell \u001b[0;32mIn[17], line 4\u001b[0m\n\u001b[1;32m      1\u001b[0m \u001b[38;5;28;01mfrom\u001b[39;00m \u001b[38;5;21;01mtransformers\u001b[39;00m \u001b[38;5;28;01mimport\u001b[39;00m AutoTokenizer\n\u001b[1;32m      3\u001b[0m tokenizer \u001b[38;5;241m=\u001b[39m AutoTokenizer\u001b[38;5;241m.\u001b[39mfrom_pretrained(\u001b[38;5;124m\"\u001b[39m\u001b[38;5;124mHelsinki-NLP/opus-mt-en-es\u001b[39m\u001b[38;5;124m\"\u001b[39m)\n\u001b[0;32m----> 4\u001b[0m inputs \u001b[38;5;241m=\u001b[39m tokenizer(\u001b[43mtext\u001b[49m, return_tensors\u001b[38;5;241m=\u001b[39m\u001b[38;5;124m\"\u001b[39m\u001b[38;5;124mpt\u001b[39m\u001b[38;5;124m\"\u001b[39m)\u001b[38;5;241m.\u001b[39minput_ids\n",
      "\u001b[0;31mNameError\u001b[0m: name 'text' is not defined"
     ]
    }
   ],
   "source": [
    "from transformers import AutoTokenizer\n",
    "\n",
    "tokenizer = AutoTokenizer.from_pretrained(\"Helsinki-NLP/opus-mt-en-es\")\n",
    "inputs = tokenizer(text, return_tensors=\"pt\").input_ids"
   ]
  },
  {
   "cell_type": "markdown",
   "id": "67bd362f-d327-4dd4-a7d2-141fd1c17021",
   "metadata": {},
   "source": [
    "### Chap 5 Exercise"
   ]
  },
  {
   "cell_type": "code",
   "execution_count": 18,
   "id": "429ebe15-df6f-473e-9d2b-7a1bd3a8f7f7",
   "metadata": {},
   "outputs": [
    {
     "name": "stderr",
     "output_type": "stream",
     "text": [
      "No model was supplied, defaulted to sshleifer/distilbart-cnn-12-6 and revision a4f8f3e (https://huggingface.co/sshleifer/distilbart-cnn-12-6).\n",
      "Using a pipeline without specifying a model name and revision in production is not recommended.\n"
     ]
    }
   ],
   "source": [
    "from transformers import pipeline\n",
    "\n",
    "classifier = pipeline(\"summarization\")"
   ]
  },
  {
   "cell_type": "code",
   "execution_count": 19,
   "id": "4c384b39-ea4f-495f-b0bf-3d40de884583",
   "metadata": {},
   "outputs": [
    {
     "data": {
      "text/plain": [
       "DatasetDict({\n",
       "    train: Dataset({\n",
       "        features: ['patient_id', 'drugName', 'condition', 'review', 'rating', 'date', 'usefulCount', 'review_length'],\n",
       "        num_rows: 110811\n",
       "    })\n",
       "    validation: Dataset({\n",
       "        features: ['patient_id', 'drugName', 'condition', 'review', 'rating', 'date', 'usefulCount', 'review_length'],\n",
       "        num_rows: 27703\n",
       "    })\n",
       "    test: Dataset({\n",
       "        features: ['patient_id', 'drugName', 'condition', 'review', 'rating', 'date', 'usefulCount', 'review_length'],\n",
       "        num_rows: 46108\n",
       "    })\n",
       "})"
      ]
     },
     "execution_count": 19,
     "metadata": {},
     "output_type": "execute_result"
    }
   ],
   "source": [
    "from datasets import load_from_disk\n",
    "\n",
    "drug_dataset_reloaded = load_from_disk(\"drug-reviews\")\n",
    "drug_dataset_reloaded"
   ]
  },
  {
   "cell_type": "code",
   "execution_count": 20,
   "id": "3dabd2a1-3ba5-4e8b-a0b3-5cf421c5b259",
   "metadata": {},
   "outputs": [
    {
     "name": "stderr",
     "output_type": "stream",
     "text": [
      "Your max_length is set to 142, but your input_length is only 129. Since this is a summarization task, where outputs shorter than the input are typically wanted, you might consider decreasing max_length manually, e.g. summarizer('...', max_length=64)\n",
      "Your max_length is set to 142, but your input_length is only 87. Since this is a summarization task, where outputs shorter than the input are typically wanted, you might consider decreasing max_length manually, e.g. summarizer('...', max_length=43)\n",
      "Your max_length is set to 142, but your input_length is only 97. Since this is a summarization task, where outputs shorter than the input are typically wanted, you might consider decreasing max_length manually, e.g. summarizer('...', max_length=48)\n",
      "Your max_length is set to 142, but your input_length is only 108. Since this is a summarization task, where outputs shorter than the input are typically wanted, you might consider decreasing max_length manually, e.g. summarizer('...', max_length=54)\n",
      "Your max_length is set to 142, but your input_length is only 80. Since this is a summarization task, where outputs shorter than the input are typically wanted, you might consider decreasing max_length manually, e.g. summarizer('...', max_length=40)\n",
      "Your max_length is set to 142, but your input_length is only 59. Since this is a summarization task, where outputs shorter than the input are typically wanted, you might consider decreasing max_length manually, e.g. summarizer('...', max_length=29)\n",
      "Your max_length is set to 142, but your input_length is only 53. Since this is a summarization task, where outputs shorter than the input are typically wanted, you might consider decreasing max_length manually, e.g. summarizer('...', max_length=26)\n",
      "Your max_length is set to 142, but your input_length is only 82. Since this is a summarization task, where outputs shorter than the input are typically wanted, you might consider decreasing max_length manually, e.g. summarizer('...', max_length=41)\n",
      "Your max_length is set to 142, but your input_length is only 114. Since this is a summarization task, where outputs shorter than the input are typically wanted, you might consider decreasing max_length manually, e.g. summarizer('...', max_length=57)\n",
      "Your max_length is set to 142, but your input_length is only 47. Since this is a summarization task, where outputs shorter than the input are typically wanted, you might consider decreasing max_length manually, e.g. summarizer('...', max_length=23)\n",
      "Your max_length is set to 142, but your input_length is only 76. Since this is a summarization task, where outputs shorter than the input are typically wanted, you might consider decreasing max_length manually, e.g. summarizer('...', max_length=38)\n",
      "Your max_length is set to 142, but your input_length is only 115. Since this is a summarization task, where outputs shorter than the input are typically wanted, you might consider decreasing max_length manually, e.g. summarizer('...', max_length=57)\n",
      "Your max_length is set to 142, but your input_length is only 100. Since this is a summarization task, where outputs shorter than the input are typically wanted, you might consider decreasing max_length manually, e.g. summarizer('...', max_length=50)\n",
      "Your max_length is set to 142, but your input_length is only 132. Since this is a summarization task, where outputs shorter than the input are typically wanted, you might consider decreasing max_length manually, e.g. summarizer('...', max_length=66)\n",
      "Your max_length is set to 142, but your input_length is only 90. Since this is a summarization task, where outputs shorter than the input are typically wanted, you might consider decreasing max_length manually, e.g. summarizer('...', max_length=45)\n",
      "Your max_length is set to 142, but your input_length is only 97. Since this is a summarization task, where outputs shorter than the input are typically wanted, you might consider decreasing max_length manually, e.g. summarizer('...', max_length=48)\n",
      "Your max_length is set to 142, but your input_length is only 101. Since this is a summarization task, where outputs shorter than the input are typically wanted, you might consider decreasing max_length manually, e.g. summarizer('...', max_length=50)\n",
      "Your max_length is set to 142, but your input_length is only 84. Since this is a summarization task, where outputs shorter than the input are typically wanted, you might consider decreasing max_length manually, e.g. summarizer('...', max_length=42)\n",
      "Your max_length is set to 142, but your input_length is only 52. Since this is a summarization task, where outputs shorter than the input are typically wanted, you might consider decreasing max_length manually, e.g. summarizer('...', max_length=26)\n",
      "Your max_length is set to 142, but your input_length is only 47. Since this is a summarization task, where outputs shorter than the input are typically wanted, you might consider decreasing max_length manually, e.g. summarizer('...', max_length=23)\n",
      "Your max_length is set to 142, but your input_length is only 103. Since this is a summarization task, where outputs shorter than the input are typically wanted, you might consider decreasing max_length manually, e.g. summarizer('...', max_length=51)\n",
      "Your max_length is set to 142, but your input_length is only 59. Since this is a summarization task, where outputs shorter than the input are typically wanted, you might consider decreasing max_length manually, e.g. summarizer('...', max_length=29)\n",
      "Your max_length is set to 142, but your input_length is only 49. Since this is a summarization task, where outputs shorter than the input are typically wanted, you might consider decreasing max_length manually, e.g. summarizer('...', max_length=24)\n",
      "Your max_length is set to 142, but your input_length is only 123. Since this is a summarization task, where outputs shorter than the input are typically wanted, you might consider decreasing max_length manually, e.g. summarizer('...', max_length=61)\n",
      "Your max_length is set to 142, but your input_length is only 116. Since this is a summarization task, where outputs shorter than the input are typically wanted, you might consider decreasing max_length manually, e.g. summarizer('...', max_length=58)\n",
      "Your max_length is set to 142, but your input_length is only 135. Since this is a summarization task, where outputs shorter than the input are typically wanted, you might consider decreasing max_length manually, e.g. summarizer('...', max_length=67)\n",
      "Your max_length is set to 142, but your input_length is only 79. Since this is a summarization task, where outputs shorter than the input are typically wanted, you might consider decreasing max_length manually, e.g. summarizer('...', max_length=39)\n",
      "Your max_length is set to 142, but your input_length is only 96. Since this is a summarization task, where outputs shorter than the input are typically wanted, you might consider decreasing max_length manually, e.g. summarizer('...', max_length=48)\n",
      "Your max_length is set to 142, but your input_length is only 86. Since this is a summarization task, where outputs shorter than the input are typically wanted, you might consider decreasing max_length manually, e.g. summarizer('...', max_length=43)\n"
     ]
    },
    {
     "name": "stdout",
     "output_type": "stream",
     "text": [
      "[{'summary_text': ' \"I have used Restasis for about a year now and have seen almost no progress.  When I put the drops in it burns my eyes for the first 30 - 40 minutes.  I\\'ve talked with my doctor about this and he said it is normal but should go away after some time, but it hasn\\'t . Every year around spring time my eyes get terrible irritated  and this year has been the same (maybe even worse than other years) even though I\\'ve been using Restasis . The only difference I notice was for first couple weeks, but now I\\'m ready to move on.\"'}, {'summary_text': ' \"My experience has been somewhat mixed. It didn\\'t start out that way, for the first month I didn\\'t bleed at all, then I had an epic two week period, then everything was irregular, which has basically been my new norm, sadly. Other than the endless bleeding, I\\'ve been pretty side effect free, except for minor acne .'}, {'summary_text': ' \"This is my second Implanon would not recommend at all....first one was okay for the first 2 years until I started bleeding which never stopped when I woke in the morning I would stand up and be absolutely covered in blood . I was advised to have that one removed and another one inserted which I did which I\\'m into the second year now and it\\'s starting all over again! The only good thing about this is that your not going to get pregnant IF there\\'s ever a chance that you can have a quick fumble in between periods!!'}, {'summary_text': ' \"I recommend taking as prescribed, and the bottle usually says \"take X amount every X hours\" I think that having a steady stream of any medication is the only way to have it work . This medication\\'s only side effect is almost exactly like when one takes Benadryl . \"Much better and smoother than other meds like Xanax or Tramadol or Klonopin, etc., etc. \"'}, {'summary_text': ' \"I have been on Ampyra for 5 days and have been so happy with this new pill. The first 2 days were NOT good with the side effects, but each day just gets better. I am able to walk better (without dragging my left foot) and get up from a kneeling position without to much effort. This new medicine has given me a new outlook on my future. Thank you for this medical wonder!\"'}, {'summary_text': ' \"Used for birth control and period issues- very unhappy period issues\" \"Worked good for preventing pregnancy, along with terrible side effects\" \"Hard time sleeping( if any) \"Depression\" \"Everybody is different I recommend trying this pill to see if it\\'s for you, it just wasn\\'t for me\"'}, {'summary_text': ' \"The first bottle wasn\\'t terrible, the second one almost made me puke. Compared to other prep experiences I think Suprep is probably one of the easier ones, of course everyone reacts different.\" \"The review that mentions salty grape cough syrup was spot on,\" says reviewer .'}, {'summary_text': ' Epiduo also helps with redness and acne scars . \"LOVE IT. I love my new skin and you will too,\" she said of her new skin-freezing product . She said she had the worst breakouts, so she got Epidio .'}, {'summary_text': ' \"I felt a positive difference within the first week. I also have generalized anxiety and it seems to have helped with it as well. Due to my epilepsy, I take the highest dosage that I can, which is 10mg. I feel better but I think 20 would work great.\"'}, {'summary_text': ' Side effects to watch out for are severe mood swings, hair loss, depression, acne, dizziness, headaches, memory loss, and insomnia . \"I have been on Mirena for over a year now and have experienced some side effects.    \" \"'}, {'summary_text': ' \"As the Morphine was effective the more lasting effective was unexpected.  I lost 12 teeth.  A side affect?  I don\\'t have any other explanation.  The health of my teeth was great before the 18 months of morphine .  I was finally referred to a back pain specialist . I am taking a strong anti inflammatory twice a day that seems to keep the pain and the sciatica at bay .'}, {'summary_text': \" Amox- Clav 875-125 MG was prescribed by my Dr. after nasal polyp's removed . After taking this antibiotic, I had an severe allergic reaction . Red splotches started from my face, neck, back, arms, legs and feet . Had to discontinue .\"}, {'summary_text': ' \"So I\\'ve had two shots so far. My period has been heavy when I get it and I spot all month long. I\\'ve experienced depression in the past and it seems like it\\'s gotten worse on the shot\" \"I\\'ve actually attempted suicide since I\\'ve started the shot. I don\\'t recommend this shot to anyone\"'}, {'summary_text': ' \"I took Prozac for about five months 1989-90.  I felt buoyant for the first six weeks, then less so. After three months or so, my mood was down and my fingers were stiff and painful upon waking. After four months, both hands and feet were in pain and did not function for an hour after waking. The condition persisted, in an ever-diminishing form, for five years after discontinuation of the medicine .'}, {'summary_text': ' Suboxone \"saved my life no question\" \"I was using 20 to 30 Vicodin tabs a day my friend offered me heroin I said no and started suboxone it saved my life\" \"This medication used the correct way can and will save lives\"'}, {'summary_text': ' \"I was diagnosed with pcos in June. I started taking metformin 3 weeks and I\\'ve noticed a big difference in my appetite. I\\'m not hungry as often. I have been getting diarrhea and nausea . I\\'m 4 months late so hopefully it\\'ll bring my period.\"'}, {'summary_text': ' \"This birth control made me nauseous, gave me headaches, caused me to gain weight, gave . me HORRIBLE break outs, and even made me sick,\" she said . \"This is not a thing I will take again or give another chance. I suggest trying something different.\"'}, {'summary_text': ' \"I took two years of Tamoxifen, without much side effects that I cannot manage. I took Femara for one year and could not even turn my head and had joint pains . Now I just got off exemestane after 6 months as I cannot sleep even with sleeping pills . I am five years out from chemo and doctor still wants me to take the pills for another year and four months .'}, {'summary_text': ' \"I love my IUD for many reasons. Some people say these cause infertility but that is not true. Don\\'t let people on here scare you :) If you want the facts, go to a credible source. http://www.sciencedirect.com/science/article/pii/0010782485900484\"'}, {'summary_text': ' \"Imitrex is a wonderful medication! I have had hormone-related migraines for a few years now, and while NSAIDs would shorten them, they wouldn\\'t eliminate them completely . I only had to take a 25 mg Imitrex pill and rest for a little bit, and my headache was gone within an hour or so!'}, {'summary_text': ' \"Not as bad as I was expecting. The taste is like salty cough syrup, but better than Nyquil,\" reviewer says . \"Just know that anything you drink after ingesting the dose will be passed soon afterwards for about then next 4 hours,\" she says .'}, {'summary_text': ' \"I\\'ve struggled with bulimia (as well as depression/mood disorder) for about eight years now. I\\'ve been on Prozac three separate times (I quit taking it during my pregnancies) and I stop binging and purging every time I get back on it. It has also benefited my relationships and improved my parenting abilities.\"'}, {'summary_text': ' Cymbalta\\'s side effects include out-of-nowhere jerking . \"This is a medicine you cannot miss. I have inadvertently missed a dose and was back to the weepies, to the sadness,\" says one patient . \"Thank goodness for this medicine. I can\\'t imagine my life without it. What a blessing.\"'}, {'summary_text': ' \"My first 2 weeks were awful! Nausea, constipation, extreme stomach ache, loss of appetite and a muscle spasms on my trapezoid\" \"Little to no side effects, and feel great! blood sugar numbers are no higher than 98 and they stay stable pretty much all day\"'}, {'summary_text': ' \"I have had insomnia since a child, probably sleep walking. Now that I have it ..my life has improved 200 percent . When I first took it, I was groggy in the morning . Now as long as I get 8 hours I wake up feeling awake and amazing . I will say when I had children under 5 ..I would never take it ...not safe .'}, {'summary_text': ' \"Absolutely hate it had it put in in Nov 2014 and by March 2015 I was 85 pounds heavier . I was retaining water like crazy and my hair is falling out to the point that I have a patch on the back of my head about 2inx 1inch that is completely bald and smooth like it won\\'t grow back in.\" \"Do not get this unless you want to go from a size 8-10 pants to an 18w... :( hoping the weight comes off so I can go back to normal)\"'}, {'summary_text': \" Yasmin's skin was dry, red and blotchy and very sensitive, followed by cystic acne . After the 5th month of taking this pill, her skin had cleared up a lot! She was so relieved she didn't give up taking the pill . Now she's on her 9th month and her skin is in great condition .\"}, {'summary_text': ' \"I have been on Effexor for about 2 years and am now coming off it. I have gained 80 lbs in the years I have been taking it but since I cut back I have lost ten in about a month . My sex drive has gone from almost every night to maybe twice a month (most of the time my mood had mellowed out).\"'}, {'summary_text': ' \"This medication has worked great for me. I was feeling pretty well with Prozac, but had to switch doses from 20mg to 40mg. The main reason I got off Prozac was because I had NO appetite and lost 17 lbs which, in my case, was a bad thing . I switched to Remeron, which increased my appetite and helped me sleep great! It also helped a bit for my anxiety .'}, {'summary_text': ' \"Caused me severe anxiety/agitation.  Its action increases Norepinephrine levels as well as Serotonin...and its that effect on Norepinphrine that has me climbing the walls! Not good for my depression or anxiety!\" \"Its action increases .  Its . action increases Serotonin levels and increases . Seratonin levels .'}, {'summary_text': ' \"After two weeks use of the medication, I had three seizures in less than two hours and had to go to ER. I have never had seizures in my life. It was the scariest moment of my life,\" she said . \"It was a scarihest moment of her life,\" said the mother-of-one .'}, {'summary_text': ' \"It\\'s 1:23 am here.  I thought I would die!!!!!!!  Day three of Monistat 3. I have never felt such intense burning and itching in my life.  Please do not use this product.\" Maybe we\\'ll see the commercial \"IF YOU USED MONISTAT AND THOUGHT YOU WOULD DIE call the FOLLOWING NUMBER\".'}, {'summary_text': ' \"I have been using Victoza since 05/15/12. After 3 months my daily Blood glucose readings range from 140 in the morning to 180 2 hours after eating and average in the 100 range before meals . My last A1C was 6.2 down from 9.2 prior to starting. weight loss was about 18 pounds, 185 down to 167 . Also my triglycerides are also normal which they never were before. Other than the initial nausea the first week I have no side effects .'}, {'summary_text': ' \"Little to no heartburn after taking Nexium for 3 days now but high blood pressure, tingly cramps in my stomach that bring me to the verge of throwing up, light headache, difficulty sleeping, difficulties sleeping, throats constrictive. Not sure if I can keep taking Nexum.\"'}, {'summary_text': ' \"I am 30 yo, 5\\'6, and starting weight 208. I have tried dieting and exercising with no real results. I work at a doctor\\'s office where we have reps come in for different drugs so I was able to ask a lot of questions before deciding to try this med . My only real complaint today is stomach pain/gas pains and a little diarrhea .'}, {'summary_text': ' \"I have terrible, painful cystic acne. I have been taking it twice a day for the past two weeks and my skin is all cleared up,\" she said . She has been on and off this medicine whenever her acne gets out of control. \"My skin is now all clear up,\" the actress said .'}, {'summary_text': ' \"Kapidex has been the best drug I\\'ve been on for GERD. I would give this medicine a 10, but the side effects are not major or bad, but they are there. Since taking the medicine I haven\\'t had diarrhea, but have been constipated on some days . The worst has been I\\'m now recovering from a common cold which is a side effect .'}, {'summary_text': ' Proprananol is an anti-anxiety medication . The medication can help with anxiety in public speaking . It can also help with depression and anxiety in the workplace . Propranonanol has been found to help people with anxiety and anxiety . The drug can be taken before a speech in Toastmasters .'}, {'summary_text': ' Flagyl and Cipro have been prescribed for Diverticulitis and it seems to be helping . \"I recommend if you are going to be taking either or both of these meds always take with plenty of food (meal time not just a snack) Don\\'t plan on doing too much (you won\\'t have the energy) Ask your Doctor for a as needed prescription of a nausea medicine .'}, {'summary_text': ' \"Just finishing harvoni got 6 days left of 84 pills . Side effect is headache and a little itichy in ankles but feeling so much better had blood test at 4 weeks  still had small amount of hep c than at 8 weeks non detectable . Can\\'t wait to see what I\\'m at in 6 months .'}, {'summary_text': ' \"I choked down every swig. Smells half decent, tastes terrible. Called my doctor and there really isn\\'t any other prep available. So, I did what I had to do. I will say, the effects weren\\'t terrible. No cramping. No bloating. Only nausea was the gagging to get it down. A few watery stools .'}, {'summary_text': ' \"I\\'ve had anxiety my entire life (as long as I can remember) I\\'ve had counseling over and over again with no results. I took Zoloft and Klonopin at about 19 years old with HORRIBLE side effects. I\\'ve been anti-medication since 19, but three days ago, I told my doctor I was FED UP with the lack of sleep, full-blown panic attacks, and feeling like I\\'m dying every hour to a point that my marriage is being adversely affected and my son is suffering from having less than the mom he deserves. I\\'m SO hopeful that side effects will subside and that I\\'ll still be me but better!\"'}, {'summary_text': ' \"Taken off Escitalopram 10mg which I was on for years and put onto Paroxetine 20mg for generalised anxiety and sleep disorder. Experienced terrible side effects- dizziness and almost fainting, headache, headache and nausea, nausea, weight loss. I was feeling like a whole different person in general in general.\"'}, {'summary_text': ' \"I\\'ve been on Vascepa (2 pills daily) for about 7 months now. I went from 475 to 625 in three months. I don\\'t know how my try spiked. Now I have stomach pain along with knee and back pain. I had back surgery 4 years ago unrelated to taking the drug obviously.\"'}, {'summary_text': ' \"Used to use Depo- provera for years. Then went through 3 yrs no period. It then came back with a VENGENCE. Had abnormally high amount of bleeding for 7-9 days with such severe cramping that it would often result in a missed day or 2 of work each month for months on end before talking to my Dr. Shortly thereafter, I eventually got an endometrial biopsy. I was told the endometrian tissue was \"hormonally confused\"- was then put on Lo Loestrin FE. Light bleeding & minimal cramping for 3 days- it\\'s like night & day.'}, {'summary_text': ' \"Well, I asked my doctor for a birth control that would not make me gain weight AND I have got it!\" \"With Nexplanon I lost weight and have not gained weight despite max intakes of food\" \"Too much hairloss!!! to the point where I am debating whether this wonderful weight maintenance is worth turning into this man\"'}, {'summary_text': ' \"Hi everyone! So I had my period on June 6th and the very last day my boyfriend and I had sex with a condom and some how we both finished without realizing that the condom slipped off into me. And my boyfriend wasn\\'t sure if he came inside me or not and I didn\\'t see any cum. This was about midnight when it happened and I will as freaking out. The next morning I went to CVS bought it for $53. Ate something then took the pill 8am. (8 hours after the incident) I felt so tired the first week that all I did was want to sleep. Then the following weeks I would feel nauseous and had stomach aches'}, {'summary_text': ' \"I have been having back pain since 1998, when I had my first spinal fusion. My back is now a solid unit from L3 south. I am going to see my spine surgeon to see about fixing the latest pain problems. I change my patch every 48 hours. I used the Watson patches for several years. They were effective, except for the falling off mentioned by others. Paper tape solves that issue .'}, {'summary_text': ' \"There are pros and cons with Prozac. The pros: helped me a lot with generalized anxiety and obsessive thinking. The cons: made some emotions that I wanted to experience, a bit numb. My Mum passed away last year, and it was difficult to grieve for her because I couldn\\'t feel the full weight of the emotion . Also, if/when coming off Prozac, the withdrawal can be difficult if not managed properly .'}, {'summary_text': ' Aviane if the only one that keeps my emotions balanced . \"I noticed a little weight gain, and my breasts got bigger, but really other than that its been effective, affordable, and doesn\\'t cause me stress or discomfort,\" she says . \"My periods went from 7-9 days to 3-5 days and its great,\" she said .'}]\n"
     ]
    }
   ],
   "source": [
    "result = classifier(drug_dataset_reloaded[\"train\"][\"review\"][:50])\n",
    "print(result)\n",
    "                   "
   ]
  },
  {
   "cell_type": "code",
   "execution_count": 21,
   "id": "92c3473b-fb1f-49c6-b7f0-31612c9dd737",
   "metadata": {},
   "outputs": [
    {
     "name": "stdout",
     "output_type": "stream",
     "text": [
      "<class 'list'>\n"
     ]
    }
   ],
   "source": [
    "print(type(result))"
   ]
  },
  {
   "cell_type": "code",
   "execution_count": null,
   "id": "45e4c308-3bfb-45d0-aeb1-15fcc71b2336",
   "metadata": {},
   "outputs": [],
   "source": []
  }
 ],
 "metadata": {
  "kernelspec": {
   "display_name": "transformer",
   "language": "python",
   "name": "transformer"
  },
  "language_info": {
   "codemirror_mode": {
    "name": "ipython",
    "version": 3
   },
   "file_extension": ".py",
   "mimetype": "text/x-python",
   "name": "python",
   "nbconvert_exporter": "python",
   "pygments_lexer": "ipython3",
   "version": "3.10.14"
  }
 },
 "nbformat": 4,
 "nbformat_minor": 5
}
